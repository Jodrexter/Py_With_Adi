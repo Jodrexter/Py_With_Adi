{
 "cells": [
  {
   "cell_type": "code",
   "execution_count": 1,
   "id": "29d9375c-0e6c-4ef8-ae6e-a3032d9f5d99",
   "metadata": {},
   "outputs": [],
   "source": [
    " k=[10,12,23,34,45,56]\n",
    "# print the triple of all numbers of list\n",
    "# add 100 to all numbers of list\n",
    "# j=['mom','madam','dad','son','daughter']\n",
    "# print the length of all words of list\n",
    "# print the reverse of all words of list\n",
    "\n",
    "# print the half of all even numbers from 40 to 60"
   ]
  },
  {
   "cell_type": "code",
   "execution_count": 9,
   "id": "15d2b58a-13d6-4443-8002-988e5d52f228",
   "metadata": {},
   "outputs": [],
   "source": [
    " k=[10,12,23,34,45,56]\n",
    "# print the triple of all numbers of list"
   ]
  },
  {
   "cell_type": "code",
   "execution_count": 13,
   "id": "6636b805-078e-473b-af0e-5ae279ef8b26",
   "metadata": {},
   "outputs": [
    {
     "name": "stdout",
     "output_type": "stream",
     "text": [
      "30\n",
      "36\n",
      "69\n",
      "102\n",
      "135\n",
      "168\n"
     ]
    }
   ],
   "source": [
    "for i in k:\n",
    "    print(i*3);"
   ]
  },
  {
   "cell_type": "code",
   "execution_count": 5,
   "id": "e7f2a12f-9972-4308-935b-0910f25e2570",
   "metadata": {},
   "outputs": [
    {
     "name": "stdout",
     "output_type": "stream",
     "text": [
      "110\n",
      "112\n",
      "123\n",
      "134\n",
      "145\n",
      "156\n"
     ]
    }
   ],
   "source": [
    "for i in k:\n",
    "    print(i+100);"
   ]
  },
  {
   "cell_type": "code",
   "execution_count": 51,
   "id": "86bfaf55-0996-40b1-89b7-133f80495f16",
   "metadata": {},
   "outputs": [],
   "source": [
    "j=['mom','madam','dad','son','daughter']"
   ]
  },
  {
   "cell_type": "code",
   "execution_count": 53,
   "id": "01163b27-3f51-4ab9-9ad7-b3bb03b54f9a",
   "metadata": {},
   "outputs": [
    {
     "name": "stdout",
     "output_type": "stream",
     "text": [
      "3\n",
      "5\n",
      "3\n",
      "3\n",
      "8\n"
     ]
    }
   ],
   "source": [
    "for i in j:\n",
    "    print(len(i));"
   ]
  },
  {
   "cell_type": "code",
   "execution_count": 33,
   "id": "3268cfb6-a1bc-422e-b7c3-6ee6e774bbdb",
   "metadata": {},
   "outputs": [
    {
     "name": "stdout",
     "output_type": "stream",
     "text": [
      "mom\n",
      "madam\n",
      "dad\n",
      "nos\n",
      "rethguad\n"
     ]
    }
   ],
   "source": [
    "for i in j:\n",
    "    print(i[::-1]);"
   ]
  },
  {
   "cell_type": "code",
   "execution_count": 39,
   "id": "0bf19227-f803-4045-b759-f364dd5817c9",
   "metadata": {},
   "outputs": [
    {
     "name": "stdout",
     "output_type": "stream",
     "text": [
      "20.0\n",
      "21.0\n",
      "22.0\n",
      "23.0\n",
      "24.0\n",
      "25.0\n",
      "26.0\n",
      "27.0\n",
      "28.0\n",
      "29.0\n",
      "30.0\n"
     ]
    }
   ],
   "source": [
    "for i in range(40,61,2):\n",
    "    print(i/2);"
   ]
  },
  {
   "cell_type": "code",
   "execution_count": 55,
   "id": "abb43760-ae7d-43ef-945e-7d14507f8da3",
   "metadata": {},
   "outputs": [
    {
     "name": "stdout",
     "output_type": "stream",
     "text": [
      "12\n",
      "34\n",
      "56\n",
      "78\n"
     ]
    }
   ],
   "source": [
    "# print the double of all even numbers from the list\n",
    "a = [12,23,34,45,56,78]\n",
    "for i in a:\n",
    "    if i%2 == 0:\n",
    "        print(i);"
   ]
  },
  {
   "cell_type": "code",
   "execution_count": 57,
   "id": "dfaef046-62e8-4ec8-9eec-e03e70ddd388",
   "metadata": {},
   "outputs": [
    {
     "name": "stdout",
     "output_type": "stream",
     "text": [
      "90\n",
      "112\n",
      "156\n"
     ]
    }
   ],
   "source": [
    "# print the double of numbers which are greater than 35 from list.\n",
    "for i in a:\n",
    "    if i > 35:\n",
    "        print(i*2);"
   ]
  },
  {
   "cell_type": "code",
   "execution_count": 59,
   "id": "f162c8cd-a8c8-4107-bf52-019672a8ae2a",
   "metadata": {},
   "outputs": [
    {
     "name": "stdout",
     "output_type": "stream",
     "text": [
      "56\n",
      "78\n"
     ]
    }
   ],
   "source": [
    "# print the numbers which are even and greater than 40 from list\n",
    "for i in a:\n",
    "    if i > 40 and i % 2 == 0:\n",
    "        print(i);"
   ]
  },
  {
   "cell_type": "code",
   "execution_count": 61,
   "id": "77b3be7d-11f8-402a-b616-3293d01074f2",
   "metadata": {},
   "outputs": [
    {
     "name": "stdout",
     "output_type": "stream",
     "text": [
      "24\n",
      "69\n",
      "68\n",
      "135\n",
      "112\n",
      "156\n"
     ]
    }
   ],
   "source": [
    "# print thee double of even numbers and triple of odd numbers from list\n",
    "for i in a:\n",
    "    if i % 2 == 0:\n",
    "        print(i*2);\n",
    "    elif i % 2 != 0:\n",
    "        print(i*3);\n",
    "        "
   ]
  },
  {
   "cell_type": "code",
   "execution_count": 63,
   "id": "57ffc81f-47f6-4942-b045-2c9e58c34c98",
   "metadata": {},
   "outputs": [],
   "source": [
    "b=['mom','madam','dad','son','daughter']"
   ]
  },
  {
   "cell_type": "code",
   "execution_count": 65,
   "id": "3bdafd70-f129-492d-9f74-27a328993a07",
   "metadata": {},
   "outputs": [
    {
     "name": "stdout",
     "output_type": "stream",
     "text": [
      "madam\n",
      "daughter\n"
     ]
    }
   ],
   "source": [
    "# print thee words having length more than 4\n",
    "for i in b:\n",
    "    if len(i) > 4:\n",
    "        print(i);"
   ]
  },
  {
   "cell_type": "code",
   "execution_count": 67,
   "id": "73936214-f525-41e4-a9d5-c02831c7ce16",
   "metadata": {},
   "outputs": [
    {
     "name": "stdout",
     "output_type": "stream",
     "text": [
      "daughter\n"
     ]
    }
   ],
   "source": [
    "# print the words having even length\n",
    "for i in b:\n",
    "    if len(i) % 2 == 0:\n",
    "        print(i);"
   ]
  },
  {
   "cell_type": "code",
   "execution_count": 69,
   "id": "78e9b174-718b-4dfa-a7ae-4d6f66279263",
   "metadata": {},
   "outputs": [
    {
     "name": "stdout",
     "output_type": "stream",
     "text": [
      "mom\n",
      "madam\n",
      "dad\n",
      "son\n"
     ]
    }
   ],
   "source": [
    "# print the words having odd length\n",
    "for i in b:\n",
    "    if len(i) % 2 != 0:\n",
    "        print(i);"
   ]
  },
  {
   "cell_type": "code",
   "execution_count": 75,
   "id": "e6cd224e-0343-4fdc-89b6-7d4d3fc65333",
   "metadata": {},
   "outputs": [
    {
     "name": "stdout",
     "output_type": "stream",
     "text": [
      "mom\n",
      "madam\n",
      "dad\n"
     ]
    }
   ],
   "source": [
    "# print the words which are palindromes\n",
    "for i in b:\n",
    "    if i == i[::-1]:\n",
    "        print(i);"
   ]
  },
  {
   "cell_type": "code",
   "execution_count": 79,
   "id": "151fefc4-63c7-4a02-b784-763f884baf67",
   "metadata": {},
   "outputs": [
    {
     "name": "stdout",
     "output_type": "stream",
     "text": [
      "nos\n",
      "rethguad\n"
     ]
    }
   ],
   "source": [
    "# print the reverse of wordss which are not palindrome\n",
    "for i in b:\n",
    "    if i != i[::-1]:\n",
    "        print(i[::-1]);"
   ]
  },
  {
   "cell_type": "code",
   "execution_count": 87,
   "id": "6d16f043-f0de-4183-b93a-af91e4726798",
   "metadata": {},
   "outputs": [
    {
     "name": "stdout",
     "output_type": "stream",
     "text": [
      "1\n",
      "2\n",
      "4\n",
      "5\n",
      "10\n",
      "20\n"
     ]
    }
   ],
   "source": [
    "# print the factors of 20 \n",
    "for i in range(1,21):\n",
    "    if 20 % i == 0:\n",
    "        print(i);"
   ]
  },
  {
   "cell_type": "code",
   "execution_count": 99,
   "id": "45f0264d-ae5a-4349-8f45-9c03388e58e3",
   "metadata": {},
   "outputs": [
    {
     "name": "stdin",
     "output_type": "stream",
     "text": [
      "ENTER A NUMBER : 20\n"
     ]
    },
    {
     "name": "stdout",
     "output_type": "stream",
     "text": [
      "1\n",
      "2\n",
      "4\n",
      "5\n",
      "10\n",
      "20\n"
     ]
    }
   ],
   "source": [
    "# take a number from user and print the factors of that number\n",
    "num1 = int(input(\"ENTER A NUMBER :\"));\n",
    "\n",
    "for i in range(1,num1 + 1):\n",
    "    if num1 % i == 0:\n",
    "        print(i);"
   ]
  },
  {
   "cell_type": "code",
   "execution_count": 101,
   "id": "b7b499b5-fa16-4b9f-b85c-aa722ce9007e",
   "metadata": {},
   "outputs": [
    {
     "name": "stdin",
     "output_type": "stream",
     "text": [
      "ENTER A NUMBER : 20\n"
     ]
    },
    {
     "name": "stdout",
     "output_type": "stream",
     "text": [
      "2\n",
      "4\n",
      "10\n",
      "20\n"
     ]
    }
   ],
   "source": [
    "# take a number from user and print its even factors\n",
    "num2 = int(input(\"ENTER A NUMBER :\"));\n",
    "for i in range(1,num1 + 1):\n",
    "    if num2 % i == 0 and i % 2 == 0:\n",
    "        print(i);"
   ]
  },
  {
   "cell_type": "code",
   "execution_count": 103,
   "id": "e3823600-402d-4cd7-a39a-64b29f8fbd42",
   "metadata": {},
   "outputs": [
    {
     "name": "stdin",
     "output_type": "stream",
     "text": [
      "ENTER A NUMBER : 20\n"
     ]
    },
    {
     "name": "stdout",
     "output_type": "stream",
     "text": [
      "1\n",
      "5\n"
     ]
    }
   ],
   "source": [
    "# take a number from user and print its odd factors\n",
    "num2 = int(input(\"ENTER A NUMBER :\"));\n",
    "for i in range(1,num2 + 1):\n",
    "    if num2 % i == 0 and i % 2 != 0:\n",
    "        print(i);"
   ]
  },
  {
   "cell_type": "code",
   "execution_count": 127,
   "id": "62337b6c-4b1f-4008-8abb-0cea4f4acc68",
   "metadata": {},
   "outputs": [
    {
     "name": "stdin",
     "output_type": "stream",
     "text": [
      "ENTER A NUMBER 20\n"
     ]
    },
    {
     "name": "stdout",
     "output_type": "stream",
     "text": [
      "EVEN FACTOR: [1]\n",
      "ODD FACTORS : [1]\n",
      "EVEN FACTOR: [1, 5]\n",
      "ODD FACTORS : [1, 5]\n"
     ]
    }
   ],
   "source": [
    "# print the llist of even and odd factors of a number\n",
    "c = [];\n",
    "d = [];\n",
    "\n",
    "num3 = int(input(\"ENTER A NUMBER\"));\n",
    "for i in range(1,num3 + 1):\n",
    "    if num3 % i == 0  and i % 2 == 0:\n",
    "        c.append(i);\n",
    "    elif num3 % i == 0  and i % 2 != 0:\n",
    "        d.append(i);\n",
    "print(\"EVEN FACTOR:\",d);\n",
    "print(\"ODD FACTORS :\",d);"
   ]
  },
  {
   "cell_type": "code",
   "execution_count": 113,
   "id": "2b54965b-75b4-4018-b6ca-9bed07972abd",
   "metadata": {},
   "outputs": [
    {
     "data": {
      "text/plain": [
       "[2, 4, 10, 20]"
      ]
     },
     "execution_count": 113,
     "metadata": {},
     "output_type": "execute_result"
    }
   ],
   "source": [
    "c"
   ]
  },
  {
   "cell_type": "code",
   "execution_count": null,
   "id": "0e92aca0-db06-446d-8e3f-af66b495144d",
   "metadata": {},
   "outputs": [],
   "source": [
    "num3 = int(input(\"ENTER A NUMBER\"));\n",
    "for i in range(1,num3 + 1):\n",
    "    if num3 % i == 0  and i % 2 == 0:\n",
    "        c.append(i);"
   ]
  }
 ],
 "metadata": {
  "kernelspec": {
   "display_name": "Python 3 (ipykernel)",
   "language": "python",
   "name": "python3"
  },
  "language_info": {
   "codemirror_mode": {
    "name": "ipython",
    "version": 3
   },
   "file_extension": ".py",
   "mimetype": "text/x-python",
   "name": "python",
   "nbconvert_exporter": "python",
   "pygments_lexer": "ipython3",
   "version": "3.12.4"
  }
 },
 "nbformat": 4,
 "nbformat_minor": 5
}
