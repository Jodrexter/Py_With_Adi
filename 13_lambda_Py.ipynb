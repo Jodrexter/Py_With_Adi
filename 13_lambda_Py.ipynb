{
 "cells": [
  {
   "cell_type": "code",
   "execution_count": 9,
   "id": "12d8b96b-491c-44fa-bedd-ca528afc2bf8",
   "metadata": {},
   "outputs": [
    {
     "name": "stdout",
     "output_type": "stream",
     "text": [
      "1\n",
      "2\n",
      "5\n",
      "10\n"
     ]
    }
   ],
   "source": [
    "# create a fun for giving odd and even factors of a number\n",
    "def eveodd(a):\n",
    "    for i in range(1,a+1):\n",
    "        if a % i == 0:\n",
    "            print(i)\n",
    "eveodd(10)"
   ]
  },
  {
   "cell_type": "markdown",
   "id": "4ec81d28-763d-4caa-9be8-3973d879a49f",
   "metadata": {},
   "source": [
    "# lambda"
   ]
  },
  {
   "cell_type": "code",
   "execution_count": 12,
   "id": "b3a0f367-fdd4-4c39-837e-a33dfe456e6c",
   "metadata": {},
   "outputs": [
    {
     "name": "stdout",
     "output_type": "stream",
     "text": [
      "55\n"
     ]
    }
   ],
   "source": [
    "# create a function for adding 2 numbers\n",
    "c = lambda x,y : x+y # Lambda parameters : operation\n",
    "print(c(23,32))"
   ]
  },
  {
   "cell_type": "code",
   "execution_count": 14,
   "id": "17bd0dfe-9e32-466c-bdde-3f73ad5f3d82",
   "metadata": {},
   "outputs": [
    {
     "data": {
      "text/plain": [
       "300"
      ]
     },
     "execution_count": 14,
     "metadata": {},
     "output_type": "execute_result"
    }
   ],
   "source": [
    "c(100,200)"
   ]
  },
  {
   "cell_type": "code",
   "execution_count": 16,
   "id": "ad43eaf6-f750-4e90-be2a-d51aec3d8362",
   "metadata": {},
   "outputs": [
    {
     "data": {
      "text/plain": [
       "6000"
      ]
     },
     "execution_count": 16,
     "metadata": {},
     "output_type": "execute_result"
    }
   ],
   "source": [
    "# using lambda function \n",
    "# create a function to give the proudct of 3 numbers\n",
    "d = lambda a,b,c : a*b*c\n",
    "d(10,20,30)"
   ]
  },
  {
   "cell_type": "code",
   "execution_count": 20,
   "id": "39231631-7e01-4327-9ccd-c83d346c6546",
   "metadata": {},
   "outputs": [
    {
     "data": {
      "text/plain": [
       "25"
      ]
     },
     "execution_count": 20,
     "metadata": {},
     "output_type": "execute_result"
    }
   ],
   "source": [
    "# create a function to give the square of a number\n",
    "e = lambda d : d**2\n",
    "e(5)"
   ]
  },
  {
   "cell_type": "code",
   "execution_count": 22,
   "id": "e070b5fc-27ce-42dd-bd59-e3beea37af94",
   "metadata": {},
   "outputs": [
    {
     "data": {
      "text/plain": [
       "155"
      ]
     },
     "execution_count": 22,
     "metadata": {},
     "output_type": "execute_result"
    }
   ],
   "source": [
    "# create a function to add 55 to a number\n",
    "f = lambda e : e+55\n",
    "f(100)"
   ]
  },
  {
   "cell_type": "code",
   "execution_count": 24,
   "id": "ea02d131-54c5-4ead-b6cf-7641187e7883",
   "metadata": {},
   "outputs": [
    {
     "data": {
      "text/plain": [
       "35.0"
      ]
     },
     "execution_count": 24,
     "metadata": {},
     "output_type": "execute_result"
    }
   ],
   "source": [
    "# create a function to give the 35% of a number\n",
    "g = lambda f : f*0.35\n",
    "g(100)"
   ]
  },
  {
   "cell_type": "code",
   "execution_count": 32,
   "id": "159bbe4c-e2c3-42f9-9ec4-b309b4a0bb6a",
   "metadata": {},
   "outputs": [
    {
     "data": {
      "text/plain": [
       "'ad'"
      ]
     },
     "execution_count": 32,
     "metadata": {},
     "output_type": "execute_result"
    }
   ],
   "source": [
    "# create a function to give the first 2 letter of a word\n",
    "h = lambda g : g[0:2]\n",
    "h('adi')"
   ]
  },
  {
   "cell_type": "code",
   "execution_count": 34,
   "id": "ba3f0d9f-f983-417c-ba7f-c40c0ec0923c",
   "metadata": {},
   "outputs": [
    {
     "data": {
      "text/plain": [
       "'hsrada'"
      ]
     },
     "execution_count": 34,
     "metadata": {},
     "output_type": "execute_result"
    }
   ],
   "source": [
    "# create a function to give the reverse of a word\n",
    "i = lambda h : h[::-1]\n",
    "i('adarsh')"
   ]
  },
  {
   "cell_type": "code",
   "execution_count": 36,
   "id": "4e4fc660-c328-44fd-a74e-1ea9815c582c",
   "metadata": {},
   "outputs": [
    {
     "data": {
      "text/plain": [
       "3"
      ]
     },
     "execution_count": 36,
     "metadata": {},
     "output_type": "execute_result"
    }
   ],
   "source": [
    "# create a function to give the length of a word\n",
    "j = lambda i : len(i)\n",
    "j('adi')"
   ]
  },
  {
   "cell_type": "code",
   "execution_count": 42,
   "id": "8ddbc353-cc4f-49ae-b301-5d3625dc66e0",
   "metadata": {},
   "outputs": [
    {
     "data": {
      "text/plain": [
       "'u'"
      ]
     },
     "execution_count": 42,
     "metadata": {},
     "output_type": "execute_result"
    }
   ],
   "source": [
    "# create a function to give the last letter of a word\n",
    "k = lambda j : j[-1]\n",
    "k('huhu')"
   ]
  },
  {
   "cell_type": "code",
   "execution_count": 40,
   "id": "4427d82b-bd82-4618-b0c6-6e3b272b7f9e",
   "metadata": {},
   "outputs": [
    {
     "data": {
      "text/plain": [
       "6"
      ]
     },
     "execution_count": 40,
     "metadata": {},
     "output_type": "execute_result"
    }
   ],
   "source": [
    "# create a function to give the double  of a length\n",
    "m = lambda k : len(k)*2\n",
    "m('adi')"
   ]
  },
  {
   "cell_type": "markdown",
   "id": "81c5c4eb-5279-4c75-9d12-0412655ef90b",
   "metadata": {},
   "source": [
    "# filter >> similer like if else"
   ]
  },
  {
   "cell_type": "code",
   "execution_count": 6,
   "id": "918e7f53-3eac-4c77-9f73-86fb543467ec",
   "metadata": {},
   "outputs": [
    {
     "data": {
      "text/plain": [
       "[10, 22, 334, 454]"
      ]
     },
     "execution_count": 6,
     "metadata": {},
     "output_type": "execute_result"
    }
   ],
   "source": [
    "k = [10,22,334,454,221]\n",
    "# print the lilst of even num from above list\n",
    "c = list(filter(lambda x : x % 2 == 0, k))\n",
    "c"
   ]
  },
  {
   "cell_type": "code",
   "execution_count": 8,
   "id": "fd3c5b8a-a606-4760-911b-2c8524aa6e99",
   "metadata": {},
   "outputs": [
    {
     "data": {
      "text/plain": [
       "[221]"
      ]
     },
     "execution_count": 8,
     "metadata": {},
     "output_type": "execute_result"
    }
   ],
   "source": [
    "# give the lilst of odd numbers from above list\n",
    "d = list(filter(lambda y : y % 2 != 0 , k))\n",
    "d"
   ]
  },
  {
   "cell_type": "code",
   "execution_count": 10,
   "id": "26b2ce9f-cac0-40df-92ab-eda2051ecd2c",
   "metadata": {},
   "outputs": [
    {
     "data": {
      "text/plain": [
       "[22, 334, 454, 221]"
      ]
     },
     "execution_count": 10,
     "metadata": {},
     "output_type": "execute_result"
    }
   ],
   "source": [
    "# give the lilst of greater than  20 from above list\n",
    "e = list(filter(lambda a : a > 20, k))\n",
    "e"
   ]
  },
  {
   "cell_type": "code",
   "execution_count": 12,
   "id": "f1cca794-a52b-48e2-bd56-4124ac7ca9c4",
   "metadata": {},
   "outputs": [
    {
     "data": {
      "text/plain": [
       "[10, 22, 334, 454, 221]"
      ]
     },
     "execution_count": 12,
     "metadata": {},
     "output_type": "execute_result"
    }
   ],
   "source": [
    "# filter the multiple of 5 from list\n",
    "f = list(filter(lambda b : b / 5 , k))\n",
    "f"
   ]
  },
  {
   "cell_type": "code",
   "execution_count": 14,
   "id": "f8b4c75c-0693-4f22-98d4-69b5c6b00215",
   "metadata": {},
   "outputs": [
    {
     "data": {
      "text/plain": [
       "[10]"
      ]
     },
     "execution_count": 14,
     "metadata": {},
     "output_type": "execute_result"
    }
   ],
   "source": [
    "# filter the factors of 50 from list\n",
    "g = list(filter(lambda c : 50 % c == 0 , k))\n",
    "g"
   ]
  },
  {
   "cell_type": "code",
   "execution_count": 16,
   "id": "6ea6eac0-2718-4e6b-b91e-507c0598220f",
   "metadata": {},
   "outputs": [
    {
     "data": {
      "text/plain": [
       "['daughter', 'uncle']"
      ]
     },
     "execution_count": 16,
     "metadata": {},
     "output_type": "execute_result"
    }
   ],
   "source": [
    "f = ['mom','dad','son','daughter','uncle']\n",
    "# filter the words having length more than 4\n",
    "h = list(filter(lambda g : len(g) > 4, f))\n",
    "h"
   ]
  },
  {
   "cell_type": "code",
   "execution_count": 18,
   "id": "afdc4554-c907-4b15-9f64-ccd5e4204188",
   "metadata": {},
   "outputs": [
    {
     "data": {
      "text/plain": [
       "['daughter']"
      ]
     },
     "execution_count": 18,
     "metadata": {},
     "output_type": "execute_result"
    }
   ],
   "source": [
    "# filter the words having even length\n",
    "i = list(filter(lambda h : len(h) % 2 == 0, f))\n",
    "i"
   ]
  },
  {
   "cell_type": "code",
   "execution_count": 20,
   "id": "9a42a6fc-77a9-4ceb-81cd-3d80df36b997",
   "metadata": {},
   "outputs": [
    {
     "data": {
      "text/plain": [
       "['mom', 'dad']"
      ]
     },
     "execution_count": 20,
     "metadata": {},
     "output_type": "execute_result"
    }
   ],
   "source": [
    "# filter the words having palindrome \n",
    "j = list(filter(lambda i : i == i[::-1], f))\n",
    "j"
   ]
  },
  {
   "cell_type": "markdown",
   "id": "866c025c-d6b4-410b-b530-b20ddb27d2e2",
   "metadata": {},
   "source": [
    "# map  >> similer llike for loop"
   ]
  },
  {
   "cell_type": "code",
   "execution_count": 27,
   "id": "d78462de-f7c9-4a4a-af73-0cf3497f6514",
   "metadata": {},
   "outputs": [
    {
     "data": {
      "text/plain": [
       "[20, 22, 23, 24, 25, 26, 27, 28]"
      ]
     },
     "execution_count": 27,
     "metadata": {},
     "output_type": "execute_result"
    }
   ],
   "source": [
    "k = [10,12,13,14,15,16,17,18]\n",
    "# add 10 to everyy element\n",
    "a = list(map(lambda x :x+10,k))\n",
    "a"
   ]
  },
  {
   "cell_type": "code",
   "execution_count": 29,
   "id": "42b848fb-9e80-4a19-98ec-07fe3de2c5a5",
   "metadata": {},
   "outputs": [
    {
     "data": {
      "text/plain": [
       "[20, 24, 26, 28, 30, 32, 34, 36]"
      ]
     },
     "execution_count": 29,
     "metadata": {},
     "output_type": "execute_result"
    }
   ],
   "source": [
    "b = list(map(lambda x : x*2,k))\n",
    "b"
   ]
  },
  {
   "cell_type": "code",
   "execution_count": 31,
   "id": "432e0d4f-c0fe-49cc-ae67-806061b9eef9",
   "metadata": {},
   "outputs": [
    {
     "data": {
      "text/plain": [
       "[100, 144, 169, 196, 225, 256, 289, 324]"
      ]
     },
     "execution_count": 31,
     "metadata": {},
     "output_type": "execute_result"
    }
   ],
   "source": [
    "e = list(map(lambda x : x**2,k))\n",
    "e"
   ]
  },
  {
   "cell_type": "code",
   "execution_count": 33,
   "id": "392da1bb-b030-41a9-a437-8eb224eecd18",
   "metadata": {},
   "outputs": [
    {
     "data": {
      "text/plain": [
       "[1000, 1728, 2197, 2744, 3375, 4096, 4913, 5832]"
      ]
     },
     "execution_count": 33,
     "metadata": {},
     "output_type": "execute_result"
    }
   ],
   "source": [
    "f = list(map(lambda x : x**3,k))\n",
    "f"
   ]
  },
  {
   "cell_type": "code",
   "execution_count": 39,
   "id": "dfdff7a9-bade-4fc8-ac0b-a262e17c8bc2",
   "metadata": {},
   "outputs": [
    {
     "data": {
      "text/plain": [
       "['mo', 'da', 'so', 'da', 'un']"
      ]
     },
     "execution_count": 39,
     "metadata": {},
     "output_type": "execute_result"
    }
   ],
   "source": [
    "f = ['mom','dad','son','daughter','uncle']\n",
    "g = list(map(lambda x : x[0:2],f))\n",
    "g"
   ]
  },
  {
   "cell_type": "code",
   "execution_count": 71,
   "id": "67a8d3a9-f87a-4c0f-8a5b-c62f9767f93d",
   "metadata": {},
   "outputs": [
    {
     "data": {
      "text/plain": [
       "['om', 'ad', 'on', 'er', 'le']"
      ]
     },
     "execution_count": 71,
     "metadata": {},
     "output_type": "execute_result"
    }
   ],
   "source": [
    "h = list(map(lambda x : x[-2::1],f))\n",
    "h"
   ]
  },
  {
   "cell_type": "code",
   "execution_count": 45,
   "id": "23e8a897-fb4e-419c-9cea-0b0c37904e8d",
   "metadata": {},
   "outputs": [
    {
     "data": {
      "text/plain": [
       "[6, 6, 6, 16, 10]"
      ]
     },
     "execution_count": 45,
     "metadata": {},
     "output_type": "execute_result"
    }
   ],
   "source": [
    "i = list(map(lambda x : len(x)*2,f))\n",
    "i"
   ]
  },
  {
   "cell_type": "code",
   "execution_count": 47,
   "id": "53f9bd47-6501-49b1-a007-445fcad73aeb",
   "metadata": {},
   "outputs": [
    {
     "data": {
      "text/plain": [
       "[1.5, 1.5, 1.5, 4.0, 2.5]"
      ]
     },
     "execution_count": 47,
     "metadata": {},
     "output_type": "execute_result"
    }
   ],
   "source": [
    "j = list(map(lambda x : len(x)/2,f))\n",
    "j"
   ]
  },
  {
   "cell_type": "code",
   "execution_count": 103,
   "id": "28e5c5c8-64bf-4745-a6be-cb0155ec26d1",
   "metadata": {},
   "outputs": [
    {
     "data": {
      "text/plain": [
       "[10, -12, 12, 14, -16, 18, -20]"
      ]
     },
     "execution_count": 103,
     "metadata": {},
     "output_type": "execute_result"
    }
   ],
   "source": [
    "# questions\n",
    "k = [10,11,-12,12,13,14,15,-16,17,18,19,-20]\n",
    "# give the even numbers from list\n",
    "a = list(filter(lambda x : x % 2 == 0,k))\n",
    "a\n",
    "\n",
    "# give the factors of"
   ]
  },
  {
   "cell_type": "code",
   "execution_count": 83,
   "id": "2a1ba455-b7ab-4c4b-abcc-c63a20580c47",
   "metadata": {},
   "outputs": [
    {
     "data": {
      "text/plain": [
       "[10, 15, 20]"
      ]
     },
     "execution_count": 83,
     "metadata": {},
     "output_type": "execute_result"
    }
   ],
   "source": [
    "# give the multiple of 5 from list\n",
    "b = list(filter(lambda x : x % 5 == 0,k))\n",
    "b"
   ]
  },
  {
   "cell_type": "code",
   "execution_count": 85,
   "id": "97fdfbee-6288-4946-ab1f-4ae761cce9c0",
   "metadata": {},
   "outputs": [
    {
     "data": {
      "text/plain": [
       "[30, 31, 32, 32, 33, 34, 35, 36, 37, 38, 39, 40]"
      ]
     },
     "execution_count": 85,
     "metadata": {},
     "output_type": "execute_result"
    }
   ],
   "source": [
    "# add 20 to all elements\n",
    "c = list(map(lambda x : x +20 ,k))\n",
    "c"
   ]
  },
  {
   "cell_type": "code",
   "execution_count": 95,
   "id": "863a7f05-c366-465b-914b-ee4decdedcb9",
   "metadata": {},
   "outputs": [
    {
     "data": {
      "text/plain": [
       "[10, 20]"
      ]
     },
     "execution_count": 95,
     "metadata": {},
     "output_type": "execute_result"
    }
   ],
   "source": [
    "# give the factors 40\n",
    "b = list(filter(lambda x : 40 % x == 0,k))\n",
    "b"
   ]
  },
  {
   "cell_type": "code",
   "execution_count": 99,
   "id": "2dc82c1c-fea7-496c-8b2d-487dec4141b3",
   "metadata": {},
   "outputs": [
    {
     "data": {
      "text/plain": [
       "[2.5, 2.75, 3.0, 3.0, 3.25, 3.5, 3.75, 4.0, 4.25, 4.5, 4.75, 5.0]"
      ]
     },
     "execution_count": 99,
     "metadata": {},
     "output_type": "execute_result"
    }
   ],
   "source": [
    "# print the 25 % of all\n",
    "c = list(map(lambda x : x*0.25,k))\n",
    "c"
   ]
  },
  {
   "cell_type": "code",
   "execution_count": 107,
   "id": "541e8203-016f-4af2-8de4-9839f1ea0bf3",
   "metadata": {},
   "outputs": [
    {
     "data": {
      "text/plain": [
       "[10, 11, 12, 13, 14, 15, 17, 18, 19]"
      ]
     },
     "execution_count": 107,
     "metadata": {},
     "output_type": "execute_result"
    }
   ],
   "source": [
    "# print the positive numbers only\n",
    "d = list(filter(lambda x : x > 0,k))\n",
    "d"
   ]
  },
  {
   "cell_type": "code",
   "execution_count": 115,
   "id": "d4011ca3-d038-4d15-b2f1-7abfd2685359",
   "metadata": {},
   "outputs": [
    {
     "data": {
      "text/plain": [
       "[-12, -16, -20]"
      ]
     },
     "execution_count": 115,
     "metadata": {},
     "output_type": "execute_result"
    }
   ],
   "source": [
    "# print the negative numbers only\n",
    "d = list(filter(lambda x : x < 0,k))\n",
    "d"
   ]
  },
  {
   "cell_type": "code",
   "execution_count": 111,
   "id": "09794774-21d6-4c79-892f-00c064ffc7a8",
   "metadata": {},
   "outputs": [
    {
     "data": {
      "text/plain": [
       "[30, 33, -36, 36, 39, 42, 45, -48, 51, 54, 57, -60]"
      ]
     },
     "execution_count": 111,
     "metadata": {},
     "output_type": "execute_result"
    }
   ],
   "source": [
    "# print the triple of all numbers\n",
    "# print the positive numbers only\n",
    "e = list(map(lambda x : x*3,k))\n",
    "e"
   ]
  },
  {
   "cell_type": "code",
   "execution_count": 117,
   "id": "7b35dde8-b122-41ef-84d6-6e413b33c831",
   "metadata": {},
   "outputs": [
    {
     "data": {
      "text/plain": [
       "[27, 125, 125, 216, 27]"
      ]
     },
     "execution_count": 117,
     "metadata": {},
     "output_type": "execute_result"
    }
   ],
   "source": [
    "j = ['jay','vijay','nitin','binpin','ria']\n",
    "# print the cube of length of all\n",
    "f = list(map(lambda x : len(x) **3,j))\n",
    "f"
   ]
  },
  {
   "cell_type": "code",
   "execution_count": 121,
   "id": "ff160d6b-7e7d-4028-a0d9-67e112f714fa",
   "metadata": {},
   "outputs": [
    {
     "data": {
      "text/plain": [
       "['yaj', 'yajiv', 'nitin', 'nipnib', 'air']"
      ]
     },
     "execution_count": 121,
     "metadata": {},
     "output_type": "execute_result"
    }
   ],
   "source": [
    "# print the reverse of all\n",
    "g = list(map(lambda x : x[::-1],j))\n",
    "g"
   ]
  },
  {
   "cell_type": "code",
   "execution_count": 127,
   "id": "11785af4-1ed0-4f2b-b7f8-e5b429f5ba8f",
   "metadata": {},
   "outputs": [
    {
     "data": {
      "text/plain": [
       "['nitin']"
      ]
     },
     "execution_count": 127,
     "metadata": {},
     "output_type": "execute_result"
    }
   ],
   "source": [
    "# print the palindrome words\n",
    "h = list(filter(lambda x : x == x[::-1],j))\n",
    "h"
   ]
  },
  {
   "cell_type": "code",
   "execution_count": 133,
   "id": "c7296e6a-b5f3-4aa0-bd7a-ad23274f667e",
   "metadata": {},
   "outputs": [
    {
     "data": {
      "text/plain": [
       "['binpin']"
      ]
     },
     "execution_count": 133,
     "metadata": {},
     "output_type": "execute_result"
    }
   ],
   "source": [
    "# print the even length words\n",
    "i = list(filter(lambda x : len(x) % 2 == 0,j))\n",
    "i"
   ]
  },
  {
   "cell_type": "code",
   "execution_count": 147,
   "id": "ee3fd9d4-68c0-49b3-93b1-3cc40406572c",
   "metadata": {},
   "outputs": [
    {
     "data": {
      "text/plain": [
       "['drjay', 'drvijay', 'drnitin', 'drbinpin', 'drria']"
      ]
     },
     "execution_count": 147,
     "metadata": {},
     "output_type": "execute_result"
    }
   ],
   "source": [
    "# add dr to all\n",
    "j = list(map(lambda x :'dr'+x,j))\n",
    "j"
   ]
  },
  {
   "cell_type": "code",
   "execution_count": 163,
   "id": "37da4d35-c1a4-43e9-a956-98b0507af619",
   "metadata": {},
   "outputs": [
    {
     "data": {
      "text/plain": [
       "['y', 'y', 'n', 'n', 'a']"
      ]
     },
     "execution_count": 163,
     "metadata": {},
     "output_type": "execute_result"
    }
   ],
   "source": [
    "# print the last letter of all\n",
    "k = list(map(lambda x :x[-1],j))\n",
    "k"
   ]
  },
  {
   "cell_type": "code",
   "execution_count": null,
   "id": "063014ee-f88e-4330-8b12-e39970804c15",
   "metadata": {},
   "outputs": [],
   "source": []
  }
 ],
 "metadata": {
  "kernelspec": {
   "display_name": "Python 3 (ipykernel)",
   "language": "python",
   "name": "python3"
  },
  "language_info": {
   "codemirror_mode": {
    "name": "ipython",
    "version": 3
   },
   "file_extension": ".py",
   "mimetype": "text/x-python",
   "name": "python",
   "nbconvert_exporter": "python",
   "pygments_lexer": "ipython3",
   "version": "3.12.4"
  }
 },
 "nbformat": 4,
 "nbformat_minor": 5
}
