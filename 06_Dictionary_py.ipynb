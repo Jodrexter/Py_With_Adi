{
 "cells": [
  {
   "cell_type": "code",
   "execution_count": 9,
   "id": "a4a975c7-f1da-4cdf-a1a1-d1ac55d28356",
   "metadata": {},
   "outputs": [],
   "source": [
    "Z=[12,34,56,67]\n",
    "#1. Add 45\n",
    "#2. Add 60 at index 3\n",
    "#3. Extract [34,12]\n",
    "#4. Remove 3rd element\n",
    "#5. Extract 2nd highest element"
   ]
  },
  {
   "cell_type": "code",
   "execution_count": 13,
   "id": "5c25705d-6bfa-46a5-8b13-1c44671d4f3f",
   "metadata": {},
   "outputs": [],
   "source": [
    "#1. Add 45\n",
    "Z.append(45)"
   ]
  },
  {
   "cell_type": "code",
   "execution_count": 17,
   "id": "6363bee3-3f14-49f9-b2d9-bf3cd4319f65",
   "metadata": {},
   "outputs": [
    {
     "data": {
      "text/plain": [
       "[12, 34, 56, 67, 45]"
      ]
     },
     "execution_count": 17,
     "metadata": {},
     "output_type": "execute_result"
    }
   ],
   "source": [
    "Z"
   ]
  },
  {
   "cell_type": "code",
   "execution_count": 19,
   "id": "85af2f42-4065-46b4-8820-30eb9ec460c9",
   "metadata": {},
   "outputs": [],
   "source": [
    "#2. Add 60 at index 3\n",
    "Z.insert(3,60)"
   ]
  },
  {
   "cell_type": "code",
   "execution_count": 21,
   "id": "d3433474-f817-44ef-8c8e-9eec75b4cd0c",
   "metadata": {},
   "outputs": [
    {
     "data": {
      "text/plain": [
       "[12, 34, 56, 60, 67, 45]"
      ]
     },
     "execution_count": 21,
     "metadata": {},
     "output_type": "execute_result"
    }
   ],
   "source": [
    "Z\n"
   ]
  },
  {
   "cell_type": "code",
   "execution_count": 27,
   "id": "798e36c3-4902-44cf-8506-49b7a00179e2",
   "metadata": {},
   "outputs": [
    {
     "data": {
      "text/plain": [
       "[34, 12]"
      ]
     },
     "execution_count": 27,
     "metadata": {},
     "output_type": "execute_result"
    }
   ],
   "source": [
    "#3. Extract [34,12]\n",
    "Z[-5:-7:-1]"
   ]
  },
  {
   "cell_type": "code",
   "execution_count": 29,
   "id": "ba79ca4a-1335-40f4-93e4-1392f66d846b",
   "metadata": {},
   "outputs": [],
   "source": [
    "#4. Remove 3rd element\n",
    "Z.remove(56)"
   ]
  },
  {
   "cell_type": "code",
   "execution_count": 31,
   "id": "6db8a2b6-cbf4-487c-be7f-a7e4aa483a4e",
   "metadata": {},
   "outputs": [
    {
     "data": {
      "text/plain": [
       "[12, 34, 60, 67, 45]"
      ]
     },
     "execution_count": 31,
     "metadata": {},
     "output_type": "execute_result"
    }
   ],
   "source": [
    "Z"
   ]
  },
  {
   "cell_type": "code",
   "execution_count": 33,
   "id": "9db6223a-c40d-49ee-9453-86d31bf51646",
   "metadata": {},
   "outputs": [
    {
     "data": {
      "text/plain": [
       "67"
      ]
     },
     "execution_count": 33,
     "metadata": {},
     "output_type": "execute_result"
    }
   ],
   "source": [
    "max(Z)"
   ]
  },
  {
   "cell_type": "code",
   "execution_count": 35,
   "id": "a39714b0-8d1c-44c6-9d5c-d13ef9e415f3",
   "metadata": {},
   "outputs": [],
   "source": [
    "#5. Extract 2nd highest element\n",
    "Z.sort(reverse=True)"
   ]
  },
  {
   "cell_type": "code",
   "execution_count": 39,
   "id": "9c7bc984-a614-46ca-ab48-b0beee073fd6",
   "metadata": {},
   "outputs": [
    {
     "data": {
      "text/plain": [
       "60"
      ]
     },
     "execution_count": 39,
     "metadata": {},
     "output_type": "execute_result"
    }
   ],
   "source": [
    "Z[1]"
   ]
  },
  {
   "cell_type": "code",
   "execution_count": 41,
   "id": "b500e50c-0aae-4ad4-97c6-252207486c64",
   "metadata": {},
   "outputs": [
    {
     "data": {
      "text/plain": [
       "60"
      ]
     },
     "execution_count": 41,
     "metadata": {},
     "output_type": "execute_result"
    }
   ],
   "source": [
    "Z[-4]"
   ]
  },
  {
   "cell_type": "code",
   "execution_count": 45,
   "id": "79b8fa83-e6d1-4d0f-a0e3-332b55226adb",
   "metadata": {},
   "outputs": [],
   "source": [
    "S = \"my name is krishna\"\n",
    "#Extract “krishna”\n",
    "#Extract “ma”\n",
    "#Extract  “sir”\n",
    "#Extract “nis”"
   ]
  },
  {
   "cell_type": "code",
   "execution_count": 47,
   "id": "6d0448b5-acfd-4d2a-8586-39813c1996a4",
   "metadata": {},
   "outputs": [
    {
     "data": {
      "text/plain": [
       "'krishna'"
      ]
     },
     "execution_count": 47,
     "metadata": {},
     "output_type": "execute_result"
    }
   ],
   "source": [
    "#Extract “krishna”\n",
    "S[11:]"
   ]
  },
  {
   "cell_type": "code",
   "execution_count": 53,
   "id": "6bb38b0e-f55f-4e87-835a-283ea2f4558f",
   "metadata": {},
   "outputs": [
    {
     "data": {
      "text/plain": [
       "'ma'"
      ]
     },
     "execution_count": 53,
     "metadata": {},
     "output_type": "execute_result"
    }
   ],
   "source": [
    "#Extract “ma”\n",
    "S[-13:-15:-1]"
   ]
  },
  {
   "cell_type": "code",
   "execution_count": 55,
   "id": "f22bbcb3-296c-4b38-a1ac-f1a341497097",
   "metadata": {},
   "outputs": [
    {
     "data": {
      "text/plain": [
       "'sir'"
      ]
     },
     "execution_count": 55,
     "metadata": {},
     "output_type": "execute_result"
    }
   ],
   "source": [
    "#Extract  “sir”\n",
    "S[-4:-7:-1]"
   ]
  },
  {
   "cell_type": "code",
   "execution_count": 69,
   "id": "d9208dc1-a208-42ad-8b87-63d104ea0daa",
   "metadata": {},
   "outputs": [
    {
     "data": {
      "text/plain": [
       "'ssa'"
      ]
     },
     "execution_count": 69,
     "metadata": {},
     "output_type": "execute_result"
    }
   ],
   "source": [
    "#Extract “nis”\n",
    "S[-4:-16:-5]"
   ]
  },
  {
   "cell_type": "code",
   "execution_count": 93,
   "id": "ab447f47-53da-41e0-8bfc-f2fd89779d60",
   "metadata": {},
   "outputs": [
    {
     "data": {
      "text/plain": [
       "'nii'"
      ]
     },
     "execution_count": 93,
     "metadata": {},
     "output_type": "execute_result"
    }
   ],
   "source": [
    "S[3:17:5]"
   ]
  },
  {
   "cell_type": "code",
   "execution_count": 107,
   "id": "d63e058b-1e48-40b0-a0fd-50e291059d8f",
   "metadata": {},
   "outputs": [
    {
     "data": {
      "text/plain": [
       "'is '"
      ]
     },
     "execution_count": 107,
     "metadata": {},
     "output_type": "execute_result"
    }
   ],
   "source": [
    "S[8:11]"
   ]
  },
  {
   "cell_type": "code",
   "execution_count": 109,
   "id": "512bdc1c-4722-43ac-93be-1a147fd5a500",
   "metadata": {},
   "outputs": [],
   "source": [
    "# Dictonary \n",
    "# Represented using { }\n",
    "#{key:value}"
   ]
  },
  {
   "cell_type": "code",
   "execution_count": 115,
   "id": "b997a744-877c-4d32-80b7-3e2241d911aa",
   "metadata": {},
   "outputs": [],
   "source": [
    "s = {'name':'lokesh','location':'vashi'}"
   ]
  },
  {
   "cell_type": "code",
   "execution_count": 117,
   "id": "7be8e4a1-bbfd-4e23-ac6a-361a28bc7040",
   "metadata": {},
   "outputs": [
    {
     "data": {
      "text/plain": [
       "{'name': 'lokesh', 'location': 'vashi'}"
      ]
     },
     "execution_count": 117,
     "metadata": {},
     "output_type": "execute_result"
    }
   ],
   "source": [
    "s"
   ]
  },
  {
   "cell_type": "code",
   "execution_count": 121,
   "id": "754e3a12-b18c-48f8-b1ae-6cd593f7c8c7",
   "metadata": {},
   "outputs": [],
   "source": [
    "# Q.1 create a dictionary having your name,gender,age & location.\n",
    "dic1 ={'name':'adi','gender':'male','age':21,'location':'CBD'}"
   ]
  },
  {
   "cell_type": "code",
   "execution_count": 123,
   "id": "8cbeaaa8-850b-4a6d-b86e-f41044213211",
   "metadata": {},
   "outputs": [
    {
     "data": {
      "text/plain": [
       "{'name': 'adi', 'gender': 'male', 'age': 21, 'location': 'CBD'}"
      ]
     },
     "execution_count": 123,
     "metadata": {},
     "output_type": "execute_result"
    }
   ],
   "source": [
    "dic1"
   ]
  },
  {
   "cell_type": "code",
   "execution_count": 127,
   "id": "62066859-f9cf-4297-a93a-ee30eae3d20a",
   "metadata": {},
   "outputs": [],
   "source": [
    "# Q.2 create a dictionary of subjects & marks ,subjects maths,hindi,english & science.\n",
    "dic2 = {'maths':99,'hindi':43,'english':78,'science':89}"
   ]
  },
  {
   "cell_type": "code",
   "execution_count": 129,
   "id": "9efc307c-d7b4-4ce5-b950-f86852d26cd8",
   "metadata": {},
   "outputs": [
    {
     "data": {
      "text/plain": [
       "{'maths': 99, 'hindi': 43, 'english': 78, 'science': 89}"
      ]
     },
     "execution_count": 129,
     "metadata": {},
     "output_type": "execute_result"
    }
   ],
   "source": [
    "dic2"
   ]
  },
  {
   "cell_type": "markdown",
   "id": "2fdb3e1d-f8d1-4965-a561-ca4d4a65749c",
   "metadata": {},
   "source": [
    "## Dictionary property\n",
    "## Dictionary is ordered.\n",
    "## Dictionary is mutable.\n",
    "## Dictionary key is unique..\n",
    "## keys can have multiple values.\n",
    "## keys can be repeated.\n",
    "## values can be repeated."
   ]
  },
  {
   "cell_type": "code",
   "execution_count": 133,
   "id": "a12e29df-89dd-4f16-9025-c5606f95e25f",
   "metadata": {},
   "outputs": [
    {
     "data": {
      "text/plain": [
       "43"
      ]
     },
     "execution_count": 133,
     "metadata": {},
     "output_type": "execute_result"
    }
   ],
   "source": [
    "dic2['hindi'] #dict=name['key']"
   ]
  },
  {
   "cell_type": "code",
   "execution_count": 135,
   "id": "cfb8e950-4841-4b6a-bb55-8512a1503b33",
   "metadata": {},
   "outputs": [
    {
     "ename": "SyntaxError",
     "evalue": "unterminated string literal (detected at line 1) (1101893305.py, line 1)",
     "output_type": "error",
     "traceback": [
      "\u001b[1;36m  Cell \u001b[1;32mIn[135], line 1\u001b[1;36m\u001b[0m\n\u001b[1;33m    dic3 = {'name:'a','name':'y'}\u001b[0m\n\u001b[1;37m                               ^\u001b[0m\n\u001b[1;31mSyntaxError\u001b[0m\u001b[1;31m:\u001b[0m unterminated string literal (detected at line 1)\n"
     ]
    }
   ],
   "source": [
    "dic3 = {'name:'a','name':'y'} #key cannot be repeated."
   ]
  },
  {
   "cell_type": "code",
   "execution_count": 137,
   "id": "53c883e7-c2cc-48d5-8ae2-3e0bb4127630",
   "metadata": {},
   "outputs": [],
   "source": [
    "# keys can have multiple values.\n",
    "s = {'a':['x','y','z'],'b':['u','v','w']}"
   ]
  },
  {
   "cell_type": "code",
   "execution_count": 139,
   "id": "e8ba12ba-7d8d-4a00-890e-508066bdc428",
   "metadata": {},
   "outputs": [
    {
     "data": {
      "text/plain": [
       "{'a': ['x', 'y', 'z'], 'b': ['u', 'v', 'w']}"
      ]
     },
     "execution_count": 139,
     "metadata": {},
     "output_type": "execute_result"
    }
   ],
   "source": [
    "s"
   ]
  },
  {
   "cell_type": "code",
   "execution_count": 144,
   "id": "2885caa6-e5ad-4867-b407-07bb1fe63f44",
   "metadata": {},
   "outputs": [],
   "source": [
    "# Q.3 create a dictionary having info of 5 members with their name,age,relation and location.\n",
    "dic4 = {'name':['adi','rohan','durwang','omkar','sid'],'age':[12,34,43,21,12],'relation':['Father','brother','grandfather','son','uncle'],'location':['vashi','cbd','turbhe','sanpada','kharghar']}"
   ]
  },
  {
   "cell_type": "code",
   "execution_count": 146,
   "id": "d573a214-acf2-4b26-9a0e-4c72b61daad7",
   "metadata": {},
   "outputs": [
    {
     "data": {
      "text/plain": [
       "{'name': ['adi', 'rohan', 'durwang', 'omkar', 'sid'],\n",
       " 'age': [12, 34, 43, 21, 12],\n",
       " 'relation': ['Father', 'brother', 'grandfather', 'son', 'uncle'],\n",
       " 'location': ['vashi', 'cbd', 'turbhe', 'sanpada', 'kharghar']}"
      ]
     },
     "execution_count": 146,
     "metadata": {},
     "output_type": "execute_result"
    }
   ],
   "source": [
    "dic4"
   ]
  },
  {
   "cell_type": "code",
   "execution_count": 148,
   "id": "f8136267-e1b7-4da7-aa7f-e3671b630e2c",
   "metadata": {},
   "outputs": [
    {
     "data": {
      "text/plain": [
       "[12, 34, 43, 21, 12]"
      ]
     },
     "execution_count": 148,
     "metadata": {},
     "output_type": "execute_result"
    }
   ],
   "source": [
    "# Q.4 show the age of all\n",
    "dic4['age']"
   ]
  },
  {
   "cell_type": "code",
   "execution_count": 150,
   "id": "fbb00ffd-47a9-4e4d-8436-bab73bd47aec",
   "metadata": {},
   "outputs": [
    {
     "data": {
      "text/plain": [
       "['adi', 'rohan', 'durwang', 'omkar', 'sid']"
      ]
     },
     "execution_count": 150,
     "metadata": {},
     "output_type": "execute_result"
    }
   ],
   "source": [
    "# Q.5 show the names of all\n",
    "dic4['name']"
   ]
  },
  {
   "cell_type": "code",
   "execution_count": 154,
   "id": "4a495838-2804-462d-b2b2-987bb9a8a78f",
   "metadata": {},
   "outputs": [
    {
     "data": {
      "text/plain": [
       "['Father', 'brother', 'grandfather', 'son', 'uncle']"
      ]
     },
     "execution_count": 154,
     "metadata": {},
     "output_type": "execute_result"
    }
   ],
   "source": [
    "# Q.6 shwo the relation of all\n",
    "dic4['relation']"
   ]
  },
  {
   "cell_type": "markdown",
   "id": "320f2332-3ba1-449b-bad7-1998b63e3b96",
   "metadata": {},
   "source": [
    "## Mutable\n",
    "### 1.add\n",
    "### 2.remove\n",
    "### 3.update\n"
   ]
  },
  {
   "cell_type": "code",
   "execution_count": 10,
   "id": "455a1537-0819-4e06-b253-8d5eb81e8a03",
   "metadata": {},
   "outputs": [],
   "source": [
    "dic5 = {'name':'raj','age':40}\n",
    "# adding location vashi into dictionary\n",
    "dic5['location']='vashi'"
   ]
  },
  {
   "cell_type": "code",
   "execution_count": 12,
   "id": "4cb7ee9b-2f8f-4c67-b8c7-07607ff21a8b",
   "metadata": {},
   "outputs": [
    {
     "data": {
      "text/plain": [
       "{'name': 'raj', 'age': 40, 'location': 'vashi'}"
      ]
     },
     "execution_count": 12,
     "metadata": {},
     "output_type": "execute_result"
    }
   ],
   "source": [
    "dic5"
   ]
  },
  {
   "cell_type": "code",
   "execution_count": 14,
   "id": "c3cb428b-65dd-48ef-9061-d97c8c501d9d",
   "metadata": {},
   "outputs": [],
   "source": [
    "# add gender\n",
    "dic5['gender']='male'"
   ]
  },
  {
   "cell_type": "code",
   "execution_count": 16,
   "id": "71771bf5-d330-4c13-b0b1-64cb605079bb",
   "metadata": {},
   "outputs": [],
   "source": [
    "# add eduction\n",
    "dic5['eduction']='PHD'"
   ]
  },
  {
   "cell_type": "code",
   "execution_count": 18,
   "id": "ce9d8296-11ca-442c-a077-34d9892f05dc",
   "metadata": {},
   "outputs": [
    {
     "data": {
      "text/plain": [
       "{'name': 'raj',\n",
       " 'age': 40,\n",
       " 'location': 'vashi',\n",
       " 'gender': 'male',\n",
       " 'eduction': 'PHD'}"
      ]
     },
     "execution_count": 18,
     "metadata": {},
     "output_type": "execute_result"
    }
   ],
   "source": [
    "dic5 # o/p"
   ]
  },
  {
   "cell_type": "code",
   "execution_count": 22,
   "id": "a84a266d-5af9-440a-a23f-1ba411d47534",
   "metadata": {},
   "outputs": [],
   "source": [
    "# remove age\n",
    "del dic5['age']"
   ]
  },
  {
   "cell_type": "code",
   "execution_count": 24,
   "id": "bbe590e4-7d93-43ed-9afd-49d91a0c8b2e",
   "metadata": {},
   "outputs": [
    {
     "data": {
      "text/plain": [
       "{'name': 'raj', 'location': 'vashi', 'gender': 'male', 'eduction': 'PHD'}"
      ]
     },
     "execution_count": 24,
     "metadata": {},
     "output_type": "execute_result"
    }
   ],
   "source": [
    "dic5\n"
   ]
  },
  {
   "cell_type": "code",
   "execution_count": 26,
   "id": "15fc7c9a-278c-42b0-a44d-f9362f228940",
   "metadata": {},
   "outputs": [],
   "source": [
    "# remove gender\n",
    "del dic5['gender']"
   ]
  },
  {
   "cell_type": "code",
   "execution_count": 28,
   "id": "bf7d3296-1bda-456a-a3ce-65be2517a8c5",
   "metadata": {},
   "outputs": [
    {
     "data": {
      "text/plain": [
       "{'name': 'raj', 'location': 'vashi', 'eduction': 'PHD'}"
      ]
     },
     "execution_count": 28,
     "metadata": {},
     "output_type": "execute_result"
    }
   ],
   "source": [
    "dic5"
   ]
  },
  {
   "cell_type": "code",
   "execution_count": 30,
   "id": "7f73dfcb-534a-409a-a91a-9ff466d4da83",
   "metadata": {},
   "outputs": [],
   "source": [
    "# remove eduction\n",
    "del dic5['eduction']"
   ]
  },
  {
   "cell_type": "code",
   "execution_count": 32,
   "id": "7ccc0bc8-f9cc-4d92-a32f-983d02e31836",
   "metadata": {},
   "outputs": [
    {
     "data": {
      "text/plain": [
       "{'name': 'raj', 'location': 'vashi'}"
      ]
     },
     "execution_count": 32,
     "metadata": {},
     "output_type": "execute_result"
    }
   ],
   "source": [
    "dic5"
   ]
  },
  {
   "cell_type": "markdown",
   "id": "aecd93b4-5cd0-46c0-b2da-1f21aa610bbc",
   "metadata": {},
   "source": [
    "### update"
   ]
  },
  {
   "cell_type": "code",
   "execution_count": 35,
   "id": "a6bed848-b108-42d8-a6ba-0356eba5b8e4",
   "metadata": {},
   "outputs": [],
   "source": [
    "# change the name to rahul\n",
    "dic5['name']='rahul'"
   ]
  },
  {
   "cell_type": "code",
   "execution_count": 37,
   "id": "1023c309-d18d-444b-ad95-f4ca745e95d1",
   "metadata": {},
   "outputs": [
    {
     "data": {
      "text/plain": [
       "{'name': 'rahul', 'location': 'vashi'}"
      ]
     },
     "execution_count": 37,
     "metadata": {},
     "output_type": "execute_result"
    }
   ],
   "source": [
    "dic5"
   ]
  },
  {
   "cell_type": "code",
   "execution_count": 184,
   "id": "191b343c-e9ea-43ab-8f2a-17354d0fd5e5",
   "metadata": {},
   "outputs": [],
   "source": [
    "# Q.1 create a dictonary of info 5 friends having their name,age, gender,location and salary.\n",
    "dic7 = {'name':['adi','soham','siddhi','mortal','riza'],\n",
    "        'age':[34,45,32,12,34],\n",
    "        'gender':['male','male','female','male','female'],\n",
    "        'location':['Cbd','panvel','airoli','pune','mumbai','keral']}             \n"
   ]
  },
  {
   "cell_type": "code",
   "execution_count": 148,
   "id": "5fc33385-c67e-480e-954e-9ae9929022e9",
   "metadata": {},
   "outputs": [
    {
     "data": {
      "text/plain": [
       "['adi', 'soham', 'siddhi', 'mortal', 'riza']"
      ]
     },
     "execution_count": 148,
     "metadata": {},
     "output_type": "execute_result"
    }
   ],
   "source": [
    "# Q.2 show the names of all.\n",
    "dic7['name']"
   ]
  },
  {
   "cell_type": "code",
   "execution_count": 150,
   "id": "675f1c6f-bb72-4025-b368-fd445e1b9b68",
   "metadata": {},
   "outputs": [],
   "source": [
    "# Q.3 add salaries of all.\n",
    "dic7['salary']=[27,56,54,32,67]"
   ]
  },
  {
   "cell_type": "code",
   "execution_count": 152,
   "id": "b09c8d0f-e2be-4d8e-a6df-0139acc297b8",
   "metadata": {},
   "outputs": [],
   "source": [
    "# Q.4 remove loction of all\n",
    "del dic7['location']"
   ]
  },
  {
   "cell_type": "code",
   "execution_count": 154,
   "id": "9650f78e-d5fc-4deb-b555-3f377b7a9752",
   "metadata": {},
   "outputs": [
    {
     "data": {
      "text/plain": [
       "{'name': ['adi', 'soham', 'siddhi', 'mortal', 'riza'],\n",
       " 'age': [34, 45, 32, 12, 34],\n",
       " 'gender': ['male', 'male', 'female', 'male', 'female'],\n",
       " 'salary': [27, 56, 54, 32, 67]}"
      ]
     },
     "execution_count": 154,
     "metadata": {},
     "output_type": "execute_result"
    }
   ],
   "source": [
    "dic7"
   ]
  },
  {
   "cell_type": "code",
   "execution_count": 83,
   "id": "28da10be-5421-42d1-b6c8-382098196d55",
   "metadata": {},
   "outputs": [
    {
     "data": {
      "text/plain": [
       "['adi', 'soham']"
      ]
     },
     "execution_count": 83,
     "metadata": {},
     "output_type": "execute_result"
    }
   ],
   "source": [
    "# Q.4 show the names of first 3 friends.\n",
    "dic7['name'][0:3]"
   ]
  },
  {
   "cell_type": "code",
   "execution_count": 156,
   "id": "542da377-b5a3-4c79-89f4-c20466ee2738",
   "metadata": {},
   "outputs": [
    {
     "data": {
      "text/plain": [
       "{'name': ['adi', 'soham', 'mortal', 'riza'],\n",
       " 'age': [34, 45, 32, 12, 34],\n",
       " 'gender': ['male', 'male', 'female', 'male', 'female'],\n",
       " 'salary': [27, 56, 54, 32, 67]}"
      ]
     },
     "execution_count": 156,
     "metadata": {},
     "output_type": "execute_result"
    }
   ],
   "source": [
    "# Q.5 remove the name of 3rd person.\n",
    "del dic7['name'][2]\n",
    "dic7"
   ]
  },
  {
   "cell_type": "code",
   "execution_count": 158,
   "id": "f757c27e-8ea4-4277-b0bf-7ccd42fec836",
   "metadata": {},
   "outputs": [],
   "source": [
    "# Q.6 remove the age of 3rd person.3\n",
    "del dic7['age'][2]"
   ]
  },
  {
   "cell_type": "code",
   "execution_count": 160,
   "id": "ee06bb3d-a74d-487e-b1d8-3c33e14f4760",
   "metadata": {},
   "outputs": [
    {
     "data": {
      "text/plain": [
       "{'name': ['adi', 'soham', 'mortal', 'riza'],\n",
       " 'age': [34, 45, 12, 34],\n",
       " 'gender': ['male', 'male', 'female', 'male', 'female'],\n",
       " 'salary': [27, 56, 54, 32, 67]}"
      ]
     },
     "execution_count": 160,
     "metadata": {},
     "output_type": "execute_result"
    }
   ],
   "source": [
    "dic7"
   ]
  },
  {
   "cell_type": "code",
   "execution_count": 162,
   "id": "f7e3d84a-eb84-42ec-85c2-37ac88051c3d",
   "metadata": {},
   "outputs": [],
   "source": [
    "# Q.7 add location of all\n",
    "dic7['location']='vashi','mumbai','pune','delhi','kerla'"
   ]
  },
  {
   "cell_type": "code",
   "execution_count": 164,
   "id": "be29c64e-68c3-4563-8012-50be318f7e9c",
   "metadata": {},
   "outputs": [
    {
     "data": {
      "text/plain": [
       "{'name': ['adi', 'soham', 'mortal', 'riza'],\n",
       " 'age': [34, 45, 12, 34],\n",
       " 'gender': ['male', 'male', 'female', 'male', 'female'],\n",
       " 'salary': [27, 56, 54, 32, 67],\n",
       " 'location': ('vashi', 'mumbai', 'pune', 'delhi', 'kerla')}"
      ]
     },
     "execution_count": 164,
     "metadata": {},
     "output_type": "execute_result"
    }
   ],
   "source": [
    "dic7"
   ]
  },
  {
   "cell_type": "code",
   "execution_count": 166,
   "id": "2a12ffee-b0bf-4855-ba57-b494a75609db",
   "metadata": {},
   "outputs": [
    {
     "data": {
      "text/plain": [
       "['riza']"
      ]
     },
     "execution_count": 166,
     "metadata": {},
     "output_type": "execute_result"
    }
   ],
   "source": [
    "# Q.8 show the name of last employee.\n",
    "dic7 ['name'][-1:]"
   ]
  },
  {
   "cell_type": "code",
   "execution_count": 168,
   "id": "d81b172b-58b2-486b-8fd8-5452d6b35368",
   "metadata": {},
   "outputs": [],
   "source": [
    "# Q.9 remove locations of all\n",
    "del dic7['location']"
   ]
  },
  {
   "cell_type": "code",
   "execution_count": 170,
   "id": "22752fca-1f16-4067-bd86-4d375429b976",
   "metadata": {},
   "outputs": [
    {
     "data": {
      "text/plain": [
       "{'name': ['adi', 'soham', 'mortal', 'riza'],\n",
       " 'age': [34, 45, 12, 34],\n",
       " 'gender': ['male', 'male', 'female', 'male', 'female'],\n",
       " 'salary': [27, 56, 54, 32, 67]}"
      ]
     },
     "execution_count": 170,
     "metadata": {},
     "output_type": "execute_result"
    }
   ],
   "source": [
    "dic7"
   ]
  },
  {
   "cell_type": "code",
   "execution_count": 128,
   "id": "ecae2522-3252-4ee8-bfe9-e4d3aa01cc4d",
   "metadata": {},
   "outputs": [
    {
     "data": {
      "text/plain": [
       "{'name': ['siddhi', 'rohan', 'rizza', 'duri', 'omkar'],\n",
       " 'age': [34, 45, 12, 34],\n",
       " 'gender': ['male', 'male', 'female', 'male', 'female'],\n",
       " 'salary': (27, 56, 54, 32, 67)}"
      ]
     },
     "execution_count": 128,
     "metadata": {},
     "output_type": "execute_result"
    }
   ],
   "source": [
    "dic7 ['name']=['siddhi','rohan','rizza','duri','omkar']\n",
    "dic7"
   ]
  },
  {
   "cell_type": "code",
   "execution_count": 172,
   "id": "887f8ad7-41f0-4e3b-b9cb-311b42e34ba0",
   "metadata": {},
   "outputs": [],
   "source": [
    "# Q.10 change the name of 2nd employee to raja/raani.\n",
    "dic7['name'][1]='raja'"
   ]
  },
  {
   "cell_type": "code",
   "execution_count": 174,
   "id": "d859ce3c-8646-4086-94e0-5e4690f988db",
   "metadata": {},
   "outputs": [],
   "source": [
    "# Q.11 change the salary of 3rd employee to 85\n",
    "dic7['salary'][2]=85"
   ]
  },
  {
   "cell_type": "code",
   "execution_count": 190,
   "id": "feb1f73d-de11-458a-a489-b0799bc5dbcb",
   "metadata": {},
   "outputs": [
    {
     "data": {
      "text/plain": [
       "{'name': ['adi', 'soham', 'siddhi', 'mortal'],\n",
       " 'age': [34, 45, 32, 12, 34],\n",
       " 'gender': ['male', 'male', 'female', 'male', 'female'],\n",
       " 'location': ['Cbd', 'panvel', 'airoli', 'pune', 'mumbai', 'keral']}"
      ]
     },
     "execution_count": 190,
     "metadata": {},
     "output_type": "execute_result"
    }
   ],
   "source": [
    "# Q.12 remove the name of last employee.\n",
    "del dic7['name'][-1]\n",
    "dic7"
   ]
  },
  {
   "cell_type": "code",
   "execution_count": 194,
   "id": "75787af9-85a9-4606-8550-431ccaf7d7a2",
   "metadata": {},
   "outputs": [
    {
     "ename": "IndexError",
     "evalue": "list assignment index out of range",
     "output_type": "error",
     "traceback": [
      "\u001b[1;31m---------------------------------------------------------------------------\u001b[0m",
      "\u001b[1;31mIndexError\u001b[0m                                Traceback (most recent call last)",
      "Cell \u001b[1;32mIn[194], line 2\u001b[0m\n\u001b[0;32m      1\u001b[0m \u001b[38;5;66;03m# Q.13 add bhavesh/bhawna at last of names.\u001b[39;00m\n\u001b[1;32m----> 2\u001b[0m dic7[\u001b[38;5;124m'\u001b[39m\u001b[38;5;124mname\u001b[39m\u001b[38;5;124m'\u001b[39m][\u001b[38;5;241m5\u001b[39m]\u001b[38;5;241m=\u001b[39m\u001b[38;5;124m'\u001b[39m\u001b[38;5;124mbhawna\u001b[39m\u001b[38;5;124m'\u001b[39m\n",
      "\u001b[1;31mIndexError\u001b[0m: list assignment index out of range"
     ]
    }
   ],
   "source": [
    "# Q.13 add bhavesh/bhawna at last of names.\n",
    "dic7['name'][5]='bhawna' # you cannot add one value."
   ]
  },
  {
   "cell_type": "code",
   "execution_count": 202,
   "id": "bd2db871-879b-4a0a-a5ba-d45fcbb051a9",
   "metadata": {},
   "outputs": [],
   "source": [
    "# Q.14 update bhawana at last of names.\n",
    "dic7['name'][-1]='bhawna'"
   ]
  },
  {
   "cell_type": "code",
   "execution_count": 204,
   "id": "edac41e9-895c-45cf-9835-423c995a8a2e",
   "metadata": {},
   "outputs": [
    {
     "data": {
      "text/plain": [
       "{'name': ['adi', 'soham', 'siddhi', 'bhawna'],\n",
       " 'age': [34, 45, 32, 12, 34],\n",
       " 'gender': ['male', 'male', 'female', 'male', 'female'],\n",
       " 'location': ['Cbd', 'panvel', 'airoli', 'pune', 'mumbai', 'keral']}"
      ]
     },
     "execution_count": 204,
     "metadata": {},
     "output_type": "execute_result"
    }
   ],
   "source": [
    "dic7"
   ]
  },
  {
   "cell_type": "code",
   "execution_count": 210,
   "id": "bff609ed-402c-4f95-92a4-536d253beebd",
   "metadata": {},
   "outputs": [
    {
     "data": {
      "text/plain": [
       "dict_keys(['name', 'age', 'gender', 'location'])"
      ]
     },
     "execution_count": 210,
     "metadata": {},
     "output_type": "execute_result"
    }
   ],
   "source": [
    "# show all keys\n",
    "dic7.keys()"
   ]
  },
  {
   "cell_type": "code",
   "execution_count": 208,
   "id": "f32b6db9-6969-4ed8-8078-1cd1db116308",
   "metadata": {},
   "outputs": [
    {
     "data": {
      "text/plain": [
       "dict_values([['adi', 'soham', 'siddhi', 'bhawna'], [34, 45, 32, 12, 34], ['male', 'male', 'female', 'male', 'female'], ['Cbd', 'panvel', 'airoli', 'pune', 'mumbai', 'keral']])"
      ]
     },
     "execution_count": 208,
     "metadata": {},
     "output_type": "execute_result"
    }
   ],
   "source": [
    "# show all values.\n",
    "dic7.values()"
   ]
  },
  {
   "cell_type": "code",
   "execution_count": 224,
   "id": "183b2d5f-c65d-4c4a-a4a0-405195056fb5",
   "metadata": {},
   "outputs": [
    {
     "data": {
      "text/plain": [
       "45"
      ]
     },
     "execution_count": 224,
     "metadata": {},
     "output_type": "execute_result"
    }
   ],
   "source": [
    "# Q.15 show the highest age\n",
    "max(dic7['age'])"
   ]
  },
  {
   "cell_type": "code",
   "execution_count": 266,
   "id": "f6f8dfd6-17ae-4914-a0bd-95601dad9e2b",
   "metadata": {},
   "outputs": [
    {
     "data": {
      "text/plain": [
       "31.4"
      ]
     },
     "execution_count": 266,
     "metadata": {},
     "output_type": "execute_result"
    }
   ],
   "source": [
    "# Q.16 show the average age\n",
    "sum (dic7['age'])/len(dic7['age'])"
   ]
  },
  {
   "cell_type": "code",
   "execution_count": 256,
   "id": "29a56351-431c-4618-b183-fb14c8588e20",
   "metadata": {},
   "outputs": [
    {
     "data": {
      "text/plain": [
       "31.4"
      ]
     },
     "execution_count": 256,
     "metadata": {},
     "output_type": "execute_result"
    }
   ],
   "source": [
    "sum (dic7['age'])/5"
   ]
  },
  {
   "cell_type": "code",
   "execution_count": null,
   "id": "2d6e5138-d0c1-4b5e-b801-c302fd9368de",
   "metadata": {},
   "outputs": [],
   "source": []
  }
 ],
 "metadata": {
  "kernelspec": {
   "display_name": "Python 3 (ipykernel)",
   "language": "python",
   "name": "python3"
  },
  "language_info": {
   "codemirror_mode": {
    "name": "ipython",
    "version": 3
   },
   "file_extension": ".py",
   "mimetype": "text/x-python",
   "name": "python",
   "nbconvert_exporter": "python",
   "pygments_lexer": "ipython3",
   "version": "3.12.4"
  }
 },
 "nbformat": 4,
 "nbformat_minor": 5
}
