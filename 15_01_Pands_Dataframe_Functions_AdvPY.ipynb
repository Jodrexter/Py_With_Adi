{
 "cells": [
  {
   "cell_type": "markdown",
   "id": "f77d223e-7ae6-457c-a359-fbf23ada6ccd",
   "metadata": {},
   "source": [
    "# Pandas"
   ]
  },
  {
   "cell_type": "code",
   "execution_count": 4,
   "id": "9ae19c12-e442-4dc2-b1ac-81517611fcb0",
   "metadata": {},
   "outputs": [],
   "source": [
    "import pandas as pd"
   ]
  },
  {
   "cell_type": "code",
   "execution_count": 6,
   "id": "f4b90687-d7b3-49d5-bfb7-b601d7daba97",
   "metadata": {},
   "outputs": [],
   "source": [
    "# how to create dataframe\n",
    "# 1.dictionary\n",
    "# 2.List\n"
   ]
  },
  {
   "cell_type": "code",
   "execution_count": 8,
   "id": "c65eb67c-e477-4c4e-8044-0bccdfe12a8c",
   "metadata": {},
   "outputs": [],
   "source": [
    "# 1 dictionary\n",
    "s = {'name':['jay','jaya','jayesh','jayant','jayendra'],\n",
    "     'age':[23,34,45,56,67],\n",
    "     'salary':[20000,45000,30000,25000,60000]}"
   ]
  },
  {
   "cell_type": "code",
   "execution_count": 12,
   "id": "7f6cac99-a77f-4713-9fb4-a1efc27e0801",
   "metadata": {},
   "outputs": [
    {
     "data": {
      "text/html": [
       "<div>\n",
       "<style scoped>\n",
       "    .dataframe tbody tr th:only-of-type {\n",
       "        vertical-align: middle;\n",
       "    }\n",
       "\n",
       "    .dataframe tbody tr th {\n",
       "        vertical-align: top;\n",
       "    }\n",
       "\n",
       "    .dataframe thead th {\n",
       "        text-align: right;\n",
       "    }\n",
       "</style>\n",
       "<table border=\"1\" class=\"dataframe\">\n",
       "  <thead>\n",
       "    <tr style=\"text-align: right;\">\n",
       "      <th></th>\n",
       "      <th>name</th>\n",
       "      <th>age</th>\n",
       "      <th>salary</th>\n",
       "    </tr>\n",
       "  </thead>\n",
       "  <tbody>\n",
       "    <tr>\n",
       "      <th>0</th>\n",
       "      <td>jay</td>\n",
       "      <td>23</td>\n",
       "      <td>20000</td>\n",
       "    </tr>\n",
       "    <tr>\n",
       "      <th>1</th>\n",
       "      <td>jaya</td>\n",
       "      <td>34</td>\n",
       "      <td>45000</td>\n",
       "    </tr>\n",
       "    <tr>\n",
       "      <th>2</th>\n",
       "      <td>jayesh</td>\n",
       "      <td>45</td>\n",
       "      <td>30000</td>\n",
       "    </tr>\n",
       "    <tr>\n",
       "      <th>3</th>\n",
       "      <td>jayant</td>\n",
       "      <td>56</td>\n",
       "      <td>25000</td>\n",
       "    </tr>\n",
       "    <tr>\n",
       "      <th>4</th>\n",
       "      <td>jayendra</td>\n",
       "      <td>67</td>\n",
       "      <td>60000</td>\n",
       "    </tr>\n",
       "  </tbody>\n",
       "</table>\n",
       "</div>"
      ],
      "text/plain": [
       "       name  age  salary\n",
       "0       jay   23   20000\n",
       "1      jaya   34   45000\n",
       "2    jayesh   45   30000\n",
       "3    jayant   56   25000\n",
       "4  jayendra   67   60000"
      ]
     },
     "execution_count": 12,
     "metadata": {},
     "output_type": "execute_result"
    }
   ],
   "source": [
    "# dataframe\n",
    "df = pd.DataFrame(s) # pd stands for pandas. # df stands for dataframe\n",
    "df"
   ]
  },
  {
   "cell_type": "code",
   "execution_count": 26,
   "id": "43f85c80-3a52-44ce-840f-5779200ebdad",
   "metadata": {},
   "outputs": [],
   "source": [
    "# create d dataframe having info of 10 employeess with their id,name,age,salary\n",
    "b = {'id':[1,2,3,4,5,6,7,8,9,10],\n",
    "     'name':['adi','shravan','om','duri','sonal','komal','jaya','ritika','mayuri','shanaya'],\n",
    "     'age':[23,34,45,56,67,32,12,23,67,65],\n",
    "     'salary':[20000,45000,30000,25000,60000,76500,21300,54200,56000,54000]}"
   ]
  },
  {
   "cell_type": "code",
   "execution_count": 28,
   "id": "09924c04-5a0e-4713-9d8b-e5ae5d4ef371",
   "metadata": {},
   "outputs": [
    {
     "data": {
      "text/html": [
       "<div>\n",
       "<style scoped>\n",
       "    .dataframe tbody tr th:only-of-type {\n",
       "        vertical-align: middle;\n",
       "    }\n",
       "\n",
       "    .dataframe tbody tr th {\n",
       "        vertical-align: top;\n",
       "    }\n",
       "\n",
       "    .dataframe thead th {\n",
       "        text-align: right;\n",
       "    }\n",
       "</style>\n",
       "<table border=\"1\" class=\"dataframe\">\n",
       "  <thead>\n",
       "    <tr style=\"text-align: right;\">\n",
       "      <th></th>\n",
       "      <th>id</th>\n",
       "      <th>name</th>\n",
       "      <th>age</th>\n",
       "      <th>salary</th>\n",
       "    </tr>\n",
       "  </thead>\n",
       "  <tbody>\n",
       "    <tr>\n",
       "      <th>0</th>\n",
       "      <td>1</td>\n",
       "      <td>adi</td>\n",
       "      <td>23</td>\n",
       "      <td>20000</td>\n",
       "    </tr>\n",
       "    <tr>\n",
       "      <th>1</th>\n",
       "      <td>2</td>\n",
       "      <td>shravan</td>\n",
       "      <td>34</td>\n",
       "      <td>45000</td>\n",
       "    </tr>\n",
       "    <tr>\n",
       "      <th>2</th>\n",
       "      <td>3</td>\n",
       "      <td>om</td>\n",
       "      <td>45</td>\n",
       "      <td>30000</td>\n",
       "    </tr>\n",
       "    <tr>\n",
       "      <th>3</th>\n",
       "      <td>4</td>\n",
       "      <td>duri</td>\n",
       "      <td>56</td>\n",
       "      <td>25000</td>\n",
       "    </tr>\n",
       "    <tr>\n",
       "      <th>4</th>\n",
       "      <td>5</td>\n",
       "      <td>sonal</td>\n",
       "      <td>67</td>\n",
       "      <td>60000</td>\n",
       "    </tr>\n",
       "    <tr>\n",
       "      <th>5</th>\n",
       "      <td>6</td>\n",
       "      <td>komal</td>\n",
       "      <td>32</td>\n",
       "      <td>76500</td>\n",
       "    </tr>\n",
       "    <tr>\n",
       "      <th>6</th>\n",
       "      <td>7</td>\n",
       "      <td>jaya</td>\n",
       "      <td>12</td>\n",
       "      <td>21300</td>\n",
       "    </tr>\n",
       "    <tr>\n",
       "      <th>7</th>\n",
       "      <td>8</td>\n",
       "      <td>ritika</td>\n",
       "      <td>23</td>\n",
       "      <td>54200</td>\n",
       "    </tr>\n",
       "    <tr>\n",
       "      <th>8</th>\n",
       "      <td>9</td>\n",
       "      <td>mayuri</td>\n",
       "      <td>67</td>\n",
       "      <td>56000</td>\n",
       "    </tr>\n",
       "    <tr>\n",
       "      <th>9</th>\n",
       "      <td>10</td>\n",
       "      <td>shanaya</td>\n",
       "      <td>65</td>\n",
       "      <td>54000</td>\n",
       "    </tr>\n",
       "  </tbody>\n",
       "</table>\n",
       "</div>"
      ],
      "text/plain": [
       "   id     name  age  salary\n",
       "0   1      adi   23   20000\n",
       "1   2  shravan   34   45000\n",
       "2   3       om   45   30000\n",
       "3   4     duri   56   25000\n",
       "4   5    sonal   67   60000\n",
       "5   6    komal   32   76500\n",
       "6   7     jaya   12   21300\n",
       "7   8   ritika   23   54200\n",
       "8   9   mayuri   67   56000\n",
       "9  10  shanaya   65   54000"
      ]
     },
     "execution_count": 28,
     "metadata": {},
     "output_type": "execute_result"
    }
   ],
   "source": [
    "df = pd.DataFrame(b)\n",
    "df"
   ]
  },
  {
   "cell_type": "code",
   "execution_count": 30,
   "id": "bc57e265-565a-424f-895c-d73b79bc552d",
   "metadata": {},
   "outputs": [],
   "source": [
    "# using list \n",
    "d = [1,2,3,4,5]\n",
    "e = ['adi','shravan','om','duri','sonal']\n",
    "f = [32,32,12,34,56]\n",
    "\n"
   ]
  },
  {
   "cell_type": "code",
   "execution_count": 36,
   "id": "44fdc019-9663-4205-b1b8-5cdc57fff023",
   "metadata": {},
   "outputs": [],
   "source": [
    "df1 = pd.DataFrame([d,e,f]) # using list\n",
    "df2 = df1.T # T is transpose, used to convert rows to columns and vise versa"
   ]
  },
  {
   "cell_type": "code",
   "execution_count": 40,
   "id": "07cbff55-0465-4a39-bfef-801dc018ce81",
   "metadata": {},
   "outputs": [
    {
     "data": {
      "text/html": [
       "<div>\n",
       "<style scoped>\n",
       "    .dataframe tbody tr th:only-of-type {\n",
       "        vertical-align: middle;\n",
       "    }\n",
       "\n",
       "    .dataframe tbody tr th {\n",
       "        vertical-align: top;\n",
       "    }\n",
       "\n",
       "    .dataframe thead th {\n",
       "        text-align: right;\n",
       "    }\n",
       "</style>\n",
       "<table border=\"1\" class=\"dataframe\">\n",
       "  <thead>\n",
       "    <tr style=\"text-align: right;\">\n",
       "      <th></th>\n",
       "      <th>id</th>\n",
       "      <th>name</th>\n",
       "      <th>age</th>\n",
       "    </tr>\n",
       "  </thead>\n",
       "  <tbody>\n",
       "    <tr>\n",
       "      <th>0</th>\n",
       "      <td>1</td>\n",
       "      <td>adi</td>\n",
       "      <td>32</td>\n",
       "    </tr>\n",
       "    <tr>\n",
       "      <th>1</th>\n",
       "      <td>2</td>\n",
       "      <td>shravan</td>\n",
       "      <td>32</td>\n",
       "    </tr>\n",
       "    <tr>\n",
       "      <th>2</th>\n",
       "      <td>3</td>\n",
       "      <td>om</td>\n",
       "      <td>12</td>\n",
       "    </tr>\n",
       "    <tr>\n",
       "      <th>3</th>\n",
       "      <td>4</td>\n",
       "      <td>duri</td>\n",
       "      <td>34</td>\n",
       "    </tr>\n",
       "    <tr>\n",
       "      <th>4</th>\n",
       "      <td>5</td>\n",
       "      <td>sonal</td>\n",
       "      <td>56</td>\n",
       "    </tr>\n",
       "  </tbody>\n",
       "</table>\n",
       "</div>"
      ],
      "text/plain": [
       "  id     name age\n",
       "0  1      adi  32\n",
       "1  2  shravan  32\n",
       "2  3       om  12\n",
       "3  4     duri  34\n",
       "4  5    sonal  56"
      ]
     },
     "execution_count": 40,
     "metadata": {},
     "output_type": "execute_result"
    }
   ],
   "source": [
    "df2.columns = ['id','name','age'] # for giving names to columns\n",
    "df2"
   ]
  },
  {
   "cell_type": "code",
   "execution_count": 46,
   "id": "960f2c9a-1373-46e5-9f2e-03d1f229e9e3",
   "metadata": {},
   "outputs": [],
   "source": [
    "tab1 = {'id':[1,2,3,4,5,6,7,8,9,10],\n",
    "        'name':['Arun','Aditi','Bina','Chandan','Deepa','Esham','Gauri','harish','ishita','joy'],\n",
    "        'location':['vashi','kalyan','vashi','kalyan','kalyan','vashi','kalyan''vashi','kalyan','kalyan'],\n",
    "        'salary':[50,45,60,70,80,85,75,45,55,10]}"
   ]
  },
  {
   "cell_type": "code",
   "execution_count": 50,
   "id": "7d386317-38ac-4ab3-9c2c-892dcd9cf02d",
   "metadata": {},
   "outputs": [
    {
     "ename": "ValueError",
     "evalue": "All arrays must be of the same length",
     "output_type": "error",
     "traceback": [
      "\u001b[1;31m---------------------------------------------------------------------------\u001b[0m",
      "\u001b[1;31mValueError\u001b[0m                                Traceback (most recent call last)",
      "Cell \u001b[1;32mIn[50], line 1\u001b[0m\n\u001b[1;32m----> 1\u001b[0m df3 \u001b[38;5;241m=\u001b[39m pd\u001b[38;5;241m.\u001b[39mDataFrame(tab1)\n\u001b[0;32m      2\u001b[0m df3\n",
      "File \u001b[1;32m~\\anaconda3\\Lib\\site-packages\\pandas\\core\\frame.py:778\u001b[0m, in \u001b[0;36mDataFrame.__init__\u001b[1;34m(self, data, index, columns, dtype, copy)\u001b[0m\n\u001b[0;32m    772\u001b[0m     mgr \u001b[38;5;241m=\u001b[39m \u001b[38;5;28mself\u001b[39m\u001b[38;5;241m.\u001b[39m_init_mgr(\n\u001b[0;32m    773\u001b[0m         data, axes\u001b[38;5;241m=\u001b[39m{\u001b[38;5;124m\"\u001b[39m\u001b[38;5;124mindex\u001b[39m\u001b[38;5;124m\"\u001b[39m: index, \u001b[38;5;124m\"\u001b[39m\u001b[38;5;124mcolumns\u001b[39m\u001b[38;5;124m\"\u001b[39m: columns}, dtype\u001b[38;5;241m=\u001b[39mdtype, copy\u001b[38;5;241m=\u001b[39mcopy\n\u001b[0;32m    774\u001b[0m     )\n\u001b[0;32m    776\u001b[0m \u001b[38;5;28;01melif\u001b[39;00m \u001b[38;5;28misinstance\u001b[39m(data, \u001b[38;5;28mdict\u001b[39m):\n\u001b[0;32m    777\u001b[0m     \u001b[38;5;66;03m# GH#38939 de facto copy defaults to False only in non-dict cases\u001b[39;00m\n\u001b[1;32m--> 778\u001b[0m     mgr \u001b[38;5;241m=\u001b[39m dict_to_mgr(data, index, columns, dtype\u001b[38;5;241m=\u001b[39mdtype, copy\u001b[38;5;241m=\u001b[39mcopy, typ\u001b[38;5;241m=\u001b[39mmanager)\n\u001b[0;32m    779\u001b[0m \u001b[38;5;28;01melif\u001b[39;00m \u001b[38;5;28misinstance\u001b[39m(data, ma\u001b[38;5;241m.\u001b[39mMaskedArray):\n\u001b[0;32m    780\u001b[0m     \u001b[38;5;28;01mfrom\u001b[39;00m \u001b[38;5;21;01mnumpy\u001b[39;00m\u001b[38;5;21;01m.\u001b[39;00m\u001b[38;5;21;01mma\u001b[39;00m \u001b[38;5;28;01mimport\u001b[39;00m mrecords\n",
      "File \u001b[1;32m~\\anaconda3\\Lib\\site-packages\\pandas\\core\\internals\\construction.py:503\u001b[0m, in \u001b[0;36mdict_to_mgr\u001b[1;34m(data, index, columns, dtype, typ, copy)\u001b[0m\n\u001b[0;32m    499\u001b[0m     \u001b[38;5;28;01melse\u001b[39;00m:\n\u001b[0;32m    500\u001b[0m         \u001b[38;5;66;03m# dtype check to exclude e.g. range objects, scalars\u001b[39;00m\n\u001b[0;32m    501\u001b[0m         arrays \u001b[38;5;241m=\u001b[39m [x\u001b[38;5;241m.\u001b[39mcopy() \u001b[38;5;28;01mif\u001b[39;00m \u001b[38;5;28mhasattr\u001b[39m(x, \u001b[38;5;124m\"\u001b[39m\u001b[38;5;124mdtype\u001b[39m\u001b[38;5;124m\"\u001b[39m) \u001b[38;5;28;01melse\u001b[39;00m x \u001b[38;5;28;01mfor\u001b[39;00m x \u001b[38;5;129;01min\u001b[39;00m arrays]\n\u001b[1;32m--> 503\u001b[0m \u001b[38;5;28;01mreturn\u001b[39;00m arrays_to_mgr(arrays, columns, index, dtype\u001b[38;5;241m=\u001b[39mdtype, typ\u001b[38;5;241m=\u001b[39mtyp, consolidate\u001b[38;5;241m=\u001b[39mcopy)\n",
      "File \u001b[1;32m~\\anaconda3\\Lib\\site-packages\\pandas\\core\\internals\\construction.py:114\u001b[0m, in \u001b[0;36marrays_to_mgr\u001b[1;34m(arrays, columns, index, dtype, verify_integrity, typ, consolidate)\u001b[0m\n\u001b[0;32m    111\u001b[0m \u001b[38;5;28;01mif\u001b[39;00m verify_integrity:\n\u001b[0;32m    112\u001b[0m     \u001b[38;5;66;03m# figure out the index, if necessary\u001b[39;00m\n\u001b[0;32m    113\u001b[0m     \u001b[38;5;28;01mif\u001b[39;00m index \u001b[38;5;129;01mis\u001b[39;00m \u001b[38;5;28;01mNone\u001b[39;00m:\n\u001b[1;32m--> 114\u001b[0m         index \u001b[38;5;241m=\u001b[39m _extract_index(arrays)\n\u001b[0;32m    115\u001b[0m     \u001b[38;5;28;01melse\u001b[39;00m:\n\u001b[0;32m    116\u001b[0m         index \u001b[38;5;241m=\u001b[39m ensure_index(index)\n",
      "File \u001b[1;32m~\\anaconda3\\Lib\\site-packages\\pandas\\core\\internals\\construction.py:677\u001b[0m, in \u001b[0;36m_extract_index\u001b[1;34m(data)\u001b[0m\n\u001b[0;32m    675\u001b[0m lengths \u001b[38;5;241m=\u001b[39m \u001b[38;5;28mlist\u001b[39m(\u001b[38;5;28mset\u001b[39m(raw_lengths))\n\u001b[0;32m    676\u001b[0m \u001b[38;5;28;01mif\u001b[39;00m \u001b[38;5;28mlen\u001b[39m(lengths) \u001b[38;5;241m>\u001b[39m \u001b[38;5;241m1\u001b[39m:\n\u001b[1;32m--> 677\u001b[0m     \u001b[38;5;28;01mraise\u001b[39;00m \u001b[38;5;167;01mValueError\u001b[39;00m(\u001b[38;5;124m\"\u001b[39m\u001b[38;5;124mAll arrays must be of the same length\u001b[39m\u001b[38;5;124m\"\u001b[39m)\n\u001b[0;32m    679\u001b[0m \u001b[38;5;28;01mif\u001b[39;00m have_dicts:\n\u001b[0;32m    680\u001b[0m     \u001b[38;5;28;01mraise\u001b[39;00m \u001b[38;5;167;01mValueError\u001b[39;00m(\n\u001b[0;32m    681\u001b[0m         \u001b[38;5;124m\"\u001b[39m\u001b[38;5;124mMixing dicts with non-Series may lead to ambiguous ordering.\u001b[39m\u001b[38;5;124m\"\u001b[39m\n\u001b[0;32m    682\u001b[0m     )\n",
      "\u001b[1;31mValueError\u001b[0m: All arrays must be of the same length"
     ]
    }
   ],
   "source": [
    "df3 = pd.DataFrame(tab1)\n",
    "df3"
   ]
  },
  {
   "cell_type": "code",
   "execution_count": 58,
   "id": "a7a85c67-8a2a-4518-b971-e9043ad0bd55",
   "metadata": {},
   "outputs": [],
   "source": [
    "o = {'id':[1,2,3,4,5,6,7,8,9,10],\n",
    "        'name':['Arun','Aditi','Bina','Chandan','Deepa','Esham','Gauri','harish','ishita','joy'],\n",
    "        'location':['vashi','kalyan','vashi','kalyan','kalyan','vashi','kalyan','vashi','kalyan','kalyan'],\n",
    "        'salary':[50,45,60,70,80,85,75,45,55,10]}"
   ]
  },
  {
   "cell_type": "code",
   "execution_count": 60,
   "id": "4a7680e9-0979-4c4c-b7e9-d331bdd35bbc",
   "metadata": {},
   "outputs": [
    {
     "data": {
      "text/html": [
       "<div>\n",
       "<style scoped>\n",
       "    .dataframe tbody tr th:only-of-type {\n",
       "        vertical-align: middle;\n",
       "    }\n",
       "\n",
       "    .dataframe tbody tr th {\n",
       "        vertical-align: top;\n",
       "    }\n",
       "\n",
       "    .dataframe thead th {\n",
       "        text-align: right;\n",
       "    }\n",
       "</style>\n",
       "<table border=\"1\" class=\"dataframe\">\n",
       "  <thead>\n",
       "    <tr style=\"text-align: right;\">\n",
       "      <th></th>\n",
       "      <th>id</th>\n",
       "      <th>name</th>\n",
       "      <th>location</th>\n",
       "      <th>salary</th>\n",
       "    </tr>\n",
       "  </thead>\n",
       "  <tbody>\n",
       "    <tr>\n",
       "      <th>0</th>\n",
       "      <td>1</td>\n",
       "      <td>Arun</td>\n",
       "      <td>vashi</td>\n",
       "      <td>50</td>\n",
       "    </tr>\n",
       "    <tr>\n",
       "      <th>1</th>\n",
       "      <td>2</td>\n",
       "      <td>Aditi</td>\n",
       "      <td>kalyan</td>\n",
       "      <td>45</td>\n",
       "    </tr>\n",
       "    <tr>\n",
       "      <th>2</th>\n",
       "      <td>3</td>\n",
       "      <td>Bina</td>\n",
       "      <td>vashi</td>\n",
       "      <td>60</td>\n",
       "    </tr>\n",
       "    <tr>\n",
       "      <th>3</th>\n",
       "      <td>4</td>\n",
       "      <td>Chandan</td>\n",
       "      <td>kalyan</td>\n",
       "      <td>70</td>\n",
       "    </tr>\n",
       "    <tr>\n",
       "      <th>4</th>\n",
       "      <td>5</td>\n",
       "      <td>Deepa</td>\n",
       "      <td>kalyan</td>\n",
       "      <td>80</td>\n",
       "    </tr>\n",
       "    <tr>\n",
       "      <th>5</th>\n",
       "      <td>6</td>\n",
       "      <td>Esham</td>\n",
       "      <td>vashi</td>\n",
       "      <td>85</td>\n",
       "    </tr>\n",
       "    <tr>\n",
       "      <th>6</th>\n",
       "      <td>7</td>\n",
       "      <td>Gauri</td>\n",
       "      <td>kalyan</td>\n",
       "      <td>75</td>\n",
       "    </tr>\n",
       "    <tr>\n",
       "      <th>7</th>\n",
       "      <td>8</td>\n",
       "      <td>harish</td>\n",
       "      <td>vashi</td>\n",
       "      <td>45</td>\n",
       "    </tr>\n",
       "    <tr>\n",
       "      <th>8</th>\n",
       "      <td>9</td>\n",
       "      <td>ishita</td>\n",
       "      <td>kalyan</td>\n",
       "      <td>55</td>\n",
       "    </tr>\n",
       "    <tr>\n",
       "      <th>9</th>\n",
       "      <td>10</td>\n",
       "      <td>joy</td>\n",
       "      <td>kalyan</td>\n",
       "      <td>10</td>\n",
       "    </tr>\n",
       "  </tbody>\n",
       "</table>\n",
       "</div>"
      ],
      "text/plain": [
       "   id     name location  salary\n",
       "0   1     Arun    vashi      50\n",
       "1   2    Aditi   kalyan      45\n",
       "2   3     Bina    vashi      60\n",
       "3   4  Chandan   kalyan      70\n",
       "4   5    Deepa   kalyan      80\n",
       "5   6    Esham    vashi      85\n",
       "6   7    Gauri   kalyan      75\n",
       "7   8   harish    vashi      45\n",
       "8   9   ishita   kalyan      55\n",
       "9  10      joy   kalyan      10"
      ]
     },
     "execution_count": 60,
     "metadata": {},
     "output_type": "execute_result"
    }
   ],
   "source": [
    "df3 = pd.DataFrame(o)\n",
    "df3"
   ]
  },
  {
   "cell_type": "code",
   "execution_count": 62,
   "id": "9647daf3-910e-4c34-84c8-f1fea1c74dbe",
   "metadata": {},
   "outputs": [
    {
     "data": {
      "text/plain": [
       "(10, 4)"
      ]
     },
     "execution_count": 62,
     "metadata": {},
     "output_type": "execute_result"
    }
   ],
   "source": [
    "# shape >> used to check length of columns and rows\n",
    "df3.shape"
   ]
  },
  {
   "cell_type": "code",
   "execution_count": 64,
   "id": "f6b88e09-3478-49ae-9a81-e6769d8c81c3",
   "metadata": {},
   "outputs": [
    {
     "data": {
      "text/plain": [
       "Index(['id', 'name', 'location', 'salary'], dtype='object')"
      ]
     },
     "execution_count": 64,
     "metadata": {},
     "output_type": "execute_result"
    }
   ],
   "source": [
    "# columns >> used to showcase column names\n",
    "df3.columns"
   ]
  },
  {
   "cell_type": "code",
   "execution_count": 68,
   "id": "17a44bfc-fbe4-42b5-a9af-5e34a05bb97b",
   "metadata": {},
   "outputs": [
    {
     "data": {
      "text/html": [
       "<div>\n",
       "<style scoped>\n",
       "    .dataframe tbody tr th:only-of-type {\n",
       "        vertical-align: middle;\n",
       "    }\n",
       "\n",
       "    .dataframe tbody tr th {\n",
       "        vertical-align: top;\n",
       "    }\n",
       "\n",
       "    .dataframe thead th {\n",
       "        text-align: right;\n",
       "    }\n",
       "</style>\n",
       "<table border=\"1\" class=\"dataframe\">\n",
       "  <thead>\n",
       "    <tr style=\"text-align: right;\">\n",
       "      <th></th>\n",
       "      <th>id</th>\n",
       "      <th>name</th>\n",
       "      <th>location</th>\n",
       "      <th>salary</th>\n",
       "    </tr>\n",
       "  </thead>\n",
       "  <tbody>\n",
       "    <tr>\n",
       "      <th>0</th>\n",
       "      <td>1</td>\n",
       "      <td>Arun</td>\n",
       "      <td>vashi</td>\n",
       "      <td>50</td>\n",
       "    </tr>\n",
       "    <tr>\n",
       "      <th>1</th>\n",
       "      <td>2</td>\n",
       "      <td>Aditi</td>\n",
       "      <td>kalyan</td>\n",
       "      <td>45</td>\n",
       "    </tr>\n",
       "    <tr>\n",
       "      <th>2</th>\n",
       "      <td>3</td>\n",
       "      <td>Bina</td>\n",
       "      <td>vashi</td>\n",
       "      <td>60</td>\n",
       "    </tr>\n",
       "    <tr>\n",
       "      <th>3</th>\n",
       "      <td>4</td>\n",
       "      <td>Chandan</td>\n",
       "      <td>kalyan</td>\n",
       "      <td>70</td>\n",
       "    </tr>\n",
       "    <tr>\n",
       "      <th>4</th>\n",
       "      <td>5</td>\n",
       "      <td>Deepa</td>\n",
       "      <td>kalyan</td>\n",
       "      <td>80</td>\n",
       "    </tr>\n",
       "  </tbody>\n",
       "</table>\n",
       "</div>"
      ],
      "text/plain": [
       "   id     name location  salary\n",
       "0   1     Arun    vashi      50\n",
       "1   2    Aditi   kalyan      45\n",
       "2   3     Bina    vashi      60\n",
       "3   4  Chandan   kalyan      70\n",
       "4   5    Deepa   kalyan      80"
      ]
     },
     "execution_count": 68,
     "metadata": {},
     "output_type": "execute_result"
    }
   ],
   "source": [
    "# head >> used to give top 5 rows\n",
    "df3.head()"
   ]
  },
  {
   "cell_type": "code",
   "execution_count": 70,
   "id": "3d3879df-0a58-4066-92ba-dccb31af76dd",
   "metadata": {},
   "outputs": [
    {
     "data": {
      "text/html": [
       "<div>\n",
       "<style scoped>\n",
       "    .dataframe tbody tr th:only-of-type {\n",
       "        vertical-align: middle;\n",
       "    }\n",
       "\n",
       "    .dataframe tbody tr th {\n",
       "        vertical-align: top;\n",
       "    }\n",
       "\n",
       "    .dataframe thead th {\n",
       "        text-align: right;\n",
       "    }\n",
       "</style>\n",
       "<table border=\"1\" class=\"dataframe\">\n",
       "  <thead>\n",
       "    <tr style=\"text-align: right;\">\n",
       "      <th></th>\n",
       "      <th>id</th>\n",
       "      <th>name</th>\n",
       "      <th>location</th>\n",
       "      <th>salary</th>\n",
       "    </tr>\n",
       "  </thead>\n",
       "  <tbody>\n",
       "    <tr>\n",
       "      <th>0</th>\n",
       "      <td>1</td>\n",
       "      <td>Arun</td>\n",
       "      <td>vashi</td>\n",
       "      <td>50</td>\n",
       "    </tr>\n",
       "    <tr>\n",
       "      <th>1</th>\n",
       "      <td>2</td>\n",
       "      <td>Aditi</td>\n",
       "      <td>kalyan</td>\n",
       "      <td>45</td>\n",
       "    </tr>\n",
       "    <tr>\n",
       "      <th>2</th>\n",
       "      <td>3</td>\n",
       "      <td>Bina</td>\n",
       "      <td>vashi</td>\n",
       "      <td>60</td>\n",
       "    </tr>\n",
       "  </tbody>\n",
       "</table>\n",
       "</div>"
      ],
      "text/plain": [
       "   id   name location  salary\n",
       "0   1   Arun    vashi      50\n",
       "1   2  Aditi   kalyan      45\n",
       "2   3   Bina    vashi      60"
      ]
     },
     "execution_count": 70,
     "metadata": {},
     "output_type": "execute_result"
    }
   ],
   "source": [
    "df3.head(3)"
   ]
  },
  {
   "cell_type": "code",
   "execution_count": 72,
   "id": "73bcaec1-a883-4a82-bae7-88d2c638946f",
   "metadata": {},
   "outputs": [
    {
     "data": {
      "text/html": [
       "<div>\n",
       "<style scoped>\n",
       "    .dataframe tbody tr th:only-of-type {\n",
       "        vertical-align: middle;\n",
       "    }\n",
       "\n",
       "    .dataframe tbody tr th {\n",
       "        vertical-align: top;\n",
       "    }\n",
       "\n",
       "    .dataframe thead th {\n",
       "        text-align: right;\n",
       "    }\n",
       "</style>\n",
       "<table border=\"1\" class=\"dataframe\">\n",
       "  <thead>\n",
       "    <tr style=\"text-align: right;\">\n",
       "      <th></th>\n",
       "      <th>id</th>\n",
       "      <th>name</th>\n",
       "      <th>location</th>\n",
       "      <th>salary</th>\n",
       "    </tr>\n",
       "  </thead>\n",
       "  <tbody>\n",
       "    <tr>\n",
       "      <th>5</th>\n",
       "      <td>6</td>\n",
       "      <td>Esham</td>\n",
       "      <td>vashi</td>\n",
       "      <td>85</td>\n",
       "    </tr>\n",
       "    <tr>\n",
       "      <th>6</th>\n",
       "      <td>7</td>\n",
       "      <td>Gauri</td>\n",
       "      <td>kalyan</td>\n",
       "      <td>75</td>\n",
       "    </tr>\n",
       "    <tr>\n",
       "      <th>7</th>\n",
       "      <td>8</td>\n",
       "      <td>harish</td>\n",
       "      <td>vashi</td>\n",
       "      <td>45</td>\n",
       "    </tr>\n",
       "    <tr>\n",
       "      <th>8</th>\n",
       "      <td>9</td>\n",
       "      <td>ishita</td>\n",
       "      <td>kalyan</td>\n",
       "      <td>55</td>\n",
       "    </tr>\n",
       "    <tr>\n",
       "      <th>9</th>\n",
       "      <td>10</td>\n",
       "      <td>joy</td>\n",
       "      <td>kalyan</td>\n",
       "      <td>10</td>\n",
       "    </tr>\n",
       "  </tbody>\n",
       "</table>\n",
       "</div>"
      ],
      "text/plain": [
       "   id    name location  salary\n",
       "5   6   Esham    vashi      85\n",
       "6   7   Gauri   kalyan      75\n",
       "7   8  harish    vashi      45\n",
       "8   9  ishita   kalyan      55\n",
       "9  10     joy   kalyan      10"
      ]
     },
     "execution_count": 72,
     "metadata": {},
     "output_type": "execute_result"
    }
   ],
   "source": [
    "# tail >> bottom rows\n",
    "df3.tail()"
   ]
  },
  {
   "cell_type": "code",
   "execution_count": 76,
   "id": "0ff0b34f-01e1-4197-8d5f-70b6ef6c50b9",
   "metadata": {},
   "outputs": [
    {
     "data": {
      "text/html": [
       "<div>\n",
       "<style scoped>\n",
       "    .dataframe tbody tr th:only-of-type {\n",
       "        vertical-align: middle;\n",
       "    }\n",
       "\n",
       "    .dataframe tbody tr th {\n",
       "        vertical-align: top;\n",
       "    }\n",
       "\n",
       "    .dataframe thead th {\n",
       "        text-align: right;\n",
       "    }\n",
       "</style>\n",
       "<table border=\"1\" class=\"dataframe\">\n",
       "  <thead>\n",
       "    <tr style=\"text-align: right;\">\n",
       "      <th></th>\n",
       "      <th>id</th>\n",
       "      <th>name</th>\n",
       "      <th>location</th>\n",
       "      <th>salary</th>\n",
       "    </tr>\n",
       "  </thead>\n",
       "  <tbody>\n",
       "    <tr>\n",
       "      <th>8</th>\n",
       "      <td>9</td>\n",
       "      <td>ishita</td>\n",
       "      <td>kalyan</td>\n",
       "      <td>55</td>\n",
       "    </tr>\n",
       "    <tr>\n",
       "      <th>9</th>\n",
       "      <td>10</td>\n",
       "      <td>joy</td>\n",
       "      <td>kalyan</td>\n",
       "      <td>10</td>\n",
       "    </tr>\n",
       "  </tbody>\n",
       "</table>\n",
       "</div>"
      ],
      "text/plain": [
       "   id    name location  salary\n",
       "8   9  ishita   kalyan      55\n",
       "9  10     joy   kalyan      10"
      ]
     },
     "execution_count": 76,
     "metadata": {},
     "output_type": "execute_result"
    }
   ],
   "source": [
    "df3.tail(2)"
   ]
  },
  {
   "cell_type": "code",
   "execution_count": 78,
   "id": "3957f9e6-4210-467f-a488-866ae4d7a65d",
   "metadata": {},
   "outputs": [
    {
     "data": {
      "text/plain": [
       "0       Arun\n",
       "1      Aditi\n",
       "2       Bina\n",
       "3    Chandan\n",
       "4      Deepa\n",
       "5      Esham\n",
       "6      Gauri\n",
       "7     harish\n",
       "8     ishita\n",
       "9        joy\n",
       "Name: name, dtype: object"
      ]
     },
     "execution_count": 78,
     "metadata": {},
     "output_type": "execute_result"
    }
   ],
   "source": [
    "# to retrieve columns >> show only particular column name\n",
    "df3['name']"
   ]
  },
  {
   "cell_type": "code",
   "execution_count": 82,
   "id": "457b0a42-fa9a-4343-8acd-99acc3207d43",
   "metadata": {},
   "outputs": [
    {
     "data": {
      "text/html": [
       "<div>\n",
       "<style scoped>\n",
       "    .dataframe tbody tr th:only-of-type {\n",
       "        vertical-align: middle;\n",
       "    }\n",
       "\n",
       "    .dataframe tbody tr th {\n",
       "        vertical-align: top;\n",
       "    }\n",
       "\n",
       "    .dataframe thead th {\n",
       "        text-align: right;\n",
       "    }\n",
       "</style>\n",
       "<table border=\"1\" class=\"dataframe\">\n",
       "  <thead>\n",
       "    <tr style=\"text-align: right;\">\n",
       "      <th></th>\n",
       "      <th>name</th>\n",
       "      <th>salary</th>\n",
       "      <th>id</th>\n",
       "    </tr>\n",
       "  </thead>\n",
       "  <tbody>\n",
       "    <tr>\n",
       "      <th>0</th>\n",
       "      <td>adi</td>\n",
       "      <td>20000</td>\n",
       "      <td>1</td>\n",
       "    </tr>\n",
       "    <tr>\n",
       "      <th>1</th>\n",
       "      <td>shravan</td>\n",
       "      <td>45000</td>\n",
       "      <td>2</td>\n",
       "    </tr>\n",
       "    <tr>\n",
       "      <th>2</th>\n",
       "      <td>om</td>\n",
       "      <td>30000</td>\n",
       "      <td>3</td>\n",
       "    </tr>\n",
       "    <tr>\n",
       "      <th>3</th>\n",
       "      <td>duri</td>\n",
       "      <td>25000</td>\n",
       "      <td>4</td>\n",
       "    </tr>\n",
       "    <tr>\n",
       "      <th>4</th>\n",
       "      <td>sonal</td>\n",
       "      <td>60000</td>\n",
       "      <td>5</td>\n",
       "    </tr>\n",
       "    <tr>\n",
       "      <th>5</th>\n",
       "      <td>komal</td>\n",
       "      <td>76500</td>\n",
       "      <td>6</td>\n",
       "    </tr>\n",
       "    <tr>\n",
       "      <th>6</th>\n",
       "      <td>jaya</td>\n",
       "      <td>21300</td>\n",
       "      <td>7</td>\n",
       "    </tr>\n",
       "    <tr>\n",
       "      <th>7</th>\n",
       "      <td>ritika</td>\n",
       "      <td>54200</td>\n",
       "      <td>8</td>\n",
       "    </tr>\n",
       "    <tr>\n",
       "      <th>8</th>\n",
       "      <td>mayuri</td>\n",
       "      <td>56000</td>\n",
       "      <td>9</td>\n",
       "    </tr>\n",
       "    <tr>\n",
       "      <th>9</th>\n",
       "      <td>shanaya</td>\n",
       "      <td>54000</td>\n",
       "      <td>10</td>\n",
       "    </tr>\n",
       "  </tbody>\n",
       "</table>\n",
       "</div>"
      ],
      "text/plain": [
       "      name  salary  id\n",
       "0      adi   20000   1\n",
       "1  shravan   45000   2\n",
       "2       om   30000   3\n",
       "3     duri   25000   4\n",
       "4    sonal   60000   5\n",
       "5    komal   76500   6\n",
       "6     jaya   21300   7\n",
       "7   ritika   54200   8\n",
       "8   mayuri   56000   9\n",
       "9  shanaya   54000  10"
      ]
     },
     "execution_count": 82,
     "metadata": {},
     "output_type": "execute_result"
    }
   ],
   "source": [
    "df[['name','salary','id']]"
   ]
  },
  {
   "cell_type": "code",
   "execution_count": 90,
   "id": "7569bb60-3e55-4c30-97d9-d4124d82e3a1",
   "metadata": {},
   "outputs": [
    {
     "data": {
      "text/html": [
       "<div>\n",
       "<style scoped>\n",
       "    .dataframe tbody tr th:only-of-type {\n",
       "        vertical-align: middle;\n",
       "    }\n",
       "\n",
       "    .dataframe tbody tr th {\n",
       "        vertical-align: top;\n",
       "    }\n",
       "\n",
       "    .dataframe thead th {\n",
       "        text-align: right;\n",
       "    }\n",
       "</style>\n",
       "<table border=\"1\" class=\"dataframe\">\n",
       "  <thead>\n",
       "    <tr style=\"text-align: right;\">\n",
       "      <th></th>\n",
       "      <th>id</th>\n",
       "      <th>name</th>\n",
       "      <th>age</th>\n",
       "      <th>salary</th>\n",
       "    </tr>\n",
       "  </thead>\n",
       "  <tbody>\n",
       "    <tr>\n",
       "      <th>0</th>\n",
       "      <td>1</td>\n",
       "      <td>adi</td>\n",
       "      <td>23</td>\n",
       "      <td>20000</td>\n",
       "    </tr>\n",
       "    <tr>\n",
       "      <th>1</th>\n",
       "      <td>2</td>\n",
       "      <td>shravan</td>\n",
       "      <td>34</td>\n",
       "      <td>45000</td>\n",
       "    </tr>\n",
       "    <tr>\n",
       "      <th>2</th>\n",
       "      <td>3</td>\n",
       "      <td>om</td>\n",
       "      <td>45</td>\n",
       "      <td>30000</td>\n",
       "    </tr>\n",
       "    <tr>\n",
       "      <th>3</th>\n",
       "      <td>4</td>\n",
       "      <td>duri</td>\n",
       "      <td>56</td>\n",
       "      <td>25000</td>\n",
       "    </tr>\n",
       "    <tr>\n",
       "      <th>4</th>\n",
       "      <td>5</td>\n",
       "      <td>sonal</td>\n",
       "      <td>67</td>\n",
       "      <td>60000</td>\n",
       "    </tr>\n",
       "  </tbody>\n",
       "</table>\n",
       "</div>"
      ],
      "text/plain": [
       "   id     name  age  salary\n",
       "0   1      adi   23   20000\n",
       "1   2  shravan   34   45000\n",
       "2   3       om   45   30000\n",
       "3   4     duri   56   25000\n",
       "4   5    sonal   67   60000"
      ]
     },
     "execution_count": 90,
     "metadata": {},
     "output_type": "execute_result"
    }
   ],
   "source": [
    "# to retrive rows\n",
    "df[:5]"
   ]
  },
  {
   "cell_type": "code",
   "execution_count": 92,
   "id": "d696339a-245e-49bb-befb-a5a3a67584f5",
   "metadata": {},
   "outputs": [
    {
     "data": {
      "text/html": [
       "<div>\n",
       "<style scoped>\n",
       "    .dataframe tbody tr th:only-of-type {\n",
       "        vertical-align: middle;\n",
       "    }\n",
       "\n",
       "    .dataframe tbody tr th {\n",
       "        vertical-align: top;\n",
       "    }\n",
       "\n",
       "    .dataframe thead th {\n",
       "        text-align: right;\n",
       "    }\n",
       "</style>\n",
       "<table border=\"1\" class=\"dataframe\">\n",
       "  <thead>\n",
       "    <tr style=\"text-align: right;\">\n",
       "      <th></th>\n",
       "      <th>name</th>\n",
       "      <th>salary</th>\n",
       "    </tr>\n",
       "  </thead>\n",
       "  <tbody>\n",
       "    <tr>\n",
       "      <th>2</th>\n",
       "      <td>Bina</td>\n",
       "      <td>60</td>\n",
       "    </tr>\n",
       "    <tr>\n",
       "      <th>3</th>\n",
       "      <td>Chandan</td>\n",
       "      <td>70</td>\n",
       "    </tr>\n",
       "    <tr>\n",
       "      <th>4</th>\n",
       "      <td>Deepa</td>\n",
       "      <td>80</td>\n",
       "    </tr>\n",
       "    <tr>\n",
       "      <th>5</th>\n",
       "      <td>Esham</td>\n",
       "      <td>85</td>\n",
       "    </tr>\n",
       "  </tbody>\n",
       "</table>\n",
       "</div>"
      ],
      "text/plain": [
       "      name  salary\n",
       "2     Bina      60\n",
       "3  Chandan      70\n",
       "4    Deepa      80\n",
       "5    Esham      85"
      ]
     },
     "execution_count": 92,
     "metadata": {},
     "output_type": "execute_result"
    }
   ],
   "source": [
    "df3[['name','salary']][2:6]"
   ]
  },
  {
   "cell_type": "code",
   "execution_count": 98,
   "id": "bc38cb19-2597-488d-a5c2-4e0b1a41d5f4",
   "metadata": {},
   "outputs": [
    {
     "name": "stdout",
     "output_type": "stream",
     "text": [
      "<class 'pandas.core.frame.DataFrame'>\n",
      "RangeIndex: 10 entries, 0 to 9\n",
      "Data columns (total 4 columns):\n",
      " #   Column    Non-Null Count  Dtype \n",
      "---  ------    --------------  ----- \n",
      " 0   id        10 non-null     int64 \n",
      " 1   name      10 non-null     object\n",
      " 2   location  10 non-null     object\n",
      " 3   salary    10 non-null     int64 \n",
      "dtypes: int64(2), object(2)\n",
      "memory usage: 452.0+ bytes\n"
     ]
    }
   ],
   "source": [
    "# info >> gives the all info about dataframe\n",
    "df3.info()"
   ]
  },
  {
   "cell_type": "code",
   "execution_count": 100,
   "id": "6ed1cf03-d824-45a2-b735-6aefe9723a6c",
   "metadata": {},
   "outputs": [
    {
     "data": {
      "text/plain": [
       "array(['vashi', 'kalyan'], dtype=object)"
      ]
     },
     "execution_count": 100,
     "metadata": {},
     "output_type": "execute_result"
    }
   ],
   "source": [
    "# unique >> gives unique values\n",
    "df3['location'].unique()"
   ]
  },
  {
   "cell_type": "code",
   "execution_count": 108,
   "id": "9f075d83-6b20-4ec1-9821-9abca3be43dc",
   "metadata": {},
   "outputs": [
    {
     "data": {
      "text/plain": [
       "location\n",
       "kalyan    6\n",
       "vashi     4\n",
       "Name: count, dtype: int64"
      ]
     },
     "execution_count": 108,
     "metadata": {},
     "output_type": "execute_result"
    }
   ],
   "source": [
    "# value_counts >> counts of values\n",
    "df3['location'].value_counts()"
   ]
  },
  {
   "cell_type": "code",
   "execution_count": 110,
   "id": "414df780-ca56-4f2c-953f-cf049976ade2",
   "metadata": {},
   "outputs": [
    {
     "data": {
      "text/plain": [
       "9    10\n",
       "1    45\n",
       "7    45\n",
       "0    50\n",
       "8    55\n",
       "2    60\n",
       "3    70\n",
       "6    75\n",
       "4    80\n",
       "5    85\n",
       "Name: salary, dtype: int64"
      ]
     },
     "execution_count": 110,
     "metadata": {},
     "output_type": "execute_result"
    }
   ],
   "source": [
    "# sort values >> ascending or descending \n",
    "# for aescending\n",
    "df3['salary'].sort_values()"
   ]
  },
  {
   "cell_type": "code",
   "execution_count": 112,
   "id": "044d3ce8-b5f2-4bcc-8e52-ab4ddf69eaf8",
   "metadata": {},
   "outputs": [
    {
     "data": {
      "text/plain": [
       "5    85\n",
       "4    80\n",
       "6    75\n",
       "3    70\n",
       "2    60\n",
       "8    55\n",
       "0    50\n",
       "1    45\n",
       "7    45\n",
       "9    10\n",
       "Name: salary, dtype: int64"
      ]
     },
     "execution_count": 112,
     "metadata": {},
     "output_type": "execute_result"
    }
   ],
   "source": [
    "# for descending\n",
    "df3['salary'].sort_values(ascending=False) # for descending"
   ]
  },
  {
   "cell_type": "code",
   "execution_count": 118,
   "id": "864ee930-048a-4b77-968c-14347cffdcbf",
   "metadata": {},
   "outputs": [
    {
     "data": {
      "text/html": [
       "<div>\n",
       "<style scoped>\n",
       "    .dataframe tbody tr th:only-of-type {\n",
       "        vertical-align: middle;\n",
       "    }\n",
       "\n",
       "    .dataframe tbody tr th {\n",
       "        vertical-align: top;\n",
       "    }\n",
       "\n",
       "    .dataframe thead th {\n",
       "        text-align: right;\n",
       "    }\n",
       "</style>\n",
       "<table border=\"1\" class=\"dataframe\">\n",
       "  <thead>\n",
       "    <tr style=\"text-align: right;\">\n",
       "      <th></th>\n",
       "      <th>id</th>\n",
       "      <th>name</th>\n",
       "      <th>location</th>\n",
       "      <th>salary</th>\n",
       "    </tr>\n",
       "  </thead>\n",
       "  <tbody>\n",
       "    <tr>\n",
       "      <th>5</th>\n",
       "      <td>6</td>\n",
       "      <td>Esham</td>\n",
       "      <td>vashi</td>\n",
       "      <td>85</td>\n",
       "    </tr>\n",
       "    <tr>\n",
       "      <th>4</th>\n",
       "      <td>5</td>\n",
       "      <td>Deepa</td>\n",
       "      <td>kalyan</td>\n",
       "      <td>80</td>\n",
       "    </tr>\n",
       "    <tr>\n",
       "      <th>6</th>\n",
       "      <td>7</td>\n",
       "      <td>Gauri</td>\n",
       "      <td>kalyan</td>\n",
       "      <td>75</td>\n",
       "    </tr>\n",
       "    <tr>\n",
       "      <th>3</th>\n",
       "      <td>4</td>\n",
       "      <td>Chandan</td>\n",
       "      <td>kalyan</td>\n",
       "      <td>70</td>\n",
       "    </tr>\n",
       "    <tr>\n",
       "      <th>2</th>\n",
       "      <td>3</td>\n",
       "      <td>Bina</td>\n",
       "      <td>vashi</td>\n",
       "      <td>60</td>\n",
       "    </tr>\n",
       "    <tr>\n",
       "      <th>8</th>\n",
       "      <td>9</td>\n",
       "      <td>ishita</td>\n",
       "      <td>kalyan</td>\n",
       "      <td>55</td>\n",
       "    </tr>\n",
       "    <tr>\n",
       "      <th>0</th>\n",
       "      <td>1</td>\n",
       "      <td>Arun</td>\n",
       "      <td>vashi</td>\n",
       "      <td>50</td>\n",
       "    </tr>\n",
       "    <tr>\n",
       "      <th>1</th>\n",
       "      <td>2</td>\n",
       "      <td>Aditi</td>\n",
       "      <td>kalyan</td>\n",
       "      <td>45</td>\n",
       "    </tr>\n",
       "    <tr>\n",
       "      <th>7</th>\n",
       "      <td>8</td>\n",
       "      <td>harish</td>\n",
       "      <td>vashi</td>\n",
       "      <td>45</td>\n",
       "    </tr>\n",
       "    <tr>\n",
       "      <th>9</th>\n",
       "      <td>10</td>\n",
       "      <td>joy</td>\n",
       "      <td>kalyan</td>\n",
       "      <td>10</td>\n",
       "    </tr>\n",
       "  </tbody>\n",
       "</table>\n",
       "</div>"
      ],
      "text/plain": [
       "   id     name location  salary\n",
       "5   6    Esham    vashi      85\n",
       "4   5    Deepa   kalyan      80\n",
       "6   7    Gauri   kalyan      75\n",
       "3   4  Chandan   kalyan      70\n",
       "2   3     Bina    vashi      60\n",
       "8   9   ishita   kalyan      55\n",
       "0   1     Arun    vashi      50\n",
       "1   2    Aditi   kalyan      45\n",
       "7   8   harish    vashi      45\n",
       "9  10      joy   kalyan      10"
      ]
     },
     "execution_count": 118,
     "metadata": {},
     "output_type": "execute_result"
    }
   ],
   "source": [
    "# to sort dataframe by column\n",
    "df3.sort_values(by='salary',ascending=False)"
   ]
  },
  {
   "cell_type": "code",
   "execution_count": 120,
   "id": "fcdc889f-ad72-4a1e-9288-99de8a40aaf1",
   "metadata": {},
   "outputs": [],
   "source": [
    "# create a dataframe having info of 5 family members with their name,age,gender and relation\n",
    "# show the names of all member"
   ]
  },
  {
   "cell_type": "code",
   "execution_count": 122,
   "id": "b1f8624a-bc14-410c-8a19-53007a39e279",
   "metadata": {},
   "outputs": [],
   "source": [
    "fam = {'name':['adi','duri','shanaya','mayuri','sonal'],\n",
    "       'age':[12,32,15,67,32],\n",
    "       'gender':['male','male','female','female','female'],\n",
    "       'relation':['grandfather','son','daughter','wife','sister']}"
   ]
  },
  {
   "cell_type": "code",
   "execution_count": 124,
   "id": "c5b33ce7-c56e-4505-b824-0bb3e1532501",
   "metadata": {},
   "outputs": [
    {
     "data": {
      "text/html": [
       "<div>\n",
       "<style scoped>\n",
       "    .dataframe tbody tr th:only-of-type {\n",
       "        vertical-align: middle;\n",
       "    }\n",
       "\n",
       "    .dataframe tbody tr th {\n",
       "        vertical-align: top;\n",
       "    }\n",
       "\n",
       "    .dataframe thead th {\n",
       "        text-align: right;\n",
       "    }\n",
       "</style>\n",
       "<table border=\"1\" class=\"dataframe\">\n",
       "  <thead>\n",
       "    <tr style=\"text-align: right;\">\n",
       "      <th></th>\n",
       "      <th>name</th>\n",
       "      <th>age</th>\n",
       "      <th>gender</th>\n",
       "      <th>relation</th>\n",
       "    </tr>\n",
       "  </thead>\n",
       "  <tbody>\n",
       "    <tr>\n",
       "      <th>0</th>\n",
       "      <td>adi</td>\n",
       "      <td>12</td>\n",
       "      <td>male</td>\n",
       "      <td>grandfather</td>\n",
       "    </tr>\n",
       "    <tr>\n",
       "      <th>1</th>\n",
       "      <td>duri</td>\n",
       "      <td>32</td>\n",
       "      <td>male</td>\n",
       "      <td>son</td>\n",
       "    </tr>\n",
       "    <tr>\n",
       "      <th>2</th>\n",
       "      <td>shanaya</td>\n",
       "      <td>15</td>\n",
       "      <td>female</td>\n",
       "      <td>daughter</td>\n",
       "    </tr>\n",
       "    <tr>\n",
       "      <th>3</th>\n",
       "      <td>mayuri</td>\n",
       "      <td>67</td>\n",
       "      <td>female</td>\n",
       "      <td>wife</td>\n",
       "    </tr>\n",
       "    <tr>\n",
       "      <th>4</th>\n",
       "      <td>sonal</td>\n",
       "      <td>32</td>\n",
       "      <td>female</td>\n",
       "      <td>sister</td>\n",
       "    </tr>\n",
       "  </tbody>\n",
       "</table>\n",
       "</div>"
      ],
      "text/plain": [
       "      name  age  gender     relation\n",
       "0      adi   12    male  grandfather\n",
       "1     duri   32    male          son\n",
       "2  shanaya   15  female     daughter\n",
       "3   mayuri   67  female         wife\n",
       "4    sonal   32  female       sister"
      ]
     },
     "execution_count": 124,
     "metadata": {},
     "output_type": "execute_result"
    }
   ],
   "source": [
    "df = pd.DataFrame(fam)\n",
    "df"
   ]
  },
  {
   "cell_type": "code",
   "execution_count": 126,
   "id": "36114e91-c94f-4e70-a9a1-27a6229503c1",
   "metadata": {},
   "outputs": [
    {
     "data": {
      "text/plain": [
       "0        adi\n",
       "1       duri\n",
       "2    shanaya\n",
       "3     mayuri\n",
       "4      sonal\n",
       "Name: name, dtype: object"
      ]
     },
     "execution_count": 126,
     "metadata": {},
     "output_type": "execute_result"
    }
   ],
   "source": [
    "# show the names of all member\n",
    "df['name']"
   ]
  },
  {
   "cell_type": "code",
   "execution_count": 128,
   "id": "0baab7c5-4c83-486d-8280-d3b3f97accfc",
   "metadata": {},
   "outputs": [
    {
     "data": {
      "text/plain": [
       "Index(['name', 'age', 'gender', 'relation'], dtype='object')"
      ]
     },
     "execution_count": 128,
     "metadata": {},
     "output_type": "execute_result"
    }
   ],
   "source": [
    "df.columns"
   ]
  },
  {
   "cell_type": "code",
   "execution_count": 130,
   "id": "a008e4ca-8ac5-4a55-a156-c15ba09cf0d1",
   "metadata": {},
   "outputs": [
    {
     "data": {
      "text/plain": [
       "(5, 4)"
      ]
     },
     "execution_count": 130,
     "metadata": {},
     "output_type": "execute_result"
    }
   ],
   "source": [
    "df.shape"
   ]
  },
  {
   "cell_type": "code",
   "execution_count": 132,
   "id": "45a7df54-5651-49b6-8ac6-824fb49b30a5",
   "metadata": {},
   "outputs": [
    {
     "data": {
      "text/html": [
       "<div>\n",
       "<style scoped>\n",
       "    .dataframe tbody tr th:only-of-type {\n",
       "        vertical-align: middle;\n",
       "    }\n",
       "\n",
       "    .dataframe tbody tr th {\n",
       "        vertical-align: top;\n",
       "    }\n",
       "\n",
       "    .dataframe thead th {\n",
       "        text-align: right;\n",
       "    }\n",
       "</style>\n",
       "<table border=\"1\" class=\"dataframe\">\n",
       "  <thead>\n",
       "    <tr style=\"text-align: right;\">\n",
       "      <th></th>\n",
       "      <th>name</th>\n",
       "      <th>gender</th>\n",
       "    </tr>\n",
       "  </thead>\n",
       "  <tbody>\n",
       "    <tr>\n",
       "      <th>0</th>\n",
       "      <td>adi</td>\n",
       "      <td>male</td>\n",
       "    </tr>\n",
       "    <tr>\n",
       "      <th>1</th>\n",
       "      <td>duri</td>\n",
       "      <td>male</td>\n",
       "    </tr>\n",
       "    <tr>\n",
       "      <th>2</th>\n",
       "      <td>shanaya</td>\n",
       "      <td>female</td>\n",
       "    </tr>\n",
       "    <tr>\n",
       "      <th>3</th>\n",
       "      <td>mayuri</td>\n",
       "      <td>female</td>\n",
       "    </tr>\n",
       "    <tr>\n",
       "      <th>4</th>\n",
       "      <td>sonal</td>\n",
       "      <td>female</td>\n",
       "    </tr>\n",
       "  </tbody>\n",
       "</table>\n",
       "</div>"
      ],
      "text/plain": [
       "      name  gender\n",
       "0      adi    male\n",
       "1     duri    male\n",
       "2  shanaya  female\n",
       "3   mayuri  female\n",
       "4    sonal  female"
      ]
     },
     "execution_count": 132,
     "metadata": {},
     "output_type": "execute_result"
    }
   ],
   "source": [
    "df[['name','gender']]"
   ]
  },
  {
   "cell_type": "code",
   "execution_count": 134,
   "id": "237cc2ca-a809-4276-94be-6fd96159dfb3",
   "metadata": {},
   "outputs": [
    {
     "data": {
      "text/html": [
       "<div>\n",
       "<style scoped>\n",
       "    .dataframe tbody tr th:only-of-type {\n",
       "        vertical-align: middle;\n",
       "    }\n",
       "\n",
       "    .dataframe tbody tr th {\n",
       "        vertical-align: top;\n",
       "    }\n",
       "\n",
       "    .dataframe thead th {\n",
       "        text-align: right;\n",
       "    }\n",
       "</style>\n",
       "<table border=\"1\" class=\"dataframe\">\n",
       "  <thead>\n",
       "    <tr style=\"text-align: right;\">\n",
       "      <th></th>\n",
       "      <th>name</th>\n",
       "      <th>age</th>\n",
       "      <th>gender</th>\n",
       "      <th>relation</th>\n",
       "    </tr>\n",
       "  </thead>\n",
       "  <tbody>\n",
       "    <tr>\n",
       "      <th>0</th>\n",
       "      <td>adi</td>\n",
       "      <td>12</td>\n",
       "      <td>male</td>\n",
       "      <td>grandfather</td>\n",
       "    </tr>\n",
       "    <tr>\n",
       "      <th>1</th>\n",
       "      <td>duri</td>\n",
       "      <td>32</td>\n",
       "      <td>male</td>\n",
       "      <td>son</td>\n",
       "    </tr>\n",
       "    <tr>\n",
       "      <th>2</th>\n",
       "      <td>shanaya</td>\n",
       "      <td>15</td>\n",
       "      <td>female</td>\n",
       "      <td>daughter</td>\n",
       "    </tr>\n",
       "  </tbody>\n",
       "</table>\n",
       "</div>"
      ],
      "text/plain": [
       "      name  age  gender     relation\n",
       "0      adi   12    male  grandfather\n",
       "1     duri   32    male          son\n",
       "2  shanaya   15  female     daughter"
      ]
     },
     "execution_count": 134,
     "metadata": {},
     "output_type": "execute_result"
    }
   ],
   "source": [
    "df.head(3)"
   ]
  },
  {
   "cell_type": "code",
   "execution_count": 136,
   "id": "46bc72da-82a6-44da-adbe-7f8d299a0863",
   "metadata": {},
   "outputs": [
    {
     "data": {
      "text/html": [
       "<div>\n",
       "<style scoped>\n",
       "    .dataframe tbody tr th:only-of-type {\n",
       "        vertical-align: middle;\n",
       "    }\n",
       "\n",
       "    .dataframe tbody tr th {\n",
       "        vertical-align: top;\n",
       "    }\n",
       "\n",
       "    .dataframe thead th {\n",
       "        text-align: right;\n",
       "    }\n",
       "</style>\n",
       "<table border=\"1\" class=\"dataframe\">\n",
       "  <thead>\n",
       "    <tr style=\"text-align: right;\">\n",
       "      <th></th>\n",
       "      <th>name</th>\n",
       "      <th>age</th>\n",
       "      <th>gender</th>\n",
       "      <th>relation</th>\n",
       "    </tr>\n",
       "  </thead>\n",
       "  <tbody>\n",
       "    <tr>\n",
       "      <th>3</th>\n",
       "      <td>mayuri</td>\n",
       "      <td>67</td>\n",
       "      <td>female</td>\n",
       "      <td>wife</td>\n",
       "    </tr>\n",
       "    <tr>\n",
       "      <th>4</th>\n",
       "      <td>sonal</td>\n",
       "      <td>32</td>\n",
       "      <td>female</td>\n",
       "      <td>sister</td>\n",
       "    </tr>\n",
       "  </tbody>\n",
       "</table>\n",
       "</div>"
      ],
      "text/plain": [
       "     name  age  gender relation\n",
       "3  mayuri   67  female     wife\n",
       "4   sonal   32  female   sister"
      ]
     },
     "execution_count": 136,
     "metadata": {},
     "output_type": "execute_result"
    }
   ],
   "source": [
    "# show the details of oldest 2 \n",
    "df[3:5]"
   ]
  },
  {
   "cell_type": "code",
   "execution_count": 150,
   "id": "96c6ef8c-97e7-4150-8d40-4d7ef2b231d0",
   "metadata": {},
   "outputs": [
    {
     "data": {
      "text/html": [
       "<div>\n",
       "<style scoped>\n",
       "    .dataframe tbody tr th:only-of-type {\n",
       "        vertical-align: middle;\n",
       "    }\n",
       "\n",
       "    .dataframe tbody tr th {\n",
       "        vertical-align: top;\n",
       "    }\n",
       "\n",
       "    .dataframe thead th {\n",
       "        text-align: right;\n",
       "    }\n",
       "</style>\n",
       "<table border=\"1\" class=\"dataframe\">\n",
       "  <thead>\n",
       "    <tr style=\"text-align: right;\">\n",
       "      <th></th>\n",
       "      <th>name</th>\n",
       "      <th>gender</th>\n",
       "    </tr>\n",
       "  </thead>\n",
       "  <tbody>\n",
       "    <tr>\n",
       "      <th>2</th>\n",
       "      <td>shanaya</td>\n",
       "      <td>female</td>\n",
       "    </tr>\n",
       "    <tr>\n",
       "      <th>3</th>\n",
       "      <td>mayuri</td>\n",
       "      <td>female</td>\n",
       "    </tr>\n",
       "    <tr>\n",
       "      <th>4</th>\n",
       "      <td>sonal</td>\n",
       "      <td>female</td>\n",
       "    </tr>\n",
       "  </tbody>\n",
       "</table>\n",
       "</div>"
      ],
      "text/plain": [
       "      name  gender\n",
       "2  shanaya  female\n",
       "3   mayuri  female\n",
       "4    sonal  female"
      ]
     },
     "execution_count": 150,
     "metadata": {},
     "output_type": "execute_result"
    }
   ],
   "source": [
    "# show the name and gender of 3rd , 4th, and 5th member\n",
    "df[['name','gender']][2:6]"
   ]
  },
  {
   "cell_type": "code",
   "execution_count": 152,
   "id": "c3ce8295-1039-4af5-a297-27b5456382e0",
   "metadata": {},
   "outputs": [
    {
     "data": {
      "text/plain": [
       "3    67\n",
       "1    32\n",
       "4    32\n",
       "2    15\n",
       "0    12\n",
       "Name: age, dtype: int64"
      ]
     },
     "execution_count": 152,
     "metadata": {},
     "output_type": "execute_result"
    }
   ],
   "source": [
    "# show the age of all in decreasing order\n",
    "df['age'].sort_values(ascending=False)"
   ]
  },
  {
   "cell_type": "code",
   "execution_count": 192,
   "id": "3f9538c9-8190-41a3-b9c9-133045641a38",
   "metadata": {},
   "outputs": [
    {
     "data": {
      "text/html": [
       "<div>\n",
       "<style scoped>\n",
       "    .dataframe tbody tr th:only-of-type {\n",
       "        vertical-align: middle;\n",
       "    }\n",
       "\n",
       "    .dataframe tbody tr th {\n",
       "        vertical-align: top;\n",
       "    }\n",
       "\n",
       "    .dataframe thead th {\n",
       "        text-align: right;\n",
       "    }\n",
       "</style>\n",
       "<table border=\"1\" class=\"dataframe\">\n",
       "  <thead>\n",
       "    <tr style=\"text-align: right;\">\n",
       "      <th></th>\n",
       "      <th>name</th>\n",
       "      <th>age</th>\n",
       "      <th>gender</th>\n",
       "      <th>relation</th>\n",
       "    </tr>\n",
       "  </thead>\n",
       "  <tbody>\n",
       "    <tr>\n",
       "      <th>0</th>\n",
       "      <td>adi</td>\n",
       "      <td>12</td>\n",
       "      <td>male</td>\n",
       "      <td>grandfather</td>\n",
       "    </tr>\n",
       "    <tr>\n",
       "      <th>2</th>\n",
       "      <td>shanaya</td>\n",
       "      <td>15</td>\n",
       "      <td>female</td>\n",
       "      <td>daughter</td>\n",
       "    </tr>\n",
       "    <tr>\n",
       "      <th>1</th>\n",
       "      <td>duri</td>\n",
       "      <td>32</td>\n",
       "      <td>male</td>\n",
       "      <td>son</td>\n",
       "    </tr>\n",
       "    <tr>\n",
       "      <th>4</th>\n",
       "      <td>sonal</td>\n",
       "      <td>32</td>\n",
       "      <td>female</td>\n",
       "      <td>sister</td>\n",
       "    </tr>\n",
       "    <tr>\n",
       "      <th>3</th>\n",
       "      <td>mayuri</td>\n",
       "      <td>67</td>\n",
       "      <td>female</td>\n",
       "      <td>wife</td>\n",
       "    </tr>\n",
       "  </tbody>\n",
       "</table>\n",
       "</div>"
      ],
      "text/plain": [
       "      name  age  gender     relation\n",
       "0      adi   12    male  grandfather\n",
       "2  shanaya   15  female     daughter\n",
       "1     duri   32    male          son\n",
       "4    sonal   32  female       sister\n",
       "3   mayuri   67  female         wife"
      ]
     },
     "execution_count": 192,
     "metadata": {},
     "output_type": "execute_result"
    }
   ],
   "source": [
    "# show the details all according to increaing age\n",
    "df.sort_values(by='age')"
   ]
  },
  {
   "cell_type": "code",
   "execution_count": 190,
   "id": "d11d5895-e7b7-48da-92b5-aeedd7993a3f",
   "metadata": {},
   "outputs": [
    {
     "data": {
      "text/html": [
       "<div>\n",
       "<style scoped>\n",
       "    .dataframe tbody tr th:only-of-type {\n",
       "        vertical-align: middle;\n",
       "    }\n",
       "\n",
       "    .dataframe tbody tr th {\n",
       "        vertical-align: top;\n",
       "    }\n",
       "\n",
       "    .dataframe thead th {\n",
       "        text-align: right;\n",
       "    }\n",
       "</style>\n",
       "<table border=\"1\" class=\"dataframe\">\n",
       "  <thead>\n",
       "    <tr style=\"text-align: right;\">\n",
       "      <th></th>\n",
       "      <th>name</th>\n",
       "      <th>age</th>\n",
       "      <th>gender</th>\n",
       "      <th>relation</th>\n",
       "    </tr>\n",
       "  </thead>\n",
       "  <tbody>\n",
       "    <tr>\n",
       "      <th>3</th>\n",
       "      <td>mayuri</td>\n",
       "      <td>67</td>\n",
       "      <td>female</td>\n",
       "      <td>wife</td>\n",
       "    </tr>\n",
       "    <tr>\n",
       "      <th>1</th>\n",
       "      <td>duri</td>\n",
       "      <td>32</td>\n",
       "      <td>male</td>\n",
       "      <td>son</td>\n",
       "    </tr>\n",
       "  </tbody>\n",
       "</table>\n",
       "</div>"
      ],
      "text/plain": [
       "     name  age  gender relation\n",
       "3  mayuri   67  female     wife\n",
       "1    duri   32    male      son"
      ]
     },
     "execution_count": 190,
     "metadata": {},
     "output_type": "execute_result"
    }
   ],
   "source": [
    "# show the details of 2 oldest members\n",
    "df.sort_values(by='age',ascending=False)[:2]"
   ]
  },
  {
   "cell_type": "code",
   "execution_count": 174,
   "id": "b5fd516b-49f4-41ca-b0a8-66855f469896",
   "metadata": {},
   "outputs": [
    {
     "data": {
      "text/plain": [
       "gender\n",
       "female    3\n",
       "male      2\n",
       "Name: count, dtype: int64"
      ]
     },
     "execution_count": 174,
     "metadata": {},
     "output_type": "execute_result"
    }
   ],
   "source": [
    "# show the count of male and female\n",
    "df['gender'].value_counts()"
   ]
  },
  {
   "cell_type": "code",
   "execution_count": 178,
   "id": "daeb54dd-7730-4f4f-a329-8fc0ff4bed22",
   "metadata": {},
   "outputs": [
    {
     "data": {
      "text/plain": [
       "array(['male', 'female'], dtype=object)"
      ]
     },
     "execution_count": 178,
     "metadata": {},
     "output_type": "execute_result"
    }
   ],
   "source": [
    "# show the unique values of gender columns\n",
    "df['gender'].unique()"
   ]
  },
  {
   "cell_type": "code",
   "execution_count": 188,
   "id": "35ced67d-0253-4937-b3cb-40c7faec65be",
   "metadata": {},
   "outputs": [
    {
     "data": {
      "text/html": [
       "<div>\n",
       "<style scoped>\n",
       "    .dataframe tbody tr th:only-of-type {\n",
       "        vertical-align: middle;\n",
       "    }\n",
       "\n",
       "    .dataframe tbody tr th {\n",
       "        vertical-align: top;\n",
       "    }\n",
       "\n",
       "    .dataframe thead th {\n",
       "        text-align: right;\n",
       "    }\n",
       "</style>\n",
       "<table border=\"1\" class=\"dataframe\">\n",
       "  <thead>\n",
       "    <tr style=\"text-align: right;\">\n",
       "      <th></th>\n",
       "      <th>name</th>\n",
       "      <th>age</th>\n",
       "      <th>gender</th>\n",
       "      <th>relation</th>\n",
       "    </tr>\n",
       "  </thead>\n",
       "  <tbody>\n",
       "    <tr>\n",
       "      <th>0</th>\n",
       "      <td>adi</td>\n",
       "      <td>12</td>\n",
       "      <td>male</td>\n",
       "      <td>grandfather</td>\n",
       "    </tr>\n",
       "    <tr>\n",
       "      <th>2</th>\n",
       "      <td>shanaya</td>\n",
       "      <td>15</td>\n",
       "      <td>female</td>\n",
       "      <td>daughter</td>\n",
       "    </tr>\n",
       "    <tr>\n",
       "      <th>1</th>\n",
       "      <td>duri</td>\n",
       "      <td>32</td>\n",
       "      <td>male</td>\n",
       "      <td>son</td>\n",
       "    </tr>\n",
       "  </tbody>\n",
       "</table>\n",
       "</div>"
      ],
      "text/plain": [
       "      name  age  gender     relation\n",
       "0      adi   12    male  grandfather\n",
       "2  shanaya   15  female     daughter\n",
       "1     duri   32    male          son"
      ]
     },
     "execution_count": 188,
     "metadata": {},
     "output_type": "execute_result"
    }
   ],
   "source": [
    "# show the details of 3 youngest members\n",
    "df.sort_values(by='age')[:3]"
   ]
  },
  {
   "cell_type": "code",
   "execution_count": 198,
   "id": "922618f2-49c5-4624-88e0-1f0ed8007084",
   "metadata": {},
   "outputs": [
    {
     "data": {
      "text/html": [
       "<div>\n",
       "<style scoped>\n",
       "    .dataframe tbody tr th:only-of-type {\n",
       "        vertical-align: middle;\n",
       "    }\n",
       "\n",
       "    .dataframe tbody tr th {\n",
       "        vertical-align: top;\n",
       "    }\n",
       "\n",
       "    .dataframe thead th {\n",
       "        text-align: right;\n",
       "    }\n",
       "</style>\n",
       "<table border=\"1\" class=\"dataframe\">\n",
       "  <thead>\n",
       "    <tr style=\"text-align: right;\">\n",
       "      <th></th>\n",
       "      <th>name</th>\n",
       "      <th>age</th>\n",
       "      <th>gender</th>\n",
       "      <th>relation</th>\n",
       "      <th>pincode</th>\n",
       "    </tr>\n",
       "  </thead>\n",
       "  <tbody>\n",
       "    <tr>\n",
       "      <th>0</th>\n",
       "      <td>adi</td>\n",
       "      <td>12</td>\n",
       "      <td>male</td>\n",
       "      <td>grandfather</td>\n",
       "      <td>10011</td>\n",
       "    </tr>\n",
       "    <tr>\n",
       "      <th>1</th>\n",
       "      <td>duri</td>\n",
       "      <td>32</td>\n",
       "      <td>male</td>\n",
       "      <td>son</td>\n",
       "      <td>10012</td>\n",
       "    </tr>\n",
       "    <tr>\n",
       "      <th>2</th>\n",
       "      <td>shanaya</td>\n",
       "      <td>15</td>\n",
       "      <td>female</td>\n",
       "      <td>daughter</td>\n",
       "      <td>10013</td>\n",
       "    </tr>\n",
       "    <tr>\n",
       "      <th>3</th>\n",
       "      <td>mayuri</td>\n",
       "      <td>67</td>\n",
       "      <td>female</td>\n",
       "      <td>wife</td>\n",
       "      <td>10014</td>\n",
       "    </tr>\n",
       "    <tr>\n",
       "      <th>4</th>\n",
       "      <td>sonal</td>\n",
       "      <td>32</td>\n",
       "      <td>female</td>\n",
       "      <td>sister</td>\n",
       "      <td>10015</td>\n",
       "    </tr>\n",
       "  </tbody>\n",
       "</table>\n",
       "</div>"
      ],
      "text/plain": [
       "      name  age  gender     relation  pincode\n",
       "0      adi   12    male  grandfather    10011\n",
       "1     duri   32    male          son    10012\n",
       "2  shanaya   15  female     daughter    10013\n",
       "3   mayuri   67  female         wife    10014\n",
       "4    sonal   32  female       sister    10015"
      ]
     },
     "execution_count": 198,
     "metadata": {},
     "output_type": "execute_result"
    }
   ],
   "source": [
    "# add column\n",
    "df['pincode']=[10011,10012,10013,10014,10015]\n",
    "df"
   ]
  },
  {
   "cell_type": "code",
   "execution_count": 208,
   "id": "af020e42-fba1-43d6-be7c-c288f1e4f6b7",
   "metadata": {},
   "outputs": [
    {
     "data": {
      "text/html": [
       "<div>\n",
       "<style scoped>\n",
       "    .dataframe tbody tr th:only-of-type {\n",
       "        vertical-align: middle;\n",
       "    }\n",
       "\n",
       "    .dataframe tbody tr th {\n",
       "        vertical-align: top;\n",
       "    }\n",
       "\n",
       "    .dataframe thead th {\n",
       "        text-align: right;\n",
       "    }\n",
       "</style>\n",
       "<table border=\"1\" class=\"dataframe\">\n",
       "  <thead>\n",
       "    <tr style=\"text-align: right;\">\n",
       "      <th></th>\n",
       "      <th>name</th>\n",
       "      <th>age</th>\n",
       "      <th>gender</th>\n",
       "      <th>relation</th>\n",
       "      <th>pincode</th>\n",
       "      <th>post</th>\n",
       "    </tr>\n",
       "  </thead>\n",
       "  <tbody>\n",
       "    <tr>\n",
       "      <th>0</th>\n",
       "      <td>adi</td>\n",
       "      <td>12</td>\n",
       "      <td>male</td>\n",
       "      <td>grandfather</td>\n",
       "      <td>10011</td>\n",
       "      <td>DA</td>\n",
       "    </tr>\n",
       "    <tr>\n",
       "      <th>1</th>\n",
       "      <td>duri</td>\n",
       "      <td>32</td>\n",
       "      <td>male</td>\n",
       "      <td>son</td>\n",
       "      <td>10012</td>\n",
       "      <td>DS</td>\n",
       "    </tr>\n",
       "    <tr>\n",
       "      <th>2</th>\n",
       "      <td>shanaya</td>\n",
       "      <td>15</td>\n",
       "      <td>female</td>\n",
       "      <td>daughter</td>\n",
       "      <td>10013</td>\n",
       "      <td>DA</td>\n",
       "    </tr>\n",
       "    <tr>\n",
       "      <th>3</th>\n",
       "      <td>mayuri</td>\n",
       "      <td>67</td>\n",
       "      <td>female</td>\n",
       "      <td>wife</td>\n",
       "      <td>10014</td>\n",
       "      <td>DS</td>\n",
       "    </tr>\n",
       "    <tr>\n",
       "      <th>4</th>\n",
       "      <td>sonal</td>\n",
       "      <td>32</td>\n",
       "      <td>female</td>\n",
       "      <td>sister</td>\n",
       "      <td>10015</td>\n",
       "      <td>DA</td>\n",
       "    </tr>\n",
       "    <tr>\n",
       "      <th>6</th>\n",
       "      <td>soniya</td>\n",
       "      <td>30</td>\n",
       "      <td>vashi</td>\n",
       "      <td>son</td>\n",
       "      <td>34000</td>\n",
       "      <td>DA</td>\n",
       "    </tr>\n",
       "  </tbody>\n",
       "</table>\n",
       "</div>"
      ],
      "text/plain": [
       "      name  age  gender     relation  pincode post\n",
       "0      adi   12    male  grandfather    10011   DA\n",
       "1     duri   32    male          son    10012   DS\n",
       "2  shanaya   15  female     daughter    10013   DA\n",
       "3   mayuri   67  female         wife    10014   DS\n",
       "4    sonal   32  female       sister    10015   DA\n",
       "6   soniya   30   vashi          son    34000   DA"
      ]
     },
     "execution_count": 208,
     "metadata": {},
     "output_type": "execute_result"
    }
   ],
   "source": [
    "# add details of new member soniya lives in vashi of age 30 which is sister of you having post DA\n",
    "df.loc[6]=['soniya',30,'vashi','son',34000,'DA'] # dataframename.loc\n",
    "df"
   ]
  },
  {
   "cell_type": "code",
   "execution_count": 202,
   "id": "634621db-41ef-4766-a91c-5b4ba0acde51",
   "metadata": {},
   "outputs": [
    {
     "data": {
      "text/html": [
       "<div>\n",
       "<style scoped>\n",
       "    .dataframe tbody tr th:only-of-type {\n",
       "        vertical-align: middle;\n",
       "    }\n",
       "\n",
       "    .dataframe tbody tr th {\n",
       "        vertical-align: top;\n",
       "    }\n",
       "\n",
       "    .dataframe thead th {\n",
       "        text-align: right;\n",
       "    }\n",
       "</style>\n",
       "<table border=\"1\" class=\"dataframe\">\n",
       "  <thead>\n",
       "    <tr style=\"text-align: right;\">\n",
       "      <th></th>\n",
       "      <th>name</th>\n",
       "      <th>age</th>\n",
       "      <th>gender</th>\n",
       "      <th>relation</th>\n",
       "      <th>pincode</th>\n",
       "      <th>post</th>\n",
       "    </tr>\n",
       "  </thead>\n",
       "  <tbody>\n",
       "    <tr>\n",
       "      <th>0</th>\n",
       "      <td>adi</td>\n",
       "      <td>12</td>\n",
       "      <td>male</td>\n",
       "      <td>grandfather</td>\n",
       "      <td>10011</td>\n",
       "      <td>DA</td>\n",
       "    </tr>\n",
       "    <tr>\n",
       "      <th>1</th>\n",
       "      <td>duri</td>\n",
       "      <td>32</td>\n",
       "      <td>male</td>\n",
       "      <td>son</td>\n",
       "      <td>10012</td>\n",
       "      <td>DS</td>\n",
       "    </tr>\n",
       "    <tr>\n",
       "      <th>2</th>\n",
       "      <td>shanaya</td>\n",
       "      <td>15</td>\n",
       "      <td>female</td>\n",
       "      <td>daughter</td>\n",
       "      <td>10013</td>\n",
       "      <td>DA</td>\n",
       "    </tr>\n",
       "    <tr>\n",
       "      <th>3</th>\n",
       "      <td>mayuri</td>\n",
       "      <td>67</td>\n",
       "      <td>female</td>\n",
       "      <td>wife</td>\n",
       "      <td>10014</td>\n",
       "      <td>DS</td>\n",
       "    </tr>\n",
       "    <tr>\n",
       "      <th>4</th>\n",
       "      <td>sonal</td>\n",
       "      <td>32</td>\n",
       "      <td>female</td>\n",
       "      <td>sister</td>\n",
       "      <td>10015</td>\n",
       "      <td>DA</td>\n",
       "    </tr>\n",
       "  </tbody>\n",
       "</table>\n",
       "</div>"
      ],
      "text/plain": [
       "      name  age  gender     relation  pincode post\n",
       "0      adi   12    male  grandfather    10011   DA\n",
       "1     duri   32    male          son    10012   DS\n",
       "2  shanaya   15  female     daughter    10013   DA\n",
       "3   mayuri   67  female         wife    10014   DS\n",
       "4    sonal   32  female       sister    10015   DA"
      ]
     },
     "execution_count": 202,
     "metadata": {},
     "output_type": "execute_result"
    }
   ],
   "source": [
    "# add column post and having values da and ds\n",
    "df['post']=['DA','DS','DA','DS','DA']\n",
    "df"
   ]
  },
  {
   "cell_type": "code",
   "execution_count": 210,
   "id": "af618ccf-afce-4741-bb91-943050d5bc44",
   "metadata": {},
   "outputs": [],
   "source": [
    "# update row 3 and add below details\n",
    "df.loc[3]=['adarsh',30,'vashi','son',34000,'Ds']"
   ]
  },
  {
   "cell_type": "code",
   "execution_count": 212,
   "id": "4de3118f-3d7b-43df-8d47-55297f19c768",
   "metadata": {},
   "outputs": [
    {
     "data": {
      "text/html": [
       "<div>\n",
       "<style scoped>\n",
       "    .dataframe tbody tr th:only-of-type {\n",
       "        vertical-align: middle;\n",
       "    }\n",
       "\n",
       "    .dataframe tbody tr th {\n",
       "        vertical-align: top;\n",
       "    }\n",
       "\n",
       "    .dataframe thead th {\n",
       "        text-align: right;\n",
       "    }\n",
       "</style>\n",
       "<table border=\"1\" class=\"dataframe\">\n",
       "  <thead>\n",
       "    <tr style=\"text-align: right;\">\n",
       "      <th></th>\n",
       "      <th>name</th>\n",
       "      <th>age</th>\n",
       "      <th>gender</th>\n",
       "      <th>relation</th>\n",
       "      <th>pincode</th>\n",
       "      <th>post</th>\n",
       "    </tr>\n",
       "  </thead>\n",
       "  <tbody>\n",
       "    <tr>\n",
       "      <th>0</th>\n",
       "      <td>adi</td>\n",
       "      <td>12</td>\n",
       "      <td>male</td>\n",
       "      <td>grandfather</td>\n",
       "      <td>10011</td>\n",
       "      <td>DA</td>\n",
       "    </tr>\n",
       "    <tr>\n",
       "      <th>1</th>\n",
       "      <td>duri</td>\n",
       "      <td>32</td>\n",
       "      <td>male</td>\n",
       "      <td>son</td>\n",
       "      <td>10012</td>\n",
       "      <td>DS</td>\n",
       "    </tr>\n",
       "    <tr>\n",
       "      <th>2</th>\n",
       "      <td>shanaya</td>\n",
       "      <td>15</td>\n",
       "      <td>female</td>\n",
       "      <td>daughter</td>\n",
       "      <td>10013</td>\n",
       "      <td>DA</td>\n",
       "    </tr>\n",
       "    <tr>\n",
       "      <th>3</th>\n",
       "      <td>adarsh</td>\n",
       "      <td>30</td>\n",
       "      <td>vashi</td>\n",
       "      <td>son</td>\n",
       "      <td>34000</td>\n",
       "      <td>Ds</td>\n",
       "    </tr>\n",
       "    <tr>\n",
       "      <th>4</th>\n",
       "      <td>sonal</td>\n",
       "      <td>32</td>\n",
       "      <td>female</td>\n",
       "      <td>sister</td>\n",
       "      <td>10015</td>\n",
       "      <td>DA</td>\n",
       "    </tr>\n",
       "    <tr>\n",
       "      <th>6</th>\n",
       "      <td>soniya</td>\n",
       "      <td>30</td>\n",
       "      <td>vashi</td>\n",
       "      <td>son</td>\n",
       "      <td>34000</td>\n",
       "      <td>DA</td>\n",
       "    </tr>\n",
       "  </tbody>\n",
       "</table>\n",
       "</div>"
      ],
      "text/plain": [
       "      name  age  gender     relation  pincode post\n",
       "0      adi   12    male  grandfather    10011   DA\n",
       "1     duri   32    male          son    10012   DS\n",
       "2  shanaya   15  female     daughter    10013   DA\n",
       "3   adarsh   30   vashi          son    34000   Ds\n",
       "4    sonal   32  female       sister    10015   DA\n",
       "6   soniya   30   vashi          son    34000   DA"
      ]
     },
     "execution_count": 212,
     "metadata": {},
     "output_type": "execute_result"
    }
   ],
   "source": [
    "df"
   ]
  },
  {
   "cell_type": "code",
   "execution_count": 230,
   "id": "a80b6d7b-f78a-416c-bd8a-f2922f7a99df",
   "metadata": {},
   "outputs": [],
   "source": [
    "# to remove column\n",
    "df =df.drop(labels=['post'],axis=1)\n"
   ]
  },
  {
   "cell_type": "code",
   "execution_count": 232,
   "id": "f288fa38-f9f8-4600-9afc-c84c6e1ba1a1",
   "metadata": {},
   "outputs": [
    {
     "data": {
      "text/html": [
       "<div>\n",
       "<style scoped>\n",
       "    .dataframe tbody tr th:only-of-type {\n",
       "        vertical-align: middle;\n",
       "    }\n",
       "\n",
       "    .dataframe tbody tr th {\n",
       "        vertical-align: top;\n",
       "    }\n",
       "\n",
       "    .dataframe thead th {\n",
       "        text-align: right;\n",
       "    }\n",
       "</style>\n",
       "<table border=\"1\" class=\"dataframe\">\n",
       "  <thead>\n",
       "    <tr style=\"text-align: right;\">\n",
       "      <th></th>\n",
       "      <th>name</th>\n",
       "      <th>age</th>\n",
       "      <th>gender</th>\n",
       "      <th>relation</th>\n",
       "    </tr>\n",
       "  </thead>\n",
       "  <tbody>\n",
       "    <tr>\n",
       "      <th>0</th>\n",
       "      <td>adi</td>\n",
       "      <td>12</td>\n",
       "      <td>male</td>\n",
       "      <td>grandfather</td>\n",
       "    </tr>\n",
       "    <tr>\n",
       "      <th>1</th>\n",
       "      <td>duri</td>\n",
       "      <td>32</td>\n",
       "      <td>male</td>\n",
       "      <td>son</td>\n",
       "    </tr>\n",
       "    <tr>\n",
       "      <th>2</th>\n",
       "      <td>shanaya</td>\n",
       "      <td>15</td>\n",
       "      <td>female</td>\n",
       "      <td>daughter</td>\n",
       "    </tr>\n",
       "    <tr>\n",
       "      <th>3</th>\n",
       "      <td>adarsh</td>\n",
       "      <td>30</td>\n",
       "      <td>vashi</td>\n",
       "      <td>son</td>\n",
       "    </tr>\n",
       "    <tr>\n",
       "      <th>4</th>\n",
       "      <td>sonal</td>\n",
       "      <td>32</td>\n",
       "      <td>female</td>\n",
       "      <td>sister</td>\n",
       "    </tr>\n",
       "    <tr>\n",
       "      <th>6</th>\n",
       "      <td>soniya</td>\n",
       "      <td>30</td>\n",
       "      <td>vashi</td>\n",
       "      <td>son</td>\n",
       "    </tr>\n",
       "  </tbody>\n",
       "</table>\n",
       "</div>"
      ],
      "text/plain": [
       "      name  age  gender     relation\n",
       "0      adi   12    male  grandfather\n",
       "1     duri   32    male          son\n",
       "2  shanaya   15  female     daughter\n",
       "3   adarsh   30   vashi          son\n",
       "4    sonal   32  female       sister\n",
       "6   soniya   30   vashi          son"
      ]
     },
     "execution_count": 232,
     "metadata": {},
     "output_type": "execute_result"
    }
   ],
   "source": [
    "df"
   ]
  },
  {
   "cell_type": "code",
   "execution_count": 234,
   "id": "35f5243a-3cd5-4942-afb6-25d4b56f4561",
   "metadata": {},
   "outputs": [
    {
     "data": {
      "text/html": [
       "<div>\n",
       "<style scoped>\n",
       "    .dataframe tbody tr th:only-of-type {\n",
       "        vertical-align: middle;\n",
       "    }\n",
       "\n",
       "    .dataframe tbody tr th {\n",
       "        vertical-align: top;\n",
       "    }\n",
       "\n",
       "    .dataframe thead th {\n",
       "        text-align: right;\n",
       "    }\n",
       "</style>\n",
       "<table border=\"1\" class=\"dataframe\">\n",
       "  <thead>\n",
       "    <tr style=\"text-align: right;\">\n",
       "      <th></th>\n",
       "      <th>name</th>\n",
       "      <th>age</th>\n",
       "      <th>gender</th>\n",
       "      <th>relation</th>\n",
       "    </tr>\n",
       "  </thead>\n",
       "  <tbody>\n",
       "    <tr>\n",
       "      <th>0</th>\n",
       "      <td>adi</td>\n",
       "      <td>12</td>\n",
       "      <td>male</td>\n",
       "      <td>grandfather</td>\n",
       "    </tr>\n",
       "    <tr>\n",
       "      <th>1</th>\n",
       "      <td>duri</td>\n",
       "      <td>32</td>\n",
       "      <td>male</td>\n",
       "      <td>son</td>\n",
       "    </tr>\n",
       "    <tr>\n",
       "      <th>2</th>\n",
       "      <td>shanaya</td>\n",
       "      <td>15</td>\n",
       "      <td>female</td>\n",
       "      <td>daughter</td>\n",
       "    </tr>\n",
       "    <tr>\n",
       "      <th>4</th>\n",
       "      <td>sonal</td>\n",
       "      <td>32</td>\n",
       "      <td>female</td>\n",
       "      <td>sister</td>\n",
       "    </tr>\n",
       "    <tr>\n",
       "      <th>6</th>\n",
       "      <td>soniya</td>\n",
       "      <td>30</td>\n",
       "      <td>vashi</td>\n",
       "      <td>son</td>\n",
       "    </tr>\n",
       "  </tbody>\n",
       "</table>\n",
       "</div>"
      ],
      "text/plain": [
       "      name  age  gender     relation\n",
       "0      adi   12    male  grandfather\n",
       "1     duri   32    male          son\n",
       "2  shanaya   15  female     daughter\n",
       "4    sonal   32  female       sister\n",
       "6   soniya   30   vashi          son"
      ]
     },
     "execution_count": 234,
     "metadata": {},
     "output_type": "execute_result"
    }
   ],
   "source": [
    "# to remove row\n",
    "df = df.drop(index=[3],axis=0)\n",
    "df"
   ]
  },
  {
   "cell_type": "code",
   "execution_count": 236,
   "id": "7639395a-147b-4705-963c-dba48edc01f8",
   "metadata": {},
   "outputs": [
    {
     "data": {
      "text/html": [
       "<div>\n",
       "<style scoped>\n",
       "    .dataframe tbody tr th:only-of-type {\n",
       "        vertical-align: middle;\n",
       "    }\n",
       "\n",
       "    .dataframe tbody tr th {\n",
       "        vertical-align: top;\n",
       "    }\n",
       "\n",
       "    .dataframe thead th {\n",
       "        text-align: right;\n",
       "    }\n",
       "</style>\n",
       "<table border=\"1\" class=\"dataframe\">\n",
       "  <thead>\n",
       "    <tr style=\"text-align: right;\">\n",
       "      <th></th>\n",
       "      <th>name</th>\n",
       "      <th>age</th>\n",
       "      <th>gender</th>\n",
       "      <th>relation</th>\n",
       "    </tr>\n",
       "  </thead>\n",
       "  <tbody>\n",
       "    <tr>\n",
       "      <th>0</th>\n",
       "      <td>adi</td>\n",
       "      <td>12</td>\n",
       "      <td>male</td>\n",
       "      <td>grandfather</td>\n",
       "    </tr>\n",
       "    <tr>\n",
       "      <th>1</th>\n",
       "      <td>duri</td>\n",
       "      <td>32</td>\n",
       "      <td>male</td>\n",
       "      <td>son</td>\n",
       "    </tr>\n",
       "    <tr>\n",
       "      <th>4</th>\n",
       "      <td>sonal</td>\n",
       "      <td>32</td>\n",
       "      <td>female</td>\n",
       "      <td>sister</td>\n",
       "    </tr>\n",
       "    <tr>\n",
       "      <th>6</th>\n",
       "      <td>soniya</td>\n",
       "      <td>30</td>\n",
       "      <td>vashi</td>\n",
       "      <td>son</td>\n",
       "    </tr>\n",
       "  </tbody>\n",
       "</table>\n",
       "</div>"
      ],
      "text/plain": [
       "     name  age  gender     relation\n",
       "0     adi   12    male  grandfather\n",
       "1    duri   32    male          son\n",
       "4   sonal   32  female       sister\n",
       "6  soniya   30   vashi          son"
      ]
     },
     "execution_count": 236,
     "metadata": {},
     "output_type": "execute_result"
    }
   ],
   "source": [
    "# remove the details of 2nd member\n",
    "df = df.drop(index=[2],axis=0)\n",
    "df"
   ]
  },
  {
   "cell_type": "code",
   "execution_count": 238,
   "id": "fcc2ac46-fec6-431d-880e-a6c8617d3a7c",
   "metadata": {},
   "outputs": [],
   "source": [
    "# remove multiple rows \n",
    "df = df.drop(index = [1,4],axis=0)"
   ]
  },
  {
   "cell_type": "code",
   "execution_count": 240,
   "id": "024eb59c-d60a-4747-beed-4d5de8a132fc",
   "metadata": {},
   "outputs": [
    {
     "data": {
      "text/html": [
       "<div>\n",
       "<style scoped>\n",
       "    .dataframe tbody tr th:only-of-type {\n",
       "        vertical-align: middle;\n",
       "    }\n",
       "\n",
       "    .dataframe tbody tr th {\n",
       "        vertical-align: top;\n",
       "    }\n",
       "\n",
       "    .dataframe thead th {\n",
       "        text-align: right;\n",
       "    }\n",
       "</style>\n",
       "<table border=\"1\" class=\"dataframe\">\n",
       "  <thead>\n",
       "    <tr style=\"text-align: right;\">\n",
       "      <th></th>\n",
       "      <th>name</th>\n",
       "      <th>age</th>\n",
       "      <th>gender</th>\n",
       "      <th>relation</th>\n",
       "    </tr>\n",
       "  </thead>\n",
       "  <tbody>\n",
       "    <tr>\n",
       "      <th>0</th>\n",
       "      <td>adi</td>\n",
       "      <td>12</td>\n",
       "      <td>male</td>\n",
       "      <td>grandfather</td>\n",
       "    </tr>\n",
       "    <tr>\n",
       "      <th>6</th>\n",
       "      <td>soniya</td>\n",
       "      <td>30</td>\n",
       "      <td>vashi</td>\n",
       "      <td>son</td>\n",
       "    </tr>\n",
       "  </tbody>\n",
       "</table>\n",
       "</div>"
      ],
      "text/plain": [
       "     name  age gender     relation\n",
       "0     adi   12   male  grandfather\n",
       "6  soniya   30  vashi          son"
      ]
     },
     "execution_count": 240,
     "metadata": {},
     "output_type": "execute_result"
    }
   ],
   "source": [
    "df"
   ]
  },
  {
   "cell_type": "code",
   "execution_count": 244,
   "id": "75755003-05c5-4ea3-865e-0f3b6f780669",
   "metadata": {},
   "outputs": [
    {
     "data": {
      "text/html": [
       "<div>\n",
       "<style scoped>\n",
       "    .dataframe tbody tr th:only-of-type {\n",
       "        vertical-align: middle;\n",
       "    }\n",
       "\n",
       "    .dataframe tbody tr th {\n",
       "        vertical-align: top;\n",
       "    }\n",
       "\n",
       "    .dataframe thead th {\n",
       "        text-align: right;\n",
       "    }\n",
       "</style>\n",
       "<table border=\"1\" class=\"dataframe\">\n",
       "  <thead>\n",
       "    <tr style=\"text-align: right;\">\n",
       "      <th></th>\n",
       "      <th>name</th>\n",
       "      <th>relation</th>\n",
       "    </tr>\n",
       "  </thead>\n",
       "  <tbody>\n",
       "    <tr>\n",
       "      <th>0</th>\n",
       "      <td>adi</td>\n",
       "      <td>grandfather</td>\n",
       "    </tr>\n",
       "    <tr>\n",
       "      <th>6</th>\n",
       "      <td>soniya</td>\n",
       "      <td>son</td>\n",
       "    </tr>\n",
       "  </tbody>\n",
       "</table>\n",
       "</div>"
      ],
      "text/plain": [
       "     name     relation\n",
       "0     adi  grandfather\n",
       "6  soniya          son"
      ]
     },
     "execution_count": 244,
     "metadata": {},
     "output_type": "execute_result"
    }
   ],
   "source": [
    "# remove multiple columns\n",
    "df = df.drop(labels=['gender','age'],axis=1)\n",
    "df"
   ]
  },
  {
   "cell_type": "code",
   "execution_count": null,
   "id": "1e171c02-c70d-482a-aaa6-c05f9f05c917",
   "metadata": {},
   "outputs": [],
   "source": []
  }
 ],
 "metadata": {
  "kernelspec": {
   "display_name": "Python 3 (ipykernel)",
   "language": "python",
   "name": "python3"
  },
  "language_info": {
   "codemirror_mode": {
    "name": "ipython",
    "version": 3
   },
   "file_extension": ".py",
   "mimetype": "text/x-python",
   "name": "python",
   "nbconvert_exporter": "python",
   "pygments_lexer": "ipython3",
   "version": "3.12.4"
  }
 },
 "nbformat": 4,
 "nbformat_minor": 5
}
