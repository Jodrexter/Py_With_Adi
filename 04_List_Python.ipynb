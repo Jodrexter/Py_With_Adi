{
 "cells": [
  {
   "cell_type": "code",
   "execution_count": 1,
   "id": "cd55159d-3bb3-4488-9312-a8518bc6c3a5",
   "metadata": {},
   "outputs": [],
   "source": [
    "## what is the 40% of 289\n",
    "# k=[10,20,30,40,50,60,70,80,90,100]\n",
    "# extract [30,40,50]\n",
    "# [50,70,90]\n",
    "# [90,40]\n",
    "# all multiples of 3 in reverse order\n",
    "# how many elements are there in list k\n",
    "# what is the index number of 60\n",
    "# s='maharana pratap singh'\n",
    "# 'aaaa'\n",
    "# 'aap'\n",
    "# 'nara'\n",
    "# 'patar'\n",
    "# 'paaaa'\n",
    "# what is the index number of 's'"
   ]
  },
  {
   "cell_type": "code",
   "execution_count": 3,
   "id": "ef18f5c9-c971-46a5-9f04-a4c2b634db27",
   "metadata": {},
   "outputs": [
    {
     "name": "stdout",
     "output_type": "stream",
     "text": [
      "115.60000000000001\n"
     ]
    }
   ],
   "source": [
    "## what is the 40% of 289\n",
    "print(289*0.4)"
   ]
  },
  {
   "cell_type": "code",
   "execution_count": 7,
   "id": "075c9a2a-abe6-4375-8c65-35de2cc1254f",
   "metadata": {},
   "outputs": [],
   "source": [
    "# k=[10,20,30,40,50,60,70,80,90,100]\n",
    "k=[10,20,30,40,50,60,70,80,90,100]"
   ]
  },
  {
   "cell_type": "code",
   "execution_count": 15,
   "id": "b490c8e3-9075-4a8c-a04f-ab53e2742cba",
   "metadata": {},
   "outputs": [
    {
     "data": {
      "text/plain": [
       "[30, 40, 50]"
      ]
     },
     "execution_count": 15,
     "metadata": {},
     "output_type": "execute_result"
    }
   ],
   "source": [
    "# extract [30,40,50]\n",
    "k[2:5:1]"
   ]
  },
  {
   "cell_type": "code",
   "execution_count": 19,
   "id": "e2c118f7-beb6-4200-9828-83de4832f8a3",
   "metadata": {},
   "outputs": [
    {
     "data": {
      "text/plain": [
       "[50, 70, 90]"
      ]
     },
     "execution_count": 19,
     "metadata": {},
     "output_type": "execute_result"
    }
   ],
   "source": [
    "# [50,70,90]\n",
    "k[4:9:2]"
   ]
  },
  {
   "cell_type": "code",
   "execution_count": 35,
   "id": "f945a012-4bf7-467c-8d48-742a3c0a171f",
   "metadata": {},
   "outputs": [
    {
     "data": {
      "text/plain": [
       "[90, 40]"
      ]
     },
     "execution_count": 35,
     "metadata": {},
     "output_type": "execute_result"
    }
   ],
   "source": [
    "# [90,40]\n",
    "k[-2:-8:-5]"
   ]
  },
  {
   "cell_type": "code",
   "execution_count": 61,
   "id": "537b761a-84c8-406b-8d76-b5bfe3020c69",
   "metadata": {},
   "outputs": [
    {
     "data": {
      "text/plain": [
       "[90, 60, 30]"
      ]
     },
     "execution_count": 61,
     "metadata": {},
     "output_type": "execute_result"
    }
   ],
   "source": [
    "# all multiples of 3 in reverse order\n",
    "k[-2:-9:-3]"
   ]
  },
  {
   "cell_type": "code",
   "execution_count": 65,
   "id": "4121fa09-fc9d-4695-bb8b-374657833513",
   "metadata": {},
   "outputs": [
    {
     "name": "stdout",
     "output_type": "stream",
     "text": [
      "10\n"
     ]
    }
   ],
   "source": [
    "# how many elements are there in list \n",
    "print(len(k))"
   ]
  },
  {
   "cell_type": "code",
   "execution_count": 67,
   "id": "37bfd9ad-8b21-468b-8781-afbca379b46a",
   "metadata": {},
   "outputs": [
    {
     "data": {
      "text/plain": [
       "5"
      ]
     },
     "execution_count": 67,
     "metadata": {},
     "output_type": "execute_result"
    }
   ],
   "source": [
    "# what is the index number of 60\n",
    "k.index(60)"
   ]
  },
  {
   "cell_type": "code",
   "execution_count": 69,
   "id": "ed43075f-228e-4ab7-ba40-264ac1dedbb4",
   "metadata": {},
   "outputs": [],
   "source": [
    "# s='maharana pratap singh'\n",
    "s='maharana pratap singh'"
   ]
  },
  {
   "cell_type": "code",
   "execution_count": 75,
   "id": "af73b55a-80f1-4755-af91-97bf9e4626a4",
   "metadata": {},
   "outputs": [
    {
     "data": {
      "text/plain": [
       "'aaaa'"
      ]
     },
     "execution_count": 75,
     "metadata": {},
     "output_type": "execute_result"
    }
   ],
   "source": [
    "# 'aaaa'\n",
    "s[1:8:2]"
   ]
  },
  {
   "cell_type": "code",
   "execution_count": 79,
   "id": "dfa11f3b-4c5f-4489-852b-08013b7bdb46",
   "metadata": {},
   "outputs": [
    {
     "data": {
      "text/plain": [
       "'aap'"
      ]
     },
     "execution_count": 79,
     "metadata": {},
     "output_type": "execute_result"
    }
   ],
   "source": [
    "# 'aap'\n",
    "s[5:11:2]"
   ]
  },
  {
   "cell_type": "code",
   "execution_count": 81,
   "id": "e4cffa25-faa2-4de2-9e25-efff15779b41",
   "metadata": {},
   "outputs": [
    {
     "data": {
      "text/plain": [
       "'r'"
      ]
     },
     "execution_count": 81,
     "metadata": {},
     "output_type": "execute_result"
    }
   ],
   "source": [
    "# 'nara'\n",
    "s[-17]"
   ]
  },
  {
   "cell_type": "code",
   "execution_count": 85,
   "id": "d39da2f1-ba45-459c-b8d1-4acb70f7108f",
   "metadata": {},
   "outputs": [
    {
     "data": {
      "text/plain": [
       "16"
      ]
     },
     "execution_count": 85,
     "metadata": {},
     "output_type": "execute_result"
    }
   ],
   "source": [
    "s.index('s')"
   ]
  },
  {
   "cell_type": "code",
   "execution_count": 87,
   "id": "dcaadfa8-f51a-4354-889f-cb0ab493c8e9",
   "metadata": {},
   "outputs": [],
   "source": [
    "# 'patar'\n"
   ]
  },
  {
   "cell_type": "code",
   "execution_count": 93,
   "id": "0b4425b0-a295-418b-9b3c-686c76f26b71",
   "metadata": {},
   "outputs": [],
   "source": [
    "# 'paaaa'\n"
   ]
  },
  {
   "cell_type": "code",
   "execution_count": 107,
   "id": "b11ab940-1aab-45ba-8a42-131bac6aee3c",
   "metadata": {},
   "outputs": [],
   "source": [
    "# adding elements\n",
    "k=[12,23,34,45,56]"
   ]
  },
  {
   "cell_type": "code",
   "execution_count": 115,
   "id": "fea66d6c-4e42-4e98-89af-904315648e7f",
   "metadata": {},
   "outputs": [],
   "source": [
    "# append\n",
    "k.append(36)"
   ]
  },
  {
   "cell_type": "code",
   "execution_count": 125,
   "id": "2ffd455e-889e-4cb0-8644-03c51b1004a6",
   "metadata": {},
   "outputs": [
    {
     "name": "stdout",
     "output_type": "stream",
     "text": [
      "[12, 23, 34, 45, 56, 36, 36, 36, 70, 80]\n"
     ]
    }
   ],
   "source": [
    "print(k)"
   ]
  },
  {
   "cell_type": "code",
   "execution_count": 119,
   "id": "95594d90-af35-4c22-bf00-e86589d797d7",
   "metadata": {},
   "outputs": [],
   "source": [
    "k.append(70)"
   ]
  },
  {
   "cell_type": "code",
   "execution_count": 123,
   "id": "57bbdb4c-cdac-42a0-9559-588a75a27c33",
   "metadata": {},
   "outputs": [],
   "source": [
    "k.append(80)"
   ]
  },
  {
   "cell_type": "code",
   "execution_count": 127,
   "id": "121026d4-882c-4384-9f21-a27c99512594",
   "metadata": {},
   "outputs": [],
   "source": [
    "k=[10,20,30,40,50]"
   ]
  },
  {
   "cell_type": "code",
   "execution_count": 129,
   "id": "8862482f-625b-49cb-8a93-082c9d8416cb",
   "metadata": {},
   "outputs": [],
   "source": [
    "#add 35 at index 3\n",
    "k.insert(3,35)"
   ]
  },
  {
   "cell_type": "code",
   "execution_count": 131,
   "id": "b279c296-8ffd-4004-8c78-aaf4814a8646",
   "metadata": {},
   "outputs": [
    {
     "data": {
      "text/plain": [
       "[10, 20, 30, 35, 40, 50]"
      ]
     },
     "execution_count": 131,
     "metadata": {},
     "output_type": "execute_result"
    }
   ],
   "source": [
    "k"
   ]
  },
  {
   "cell_type": "code",
   "execution_count": 133,
   "id": "1c8f1643-861f-424d-9585-080b89c2291c",
   "metadata": {},
   "outputs": [],
   "source": [
    "# add 45 at 6 th postion\n",
    "k.insert(6,45)"
   ]
  },
  {
   "cell_type": "code",
   "execution_count": 135,
   "id": "f4bce98a-58ac-4a96-a519-587da9496e92",
   "metadata": {},
   "outputs": [
    {
     "data": {
      "text/plain": [
       "[10, 20, 30, 35, 40, 50, 45]"
      ]
     },
     "execution_count": 135,
     "metadata": {},
     "output_type": "execute_result"
    }
   ],
   "source": [
    "k"
   ]
  },
  {
   "cell_type": "code",
   "execution_count": 137,
   "id": "05551d99-2d5f-4eab-a9e0-9b18e2abcd94",
   "metadata": {},
   "outputs": [],
   "source": [
    "# add 15 at 1 st index\n",
    "k.insert(1,15)"
   ]
  },
  {
   "cell_type": "code",
   "execution_count": 139,
   "id": "a02c8848-6508-4057-9cf1-1ca633856e87",
   "metadata": {},
   "outputs": [
    {
     "data": {
      "text/plain": [
       "[10, 15, 20, 30, 35, 40, 50, 45]"
      ]
     },
     "execution_count": 139,
     "metadata": {},
     "output_type": "execute_result"
    }
   ],
   "source": [
    "k"
   ]
  },
  {
   "cell_type": "code",
   "execution_count": 141,
   "id": "e26a7327-5ab6-4af8-8c43-99d1f67eb405",
   "metadata": {},
   "outputs": [],
   "source": [
    "# add 25 at desired index to complete the sequencee\n",
    "k.insert(2,25)"
   ]
  },
  {
   "cell_type": "code",
   "execution_count": 143,
   "id": "a623af6a-4430-4adb-84a1-8a0297974466",
   "metadata": {},
   "outputs": [
    {
     "data": {
      "text/plain": [
       "[10, 15, 25, 20, 30, 35, 40, 50, 45]"
      ]
     },
     "execution_count": 143,
     "metadata": {},
     "output_type": "execute_result"
    }
   ],
   "source": [
    "k"
   ]
  },
  {
   "cell_type": "code",
   "execution_count": 145,
   "id": "ab06d420-5068-4d9f-b2c7-8ed0862df70c",
   "metadata": {},
   "outputs": [],
   "source": [
    "# extend >> to add multiiple elements or to merge two lists\n"
   ]
  },
  {
   "cell_type": "code",
   "execution_count": 147,
   "id": "28690082-3dcc-45ea-bb2d-1bb068816a5f",
   "metadata": {},
   "outputs": [],
   "source": [
    "k=[1,2,3,4,5]"
   ]
  },
  {
   "cell_type": "code",
   "execution_count": 153,
   "id": "d10b1a8f-829f-4bc4-9a4c-349d797cd0a5",
   "metadata": {},
   "outputs": [],
   "source": [
    "k.extend([6,7])"
   ]
  },
  {
   "cell_type": "code",
   "execution_count": 155,
   "id": "6db294c4-6bca-4fd8-8912-046f2610917e",
   "metadata": {},
   "outputs": [
    {
     "data": {
      "text/plain": [
       "[1, 2, 3, 4, 5, 6.7, 6, 7]"
      ]
     },
     "execution_count": 155,
     "metadata": {},
     "output_type": "execute_result"
    }
   ],
   "source": [
    "k"
   ]
  },
  {
   "cell_type": "code",
   "execution_count": 157,
   "id": "7e70a00a-d512-4d7d-abad-c8c50d3e97d1",
   "metadata": {},
   "outputs": [],
   "source": [
    "d=[12,34]"
   ]
  },
  {
   "cell_type": "code",
   "execution_count": 159,
   "id": "70213981-c6a1-47b7-8d24-71e339bcfa91",
   "metadata": {},
   "outputs": [],
   "source": [
    "k.extend(d) #merge list or add multiple element"
   ]
  },
  {
   "cell_type": "code",
   "execution_count": 161,
   "id": "5ee5d029-a707-494d-b8f5-458c10514075",
   "metadata": {},
   "outputs": [
    {
     "data": {
      "text/plain": [
       "[1, 2, 3, 4, 5, 6.7, 6, 7, 12, 34]"
      ]
     },
     "execution_count": 161,
     "metadata": {},
     "output_type": "execute_result"
    }
   ],
   "source": [
    "k"
   ]
  },
  {
   "cell_type": "code",
   "execution_count": 163,
   "id": "658b4987-3aeb-4b4e-8890-e18dd7d0e12f",
   "metadata": {},
   "outputs": [],
   "source": [
    "# add 10,11,12 to list \n",
    "k.extend([11,12])"
   ]
  },
  {
   "cell_type": "code",
   "execution_count": 165,
   "id": "70834e6a-0dfc-4eb5-80c3-ac5a9ca33f05",
   "metadata": {},
   "outputs": [
    {
     "data": {
      "text/plain": [
       "[1, 2, 3, 4, 5, 6.7, 6, 7, 12, 34, 11, 12]"
      ]
     },
     "execution_count": 165,
     "metadata": {},
     "output_type": "execute_result"
    }
   ],
   "source": [
    "k"
   ]
  },
  {
   "cell_type": "code",
   "execution_count": 167,
   "id": "ccac53af-c025-4330-908c-42628c8938dc",
   "metadata": {},
   "outputs": [],
   "source": [
    "# + >> to merge two list\n"
   ]
  },
  {
   "cell_type": "code",
   "execution_count": 169,
   "id": "1f0a4348-28fe-4c5d-a5f9-d00d56f2bead",
   "metadata": {},
   "outputs": [
    {
     "name": "stdout",
     "output_type": "stream",
     "text": [
      "[1, 2, 5, 6]\n"
     ]
    }
   ],
   "source": [
    "s =[1,2]\n",
    "d =[5,6]\n",
    "print(s+d)"
   ]
  },
  {
   "cell_type": "code",
   "execution_count": 171,
   "id": "924b1233-b455-414b-8029-e73b3a8011aa",
   "metadata": {},
   "outputs": [],
   "source": [
    "m =[10,20,30,40,50]\n"
   ]
  },
  {
   "cell_type": "code",
   "execution_count": 173,
   "id": "bd1a42df-929f-4bd1-beec-0f1496140f5c",
   "metadata": {},
   "outputs": [],
   "source": [
    "# add 33 at 2nd index\n",
    "m.insert(2,33)"
   ]
  },
  {
   "cell_type": "code",
   "execution_count": 175,
   "id": "f3b7790e-b0ae-48b2-8b74-996ae0bb5255",
   "metadata": {},
   "outputs": [
    {
     "data": {
      "text/plain": [
       "[10, 20, 33, 30, 40, 50]"
      ]
     },
     "execution_count": 175,
     "metadata": {},
     "output_type": "execute_result"
    }
   ],
   "source": [
    "m"
   ]
  },
  {
   "cell_type": "code",
   "execution_count": 179,
   "id": "b6eea846-aa08-493d-b4ef-20b7e9e3d88c",
   "metadata": {},
   "outputs": [],
   "source": [
    "# add 55\n",
    "m.append(55)"
   ]
  },
  {
   "cell_type": "code",
   "execution_count": 183,
   "id": "37a069d8-ccec-40f5-b627-d685d77d01ca",
   "metadata": {},
   "outputs": [],
   "source": [
    "# add 60,70,80\n",
    "m.extend([60,70,80])"
   ]
  },
  {
   "cell_type": "code",
   "execution_count": 185,
   "id": "81178947-bedd-4e75-bce0-40023f8e838d",
   "metadata": {},
   "outputs": [],
   "source": [
    "# add 15 at 2nd postion\n",
    "m.insert(2,15)"
   ]
  },
  {
   "cell_type": "code",
   "execution_count": 187,
   "id": "16b1128a-62fb-4341-8cad-1b211da4ce14",
   "metadata": {},
   "outputs": [],
   "source": [
    "# join the list f=[90,100] with m\n",
    "f=[90,100]"
   ]
  },
  {
   "cell_type": "code",
   "execution_count": 191,
   "id": "fbda3403-4144-4d3b-9d1e-0aadfac96a77",
   "metadata": {},
   "outputs": [],
   "source": [
    "m.extend(f)"
   ]
  },
  {
   "cell_type": "code",
   "execution_count": 193,
   "id": "1e64871d-aa5c-4538-b544-5c49bfe0f3f1",
   "metadata": {},
   "outputs": [
    {
     "data": {
      "text/plain": [
       "[10, 20, 15, 33, 30, 40, 50, 55, 60, 70, 80, 90, 100]"
      ]
     },
     "execution_count": 193,
     "metadata": {},
     "output_type": "execute_result"
    }
   ],
   "source": [
    "m"
   ]
  },
  {
   "cell_type": "markdown",
   "id": "bfcbcb7e-b108-4fad-854f-bb5a416e8608",
   "metadata": {},
   "source": [
    "## remove"
   ]
  },
  {
   "cell_type": "code",
   "execution_count": 201,
   "id": "3808b753-bacf-440f-aa8a-a4a812cbf529",
   "metadata": {},
   "outputs": [],
   "source": [
    "j=[10,20,30,40,50]\n",
    "# remove 30 from list\n",
    "j.remove(30)"
   ]
  },
  {
   "cell_type": "code",
   "execution_count": 203,
   "id": "8596121a-fed0-4e7c-b0e3-a010670bc044",
   "metadata": {},
   "outputs": [
    {
     "data": {
      "text/plain": [
       "[10, 20, 40, 50]"
      ]
     },
     "execution_count": 203,
     "metadata": {},
     "output_type": "execute_result"
    }
   ],
   "source": [
    "j"
   ]
  },
  {
   "cell_type": "code",
   "execution_count": 205,
   "id": "294cc0ba-dc97-4802-9f63-3cf6d82f8cd9",
   "metadata": {},
   "outputs": [],
   "source": [
    "# remove 40 from list\n",
    "j.remove(40)"
   ]
  },
  {
   "cell_type": "code",
   "execution_count": 207,
   "id": "1969e070-0383-4027-a7b9-a9779f5cc232",
   "metadata": {},
   "outputs": [
    {
     "data": {
      "text/plain": [
       "[10, 20, 50]"
      ]
     },
     "execution_count": 207,
     "metadata": {},
     "output_type": "execute_result"
    }
   ],
   "source": [
    "j"
   ]
  },
  {
   "cell_type": "markdown",
   "id": "88d1a705-a45a-4507-b49e-dbba1b83c4e6",
   "metadata": {},
   "source": [
    "## POP >> removing element by index number"
   ]
  },
  {
   "cell_type": "code",
   "execution_count": 210,
   "id": "0414e4fa-ef95-4b1b-9ebb-279d331f0546",
   "metadata": {},
   "outputs": [],
   "source": [
    "s =[10,20,30,40,50]"
   ]
  },
  {
   "cell_type": "code",
   "execution_count": 216,
   "id": "b98851ad-2c55-45a4-bfe1-1b1e869dc8e7",
   "metadata": {},
   "outputs": [
    {
     "data": {
      "text/plain": [
       "40"
      ]
     },
     "execution_count": 216,
     "metadata": {},
     "output_type": "execute_result"
    }
   ],
   "source": [
    "# remove the 4th element\n",
    "s.pop(3)"
   ]
  },
  {
   "cell_type": "code",
   "execution_count": 218,
   "id": "49821422-e6c1-47a6-b613-29e4b4d7bfc6",
   "metadata": {},
   "outputs": [
    {
     "data": {
      "text/plain": [
       "[10, 20, 30, 50]"
      ]
     },
     "execution_count": 218,
     "metadata": {},
     "output_type": "execute_result"
    }
   ],
   "source": [
    "s"
   ]
  },
  {
   "cell_type": "code",
   "execution_count": 220,
   "id": "e690a5a7-2a41-4dab-9927-9a73841650d5",
   "metadata": {},
   "outputs": [
    {
     "data": {
      "text/plain": [
       "20"
      ]
     },
     "execution_count": 220,
     "metadata": {},
     "output_type": "execute_result"
    }
   ],
   "source": [
    "s.pop(1)"
   ]
  },
  {
   "cell_type": "code",
   "execution_count": 224,
   "id": "0dcc2fcc-a4b1-4e9a-ac0a-76c385a47071",
   "metadata": {},
   "outputs": [
    {
     "data": {
      "text/plain": [
       "[10, 30, 50]"
      ]
     },
     "execution_count": 224,
     "metadata": {},
     "output_type": "execute_result"
    }
   ],
   "source": [
    "s"
   ]
  },
  {
   "cell_type": "markdown",
   "id": "3f12adf7-6bf9-42e8-8741-42eaf2ffc850",
   "metadata": {},
   "source": [
    "## aggreation function"
   ]
  },
  {
   "cell_type": "markdown",
   "id": "ee2318f0-3ebb-444f-ab29-66639fba7611",
   "metadata": {},
   "source": [
    "#### min,max,sum,sort"
   ]
  },
  {
   "cell_type": "code",
   "execution_count": 228,
   "id": "587b74a4-5770-4fed-b299-9a31c456edf5",
   "metadata": {},
   "outputs": [],
   "source": [
    "g =[10,23,34,43,32,25,56]\n"
   ]
  },
  {
   "cell_type": "code",
   "execution_count": 232,
   "id": "09e2b39b-5580-47a7-9bd0-8db4dfda5062",
   "metadata": {},
   "outputs": [
    {
     "data": {
      "text/plain": [
       "56"
      ]
     },
     "execution_count": 232,
     "metadata": {},
     "output_type": "execute_result"
    }
   ],
   "source": [
    "max(g) # will give highest value"
   ]
  },
  {
   "cell_type": "code",
   "execution_count": 230,
   "id": "05cceaca-8b88-4567-927c-0ebc5e419afd",
   "metadata": {},
   "outputs": [
    {
     "data": {
      "text/plain": [
       "10"
      ]
     },
     "execution_count": 230,
     "metadata": {},
     "output_type": "execute_result"
    }
   ],
   "source": []
  },
  {
   "cell_type": "code",
   "execution_count": 234,
   "id": "101d950a-d6c8-442d-9515-16ef03b17cd0",
   "metadata": {},
   "outputs": [
    {
     "data": {
      "text/plain": [
       "223"
      ]
     },
     "execution_count": 234,
     "metadata": {},
     "output_type": "execute_result"
    }
   ],
   "source": [
    "sum(g) #will give total additon of all elements"
   ]
  },
  {
   "cell_type": "markdown",
   "id": "1be302ac-8bd0-4f0e-8873-33b3780d56c1",
   "metadata": {},
   "source": [
    "### sort >> to arrange elements in order "
   ]
  },
  {
   "cell_type": "code",
   "execution_count": null,
   "id": "5e5a5749-9588-45ff-a6fd-ea2638e4e91e",
   "metadata": {},
   "outputs": [],
   "source": [
    "l=[12,23,34,43,32,21]"
   ]
  },
  {
   "cell_type": "code",
   "execution_count": 242,
   "id": "88004248-b8aa-44cd-bfe8-b9cbf3123286",
   "metadata": {},
   "outputs": [
    {
     "data": {
      "text/plain": [
       "[12, 21, 23, 32, 34, 43]"
      ]
     },
     "execution_count": 242,
     "metadata": {},
     "output_type": "execute_result"
    }
   ],
   "source": [
    "l.sort() # by default asc\n",
    "l"
   ]
  },
  {
   "cell_type": "code",
   "execution_count": 244,
   "id": "4a67387b-04a1-42cb-922b-2483e6020fd5",
   "metadata": {},
   "outputs": [
    {
     "data": {
      "text/plain": [
       "[43, 34, 32, 23, 21, 12]"
      ]
     },
     "execution_count": 244,
     "metadata": {},
     "output_type": "execute_result"
    }
   ],
   "source": [
    "l.sort(reverse=True) # descending\n",
    "l"
   ]
  },
  {
   "cell_type": "markdown",
   "id": "cad939f4-8be2-4e26-b59d-0cea3387d587",
   "metadata": {},
   "source": [
    "### reverse >> reverse the list"
   ]
  },
  {
   "cell_type": "code",
   "execution_count": 248,
   "id": "1315ec50-3785-4737-b88b-3f2053bc5a00",
   "metadata": {},
   "outputs": [],
   "source": [
    "d=[12,23,34,45]\n",
    "d.reverse()"
   ]
  },
  {
   "cell_type": "code",
   "execution_count": 250,
   "id": "8f51ebdb-e159-4ed0-85f7-62122134b723",
   "metadata": {},
   "outputs": [
    {
     "data": {
      "text/plain": [
       "[45, 34, 23, 12]"
      ]
     },
     "execution_count": 250,
     "metadata": {},
     "output_type": "execute_result"
    }
   ],
   "source": [
    "d"
   ]
  },
  {
   "cell_type": "code",
   "execution_count": 252,
   "id": "0a2f607a-de4d-4953-a922-aa3c80e5acf4",
   "metadata": {},
   "outputs": [],
   "source": [
    "a =[12,23,34,45,56,65,54,43]"
   ]
  },
  {
   "cell_type": "code",
   "execution_count": 254,
   "id": "e12ba50b-753c-4f6d-9767-64ac9b02b131",
   "metadata": {},
   "outputs": [],
   "source": [
    "# add 25 at 3rd postion\n",
    "a.insert(3,25)"
   ]
  },
  {
   "cell_type": "code",
   "execution_count": 256,
   "id": "927000fe-ae89-44f6-a5bc-b4788620a677",
   "metadata": {},
   "outputs": [
    {
     "data": {
      "text/plain": [
       "[12, 23, 34, 25, 45, 56, 65, 54, 43]"
      ]
     },
     "execution_count": 256,
     "metadata": {},
     "output_type": "execute_result"
    }
   ],
   "source": [
    "a"
   ]
  },
  {
   "cell_type": "code",
   "execution_count": 258,
   "id": "ebb4725b-a0a6-490a-bc0e-5525ebb27af8",
   "metadata": {},
   "outputs": [
    {
     "data": {
      "text/plain": [
       "12"
      ]
     },
     "execution_count": 258,
     "metadata": {},
     "output_type": "execute_result"
    }
   ],
   "source": [
    "# show the lowest value form list\n",
    "min(a)"
   ]
  },
  {
   "cell_type": "code",
   "execution_count": 262,
   "id": "3fb93509-6382-4670-acb3-523b01c4b043",
   "metadata": {},
   "outputs": [
    {
     "data": {
      "text/plain": [
       "56"
      ]
     },
     "execution_count": 262,
     "metadata": {},
     "output_type": "execute_result"
    }
   ],
   "source": [
    "# remove the 5th element\n",
    "a.pop(5)"
   ]
  },
  {
   "cell_type": "code",
   "execution_count": 264,
   "id": "c3fdc4c8-a180-4a2d-9583-632a8e086d26",
   "metadata": {},
   "outputs": [],
   "source": [
    "a.extend([32,21])"
   ]
  },
  {
   "cell_type": "code",
   "execution_count": 266,
   "id": "5044d6e2-3f05-4ddc-a461-c24d1f108ceb",
   "metadata": {},
   "outputs": [
    {
     "data": {
      "text/plain": [
       "[12, 23, 34, 25, 45, 65, 54, 43, 32, 21]"
      ]
     },
     "execution_count": 266,
     "metadata": {},
     "output_type": "execute_result"
    }
   ],
   "source": [
    "a"
   ]
  },
  {
   "cell_type": "code",
   "execution_count": 268,
   "id": "f05857ea-0057-40e7-8975-5e96b712fe83",
   "metadata": {},
   "outputs": [
    {
     "data": {
      "text/plain": [
       "354"
      ]
     },
     "execution_count": 268,
     "metadata": {},
     "output_type": "execute_result"
    }
   ],
   "source": [
    "# show the total additon of all ellements\n",
    "sum(a)"
   ]
  },
  {
   "cell_type": "code",
   "execution_count": 270,
   "id": "af6163f2-e5c9-432a-8914-74220349e1d4",
   "metadata": {},
   "outputs": [
    {
     "data": {
      "text/plain": [
       "65"
      ]
     },
     "execution_count": 270,
     "metadata": {},
     "output_type": "execute_result"
    }
   ],
   "source": [
    "max(a)"
   ]
  },
  {
   "cell_type": "code",
   "execution_count": 272,
   "id": "61eb8a66-ed2a-4c0e-b26f-daaea515bc6e",
   "metadata": {},
   "outputs": [],
   "source": [
    "a.remove(34)"
   ]
  },
  {
   "cell_type": "code",
   "execution_count": 274,
   "id": "0dfc967a-8244-4a00-89d0-04e5dcd52ded",
   "metadata": {},
   "outputs": [
    {
     "data": {
      "text/plain": [
       "[12, 23, 25, 45, 65, 54, 43, 32, 21]"
      ]
     },
     "execution_count": 274,
     "metadata": {},
     "output_type": "execute_result"
    }
   ],
   "source": [
    "a"
   ]
  },
  {
   "cell_type": "code",
   "execution_count": 402,
   "id": "678c0987-2821-4d00-98d9-272472f253fe",
   "metadata": {},
   "outputs": [
    {
     "data": {
      "text/plain": [
       "35.55555555555556"
      ]
     },
     "execution_count": 402,
     "metadata": {},
     "output_type": "execute_result"
    }
   ],
   "source": [
    "# show the avg of all elements\n",
    "sum(a)/len(a)"
   ]
  },
  {
   "cell_type": "code",
   "execution_count": 278,
   "id": "414b618c-914e-4672-86c6-f205fa87e1b3",
   "metadata": {},
   "outputs": [],
   "source": [
    "# reverse the list\n",
    "a.reverse()"
   ]
  },
  {
   "cell_type": "code",
   "execution_count": 280,
   "id": "10aac068-3d81-490d-9a0e-4f23bc1defed",
   "metadata": {},
   "outputs": [
    {
     "data": {
      "text/plain": [
       "[21, 32, 43, 54, 65, 45, 25, 23, 12]"
      ]
     },
     "execution_count": 280,
     "metadata": {},
     "output_type": "execute_result"
    }
   ],
   "source": [
    "a"
   ]
  },
  {
   "cell_type": "code",
   "execution_count": 282,
   "id": "273da363-6230-45d7-aeb4-c51b04baa1ce",
   "metadata": {},
   "outputs": [],
   "source": [
    "a.sort(reverse=True)"
   ]
  },
  {
   "cell_type": "code",
   "execution_count": 284,
   "id": "b1004e3f-235b-4b0e-929a-acd7e80ec80f",
   "metadata": {},
   "outputs": [
    {
     "data": {
      "text/plain": [
       "[65, 54, 45, 43, 32, 25, 23, 21, 12]"
      ]
     },
     "execution_count": 284,
     "metadata": {},
     "output_type": "execute_result"
    }
   ],
   "source": [
    "a"
   ]
  },
  {
   "cell_type": "code",
   "execution_count": 358,
   "id": "9a8f4df3-d1d6-4165-bc47-166cf9effc97",
   "metadata": {},
   "outputs": [],
   "source": [
    "# show the 3rd highest element\n",
    "a.sort(reverse=True)"
   ]
  },
  {
   "cell_type": "code",
   "execution_count": 384,
   "id": "318a21cb-81c1-4ff8-bbb3-e008a43618a7",
   "metadata": {},
   "outputs": [
    {
     "data": {
      "text/plain": [
       "23"
      ]
     },
     "execution_count": 384,
     "metadata": {},
     "output_type": "execute_result"
    }
   ],
   "source": [
    "a[2]"
   ]
  },
  {
   "cell_type": "code",
   "execution_count": 362,
   "id": "468d53b6-c19d-40d3-9d91-421cfb484373",
   "metadata": {},
   "outputs": [],
   "source": [
    "# show the 2nd lowest element\n",
    "a.sort()"
   ]
  },
  {
   "cell_type": "code",
   "execution_count": 364,
   "id": "0c71e737-ec9a-4696-8a1e-e4f2ae7ba5d1",
   "metadata": {},
   "outputs": [
    {
     "data": {
      "text/plain": [
       "23"
      ]
     },
     "execution_count": 364,
     "metadata": {},
     "output_type": "execute_result"
    }
   ],
   "source": [
    "a[2]"
   ]
  },
  {
   "cell_type": "code",
   "execution_count": 386,
   "id": "d5404dc6-3845-4b11-acf3-09f30a05741b",
   "metadata": {},
   "outputs": [
    {
     "data": {
      "text/plain": [
       "111"
      ]
     },
     "execution_count": 386,
     "metadata": {},
     "output_type": "execute_result"
    }
   ],
   "source": [
    "# show the addition of 2nd highest and 2nd lowest element\n",
    "a[1]+k[-2]"
   ]
  },
  {
   "cell_type": "code",
   "execution_count": 390,
   "id": "d76d6d39-1a42-4dd3-aeda-6007b63ecd26",
   "metadata": {},
   "outputs": [
    {
     "data": {
      "text/plain": [
       "200"
      ]
     },
     "execution_count": 390,
     "metadata": {},
     "output_type": "execute_result"
    }
   ],
   "source": [
    "# show the product of 2nd highest and last element\n",
    "k[1]*k[-1]"
   ]
  },
  {
   "cell_type": "code",
   "execution_count": null,
   "id": "8565e69e-caf5-4ba9-bafb-02c4d31c9097",
   "metadata": {},
   "outputs": [],
   "source": []
  }
 ],
 "metadata": {
  "kernelspec": {
   "display_name": "Python 3 (ipykernel)",
   "language": "python",
   "name": "python3"
  },
  "language_info": {
   "codemirror_mode": {
    "name": "ipython",
    "version": 3
   },
   "file_extension": ".py",
   "mimetype": "text/x-python",
   "name": "python",
   "nbconvert_exporter": "python",
   "pygments_lexer": "ipython3",
   "version": "3.12.4"
  }
 },
 "nbformat": 4,
 "nbformat_minor": 5
}
