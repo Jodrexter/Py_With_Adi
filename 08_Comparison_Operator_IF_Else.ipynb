{
 "cells": [
  {
   "cell_type": "code",
   "execution_count": 1,
   "id": "99b61e00-374d-42d4-aee9-efa39b731063",
   "metadata": {},
   "outputs": [],
   "source": [
    "# # print the cube of 2\n",
    "# c=[10,20,21,11,30,31,25]\n",
    "# extract [21,20]\n",
    "# extract [31,11,20]\n",
    "# add 26 at 4th position\n",
    "# remove 2nd element\n",
    "# a={‘maths’:55,’science’:70,’hindi’:80}\n",
    "# add marks of english as 75\n",
    "# remove marks of hindi\n",
    "# change the marks of maths to 90\n",
    "# what is total marks obtained\n",
    "# what is the average marks\n",
    "# H={12,23,34,45}\n",
    "# add 20 to H\n",
    "# add 30,40 and 50 to H\n",
    "# remove 23 from H\n",
    "# show the common elements of H with w={90,80,60,50,40}\n",
    "# z=(11,12,13,14,15)\n",
    "# extract (13,14)"
   ]
  },
  {
   "cell_type": "code",
   "execution_count": 5,
   "id": "00baed46-c359-4e83-90c7-5a25ee6c637b",
   "metadata": {},
   "outputs": [
    {
     "name": "stdout",
     "output_type": "stream",
     "text": [
      "8\n"
     ]
    }
   ],
   "source": [
    "# # print the cube of 2\n",
    "print(2**3)"
   ]
  },
  {
   "cell_type": "code",
   "execution_count": 9,
   "id": "566a4657-7e9b-4bd6-b4e2-e93a14acca55",
   "metadata": {},
   "outputs": [],
   "source": [
    "# c=[10,20,21,11,30,31,25]\n",
    "c=[10,20,21,11,30,31,25]"
   ]
  },
  {
   "cell_type": "code",
   "execution_count": 11,
   "id": "8792499a-4aff-410a-b215-f538391bc1b4",
   "metadata": {},
   "outputs": [
    {
     "data": {
      "text/plain": [
       "[21, 20]"
      ]
     },
     "execution_count": 11,
     "metadata": {},
     "output_type": "execute_result"
    }
   ],
   "source": [
    "# extract [21,20]\n",
    "c[-5:-7:-1]"
   ]
  },
  {
   "cell_type": "code",
   "execution_count": 13,
   "id": "d5cf3084-3dbf-4fae-ac75-8d0df48a95ac",
   "metadata": {},
   "outputs": [
    {
     "data": {
      "text/plain": [
       "[31, 11, 20]"
      ]
     },
     "execution_count": 13,
     "metadata": {},
     "output_type": "execute_result"
    }
   ],
   "source": [
    "# extract [31,11,20]\n",
    "c[-2:-7:-2]"
   ]
  },
  {
   "cell_type": "code",
   "execution_count": 17,
   "id": "e63df332-babb-4c9e-b7d3-ad36bd47eb04",
   "metadata": {},
   "outputs": [
    {
     "data": {
      "text/plain": [
       "[10, 20, 21, 11, 30, 26, 26, 31, 25]"
      ]
     },
     "execution_count": 17,
     "metadata": {},
     "output_type": "execute_result"
    }
   ],
   "source": [
    "# add 26 at 4th position\n",
    "c.insert(5,26);\n",
    "c"
   ]
  },
  {
   "cell_type": "code",
   "execution_count": 21,
   "id": "e789fd8f-3888-452b-89b1-59c063066d43",
   "metadata": {},
   "outputs": [
    {
     "ename": "ValueError",
     "evalue": "list.remove(x): x not in list",
     "output_type": "error",
     "traceback": [
      "\u001b[1;31m---------------------------------------------------------------------------\u001b[0m",
      "\u001b[1;31mValueError\u001b[0m                                Traceback (most recent call last)",
      "Cell \u001b[1;32mIn[21], line 2\u001b[0m\n\u001b[0;32m      1\u001b[0m \u001b[38;5;66;03m# remove 2nd element\u001b[39;00m\n\u001b[1;32m----> 2\u001b[0m c\u001b[38;5;241m.\u001b[39mremove(\u001b[38;5;241m21\u001b[39m)\n\u001b[0;32m      3\u001b[0m c\n",
      "\u001b[1;31mValueError\u001b[0m: list.remove(x): x not in list"
     ]
    }
   ],
   "source": [
    "# remove 2nd element\n",
    "c.remove(21)\n"
   ]
  },
  {
   "cell_type": "code",
   "execution_count": 23,
   "id": "575d1f38-562a-4dfc-a750-c27b6f7f7a57",
   "metadata": {},
   "outputs": [
    {
     "data": {
      "text/plain": [
       "[10, 20, 11, 30, 26, 26, 31, 25]"
      ]
     },
     "execution_count": 23,
     "metadata": {},
     "output_type": "execute_result"
    }
   ],
   "source": [
    "c"
   ]
  },
  {
   "cell_type": "code",
   "execution_count": 27,
   "id": "fde7de10-ac39-4203-9239-34678d9dae40",
   "metadata": {},
   "outputs": [],
   "source": [
    "# a={‘maths’:55,’science’:70,’hindi’:80}\n",
    "a={'maths':55,'science':70,'hindi':80}"
   ]
  },
  {
   "cell_type": "code",
   "execution_count": 29,
   "id": "fb6ce5a1-769f-4ae9-98fc-350217c860cb",
   "metadata": {},
   "outputs": [
    {
     "data": {
      "text/plain": [
       "{'maths': 55, 'science': 70, 'hindi': 80, 'english': 75}"
      ]
     },
     "execution_count": 29,
     "metadata": {},
     "output_type": "execute_result"
    }
   ],
   "source": [
    "# add marks of english as 75\n",
    "a['english']=75\n",
    "a"
   ]
  },
  {
   "cell_type": "code",
   "execution_count": 31,
   "id": "d48dccf8-e621-4dac-84df-4c90ea601089",
   "metadata": {},
   "outputs": [],
   "source": [
    "# remove marks of hindi\n",
    "del a['hindi']"
   ]
  },
  {
   "cell_type": "code",
   "execution_count": 33,
   "id": "cb93f096-7624-40f3-a398-b0e8a24820df",
   "metadata": {},
   "outputs": [
    {
     "data": {
      "text/plain": [
       "{'maths': 55, 'science': 70, 'english': 75}"
      ]
     },
     "execution_count": 33,
     "metadata": {},
     "output_type": "execute_result"
    }
   ],
   "source": [
    "a"
   ]
  },
  {
   "cell_type": "code",
   "execution_count": 35,
   "id": "9792e31d-c31d-45c2-bb32-bf499fa3d50a",
   "metadata": {},
   "outputs": [
    {
     "data": {
      "text/plain": [
       "{'maths': 90, 'science': 70, 'english': 75}"
      ]
     },
     "execution_count": 35,
     "metadata": {},
     "output_type": "execute_result"
    }
   ],
   "source": [
    "# change the marks of maths to 90\n",
    "a['maths']=90\n",
    "a"
   ]
  },
  {
   "cell_type": "code",
   "execution_count": 53,
   "id": "f65a31cc-d934-4e40-92b5-dbfa8ef37049",
   "metadata": {},
   "outputs": [
    {
     "data": {
      "text/plain": [
       "235"
      ]
     },
     "execution_count": 53,
     "metadata": {},
     "output_type": "execute_result"
    }
   ],
   "source": [
    "# what is total marks obtained\n",
    "sum(a.values())"
   ]
  },
  {
   "cell_type": "code",
   "execution_count": 57,
   "id": "91024440-d505-41cc-8d29-327f7139a878",
   "metadata": {},
   "outputs": [
    {
     "data": {
      "text/plain": [
       "78.33333333333333"
      ]
     },
     "execution_count": 57,
     "metadata": {},
     "output_type": "execute_result"
    }
   ],
   "source": [
    "# what is the average marks\n",
    "sum(a.values())/len(a)"
   ]
  },
  {
   "cell_type": "code",
   "execution_count": 59,
   "id": "d6aaebd9-d432-4692-a1bf-b2da38123f4b",
   "metadata": {},
   "outputs": [],
   "source": [
    "# H={12,23,34,45}\n",
    "H={12,23,34,45}"
   ]
  },
  {
   "cell_type": "code",
   "execution_count": 69,
   "id": "97cfb7d4-ef63-445c-a530-943812743c5e",
   "metadata": {},
   "outputs": [],
   "source": [
    "# add 20 to H\n",
    "H.add(20)"
   ]
  },
  {
   "cell_type": "code",
   "execution_count": 71,
   "id": "a89b6ab1-8f74-4aa1-9f2d-70442f72c935",
   "metadata": {},
   "outputs": [
    {
     "data": {
      "text/plain": [
       "{12, 20, 23, 34, 45}"
      ]
     },
     "execution_count": 71,
     "metadata": {},
     "output_type": "execute_result"
    }
   ],
   "source": [
    "H"
   ]
  },
  {
   "cell_type": "code",
   "execution_count": 73,
   "id": "314e0e67-8a27-49db-aa5d-3620d5c558e1",
   "metadata": {},
   "outputs": [],
   "source": [
    "# add 30,40 and 50 to H\n",
    "H.update([30,40])"
   ]
  },
  {
   "cell_type": "code",
   "execution_count": 75,
   "id": "895c20e2-9e60-4141-99ee-5af91fca0b3a",
   "metadata": {},
   "outputs": [
    {
     "data": {
      "text/plain": [
       "{12, 20, 23, 30, 34, 40, 45}"
      ]
     },
     "execution_count": 75,
     "metadata": {},
     "output_type": "execute_result"
    }
   ],
   "source": [
    "H"
   ]
  },
  {
   "cell_type": "code",
   "execution_count": 77,
   "id": "50c4d367-ab2f-4e9b-a02c-9e3631f460eb",
   "metadata": {},
   "outputs": [],
   "source": [
    "# remove 23 from H\n",
    "H.remove(23)"
   ]
  },
  {
   "cell_type": "code",
   "execution_count": 79,
   "id": "fa3a97e5-aacd-4aaa-9fa4-ef75b882376a",
   "metadata": {},
   "outputs": [
    {
     "data": {
      "text/plain": [
       "{12, 20, 30, 34, 40, 45}"
      ]
     },
     "execution_count": 79,
     "metadata": {},
     "output_type": "execute_result"
    }
   ],
   "source": [
    "H"
   ]
  },
  {
   "cell_type": "code",
   "execution_count": 99,
   "id": "c50bb821-ff87-4dd9-8243-fa6ba94b64c3",
   "metadata": {},
   "outputs": [
    {
     "data": {
      "text/plain": [
       "{12, 20, 30, 34, 40, 45, 50, 60, 80, 90}"
      ]
     },
     "execution_count": 99,
     "metadata": {},
     "output_type": "execute_result"
    }
   ],
   "source": [
    "# show the common elements of H with w={90,80,60,50,40}\n",
    "w={90,80,60,50,40}\n",
    "w.union(H)"
   ]
  },
  {
   "cell_type": "code",
   "execution_count": 87,
   "id": "c623e4b9-bf80-4960-a750-bf4fb6029462",
   "metadata": {},
   "outputs": [],
   "source": [
    "# z=(11,12,13,14,15)\n",
    "z=(11,12,13,14,15)"
   ]
  },
  {
   "cell_type": "code",
   "execution_count": 93,
   "id": "ceb982c3-7a46-4849-806e-a99e22135ca9",
   "metadata": {},
   "outputs": [
    {
     "data": {
      "text/plain": [
       "(13, 14)"
      ]
     },
     "execution_count": 93,
     "metadata": {},
     "output_type": "execute_result"
    }
   ],
   "source": [
    "# extract (13,14)\n",
    "z[2:4]"
   ]
  },
  {
   "cell_type": "markdown",
   "id": "70f75e1e-1313-4d1a-9d19-acf218dd753c",
   "metadata": {},
   "source": [
    "# comparison operator\n",
    "## == equal\n",
    "## != not equal\n",
    "## > greater than\n",
    "## > less than\n",
    "## >= greater than equal \n",
    "## <= less than equal"
   ]
  },
  {
   "cell_type": "code",
   "execution_count": 102,
   "id": "95cae64a-1ce1-417c-bec5-d4d5b1499f0e",
   "metadata": {},
   "outputs": [
    {
     "data": {
      "text/plain": [
       "True"
      ]
     },
     "execution_count": 102,
     "metadata": {},
     "output_type": "execute_result"
    }
   ],
   "source": [
    "45-5!=50"
   ]
  },
  {
   "cell_type": "code",
   "execution_count": 104,
   "id": "a41f215a-e2cf-4ad5-a4dc-aac8be1f7678",
   "metadata": {},
   "outputs": [
    {
     "data": {
      "text/plain": [
       "False"
      ]
     },
     "execution_count": 104,
     "metadata": {},
     "output_type": "execute_result"
    }
   ],
   "source": [
    "50%5==50/5"
   ]
  },
  {
   "cell_type": "code",
   "execution_count": 108,
   "id": "8402fe44-3ea3-4e11-af9c-8525c302f26d",
   "metadata": {},
   "outputs": [
    {
     "data": {
      "text/plain": [
       "True"
      ]
     },
     "execution_count": 108,
     "metadata": {},
     "output_type": "execute_result"
    }
   ],
   "source": [
    "50%10==0"
   ]
  },
  {
   "cell_type": "code",
   "execution_count": 110,
   "id": "7f92c9db-b79c-4a09-ab7f-e9cb53551de1",
   "metadata": {},
   "outputs": [
    {
     "data": {
      "text/plain": [
       "True"
      ]
     },
     "execution_count": 110,
     "metadata": {},
     "output_type": "execute_result"
    }
   ],
   "source": [
    "s='data'\n",
    "v='python'\n",
    "len(s)+2==len(v)"
   ]
  },
  {
   "cell_type": "code",
   "execution_count": 112,
   "id": "0432247b-1f96-4588-87cb-2e4c907d82b7",
   "metadata": {},
   "outputs": [
    {
     "data": {
      "text/plain": [
       "True"
      ]
     },
     "execution_count": 112,
     "metadata": {},
     "output_type": "execute_result"
    }
   ],
   "source": [
    "(len(s)+2)%4==len(v)-4"
   ]
  },
  {
   "cell_type": "code",
   "execution_count": 114,
   "id": "8497541a-37d9-4fda-aeb2-df2a1876523a",
   "metadata": {},
   "outputs": [
    {
     "data": {
      "text/plain": [
       "True"
      ]
     },
     "execution_count": 114,
     "metadata": {},
     "output_type": "execute_result"
    }
   ],
   "source": [
    "len(s)%2==0"
   ]
  },
  {
   "cell_type": "markdown",
   "id": "a9867357-34cb-400b-b708-5393cf4d27f0",
   "metadata": {},
   "source": [
    "# if -else"
   ]
  },
  {
   "cell_type": "code",
   "execution_count": 117,
   "id": "1a9d3473-76a6-4bb0-be53-e0abdd4f2fec",
   "metadata": {},
   "outputs": [
    {
     "name": "stdout",
     "output_type": "stream",
     "text": [
      "Wear a raincoat.\n"
     ]
    }
   ],
   "source": [
    "weather = \"raining\"\n",
    "\n",
    "if weather == \"raining\":\n",
    "    print(\"Wear a raincoat.\")\n",
    "else:\n",
    "    print(\"Wear a t-shirt.\")\n"
   ]
  },
  {
   "cell_type": "code",
   "execution_count": 119,
   "id": "8699f946-e63b-4920-9c24-0d801eceb76e",
   "metadata": {},
   "outputs": [
    {
     "name": "stdout",
     "output_type": "stream",
     "text": [
      "Eat a snack.\n"
     ]
    }
   ],
   "source": [
    "hungry = True  # You are hungry\n",
    "\n",
    "if hungry:\n",
    "    print(\"Eat a snack.\")\n",
    "else:\n",
    "    print(\"Drink some water.\")\n"
   ]
  },
  {
   "cell_type": "code",
   "execution_count": 129,
   "id": "e02d81f1-178f-45e9-a196-85d5c58f9dc0",
   "metadata": {},
   "outputs": [
    {
     "name": "stdin",
     "output_type": "stream",
     "text": [
      "enter you age 12\n"
     ]
    },
    {
     "name": "stdout",
     "output_type": "stream",
     "text": [
      "not eligible\n"
     ]
    }
   ],
   "source": [
    "# take age from user and check if it is eligible for voting or not.\n",
    "age = int(input(\"enter you age\"));\n",
    "if age>=18:\n",
    "    print(\"eligible\");\n",
    "else:\n",
    "    print(\"not eligible\");"
   ]
  },
  {
   "cell_type": "code",
   "execution_count": 149,
   "id": "6c47140e-f679-46b0-9709-d82e99b6bc60",
   "metadata": {},
   "outputs": [
    {
     "name": "stdin",
     "output_type": "stream",
     "text": [
      "enter a number : 10\n"
     ]
    },
    {
     "name": "stdout",
     "output_type": "stream",
     "text": [
      "lesser\n"
     ]
    }
   ],
   "source": [
    "''' take a number from user andd check if it is greater than 100 or not if it then print greater else print lesser '''\n",
    "num1 = int(input('enter a number :'));\n",
    "if num1>100:\n",
    "   print('greater');\n",
    "else:\n",
    "    print('lesser');"
   ]
  },
  {
   "cell_type": "code",
   "execution_count": 155,
   "id": "af44bdfc-7536-492a-91d3-981f12d46148",
   "metadata": {},
   "outputs": [
    {
     "name": "stdin",
     "output_type": "stream",
     "text": [
      "enter a num2 45\n",
      "enter a num3 555\n"
     ]
    },
    {
     "name": "stdout",
     "output_type": "stream",
     "text": [
      "greater\n"
     ]
    }
   ],
   "source": [
    "'''take two num from user and check if the sumof both is greater than 100  or not if it is then print greater else print lesser'''\n",
    "num2 = int(input(\"enter a num2\"))\n",
    "num3 = int(input(\"enter a num3\"))\n",
    "if num2+num3>100:\n",
    "    print('greater')\n",
    "else:\n",
    "    print('lesser')"
   ]
  },
  {
   "cell_type": "code",
   "execution_count": 163,
   "id": "d3246180-1f93-40a3-857d-6a1b8f07dc3b",
   "metadata": {},
   "outputs": [
    {
     "name": "stdin",
     "output_type": "stream",
     "text": [
      "enter a num4 : 60\n"
     ]
    },
    {
     "name": "stdout",
     "output_type": "stream",
     "text": [
      "120\n"
     ]
    }
   ],
   "source": [
    "''' take a num from user '''\n",
    "num4 = int(input('enter a num4 :'));\n",
    "if num4>50:\n",
    "    print(num4*2);\n",
    "else:\n",
    "    print(num4**2);"
   ]
  },
  {
   "cell_type": "code",
   "execution_count": 169,
   "id": "ba3ea1bc-4cfe-445c-aeeb-bc6b2c92a3a8",
   "metadata": {},
   "outputs": [
    {
     "name": "stdin",
     "output_type": "stream",
     "text": [
      "enter a num 5: 45\n"
     ]
    },
    {
     "name": "stdout",
     "output_type": "stream",
     "text": [
      "odd\n"
     ]
    }
   ],
   "source": [
    "''' take number from user and check if it is even or odd'''\n",
    "num5 = int(input(\"enter a num 5:\"));\n",
    "if num5%2 == 0:\n",
    "    print(\"even\");\n",
    "else:\n",
    "    print(\"odd\");"
   ]
  },
  {
   "cell_type": "code",
   "execution_count": 171,
   "id": "abdbfaca-3c7e-4b9c-8fac-da19bd02174c",
   "metadata": {},
   "outputs": [
    {
     "name": "stdin",
     "output_type": "stream",
     "text": [
      "enter a number : 45\n"
     ]
    },
    {
     "name": "stdout",
     "output_type": "stream",
     "text": [
      "135\n"
     ]
    }
   ],
   "source": [
    "''' take a number form user and if the '''\n",
    "num6 = int(input(\"enter a number :\"));\n",
    "if num6%2 == 0:\n",
    "    print(num6*2);\n",
    "else:\n",
    "    print(num6*3);"
   ]
  },
  {
   "cell_type": "code",
   "execution_count": 191,
   "id": "d38b25b9-6430-4084-8884-5f69b22aeba1",
   "metadata": {},
   "outputs": [
    {
     "name": "stdin",
     "output_type": "stream",
     "text": [
      "enter a number : 21\n"
     ]
    },
    {
     "name": "stdout",
     "output_type": "stream",
     "text": [
      "not divisible\n"
     ]
    }
   ],
   "source": [
    "''' che\n",
    "num7 = int(input(\"enter a number :\"));\n",
    "if num7%5 ==0:\n",
    "    print(\"divisible\");\n",
    "else:\n",
    "    print(\"not divisible\");"
   ]
  },
  {
   "cell_type": "code",
   "execution_count": 199,
   "id": "8cd12012-81f7-47d6-83d9-a4078868dd4d",
   "metadata": {},
   "outputs": [
    {
     "name": "stdin",
     "output_type": "stream",
     "text": [
      "enter a year 2021\n"
     ]
    },
    {
     "name": "stdout",
     "output_type": "stream",
     "text": [
      "not leap year\n"
     ]
    }
   ],
   "source": [
    "''' check year is leap or not '''\n",
    "year = int(input(\"enter a year\"));\n",
    "if year % 4 == 0:\n",
    "    print(\"leap year\");\n",
    "else:\n",
    "    print(\"not leap year\");"
   ]
  },
  {
   "cell_type": "code",
   "execution_count": 183,
   "id": "7f87f4a7-b398-4940-aef4-7b9f16ced95b",
   "metadata": {},
   "outputs": [
    {
     "name": "stdin",
     "output_type": "stream",
     "text": [
      "enter your age 43\n"
     ]
    },
    {
     "name": "stdout",
     "output_type": "stream",
     "text": [
      "old\n"
     ]
    }
   ],
   "source": [
    "''' print age is greater than 40 then young  else old'''\n",
    "age = int(input(\"enter your age\"));\n",
    "if age<40:\n",
    "    print(\"young\");\n",
    "else:\n",
    "    print(\"old\");"
   ]
  },
  {
   "cell_type": "code",
   "execution_count": 195,
   "id": "9dcbcffb-5a9d-4df9-98ea-a545d93f3137",
   "metadata": {},
   "outputs": [
    {
     "name": "stdin",
     "output_type": "stream",
     "text": [
      "Enter a year:  21\n"
     ]
    },
    {
     "name": "stdout",
     "output_type": "stream",
     "text": [
      "is decade\n"
     ]
    }
   ],
   "source": [
    "''' decade year then print decade or not decade'''\n",
    "year2 = int(input(\"Enter a year: \"))\n",
    "\n",
    "if year % 10 == 0:\n",
    "    print(\"is decade\");\n",
    "else:\n",
    "    print(\" is not decade.\");\n"
   ]
  },
  {
   "cell_type": "code",
   "execution_count": 217,
   "id": "d24a3dc3-9cd6-46e1-bb00-e2055f8c4516",
   "metadata": {},
   "outputs": [
    {
     "name": "stdin",
     "output_type": "stream",
     "text": [
      "enter a name adiii\n"
     ]
    },
    {
     "name": "stdout",
     "output_type": "stream",
     "text": [
      "a\n"
     ]
    }
   ],
   "source": [
    "''' take a name from user and check the length of name is greater than 4 or not , if it is then print greater else print not greater'''\n",
    "name2 =input(\"enter a name\");\n",
    "if len(name2) > 4:\n",
    "    print(\"greater\");\n",
    "else:\n",
    "    print(\"not\");"
   ]
  },
  {
   "cell_type": "code",
   "execution_count": 261,
   "id": "beb2efa4-e8fb-4187-8f22-a9fce9612c78",
   "metadata": {},
   "outputs": [
    {
     "name": "stdin",
     "output_type": "stream",
     "text": [
      "enter a name add\n"
     ]
    },
    {
     "name": "stdout",
     "output_type": "stream",
     "text": [
      "dda\n"
     ]
    }
   ],
   "source": [
    "''' take a name from user and check the length of anme is evern or not, if it is even then print first 3 letters of name  else print reverse of name'''\n",
    "name4 =input(\"enter a name\");\n",
    "if len(name4)%2== 0:\n",
    "    print(name4[0:3]);\n",
    "else:\n",
    "    print(name4[::-1]);"
   ]
  },
  {
   "cell_type": "code",
   "execution_count": 265,
   "id": "8a3628dd-df92-4b8a-ac0d-4eb4697fcbd3",
   "metadata": {},
   "outputs": [
    {
     "name": "stdin",
     "output_type": "stream",
     "text": [
      "enter a name ad\n"
     ]
    },
    {
     "name": "stdout",
     "output_type": "stream",
     "text": [
      "a\n"
     ]
    }
   ],
   "source": [
    "''' if even then print first 2 letter of name eles'''\n",
    "name3 =input(\"enter a name\");\n",
    "if len(name3) > 4:\n",
    "    print(name3[2]);\n",
    "else:\n",
    "    print(name3[-2]);"
   ]
  },
  {
   "cell_type": "code",
   "execution_count": 269,
   "id": "656b04ad-19ab-4024-b87f-a3d7ada6003a",
   "metadata": {},
   "outputs": [
    {
     "name": "stdin",
     "output_type": "stream",
     "text": [
      "enter a word adi\n"
     ]
    },
    {
     "name": "stdout",
     "output_type": "stream",
     "text": [
      "not\n"
     ]
    }
   ],
   "source": [
    "''' take a word from user and check if it is palidndrome or not'''\n",
    "x = input(\"enter a word\");\n",
    "if x == x[::-1]:\n",
    "    print(\"palindrome\");\n",
    "else:\n",
    "    print(\"not\");"
   ]
  },
  {
   "cell_type": "code",
   "execution_count": 283,
   "id": "5662a7e0-263b-4be7-aa47-32a2c66d4338",
   "metadata": {},
   "outputs": [
    {
     "name": "stdin",
     "output_type": "stream",
     "text": [
      "enter a number : -21\n"
     ]
    },
    {
     "name": "stdout",
     "output_type": "stream",
     "text": [
      "negative\n"
     ]
    }
   ],
   "source": [
    "''' take a number forom user and classify it as positive or negative '''\n",
    "y = int(input(\"enter a number :\"));\n",
    "if y >= 0:\n",
    "    print(\"positive\");\n",
    "else:\n",
    "    print(\"negative\");"
   ]
  },
  {
   "cell_type": "code",
   "execution_count": 285,
   "id": "87125672-95e0-49d4-9f7f-51d705d35da0",
   "metadata": {},
   "outputs": [
    {
     "name": "stdin",
     "output_type": "stream",
     "text": [
      "Enter the length of the first side:  23\n",
      "Enter the length of the second side:  21\n"
     ]
    },
    {
     "name": "stdout",
     "output_type": "stream",
     "text": [
      "The quadrilateral is a rectangle.\n"
     ]
    }
   ],
   "source": [
    "''' take two adjecnet side  of a quadrilateral and classify it as square or rectangle'''\n",
    "side1 = int(input(\"Enter the length of the first side: \"))\n",
    "side2 = int(input(\"Enter the length of the second side: \"))\n",
    "if side1 == side2:\n",
    "    print(\"The quadrilateral is a square.\") # for square you neend to equal both side \n",
    "else:\n",
    "    print(\"The quadrilateral is a rectangle.\")\n"
   ]
  },
  {
   "cell_type": "code",
   "execution_count": 295,
   "id": "919ff23d-77be-4a35-abf0-0980ca7c3a9f",
   "metadata": {},
   "outputs": [
    {
     "name": "stdin",
     "output_type": "stream",
     "text": [
      "enter number 1; 40\n",
      "enter number 2 25\n"
     ]
    },
    {
     "name": "stdout",
     "output_type": "stream",
     "text": [
      "40\n"
     ]
    }
   ],
   "source": [
    "''' take two numbers from user and print the largest one'''\n",
    "o = int(input(\"enter number 1;\"));\n",
    "u = int(input(\"enter number 2\"));\n",
    "if o > u:\n",
    "    print(o);\n",
    "else:\n",
    "    print(u);"
   ]
  },
  {
   "cell_type": "code",
   "execution_count": null,
   "id": "2a4567ab-4b8e-47a6-92cf-5abcd9b6517e",
   "metadata": {},
   "outputs": [],
   "source": []
  }
 ],
 "metadata": {
  "kernelspec": {
   "display_name": "Python 3 (ipykernel)",
   "language": "python",
   "name": "python3"
  },
  "language_info": {
   "codemirror_mode": {
    "name": "ipython",
    "version": 3
   },
   "file_extension": ".py",
   "mimetype": "text/x-python",
   "name": "python",
   "nbconvert_exporter": "python",
   "pygments_lexer": "ipython3",
   "version": "3.12.4"
  }
 },
 "nbformat": 4,
 "nbformat_minor": 5
}
