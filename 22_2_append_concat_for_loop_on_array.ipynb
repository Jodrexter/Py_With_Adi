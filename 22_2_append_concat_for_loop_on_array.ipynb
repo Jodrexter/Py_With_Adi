{
 "cells": [
  {
   "cell_type": "code",
   "execution_count": 7,
   "id": "61a8db8c-f121-46ab-b4ad-26195b52705e",
   "metadata": {},
   "outputs": [],
   "source": [
    "import numpy as np"
   ]
  },
  {
   "cell_type": "code",
   "execution_count": 1,
   "id": "1437654a-94d0-4d44-aabd-df3bdc262e1c",
   "metadata": {},
   "outputs": [],
   "source": [
    "\n",
    "# create an array of 4x4 having only ones\n",
    "# create an identity matrix of 5x5\n",
    "# convert [[45,56,78]] to 6 dimension array\n",
    "# convert [[[10,20]],[[30,40]],[[50,60]],[[70,80]]] to an array and extract 60\n",
    "# extract 30\n",
    "# extract 10\n",
    "# shuffle the elements of array [12,23,34,45,56]\n",
    "# create an array of 4 columns and 5 rows having random numbers from 30 to 50\n",
    "# add 2 arrays of 3x3 having random integers from 10 to 60 and 40 to 70\n",
    "# multiply an identity matrix of 3x3 with an array of 3x3 having random integers from 10 to 30"
   ]
  },
  {
   "cell_type": "code",
   "execution_count": 33,
   "id": "22c28d84-904f-43b9-89bc-a1be782bcb51",
   "metadata": {},
   "outputs": [
    {
     "name": "stdout",
     "output_type": "stream",
     "text": [
      "[[69 28 18 47]\n",
      " [70 70 17 27]\n",
      " [62 80 48 13]\n",
      " [54 82 77 71]]\n"
     ]
    }
   ],
   "source": [
    "# create an array of 4x4 having only ones\n",
    "from numpy import random\n",
    "x = random.randint(100,size=(4,4))\n",
    "print(x)"
   ]
  },
  {
   "cell_type": "code",
   "execution_count": 37,
   "id": "b3ae513f-ebbe-4007-aaeb-544177fa1e7d",
   "metadata": {},
   "outputs": [
    {
     "name": "stdout",
     "output_type": "stream",
     "text": [
      "[[1 0 0 0 0]\n",
      " [0 1 0 0 0]\n",
      " [0 0 1 0 0]\n",
      " [0 0 0 1 0]\n",
      " [0 0 0 0 1]]\n"
     ]
    }
   ],
   "source": [
    "# create an identity matrix of 5x5\n",
    "a = np.identity(5,dtype='int')\n",
    "print(a)"
   ]
  },
  {
   "cell_type": "code",
   "execution_count": 49,
   "id": "c9b58049-9053-412b-8749-74419d0746c6",
   "metadata": {},
   "outputs": [
    {
     "name": "stdout",
     "output_type": "stream",
     "text": [
      "[[[[[[45 56 78]]]]]]\n"
     ]
    }
   ],
   "source": [
    "# convert [[45,56,78]] to 6 dimension array\n",
    "b = np.array([45,56,78],ndmin=6)\n",
    "print(b)\n"
   ]
  },
  {
   "cell_type": "code",
   "execution_count": 51,
   "id": "7938124d-aea4-4c0f-95a6-c066f5d05714",
   "metadata": {},
   "outputs": [
    {
     "name": "stdout",
     "output_type": "stream",
     "text": [
      "[[[10 20]]\n",
      "\n",
      " [[30 40]]\n",
      "\n",
      " [[50 60]]\n",
      "\n",
      " [[70 80]]]\n"
     ]
    }
   ],
   "source": [
    "# convert [[[10,20]],[[30,40]],[[50,60]],[[70,80]]] to an array and extract 60\n",
    "c = np.array([[[10,20]],[[30,40]],[[50,60]],[[70,80]]])\n",
    "print(c)"
   ]
  },
  {
   "cell_type": "code",
   "execution_count": 71,
   "id": "979823b3-6f99-4ffb-a8b3-e4f4e24e5fdb",
   "metadata": {},
   "outputs": [
    {
     "ename": "IndexError",
     "evalue": "index 3 is out of bounds for axis 1 with size 1",
     "output_type": "error",
     "traceback": [
      "\u001b[1;31m---------------------------------------------------------------------------\u001b[0m",
      "\u001b[1;31mIndexError\u001b[0m                                Traceback (most recent call last)",
      "Cell \u001b[1;32mIn[71], line 1\u001b[0m\n\u001b[1;32m----> 1\u001b[0m \u001b[38;5;28mprint\u001b[39m(c[\u001b[38;5;241m1\u001b[39m,\u001b[38;5;241m3\u001b[39m,\u001b[38;5;241m0\u001b[39m])\n",
      "\u001b[1;31mIndexError\u001b[0m: index 3 is out of bounds for axis 1 with size 1"
     ]
    }
   ],
   "source": [
    "print(c[1,3,0])"
   ]
  },
  {
   "cell_type": "code",
   "execution_count": 75,
   "id": "2ca21141-c2d0-483e-bd27-1c0ebed8d40a",
   "metadata": {},
   "outputs": [
    {
     "ename": "IndexError",
     "evalue": "index 1 is out of bounds for axis 1 with size 1",
     "output_type": "error",
     "traceback": [
      "\u001b[1;31m---------------------------------------------------------------------------\u001b[0m",
      "\u001b[1;31mIndexError\u001b[0m                                Traceback (most recent call last)",
      "Cell \u001b[1;32mIn[75], line 2\u001b[0m\n\u001b[0;32m      1\u001b[0m \u001b[38;5;66;03m# extract 30\u001b[39;00m\n\u001b[1;32m----> 2\u001b[0m \u001b[38;5;28mprint\u001b[39m(c[\u001b[38;5;241m0\u001b[39m,\u001b[38;5;241m1\u001b[39m,\u001b[38;5;241m0\u001b[39m])\n",
      "\u001b[1;31mIndexError\u001b[0m: index 1 is out of bounds for axis 1 with size 1"
     ]
    }
   ],
   "source": [
    "# extract 30\n",
    "print(c[0,1,0])"
   ]
  },
  {
   "cell_type": "code",
   "execution_count": 13,
   "id": "eee2687f-d78d-42c0-bef5-6a121897945b",
   "metadata": {},
   "outputs": [],
   "source": [
    "# extract 10"
   ]
  },
  {
   "cell_type": "code",
   "execution_count": 77,
   "id": "4f4eddb9-7dd6-4e7a-961b-0a0e2b4ff880",
   "metadata": {},
   "outputs": [
    {
     "name": "stdout",
     "output_type": "stream",
     "text": [
      "[45 56 12 23 34]\n"
     ]
    }
   ],
   "source": [
    "# shuffle the elements of array [12,23,34,45,56]\n",
    "d = np.array([12,23,34,45,56])\n",
    "random.shuffle(d)\n",
    "print(d)"
   ]
  },
  {
   "cell_type": "code",
   "execution_count": 81,
   "id": "73454105-73c5-4aa3-8d67-6430cd86e786",
   "metadata": {},
   "outputs": [
    {
     "name": "stdout",
     "output_type": "stream",
     "text": [
      "[[49 34 31 41]\n",
      " [40 34 35 48]\n",
      " [44 30 35 45]\n",
      " [33 39 40 35]\n",
      " [39 36 36 47]]\n"
     ]
    }
   ],
   "source": [
    "# create an array of 4 columns and 5 rows having random numbers from 30 to 50\n",
    "a7 =  random.randint(30,50,size=(5,4))\n",
    "print(a7)"
   ]
  },
  {
   "cell_type": "code",
   "execution_count": 19,
   "id": "0010327a-b1cf-4e11-aeb3-81bfcadfff28",
   "metadata": {},
   "outputs": [],
   "source": [
    "# add 2 arrays of 3x3 having random integers from 10 to 60 and 40 to 70\n"
   ]
  },
  {
   "cell_type": "code",
   "execution_count": 21,
   "id": "406d1b65-2025-4942-bdfd-547886e4835c",
   "metadata": {},
   "outputs": [],
   "source": [
    "# multiply an identity matrix of 3x3 with an array of 3x3 having random integers from 10 to 30"
   ]
  },
  {
   "cell_type": "markdown",
   "id": "2e6fb714-2e23-4d50-82f4-3a89df954629",
   "metadata": {},
   "source": [
    "# Dot >> is used for matrix multiplication"
   ]
  },
  {
   "cell_type": "code",
   "execution_count": 87,
   "id": "515ccd4e-47b8-4aa9-a922-3efefbeb2980",
   "metadata": {},
   "outputs": [
    {
     "name": "stdout",
     "output_type": "stream",
     "text": [
      "[[12 18 19]\n",
      " [12 15 17]\n",
      " [18 11 12]]\n"
     ]
    }
   ],
   "source": [
    "a1 =  random.randint(10,20,size=(3,3))\n",
    "print(a1)"
   ]
  },
  {
   "cell_type": "code",
   "execution_count": 85,
   "id": "9cafbe10-4346-4ce8-b8da-1a12daaf1c2e",
   "metadata": {},
   "outputs": [
    {
     "name": "stdout",
     "output_type": "stream",
     "text": [
      "[[36 36 32]\n",
      " [35 39 38]\n",
      " [39 30 31]]\n"
     ]
    }
   ],
   "source": [
    "a2 =  random.randint(30,40,size=(3,3))\n",
    "print(a2)"
   ]
  },
  {
   "cell_type": "code",
   "execution_count": 91,
   "id": "b8f3a2ba-e75c-4f09-84f1-5b0af4109770",
   "metadata": {},
   "outputs": [
    {
     "name": "stdout",
     "output_type": "stream",
     "text": [
      "[[1803 1704 1657]\n",
      " [1620 1527 1481]\n",
      " [1501 1437 1366]]\n"
     ]
    }
   ],
   "source": [
    "a3 = np.dot(a1,a2)\n",
    "print(a3)"
   ]
  },
  {
   "cell_type": "code",
   "execution_count": 98,
   "id": "00003990-ff1e-4adf-a642-ee20ebf9648a",
   "metadata": {},
   "outputs": [
    {
     "name": "stdout",
     "output_type": "stream",
     "text": [
      "[[42 46 41 49]\n",
      " [44 45 42 42]\n",
      " [42 41 45 44]\n",
      " [46 45 41 40]\n",
      " [40 47 41 45]]\n",
      "[[43 43 45 44 41 42 40]\n",
      " [41 40 48 40 49 46 42]\n",
      " [47 49 44 49 40 45 46]\n",
      " [45 48 46 46 48 40 41]]\n",
      "[[7824 8007 8156 7951 7968 7685 7507]\n",
      " [7601 7766 7920 7726 7705 7488 7304]\n",
      " [7582 7763 7862 7717 7643 7435 7276]\n",
      " [7550 7707 7874 7673 7651 7447 7256]\n",
      " [7599 7769 7930 7719 7743 7487 7305]]\n"
     ]
    }
   ],
   "source": [
    "''' calculate the dot product of a matrix having 4 columns and 5 rows in 1st matrix\n",
    "and 4 rows and 7 columns in 2nd matrix both having random values in range 40 to 50 '''\n",
    "a4 = random.randint(40,50,size=(5,4))\n",
    "print(a4)\n",
    "\n",
    "a5 = random.randint(40,50,size=(4,7))\n",
    "print(a5)\n",
    "\n",
    "a6 = np.dot(a4,a5)\n",
    "print(a6)"
   ]
  },
  {
   "cell_type": "code",
   "execution_count": 125,
   "id": "92f65ec4-33be-456f-b082-62f79941c9e0",
   "metadata": {},
   "outputs": [
    {
     "name": "stdout",
     "output_type": "stream",
     "text": [
      "[0 0]\n"
     ]
    },
    {
     "ename": "TypeError",
     "evalue": "identity() got an unexpected keyword argument 'size'",
     "output_type": "error",
     "traceback": [
      "\u001b[1;31m---------------------------------------------------------------------------\u001b[0m",
      "\u001b[1;31mTypeError\u001b[0m                                 Traceback (most recent call last)",
      "Cell \u001b[1;32mIn[125], line 7\u001b[0m\n\u001b[0;32m      4\u001b[0m a7 \u001b[38;5;241m=\u001b[39m random\u001b[38;5;241m.\u001b[39mrandint((\u001b[38;5;241m3\u001b[39m,\u001b[38;5;241m2\u001b[39m),dtype\u001b[38;5;241m=\u001b[39m\u001b[38;5;124m'\u001b[39m\u001b[38;5;124mint\u001b[39m\u001b[38;5;124m'\u001b[39m)\n\u001b[0;32m      5\u001b[0m \u001b[38;5;28mprint\u001b[39m(a7)\n\u001b[1;32m----> 7\u001b[0m a8 \u001b[38;5;241m=\u001b[39m np\u001b[38;5;241m.\u001b[39midentity(\u001b[38;5;241m100\u001b[39m,size\u001b[38;5;241m=\u001b[39m(\u001b[38;5;241m2\u001b[39m,\u001b[38;5;241m2\u001b[39m))\n\u001b[0;32m      8\u001b[0m \u001b[38;5;28mprint\u001b[39m(a8)\n\u001b[0;32m     10\u001b[0m a9 \u001b[38;5;241m=\u001b[39m np\u001b[38;5;241m.\u001b[39mdot(a7,a8)\n",
      "\u001b[1;31mTypeError\u001b[0m: identity() got an unexpected keyword argument 'size'"
     ]
    }
   ],
   "source": [
    "''' calcultate the dot product of matrix having only one of 2 columns and 3 rows in first matrix \n",
    "and 2nd matrix is identity matrix containing 4 elements '''\n",
    "\n",
    "a7 = random.randint((3,2),dtype='int')\n",
    "print(a7)\n",
    "\n",
    "a8 = np.identity(100,size=(2,2))\n",
    "print(a8)\n",
    "\n",
    "a9 = np.dot(a7,a8)\n",
    "print(a9)"
   ]
  },
  {
   "cell_type": "markdown",
   "id": "87e37f27-8edc-4e2c-8b92-012844afbb0d",
   "metadata": {},
   "source": [
    "# Append \n"
   ]
  },
  {
   "cell_type": "code",
   "execution_count": 118,
   "id": "938b57dd-7e8e-4c4d-97cd-a047a2eb5a44",
   "metadata": {},
   "outputs": [
    {
     "name": "stdout",
     "output_type": "stream",
     "text": [
      "[2 3 4 5 6]\n",
      "[  2   3   4   5   6 100]\n"
     ]
    }
   ],
   "source": [
    "arr1 = np.array([2,3,4,5,6])\n",
    "arr2 = np.append(arr1,100)\n",
    "print(arr1)\n",
    "print(arr2)"
   ]
  },
  {
   "cell_type": "code",
   "execution_count": 120,
   "id": "258b1d27-7c63-4c12-bb16-22c01d8a1603",
   "metadata": {},
   "outputs": [
    {
     "name": "stdout",
     "output_type": "stream",
     "text": [
      "[2 3 4 5 6]\n",
      "[  2   3   4   5   6 200 300]\n"
     ]
    }
   ],
   "source": [
    "arr1 = np.array([2,3,4,5,6])\n",
    "arr2 = np.append(arr1,[200,300])\n",
    "print(arr1)\n",
    "print(arr2)"
   ]
  },
  {
   "cell_type": "markdown",
   "id": "ffb31b3e-9f85-4581-b32e-efd20a28cfac",
   "metadata": {},
   "source": [
    "# axis >> used for join >> 1. axis = 0 for below line and 2. axis = 1  >> current line"
   ]
  },
  {
   "cell_type": "code",
   "execution_count": 131,
   "id": "42eb9a11-5466-4d63-a59c-92293dbc8281",
   "metadata": {},
   "outputs": [
    {
     "name": "stdout",
     "output_type": "stream",
     "text": [
      "[[2 3 4]\n",
      " [5 6 7]]\n",
      "[[ 2  3  4]\n",
      " [ 5  6  7]\n",
      " [10 20 30]]\n"
     ]
    }
   ],
   "source": [
    "arr3 = np.array([[2,3,4],[5,6,7]])\n",
    "arr4 = np.append(arr1,[[10,20,30]],axis = 0)\n",
    "print(arr3)\n",
    "print(arr4)"
   ]
  },
  {
   "cell_type": "code",
   "execution_count": 145,
   "id": "45288c6e-7073-4c85-b30e-ca6a1b7bb6f4",
   "metadata": {},
   "outputs": [
    {
     "name": "stdout",
     "output_type": "stream",
     "text": [
      "[[  2   3   4  10  20  30]\n",
      " [  5   6   7 100 200 300]]\n"
     ]
    }
   ],
   "source": [
    "arr5 = np.array([[2,3,4],[5,6,7]])\n",
    "arr6 = np.append(arr1,[[10,20,30],[100,200,300]],axis = 1)\n",
    "print(arr6)"
   ]
  },
  {
   "cell_type": "markdown",
   "id": "a3f4c637-8d78-4d16-871e-33d98b3d565a",
   "metadata": {},
   "source": [
    "# concatente >> adding two array"
   ]
  },
  {
   "cell_type": "code",
   "execution_count": 155,
   "id": "ce47ef3e-ee5d-4913-a9b0-2bc72d8191a1",
   "metadata": {},
   "outputs": [
    {
     "name": "stdout",
     "output_type": "stream",
     "text": [
      "new array is ; [ 2  3  4 10 20 30]\n"
     ]
    }
   ],
   "source": [
    "arr7 = np.array([2,3,4])\n",
    "arr8 = np.array([10,20,30])\n",
    "\n",
    "new_arr =np.concatenate([arr7,arr8])\n",
    "print('new array is ;',new_arr)"
   ]
  },
  {
   "cell_type": "code",
   "execution_count": 174,
   "id": "5bdabc1b-48eb-4010-bb20-9c579f115ff6",
   "metadata": {},
   "outputs": [
    {
     "name": "stdout",
     "output_type": "stream",
     "text": [
      "new array is /n ; [[ 2  3 10 20]\n",
      " [ 4  5 30 40]]\n"
     ]
    }
   ],
   "source": [
    "arr9 = np.array([[2,3],[4,5]])\n",
    "arr10 = np.array([[10,20],[30,40]])\n",
    "\n",
    "new_arr1 =np.concatenate([arr9,arr10],axis = 1)\n",
    "print('new array is /n ;',new_arr1)"
   ]
  },
  {
   "cell_type": "code",
   "execution_count": 166,
   "id": "a39c521c-7be6-4601-9b3c-e41e75918a99",
   "metadata": {},
   "outputs": [
    {
     "name": "stdout",
     "output_type": "stream",
     "text": [
      "new array is ; [[  2   3]\n",
      " [  4   5]\n",
      " [ 10  20]\n",
      " [ 30  40]\n",
      " [100 200]\n",
      " [300 400]]\n"
     ]
    }
   ],
   "source": [
    "arr11 = np.array([[2,3],[4,5]])\n",
    "arr12 = np.array([[10,20],[30,40]])\n",
    "arr13 = np.array([[100,200],[300,400]])\n",
    "new_arr2 =np.concatenate([arr11,arr12,arr13])\n",
    "print('new array is ;',new_arr2)"
   ]
  },
  {
   "cell_type": "markdown",
   "id": "de9536c2-c677-4e32-81c3-484ac211fb18",
   "metadata": {},
   "source": [
    "# for loop on array"
   ]
  },
  {
   "cell_type": "markdown",
   "id": "0f40af20-193e-4563-900d-ea50726a48ac",
   "metadata": {},
   "source": [
    "# 1.nditer() "
   ]
  },
  {
   "cell_type": "code",
   "execution_count": 178,
   "id": "4ddf3bc2-e3fb-4d93-80a9-dc1ec84bcd30",
   "metadata": {},
   "outputs": [
    {
     "name": "stdout",
     "output_type": "stream",
     "text": [
      "2\n",
      "3\n",
      "4\n",
      "5\n"
     ]
    }
   ],
   "source": [
    "# 2d \n",
    "arr14 = np.array([[2,3],[4,5]])\n",
    "for i in np.nditer(arr14):\n",
    "    print(i)"
   ]
  },
  {
   "cell_type": "code",
   "execution_count": 182,
   "id": "3ad482c2-ac56-443d-82d4-5a6bf054dd7e",
   "metadata": {},
   "outputs": [
    {
     "name": "stdout",
     "output_type": "stream",
     "text": [
      "64\n",
      "76\n",
      "15\n",
      "91\n",
      "83\n",
      "65\n",
      "9\n",
      "57\n",
      "69\n",
      "27\n",
      "54\n",
      "20\n",
      "76\n",
      "82\n",
      "90\n",
      "94\n",
      "69\n",
      "40\n",
      "66\n",
      "10\n",
      "65\n",
      "88\n",
      "29\n",
      "73\n",
      "49\n",
      "51\n",
      "41\n",
      "18\n",
      "12\n",
      "76\n"
     ]
    }
   ],
   "source": [
    "arr14 = np.random.randint(100,size=(5,6))\n",
    "for i in np.nditer(arr14):\n",
    "    print(i)"
   ]
  },
  {
   "cell_type": "code",
   "execution_count": 184,
   "id": "250a3c6e-ac9d-4a84-b93a-3b982a464e8c",
   "metadata": {},
   "outputs": [
    {
     "name": "stdout",
     "output_type": "stream",
     "text": [
      "2\n",
      "3\n",
      "4\n",
      "5\n",
      "20\n",
      "30\n",
      "40\n",
      "50\n"
     ]
    }
   ],
   "source": [
    "# 3 d\n",
    "arr15 = np.array([[[2,3],[4,5]],[[20,30],[40,50]]])\n",
    "for i in np.nditer(arr15):\n",
    "    print(i)"
   ]
  },
  {
   "cell_type": "markdown",
   "id": "a6f9dfe6-f8a2-4952-98d7-e075a6e809b9",
   "metadata": {},
   "source": [
    "# 2.ndenumerate()  >> gives index number and element"
   ]
  },
  {
   "cell_type": "code",
   "execution_count": 187,
   "id": "7a22a69e-87b1-41bf-821b-c0306b5cdc55",
   "metadata": {},
   "outputs": [
    {
     "name": "stdout",
     "output_type": "stream",
     "text": [
      "(0,) 2\n",
      "(1,) 3\n",
      "(2,) 4\n",
      "(3,) 5\n"
     ]
    }
   ],
   "source": [
    "arr16 = np.array([2,3,4,5])\n",
    "for i,value in np.ndenumerate(arr16):\n",
    "    print(i,value)"
   ]
  },
  {
   "cell_type": "code",
   "execution_count": 191,
   "id": "d1dd6b58-d092-4784-9e84-21a57829401e",
   "metadata": {},
   "outputs": [
    {
     "name": "stdout",
     "output_type": "stream",
     "text": [
      "(0, 0, 0) 2\n",
      "(0, 0, 1) 3\n",
      "(0, 1, 0) 4\n",
      "(0, 1, 1) 5\n",
      "(1, 0, 0) 20\n",
      "(1, 0, 1) 30\n",
      "(1, 1, 0) 40\n",
      "(1, 1, 1) 50\n"
     ]
    }
   ],
   "source": [
    "arr17 = np.array([[[2,3],[4,5]],[[20,30],[40,50]]])\n",
    "for i,value in np.ndenumerate(arr17):\n",
    "    print(i,value)"
   ]
  },
  {
   "cell_type": "code",
   "execution_count": 195,
   "id": "536c14e1-f8cb-4cd9-a147-7a56df9b108b",
   "metadata": {},
   "outputs": [
    {
     "name": "stdout",
     "output_type": "stream",
     "text": [
      "(0, 0, 0) 1\n",
      "(0, 0, 1) 2\n",
      "(0, 0, 2) 3\n",
      "(0, 1, 0) 4\n",
      "(0, 1, 1) 5\n",
      "(0, 1, 2) 6\n",
      "(1, 0, 0) 7\n",
      "(1, 0, 1) 8\n",
      "(1, 0, 2) 9\n",
      "(1, 1, 0) 10\n",
      "(1, 1, 1) 11\n",
      "(1, 1, 2) 12\n"
     ]
    }
   ],
   "source": [
    "# show the index number of all elements of array [[[1,2,3],[4,5,6]],[[7,8,9],[10,11,12]]]\n",
    "arr18 = np.array([[[1,2,3],[4,5,6]],[[7,8,9],[10,11,12]]])\n",
    "for i,value in np.ndenumerate(arr18):\n",
    "    print(i,value)"
   ]
  },
  {
   "cell_type": "markdown",
   "id": "053c3dc9-cd35-4538-85fe-78c3ad130fc4",
   "metadata": {},
   "source": [
    "# stastics"
   ]
  },
  {
   "cell_type": "markdown",
   "id": "bc08aa41-dae2-4eed-aba6-267f678fdfcb",
   "metadata": {},
   "source": [
    "## 1.mean"
   ]
  },
  {
   "cell_type": "markdown",
   "id": "8d679e36-6196-4a12-b70b-300ec30c212a",
   "metadata": {},
   "source": [
    "mean = sum of values/number of values\n"
   ]
  },
  {
   "cell_type": "code",
   "execution_count": 204,
   "id": "7e4d900a-dfeb-4334-a186-dd2051af9119",
   "metadata": {},
   "outputs": [
    {
     "name": "stdout",
     "output_type": "stream",
     "text": [
      "Mean of an array is : 20.4\n"
     ]
    }
   ],
   "source": [
    "arr19 = np.array([12,21,23,34,12])\n",
    "mean = np.mean(arr19)\n",
    "print('Mean of an array is :',mean)"
   ]
  },
  {
   "cell_type": "markdown",
   "id": "b8331023-c06d-46f1-9153-dcf179df5405",
   "metadata": {},
   "source": [
    "## 2 median"
   ]
  },
  {
   "cell_type": "code",
   "execution_count": 207,
   "id": "16fc54d3-e300-4cfa-b629-1ab4ebc82bb1",
   "metadata": {},
   "outputs": [
    {
     "name": "stdout",
     "output_type": "stream",
     "text": [
      "Median of an array is : 21.0\n"
     ]
    }
   ],
   "source": [
    "median = np.median(arr19)\n",
    "print('Median of an array is :',median)"
   ]
  },
  {
   "cell_type": "markdown",
   "id": "049e329c-194f-4668-8bbb-d1fe74358976",
   "metadata": {},
   "source": [
    "## 3.variance"
   ]
  },
  {
   "cell_type": "code",
   "execution_count": 210,
   "id": "bb17bde5-2939-465e-bff0-c96d7b858127",
   "metadata": {},
   "outputs": [
    {
     "name": "stdout",
     "output_type": "stream",
     "text": [
      "Variance of an array is : 66.63999999999999\n"
     ]
    }
   ],
   "source": [
    "variance = np.var(arr19)\n",
    "print('Variance of an array is :',variance)"
   ]
  },
  {
   "cell_type": "markdown",
   "id": "ffff1d0a-ac96-45d7-964e-012fc4b87b3c",
   "metadata": {},
   "source": [
    "## 4. std >> used for standard aviation"
   ]
  },
  {
   "cell_type": "code",
   "execution_count": 213,
   "id": "c19fcbde-431a-4ebb-895c-727d09fa8e24",
   "metadata": {},
   "outputs": [
    {
     "name": "stdout",
     "output_type": "stream",
     "text": [
      "8.16333265278342\n"
     ]
    }
   ],
   "source": [
    "std = np.std(arr19)\n",
    "print(std)"
   ]
  },
  {
   "cell_type": "markdown",
   "id": "e5b5cce4-4673-4e31-81b9-c3bebc7baae7",
   "metadata": {},
   "source": [
    "## 5.mode >> mode is not present  in numpy "
   ]
  },
  {
   "cell_type": "code",
   "execution_count": 5,
   "id": "bd4d1d3c-aa7d-4f5e-84a8-60f42a98b628",
   "metadata": {},
   "outputs": [
    {
     "ename": "NameError",
     "evalue": "name 'np' is not defined",
     "output_type": "error",
     "traceback": [
      "\u001b[1;31m---------------------------------------------------------------------------\u001b[0m",
      "\u001b[1;31mNameError\u001b[0m                                 Traceback (most recent call last)",
      "Cell \u001b[1;32mIn[5], line 3\u001b[0m\n\u001b[0;32m      1\u001b[0m \u001b[38;5;28;01mfrom\u001b[39;00m \u001b[38;5;21;01mscipy\u001b[39;00m \u001b[38;5;28;01mimport\u001b[39;00m stats\n\u001b[1;32m----> 3\u001b[0m arr20 \u001b[38;5;241m=\u001b[39m np\u001b[38;5;241m.\u001b[39marray([\u001b[38;5;241m0\u001b[39m,\u001b[38;5;241m0\u001b[39m,\u001b[38;5;241m1\u001b[39m,\u001b[38;5;241m1\u001b[39m,\u001b[38;5;241m1\u001b[39m,\u001b[38;5;241m2\u001b[39m,\u001b[38;5;241m2\u001b[39m])\n\u001b[0;32m      4\u001b[0m mode \u001b[38;5;241m=\u001b[39m stats\u001b[38;5;241m.\u001b[39mmode(arr20)\n\u001b[0;32m      5\u001b[0m \u001b[38;5;28mprint\u001b[39m(\u001b[38;5;124m'\u001b[39m\u001b[38;5;124mMode of an array is :\u001b[39m\u001b[38;5;124m'\u001b[39m,mode)\n",
      "\u001b[1;31mNameError\u001b[0m: name 'np' is not defined"
     ]
    }
   ],
   "source": [
    "from scipy import stats\n",
    "\n",
    "arr20 = np.array([0,0,1,1,1,2,2])\n",
    "mode = stats.mode(arr20)\n",
    "print('Mode of an array is :',mode)"
   ]
  },
  {
   "cell_type": "markdown",
   "id": "e52c68ff-c590-4c5c-b185-a008d099d2ea",
   "metadata": {},
   "source": [
    "## 6 np.ceil >> retrun cloest integer greater than number"
   ]
  },
  {
   "cell_type": "code",
   "execution_count": 11,
   "id": "c6289813-07b1-4304-a8eb-700543d24858",
   "metadata": {},
   "outputs": [
    {
     "data": {
      "text/plain": [
       "array([ 6.,  4.,  5., 10.])"
      ]
     },
     "execution_count": 11,
     "metadata": {},
     "output_type": "execute_result"
    }
   ],
   "source": [
    "arr21 = np.array([5.2,3.5,4.7,9.1])\n",
    "np.ceil(arr21)"
   ]
  },
  {
   "cell_type": "markdown",
   "id": "7d872d25-e1b0-4ddb-a8f2-6c43a436be35",
   "metadata": {},
   "source": [
    "## 7  floor >> retrun previos integer "
   ]
  },
  {
   "cell_type": "code",
   "execution_count": 14,
   "id": "cceeccd5-5022-4c35-a2f4-a3cce41d9d17",
   "metadata": {},
   "outputs": [
    {
     "data": {
      "text/plain": [
       "array([5., 3., 4., 9.])"
      ]
     },
     "execution_count": 14,
     "metadata": {},
     "output_type": "execute_result"
    }
   ],
   "source": [
    "arr22 = np.array([5.2,3.5,4.7,9.1])\n",
    "np.floor(arr22)"
   ]
  },
  {
   "cell_type": "markdown",
   "id": "6f31611d-6474-45bd-93e0-dcc9721449b1",
   "metadata": {},
   "source": [
    "## 8.unique >> it will give unique number"
   ]
  },
  {
   "cell_type": "code",
   "execution_count": 21,
   "id": "4b6fbbcc-8c4d-4666-bfac-3ff4272bc127",
   "metadata": {},
   "outputs": [
    {
     "data": {
      "text/plain": [
       "array([12, 23, 32, 34])"
      ]
     },
     "execution_count": 21,
     "metadata": {},
     "output_type": "execute_result"
    }
   ],
   "source": [
    "arr23 = np.array([12,23,12,34,32])\n",
    "np.unique(arr23)"
   ]
  },
  {
   "cell_type": "markdown",
   "id": "b5165aa5-b6a6-4b11-a69b-24a76338a660",
   "metadata": {},
   "source": [
    "# Liner Algerbra"
   ]
  },
  {
   "cell_type": "code",
   "execution_count": 26,
   "id": "816819ec-c7b3-4e4e-9a14-554dc2e0a145",
   "metadata": {},
   "outputs": [
    {
     "data": {
      "text/plain": [
       "array([-1.42857143,  3.57142857])"
      ]
     },
     "execution_count": 26,
     "metadata": {},
     "output_type": "execute_result"
    }
   ],
   "source": [
    "''' 3X + 4Y = 10\n",
    "    2X + 5Y = 15 ''''\n",
    "A = np.array([[3,4],[2,5]])\n",
    "B = np.array([10,15])\n",
    "\n",
    "result = np.linalg.solve(A,B)\n",
    "result"
   ]
  },
  {
   "cell_type": "code",
   "execution_count": 28,
   "id": "e05a217d-8393-4b14-bb7c-47c655b2cbd5",
   "metadata": {},
   "outputs": [
    {
     "name": "stdout",
     "output_type": "stream",
     "text": [
      "[ 54. -30.]\n"
     ]
    }
   ],
   "source": [
    "''' x + y = 24\n",
    "    2x + 3y = 18  '''\n",
    "C = np.array([[1,1],[2,3]])\n",
    "D = np.array([24,18])\n",
    "\n",
    "r = np.linalg.solve(C,D)\n",
    "print(r)"
   ]
  },
  {
   "cell_type": "code",
   "execution_count": 32,
   "id": "79043cd4-6e99-4e55-8c08-91d54aa2680c",
   "metadata": {},
   "outputs": [
    {
     "name": "stdout",
     "output_type": "stream",
     "text": [
      "[1.95121951 0.85365854 1.70731707]\n"
     ]
    }
   ],
   "source": [
    "''' 2x + 3y + 5z = 15\n",
    "    3x + 10y + 15z = 40\n",
    "    5x - 2y + 7z = 20 '''\n",
    "E = np.array([[2,3,5],[3,10,15],[5,-2,7]])\n",
    "F = np.array([15,40,20])\n",
    "\n",
    "REE = np.linalg.solve(E,F)\n",
    "print(REE)"
   ]
  },
  {
   "cell_type": "markdown",
   "id": "9abf309e-94a1-4e9e-a804-5bdfb0915281",
   "metadata": {},
   "source": [
    "## log >> gives ans as a power"
   ]
  },
  {
   "cell_type": "code",
   "execution_count": 35,
   "id": "fb11560c-bd79-4ea9-9a31-2908118d16af",
   "metadata": {},
   "outputs": [
    {
     "data": {
      "text/plain": [
       "2.302585092994046"
      ]
     },
     "execution_count": 35,
     "metadata": {},
     "output_type": "execute_result"
    }
   ],
   "source": [
    "np.log(10) # natural log ,e = 2.71"
   ]
  },
  {
   "cell_type": "code",
   "execution_count": 38,
   "id": "c37c9150-4cc0-4f9d-9e77-f7f41d1d8027",
   "metadata": {},
   "outputs": [
    {
     "data": {
      "text/plain": [
       "1.6094379124341003"
      ]
     },
     "execution_count": 38,
     "metadata": {},
     "output_type": "execute_result"
    }
   ],
   "source": [
    "np.log(5)"
   ]
  },
  {
   "cell_type": "code",
   "execution_count": 40,
   "id": "601db128-c699-460e-a876-5a508e894830",
   "metadata": {},
   "outputs": [
    {
     "data": {
      "text/plain": [
       "0.0"
      ]
     },
     "execution_count": 40,
     "metadata": {},
     "output_type": "execute_result"
    }
   ],
   "source": [
    "np.log(1)"
   ]
  },
  {
   "cell_type": "code",
   "execution_count": 42,
   "id": "2f03f586-e122-47b3-99f5-6f3459d73d18",
   "metadata": {},
   "outputs": [
    {
     "data": {
      "text/plain": [
       "array([2.30258509, 2.63905733, 2.89037176, 2.94443898, 2.99573227])"
      ]
     },
     "execution_count": 42,
     "metadata": {},
     "output_type": "execute_result"
    }
   ],
   "source": [
    "np.log([10,14,18,19,20])"
   ]
  },
  {
   "cell_type": "markdown",
   "id": "7eb6c6e5-a1d1-48c9-a773-e84ffea88ddc",
   "metadata": {},
   "source": [
    "# Trignometry"
   ]
  },
  {
   "cell_type": "code",
   "execution_count": 45,
   "id": "8656d4eb-1945-4b02-962e-88af6da1a254",
   "metadata": {},
   "outputs": [
    {
     "data": {
      "text/plain": [
       "0.49999999999999994"
      ]
     },
     "execution_count": 45,
     "metadata": {},
     "output_type": "execute_result"
    }
   ],
   "source": [
    "# find sin30\n",
    "np.sin(np.pi/6) # np.sin(30) #0.5"
   ]
  },
  {
   "cell_type": "code",
   "execution_count": 53,
   "id": "6b88bf12-36b9-4ea5-af07-651b0777c895",
   "metadata": {},
   "outputs": [
    {
     "data": {
      "text/plain": [
       "0.7071067811865476"
      ]
     },
     "execution_count": 53,
     "metadata": {},
     "output_type": "execute_result"
    }
   ],
   "source": [
    "# find sin45\n",
    "np.sin(np.pi/4)"
   ]
  },
  {
   "cell_type": "code",
   "execution_count": 59,
   "id": "70e5ff0d-39eb-499a-b15b-dab813d4509f",
   "metadata": {},
   "outputs": [
    {
     "data": {
      "text/plain": [
       "1.7320508075688767"
      ]
     },
     "execution_count": 59,
     "metadata": {},
     "output_type": "execute_result"
    }
   ],
   "source": [
    "np.tan(np.pi/3)"
   ]
  },
  {
   "cell_type": "markdown",
   "id": "1a186714-ccdf-47dc-bfef-ef9fd60ed7e1",
   "metadata": {},
   "source": [
    "## Degree To Radian >> deg2rad()"
   ]
  },
  {
   "cell_type": "code",
   "execution_count": 61,
   "id": "bca76387-9c39-4749-9ad7-dafa6c67bc06",
   "metadata": {},
   "outputs": [
    {
     "data": {
      "text/plain": [
       "array([0.        , 0.52359878, 0.78539816, 1.04719755, 1.57079633])"
      ]
     },
     "execution_count": 61,
     "metadata": {},
     "output_type": "execute_result"
    }
   ],
   "source": [
    "arr = np.array([0,30,45,60,90])\n",
    "Radian = np.deg2rad(arr)\n",
    "Radian"
   ]
  },
  {
   "cell_type": "markdown",
   "id": "8d590d89-cf5b-4000-b62a-c39f3574a335",
   "metadata": {},
   "source": [
    "## Radian to Degree >> rad2deg()"
   ]
  },
  {
   "cell_type": "code",
   "execution_count": 65,
   "id": "be0d09af-2bb3-484a-aa28-2b9f0f88acb7",
   "metadata": {},
   "outputs": [
    {
     "data": {
      "text/plain": [
       "array([ 0.        , 30.00000025, 44.99999981, 59.99999993, 90.00000018])"
      ]
     },
     "execution_count": 65,
     "metadata": {},
     "output_type": "execute_result"
    }
   ],
   "source": [
    "Rad = np.array([0.        , 0.52359878, 0.78539816, 1.04719755, 1.57079633])\n",
    "deg = np.rad2deg(Rad)\n",
    "deg"
   ]
  },
  {
   "cell_type": "markdown",
   "id": "168d955b-9957-4db8-ae45-cc9c490370dd",
   "metadata": {},
   "source": [
    "# End of numpy"
   ]
  },
  {
   "cell_type": "code",
   "execution_count": null,
   "id": "ea88b32b-8e8f-46a6-a6c1-1cd50235a967",
   "metadata": {},
   "outputs": [],
   "source": []
  }
 ],
 "metadata": {
  "kernelspec": {
   "display_name": "Python 3 (ipykernel)",
   "language": "python",
   "name": "python3"
  },
  "language_info": {
   "codemirror_mode": {
    "name": "ipython",
    "version": 3
   },
   "file_extension": ".py",
   "mimetype": "text/x-python",
   "name": "python",
   "nbconvert_exporter": "python",
   "pygments_lexer": "ipython3",
   "version": "3.12.4"
  }
 },
 "nbformat": 4,
 "nbformat_minor": 5
}
