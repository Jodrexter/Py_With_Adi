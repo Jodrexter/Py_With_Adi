{
 "cells": [
  {
   "cell_type": "code",
   "execution_count": 5,
   "id": "d6f6285f-1615-4b1d-a552-487698507cd4",
   "metadata": {},
   "outputs": [
    {
     "name": "stdin",
     "output_type": "stream",
     "text": [
      "enter any number 1 : 5\n",
      "enter any number 2 : 6\n"
     ]
    },
    {
     "name": "stdout",
     "output_type": "stream",
     "text": [
      "odd\n"
     ]
    }
   ],
   "source": [
    "# take the two numbers from user and check if the sum of that two number is even or odd\n",
    "num1 = int(input(\"enter any number 1 :\"));\n",
    "num2 = int(input(\"enter any number 2 :\"));\n",
    "\n",
    "if (num1+num2)%2 == 0:\n",
    "    print(\"even\");\n",
    "else:\n",
    "   print(\"odd\");\n"
   ]
  },
  {
   "cell_type": "code",
   "execution_count": 17,
   "id": "605c5c1e-1c68-4a71-b9df-09123ab9fe7b",
   "metadata": {},
   "outputs": [
    {
     "name": "stdin",
     "output_type": "stream",
     "text": [
      "enter a name : adi\n"
     ]
    },
    {
     "name": "stdout",
     "output_type": "stream",
     "text": [
      "adi is odd\n"
     ]
    }
   ],
   "source": [
    "''' take a name from user and check if the length of the name is even\n",
    "or odd if the length of the name is even then print the name in reverse \n",
    "else print the alternate letters of the name '''\n",
    "\n",
    "name1 = input(\"enter a name :\");\n",
    "\n",
    "if len(name1)%2 == 0:\n",
    "    print(name1[::-1]);\n",
    "else:\n",
    "    print([2]);"
   ]
  },
  {
   "cell_type": "code",
   "execution_count": 43,
   "id": "7fdafcea-c896-4596-ba4f-8b812c8886f1",
   "metadata": {},
   "outputs": [
    {
     "name": "stdin",
     "output_type": "stream",
     "text": [
      "Enter distance : 12\n"
     ]
    },
    {
     "name": "stdout",
     "output_type": "stream",
     "text": [
      "216.0\n"
     ]
    }
   ],
   "source": [
    "''' take distance from user and if the distance is more than 100 then give them 20% discount,else give them 10% discount,\n",
    "print the discounted ticket price (1km = 20 rs)'''\n",
    "dist =int(input(\"Enter distance :\"));\n",
    "\n",
    "if dist >100:\n",
    "    print((dist*20)*0.8);\n",
    "else:\n",
    "    print((dist*20)*0.9);"
   ]
  },
  {
   "cell_type": "code",
   "execution_count": 27,
   "id": "eadd774a-6769-49d4-8b0e-e3915faba8d6",
   "metadata": {},
   "outputs": [
    {
     "name": "stdin",
     "output_type": "stream",
     "text": [
      "enter marks : 36\n"
     ]
    },
    {
     "name": "stdout",
     "output_type": "stream",
     "text": [
      "pass\n"
     ]
    }
   ],
   "source": [
    "''' take marks from user and print pass or fail, if marks is\n",
    "greater than 35 then pass otherwise fail.'''\n",
    "marks = int(input(\"enter marks :\"));\n",
    "if marks >35:\n",
    "    print(\"pass\");\n",
    "else:\n",
    "    print(\"Fail\");"
   ]
  },
  {
   "cell_type": "markdown",
   "id": "397369a1-53f4-4c24-9317-5d35887a0503",
   "metadata": {},
   "source": [
    "# and , or "
   ]
  },
  {
   "cell_type": "code",
   "execution_count": 67,
   "id": "e63f7640-0f43-4f5d-bcb2-d1a51910cc80",
   "metadata": {},
   "outputs": [
    {
     "name": "stdin",
     "output_type": "stream",
     "text": [
      "enter a number : 21\n"
     ]
    },
    {
     "name": "stdout",
     "output_type": "stream",
     "text": [
      "No\n"
     ]
    }
   ],
   "source": [
    "''' take a number from user and check if it is greater than 50 and \n",
    "even.'''\n",
    "num3 = int(input(\"enter a number :\"));\n",
    "if num3 > 50 and num3 % 2 == 0:\n",
    "    print(\"Yes\");\n",
    "else:\n",
    "    print(\"No\");"
   ]
  },
  {
   "cell_type": "code",
   "execution_count": 80,
   "id": "a6e9b40f-941e-43f7-b6fd-b0cb91030602",
   "metadata": {},
   "outputs": [
    {
     "name": "stdin",
     "output_type": "stream",
     "text": [
      "enter a num : 9\n"
     ]
    },
    {
     "name": "stdout",
     "output_type": "stream",
     "text": [
      "729\n"
     ]
    }
   ],
   "source": [
    "''' take a number from user and check if it is odd and multiple of 3 ,if it is then \n",
    "print its cube '''\n",
    "num4 = int(input(\"enter a num :\"));\n",
    "if num4 % 3 == 0 and num4 % 2 != 0:\n",
    "    print(num4**3);\n",
    "else:\n",
    "    print(\"condition not matched\");"
   ]
  },
  {
   "cell_type": "markdown",
   "id": "763907e3-87b0-479c-9392-0f727c9cedca",
   "metadata": {},
   "source": [
    "''' take a word from user and check if the length of the word is even or more than 3\n",
    "if it is then print the word else print the word in reverse '''"
   ]
  },
  {
   "cell_type": "code",
   "execution_count": 99,
   "id": "b3fbb4dd-f2be-4ecc-999d-18b8538e355e",
   "metadata": {},
   "outputs": [
    {
     "name": "stdin",
     "output_type": "stream",
     "text": [
      "Enter a name : ad\n"
     ]
    },
    {
     "ename": "TypeError",
     "evalue": "not all arguments converted during string formatting",
     "output_type": "error",
     "traceback": [
      "\u001b[1;31m---------------------------------------------------------------------------\u001b[0m",
      "\u001b[1;31mTypeError\u001b[0m                                 Traceback (most recent call last)",
      "Cell \u001b[1;32mIn[99], line 4\u001b[0m\n\u001b[0;32m      1\u001b[0m \u001b[38;5;124;03m''' take a word from user and check if the length of the word is even or more than 3 if it \u001b[39;00m\n\u001b[0;32m      2\u001b[0m \u001b[38;5;124;03mis then print the word else print the word in reverse '''\u001b[39;00m\n\u001b[0;32m      3\u001b[0m name4 \u001b[38;5;241m=\u001b[39m \u001b[38;5;28minput\u001b[39m(\u001b[38;5;124m\"\u001b[39m\u001b[38;5;124mEnter a name :\u001b[39m\u001b[38;5;124m\"\u001b[39m);\n\u001b[1;32m----> 4\u001b[0m \u001b[38;5;28;01mif\u001b[39;00m name4 \u001b[38;5;241m%\u001b[39m \u001b[38;5;241m2\u001b[39m \u001b[38;5;241m==\u001b[39m \u001b[38;5;241m0\u001b[39m:\n\u001b[0;32m      5\u001b[0m     \u001b[38;5;28mprint\u001b[39m(name4);\n\u001b[0;32m      6\u001b[0m \u001b[38;5;28;01melse\u001b[39;00m:\n",
      "\u001b[1;31mTypeError\u001b[0m: not all arguments converted during string formatting"
     ]
    }
   ],
   "source": [
    "''' take a word from user and check if the length of the word is even or more than 3 if it \n",
    "is then print the word else print the word in reverse '''\n"
   ]
  },
  {
   "cell_type": "code",
   "execution_count": 111,
   "id": "38b79f83-0541-49a3-a058-b63cb96158ed",
   "metadata": {},
   "outputs": [
    {
     "name": "stdin",
     "output_type": "stream",
     "text": [
      "Enter a name : ad\n"
     ]
    },
    {
     "name": "stdout",
     "output_type": "stream",
     "text": [
      "ad\n"
     ]
    }
   ],
   "source": [
    "name4 = input(\"Enter a name :\");\n",
    "if len(name4) % 2 == 0 and len(name4) < 3:\n",
    "    print(name4);\n",
    "else:\n",
    "   print(name4[::-1]);"
   ]
  },
  {
   "cell_type": "code",
   "execution_count": 117,
   "id": "160c7199-607e-4ff8-adcb-988660dfc9e8",
   "metadata": {},
   "outputs": [
    {
     "name": "stdin",
     "output_type": "stream",
     "text": [
      "Enter a name : anjal\n"
     ]
    },
    {
     "name": "stdout",
     "output_type": "stream",
     "text": [
      "girl\n"
     ]
    }
   ],
   "source": [
    "''' take a name from user and classify them as boy or girl '''\n",
    "name5 = input(\"Enter a name :\");\n",
    "if name5[-1]== 'a' or name5[-1]=='i':\n",
    "    print(\"boy\");\n",
    "else:\n",
    "    print(\"girl\");"
   ]
  },
  {
   "cell_type": "code",
   "execution_count": 121,
   "id": "fcab50f1-21c5-4a18-b6a8-066dbe91433c",
   "metadata": {},
   "outputs": [
    {
     "name": "stdin",
     "output_type": "stream",
     "text": [
      "enter a name : salue\n"
     ]
    },
    {
     "name": "stdout",
     "output_type": "stream",
     "text": [
      "sindhi\n"
     ]
    }
   ],
   "source": [
    "''' take a surname from user and classify them as sindhi or non sindhi '''\n",
    "name6 = input(\"enter a name :\");\n",
    "if name6[-1] == 'e':\n",
    "    print(\"sindhi\");\n",
    "else:\n",
    "    print(\"non sindhi\");"
   ]
  },
  {
   "cell_type": "code",
   "execution_count": 135,
   "id": "98fd8568-6b9f-43fb-8a73-625e9f921a2e",
   "metadata": {},
   "outputs": [
    {
     "name": "stdin",
     "output_type": "stream",
     "text": [
      "enter surname adi\n"
     ]
    },
    {
     "name": "stdout",
     "output_type": "stream",
     "text": [
      "non marathi\n"
     ]
    }
   ],
   "source": [
    "''' take a surname from user and classify them as marathi or non marathi'''\n",
    "name7 = input(\"enter surname\");\n",
    "if name7[-3::]=='kar' or name7[-1]=='e':\n",
    "    print(\"marathi\");\n",
    "else:\n",
    "    print(\"non marathi\");"
   ]
  },
  {
   "cell_type": "markdown",
   "id": "8db79a38-3c23-4b3b-bcd8-ed73029993de",
   "metadata": {},
   "source": [
    "## elif"
   ]
  },
  {
   "cell_type": "code",
   "execution_count": 146,
   "id": "2a07eb4c-91b1-4595-8c6e-0d0ca8cdaebc",
   "metadata": {},
   "outputs": [
    {
     "name": "stdin",
     "output_type": "stream",
     "text": [
      "Enter your age 50\n"
     ]
    },
    {
     "name": "stdout",
     "output_type": "stream",
     "text": [
      "old\n"
     ]
    }
   ],
   "source": [
    "''' take age from usr and classify them as young, adult or old, if age is less than 30 then print young, \n",
    "if age is between 31 to 50 then adult else old '''\n",
    "usr = int(input(\"Enter your age\"));\n",
    "if usr<=30:\n",
    "    print(\"young\");\n",
    "elif usr>31 and usr < 50:\n",
    "    print(\"adult\");\n",
    "else:\n",
    "    print(\"old\");\n"
   ]
  },
  {
   "cell_type": "code",
   "execution_count": 154,
   "id": "7dcb3d45-9fa3-4360-bc44-1be5caa93d77",
   "metadata": {},
   "outputs": [
    {
     "name": "stdin",
     "output_type": "stream",
     "text": [
      "ENTR YOUR AGE :  55\n"
     ]
    },
    {
     "name": "stdout",
     "output_type": "stream",
     "text": [
      "old\n"
     ]
    }
   ],
   "source": [
    "age = int(input(\"ENTR YOUR AGE : \"));\n",
    "if age<20:\n",
    "    print(\"Teenage\");\n",
    "elif age>21 and age<30:\n",
    "    print(\"young\");\n",
    "elif age>31 and age <50:\n",
    "    print(\"adult\");\n",
    "else:\n",
    "    print(\"old\");"
   ]
  },
  {
   "cell_type": "code",
   "execution_count": 166,
   "id": "2c926855-9f1e-436b-83f3-85e72c6c1370",
   "metadata": {},
   "outputs": [
    {
     "name": "stdin",
     "output_type": "stream",
     "text": [
      "enter a num : 0\n"
     ]
    },
    {
     "name": "stdout",
     "output_type": "stream",
     "text": [
      "zero\n"
     ]
    }
   ],
   "source": [
    "''' take a numb\n",
    "a = int(input(\"enter a num :\"));\n",
    "if a > 0:\n",
    "    print(\"postive\");\n",
    "elif a < 0:\n",
    "    print(\"negative\");\n",
    "else:\n",
    "    print(\"zero\");"
   ]
  },
  {
   "cell_type": "code",
   "execution_count": 174,
   "id": "cbc351b4-8789-4923-9dfe-8cd16e454be1",
   "metadata": {},
   "outputs": [
    {
     "name": "stdin",
     "output_type": "stream",
     "text": [
      "Enter a angle 99\n"
     ]
    },
    {
     "name": "stdout",
     "output_type": "stream",
     "text": [
      "obtuse\n"
     ]
    }
   ],
   "source": [
    "''' take  angle from user and classify it acute, obtuse or right angle '''\n",
    "\n",
    "b = int(input(\"Enter a angle\"));\n",
    "\n",
    "if b < 90:\n",
    "    print(\"acute\");\n",
    "elif b > 90:\n",
    "    print(\"obtuse\");\n",
    "else:\n",
    "    print(\"right angle\");"
   ]
  },
  {
   "cell_type": "code",
   "execution_count": 192,
   "id": "68ee3351-a873-4956-80b0-96285412df75",
   "metadata": {},
   "outputs": [
    {
     "name": "stdin",
     "output_type": "stream",
     "text": [
      "enter side 1  10\n",
      "enter side 2  12\n",
      "enter side 3  12\n"
     ]
    },
    {
     "name": "stdout",
     "output_type": "stream",
     "text": [
      "isocales\n"
     ]
    }
   ],
   "source": [
    "c = int(input(\"enter side 1 \"));\n",
    "d = int(input(\"enter side 2 \"));\n",
    "e = int(input(\"enter side 3 \"));\n",
    "\n",
    "if c  == d == e:\n",
    "    print(\"equilateral\");\n",
    "elif c == d or d == e or c == e:\n",
    "    print(\"isocales\");\n",
    "else:\n",
    "    print(\"scalane\");"
   ]
  },
  {
   "cell_type": "code",
   "execution_count": 196,
   "id": "66784a81-2e75-4e97-9f01-9159ef884c57",
   "metadata": {},
   "outputs": [
    {
     "name": "stdin",
     "output_type": "stream",
     "text": [
      "Enter percentage  34\n"
     ]
    }
   ],
   "source": [
    "''' take tota '''\n"
   ]
  },
  {
   "cell_type": "code",
   "execution_count": 212,
   "id": "9d926f89-54b6-4698-925f-af09bb0497c1",
   "metadata": {},
   "outputs": [
    {
     "ename": "SyntaxError",
     "evalue": "invalid syntax (723840116.py, line 13)",
     "output_type": "error",
     "traceback": [
      "\u001b[1;36m  Cell \u001b[1;32mIn[212], line 13\u001b[1;36m\u001b[0m\n\u001b[1;33m    elif per => 45 and per <= 60:\u001b[0m\n\u001b[1;37m             ^\u001b[0m\n\u001b[1;31mSyntaxError\u001b[0m\u001b[1;31m:\u001b[0m invalid syntax\n"
     ]
    }
   ],
   "source": [
    "''' take toatl percentage from user and give them a grade \n",
    "if percentage is more than 85 then A\n",
    "if bet 60 and 85 then b\n",
    "if bet 45 and 60 then c\n",
    "if bet 35 and 45 then d\n",
    "else fail '''\n",
    "per = int(input(\"Enter percentage \"));\n",
    "\n",
    "if per > 85:\n",
    "    print(\"a Grade\");\n",
    "elif per >= 60 and per <= 85:\n",
    "    print(\"B grade\");\n",
    "elif per => 45 and per <= 60:\n",
    "    print(\"C grade\");\n",
    "elif per => 35 and per <= 45:\n",
    "    print(\"D grade\");\n",
    "else:\n",
    "    (\"Fail\");"
   ]
  },
  {
   "cell_type": "code",
   "execution_count": 222,
   "id": "f7f2984a-3591-445c-9b27-2e33346905be",
   "metadata": {},
   "outputs": [
    {
     "name": "stdin",
     "output_type": "stream",
     "text": [
      "Enter num1: 23\n",
      "Enter num2: 12\n",
      "Enter num3: 11\n"
     ]
    },
    {
     "name": "stdout",
     "output_type": "stream",
     "text": [
      "23\n"
     ]
    }
   ],
   "source": [
    "''' take 3 number from user and print the largest one '''\n",
    "f = int(input(\"Enter num1:\"));\n",
    "g = int(input(\"Enter num2:\"));\n",
    "h = int(input(\"Enter num3:\"));\n",
    "\n",
    "if f>=g and f>=h:\n",
    "    print(f);\n",
    "elif g>=h and g>=f:\n",
    "    print(g);\n",
    "else:\n",
    "    print(h);"
   ]
  },
  {
   "cell_type": "code",
   "execution_count": 256,
   "id": "116d3b07-e126-4885-9ed0-46c5d5f137ce",
   "metadata": {},
   "outputs": [
    {
     "name": "stdin",
     "output_type": "stream",
     "text": [
      "enter age : 67\n",
      "Enter gender : male\n"
     ]
    },
    {
     "name": "stdout",
     "output_type": "stream",
     "text": [
      "eliigble\n"
     ]
    }
   ],
   "source": [
    "''' take age and gender from user and print whether they are eligible for retirement or not,\n",
    "for retirement of male age should be more than 60 and for female age should be more than 55'''\n",
    "age1 = int(input(\"enter age :\"));\n",
    "gender = input(\"Enter gender :\");\n",
    "if age1 > 60 and gender == 'male':\n",
    "    print(\"eliigble\");\n",
    "elif age1 > 55 and gender == 'female':\n",
    "    print(\"not eligbile\");\n",
    "else:\n",
    "    print(\"adult\");"
   ]
  },
  {
   "cell_type": "code",
   "execution_count": null,
   "id": "ae2e170d-2755-409e-a5fb-c51156fd8bb9",
   "metadata": {},
   "outputs": [],
   "source": []
  }
 ],
 "metadata": {
  "kernelspec": {
   "display_name": "Python 3 (ipykernel)",
   "language": "python",
   "name": "python3"
  },
  "language_info": {
   "codemirror_mode": {
    "name": "ipython",
    "version": 3
   },
   "file_extension": ".py",
   "mimetype": "text/x-python",
   "name": "python",
   "nbconvert_exporter": "python",
   "pygments_lexer": "ipython3",
   "version": "3.12.4"
  }
 },
 "nbformat": 4,
 "nbformat_minor": 5
}
