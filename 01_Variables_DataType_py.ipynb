{
 "cells": [
  {
   "cell_type": "markdown",
   "id": "78d70439-698f-490a-9ebc-b35c6cf44bc1",
   "metadata": {},
   "source": [
    "# Variables"
   ]
  },
  {
   "cell_type": "code",
   "execution_count": null,
   "id": "6bf0e531-4431-418e-a20b-383db79636f2",
   "metadata": {},
   "outputs": [],
   "source": [
    "# variable are used to store data or assign value"
   ]
  },
  {
   "cell_type": "markdown",
   "id": "a21ef17a-f2f8-4e4d-8ca9-dedd9bb744b1",
   "metadata": {},
   "source": [
    "a = 90\n",
    "# a is variable\n",
    "# 90 is value \n",
    "\n",
    "# rule for declaraing varaibles\n",
    "\n",
    "\n",
    "# 1 there shoud be no space in variable\n",
    "nu m = 1\n",
    "# 2 no special characters expect underscore\n",
    "nu#m = 9\n",
    "# 3 cannot start with number\n",
    "9num = 100"
   ]
  },
  {
   "cell_type": "code",
   "execution_count": 16,
   "id": "2bb08cae-e20f-418a-97dd-2b107a678aab",
   "metadata": {},
   "outputs": [
    {
     "ename": "SyntaxError",
     "evalue": "invalid syntax (3504056316.py, line 1)",
     "output_type": "error",
     "traceback": [
      "\u001b[1;36m  Cell \u001b[1;32mIn[16], line 1\u001b[1;36m\u001b[0m\n\u001b[1;33m    nu m =1\u001b[0m\n\u001b[1;37m       ^\u001b[0m\n\u001b[1;31mSyntaxError\u001b[0m\u001b[1;31m:\u001b[0m invalid syntax\n"
     ]
    }
   ],
   "source": [
    "nu m =1"
   ]
  },
  {
   "cell_type": "code",
   "execution_count": 20,
   "id": "613f098d-4653-43ce-a2d7-a401599bad38",
   "metadata": {},
   "outputs": [],
   "source": [
    "num = 1"
   ]
  },
  {
   "cell_type": "code",
   "execution_count": 14,
   "id": "2602f7ac-6dac-463d-9df5-1c67a7c3a814",
   "metadata": {},
   "outputs": [
    {
     "ename": "NameError",
     "evalue": "name 'nu' is not defined",
     "output_type": "error",
     "traceback": [
      "\u001b[1;31m---------------------------------------------------------------------------\u001b[0m",
      "\u001b[1;31mNameError\u001b[0m                                 Traceback (most recent call last)",
      "Cell \u001b[1;32mIn[14], line 1\u001b[0m\n\u001b[1;32m----> 1\u001b[0m nu\n",
      "\u001b[1;31mNameError\u001b[0m: name 'nu' is not defined"
     ]
    }
   ],
   "source": [
    "nu#m = 9"
   ]
  },
  {
   "cell_type": "code",
   "execution_count": 22,
   "id": "889074a4-1eed-4e8e-86a6-784b5476e0df",
   "metadata": {},
   "outputs": [],
   "source": [
    "num = 9"
   ]
  },
  {
   "cell_type": "code",
   "execution_count": 18,
   "id": "f163bc6c-ca56-47dc-945b-7d5c6e7dd857",
   "metadata": {},
   "outputs": [],
   "source": [
    "nu_m = 1"
   ]
  },
  {
   "cell_type": "code",
   "execution_count": 24,
   "id": "6d985a84-9d5f-4f83-a27d-872d9538b51b",
   "metadata": {},
   "outputs": [
    {
     "ename": "SyntaxError",
     "evalue": "invalid decimal literal (1345719304.py, line 1)",
     "output_type": "error",
     "traceback": [
      "\u001b[1;36m  Cell \u001b[1;32mIn[24], line 1\u001b[1;36m\u001b[0m\n\u001b[1;33m    9num = 1\u001b[0m\n\u001b[1;37m    ^\u001b[0m\n\u001b[1;31mSyntaxError\u001b[0m\u001b[1;31m:\u001b[0m invalid decimal literal\n"
     ]
    }
   ],
   "source": [
    "9num = 1"
   ]
  },
  {
   "cell_type": "code",
   "execution_count": 26,
   "id": "3cb8aa55-2fb8-4b84-9379-aa47387e085e",
   "metadata": {},
   "outputs": [],
   "source": [
    "num9 = 1"
   ]
  },
  {
   "cell_type": "code",
   "execution_count": 28,
   "id": "b69e2d6d-dd63-44e3-ba3d-92e66097a466",
   "metadata": {},
   "outputs": [
    {
     "ename": "SyntaxError",
     "evalue": "invalid syntax (242356706.py, line 1)",
     "output_type": "error",
     "traceback": [
      "\u001b[1;36m  Cell \u001b[1;32mIn[28], line 1\u001b[1;36m\u001b[0m\n\u001b[1;33m    num 9 =1\u001b[0m\n\u001b[1;37m        ^\u001b[0m\n\u001b[1;31mSyntaxError\u001b[0m\u001b[1;31m:\u001b[0m invalid syntax\n"
     ]
    }
   ],
   "source": [
    "num 9 =1"
   ]
  },
  {
   "cell_type": "markdown",
   "id": "4b635c9b-f0cf-4919-b1b7-bac2143fced3",
   "metadata": {},
   "source": [
    "# data and Datatypes"
   ]
  },
  {
   "cell_type": "code",
   "execution_count": null,
   "id": "811cc56b-f62b-4b4f-9e07-d1604803ffb6",
   "metadata": {},
   "outputs": [],
   "source": [
    "# 1 numeric\n",
    "# 1.1 integer\n",
    "# 1.2 float\n",
    "# 2 string"
   ]
  },
  {
   "cell_type": "code",
   "execution_count": 32,
   "id": "62f97d3b-7f4e-4b53-87aa-71008370ae39",
   "metadata": {},
   "outputs": [],
   "source": [
    "a = 100 #integer\n",
    "b = 9.4 #float\n",
    "c = 'adi' #string"
   ]
  },
  {
   "cell_type": "code",
   "execution_count": 34,
   "id": "74d8cbc1-b1e3-40a3-a043-5f71a84f3ead",
   "metadata": {},
   "outputs": [],
   "source": [
    "# take a variable and give it a value 210\n",
    "a = 210"
   ]
  },
  {
   "cell_type": "code",
   "execution_count": 36,
   "id": "c6b2ed51-074b-4bc7-a331-5b216103d1c4",
   "metadata": {},
   "outputs": [],
   "source": [
    "# take a varaible and give it a value vashi\n",
    "b = 'vashi'"
   ]
  },
  {
   "cell_type": "code",
   "execution_count": 38,
   "id": "dafedcbc-5472-4941-9555-544fb91ab553",
   "metadata": {},
   "outputs": [],
   "source": [
    "# take a varaible and give your emailid as value\n",
    "c = 'adi@gmail.com'"
   ]
  },
  {
   "cell_type": "markdown",
   "id": "f161352e-0cb7-48f5-806a-2b58a375cb5d",
   "metadata": {},
   "source": [
    "# print"
   ]
  },
  {
   "cell_type": "code",
   "execution_count": null,
   "id": "67961b58-dc6b-430c-8b5f-a0d0e2282252",
   "metadata": {},
   "outputs": [],
   "source": [
    "# print is used for o/p"
   ]
  },
  {
   "cell_type": "code",
   "execution_count": 41,
   "id": "e55cf7da-f505-4574-a10a-9f60af7775a4",
   "metadata": {},
   "outputs": [
    {
     "name": "stdout",
     "output_type": "stream",
     "text": [
      "210\n"
     ]
    }
   ],
   "source": [
    "print(a)"
   ]
  },
  {
   "cell_type": "markdown",
   "id": "a82d7690-029c-4e4b-aa55-bacb6ba04de4",
   "metadata": {},
   "source": [
    "# operation on numeric"
   ]
  },
  {
   "cell_type": "code",
   "execution_count": null,
   "id": "de7d0def-413d-4eac-bfb9-3f95499f29a0",
   "metadata": {},
   "outputs": [],
   "source": [
    "+ >> addition\n",
    "- >> subtraction\n",
    "* >> multiply\n",
    "/ >> divide\n",
    "** >> power\n",
    "% >> modulus >> for remiander"
   ]
  },
  {
   "cell_type": "code",
   "execution_count": 46,
   "id": "4e8f889c-7ead-43f5-b460-ff1ff9c9503e",
   "metadata": {},
   "outputs": [
    {
     "name": "stdout",
     "output_type": "stream",
     "text": [
      "1000\n"
     ]
    }
   ],
   "source": [
    "a = 10\n",
    "print(a**3)"
   ]
  },
  {
   "cell_type": "code",
   "execution_count": 50,
   "id": "13a2816d-1fdf-4c24-8ca0-27a35da7f9ce",
   "metadata": {},
   "outputs": [
    {
     "name": "stdout",
     "output_type": "stream",
     "text": [
      "1\n"
     ]
    }
   ],
   "source": [
    "b = 1\n",
    "print(b** 5)"
   ]
  },
  {
   "cell_type": "code",
   "execution_count": 52,
   "id": "74badd03-da2c-4c57-a443-d68dc68ef743",
   "metadata": {},
   "outputs": [
    {
     "name": "stdout",
     "output_type": "stream",
     "text": [
      "100000\n"
     ]
    }
   ],
   "source": [
    "b = 10\n",
    "print(b**5)"
   ]
  },
  {
   "cell_type": "code",
   "execution_count": 54,
   "id": "d2da4c43-4c94-42ab-900f-33618fcf3e3b",
   "metadata": {},
   "outputs": [],
   "source": [
    "a = 25/5"
   ]
  },
  {
   "cell_type": "code",
   "execution_count": 56,
   "id": "4f319cd5-7aa5-4b5b-81d9-9fadf505129a",
   "metadata": {},
   "outputs": [
    {
     "name": "stdout",
     "output_type": "stream",
     "text": [
      "5.0\n"
     ]
    }
   ],
   "source": [
    "print(a)"
   ]
  },
  {
   "cell_type": "code",
   "execution_count": 58,
   "id": "4aac4195-d7e0-408e-928e-ea39ea4b47e6",
   "metadata": {},
   "outputs": [
    {
     "name": "stdout",
     "output_type": "stream",
     "text": [
      "0\n"
     ]
    }
   ],
   "source": [
    "a = 25\n",
    "print(a%5)"
   ]
  },
  {
   "cell_type": "code",
   "execution_count": 60,
   "id": "f5294a45-3bb6-48f0-a048-63b530452756",
   "metadata": {},
   "outputs": [
    {
     "name": "stdout",
     "output_type": "stream",
     "text": [
      "0\n"
     ]
    }
   ],
   "source": [
    "a =100\n",
    "b = 200\n",
    "print(b%a)"
   ]
  },
  {
   "cell_type": "code",
   "execution_count": 64,
   "id": "567d205c-c203-42b7-8438-bce10ac6cbf4",
   "metadata": {},
   "outputs": [],
   "source": [
    "num1=100\n",
    "num2=10\n",
    "\n"
   ]
  },
  {
   "cell_type": "code",
   "execution_count": 90,
   "id": "7a80f1f3-7d40-4f6a-9419-db5cc7dd2f59",
   "metadata": {},
   "outputs": [
    {
     "name": "stdout",
     "output_type": "stream",
     "text": [
      "20\n"
     ]
    }
   ],
   "source": [
    "# show the double of num2\n",
    "print(num2*2)"
   ]
  },
  {
   "cell_type": "code",
   "execution_count": 68,
   "id": "833c4eba-7ead-408f-85d3-19e7dd81b40e",
   "metadata": {},
   "outputs": [
    {
     "name": "stdout",
     "output_type": "stream",
     "text": [
      "90\n"
     ]
    }
   ],
   "source": [
    "# show the difference of num1 and num2\n",
    "print(num1 - num2)"
   ]
  },
  {
   "cell_type": "code",
   "execution_count": 88,
   "id": "e0accd6d-5bab-4393-b8f4-234cd95a9db3",
   "metadata": {},
   "outputs": [
    {
     "name": "stdout",
     "output_type": "stream",
     "text": [
      "1000\n"
     ]
    }
   ],
   "source": [
    "# show the product of num1 and num2\n",
    "print(num1*num2)"
   ]
  },
  {
   "cell_type": "code",
   "execution_count": 74,
   "id": "8ecf43cc-d603-4989-b80a-474e86e49366",
   "metadata": {},
   "outputs": [
    {
     "name": "stdout",
     "output_type": "stream",
     "text": [
      "100\n"
     ]
    }
   ],
   "source": [
    "# show the square of num2\n",
    "print(num2**2)"
   ]
  },
  {
   "cell_type": "code",
   "execution_count": 76,
   "id": "a28dd670-687c-444e-aacb-9118b9e101b8",
   "metadata": {},
   "outputs": [
    {
     "name": "stdout",
     "output_type": "stream",
     "text": [
      "1000\n"
     ]
    }
   ],
   "source": [
    "# show the cube od num2\n",
    "print(num2**3)"
   ]
  },
  {
   "cell_type": "code",
   "execution_count": 92,
   "id": "4c82dd30-1357-4fab-8c49-09b7e0b5825b",
   "metadata": {},
   "outputs": [
    {
     "name": "stdout",
     "output_type": "stream",
     "text": [
      "300\n"
     ]
    }
   ],
   "source": [
    "# show the triple of num1\n",
    "print(num1*3)"
   ]
  },
  {
   "cell_type": "code",
   "execution_count": 94,
   "id": "7933cdb0-045a-4d6b-a073-ce3a0e3396dc",
   "metadata": {},
   "outputs": [
    {
     "name": "stdout",
     "output_type": "stream",
     "text": [
      "10.0\n"
     ]
    }
   ],
   "source": [
    "# show the square root of num1\n",
    "print(num1**0.5)"
   ]
  },
  {
   "cell_type": "code",
   "execution_count": 84,
   "id": "821543f8-506f-45e2-9cbc-a66c5fe6aaf0",
   "metadata": {},
   "outputs": [
    {
     "name": "stdout",
     "output_type": "stream",
     "text": [
      "140\n"
     ]
    }
   ],
   "source": [
    "# show the addition of num1,num2 and 30\n",
    "print(num1+num2+30)\n"
   ]
  },
  {
   "cell_type": "code",
   "execution_count": 82,
   "id": "7e23d44d-896d-49f1-a008-56bc2e9b645a",
   "metadata": {},
   "outputs": [
    {
     "name": "stdout",
     "output_type": "stream",
     "text": [
      "0\n"
     ]
    }
   ],
   "source": [
    "# what will be the remainder when we divde by num1 by num2\n",
    "print(num1%num2)"
   ]
  },
  {
   "cell_type": "code",
   "execution_count": 86,
   "id": "1a69e86c-ea13-4f5c-bb0a-5bcdf6693bab",
   "metadata": {},
   "outputs": [
    {
     "name": "stdout",
     "output_type": "stream",
     "text": [
      "20.0\n"
     ]
    }
   ],
   "source": [
    "# how many equal parts will be there if we divide num1 by 5\n",
    "print(num1/5)"
   ]
  },
  {
   "cell_type": "code",
   "execution_count": 100,
   "id": "d8d4d12e-aac9-4e0f-8dc1-b3532182ce10",
   "metadata": {},
   "outputs": [],
   "source": [
    "num1=34\n",
    "# show the 10% of num1\n"
   ]
  },
  {
   "cell_type": "code",
   "execution_count": 104,
   "id": "3c0746db-e54e-45cb-b3a0-d608a0054655",
   "metadata": {},
   "outputs": [
    {
     "name": "stdout",
     "output_type": "stream",
     "text": [
      "3.7777777777777777\n"
     ]
    },
    {
     "ename": "TypeError",
     "evalue": "unsupported operand type(s) for *: 'NoneType' and 'int'",
     "output_type": "error",
     "traceback": [
      "\u001b[1;31m---------------------------------------------------------------------------\u001b[0m",
      "\u001b[1;31mTypeError\u001b[0m                                 Traceback (most recent call last)",
      "Cell \u001b[1;32mIn[104], line 1\u001b[0m\n\u001b[1;32m----> 1\u001b[0m \u001b[38;5;28mprint\u001b[39m(num1\u001b[38;5;241m/\u001b[39m\u001b[38;5;241m9\u001b[39m)\u001b[38;5;241m*\u001b[39m\u001b[38;5;241m100\u001b[39m\n",
      "\u001b[1;31mTypeError\u001b[0m: unsupported operand type(s) for *: 'NoneType' and 'int'"
     ]
    }
   ],
   "source": [
    "print(num1/9)*100"
   ]
  },
  {
   "cell_type": "code",
   "execution_count": 106,
   "id": "7a89a0bf-ea1d-42cd-84bd-808b9c471f84",
   "metadata": {},
   "outputs": [
    {
     "name": "stdout",
     "output_type": "stream",
     "text": [
      "3.06\n"
     ]
    }
   ],
   "source": [
    "print(num1*0.09)"
   ]
  },
  {
   "cell_type": "markdown",
   "id": "6675e633-4bbc-491f-9b05-fbfc82b0e4d0",
   "metadata": {},
   "source": [
    "# operation on string"
   ]
  },
  {
   "cell_type": "code",
   "execution_count": 113,
   "id": "8745378b-a5e9-4484-b5f2-09e88ed0c9c3",
   "metadata": {},
   "outputs": [
    {
     "name": "stdout",
     "output_type": "stream",
     "text": [
      "adisalgaonkar\n"
     ]
    }
   ],
   "source": [
    "#concat\n",
    "name = 'adi'\n",
    "sur_name = 'salgaonkar'\n",
    "print(name+sur_name) #concat"
   ]
  },
  {
   "cell_type": "code",
   "execution_count": 115,
   "id": "1401e9df-1c90-498b-a3df-43e4557d703c",
   "metadata": {},
   "outputs": [
    {
     "ename": "TypeError",
     "evalue": "unsupported operand type(s) for -: 'str' and 'str'",
     "output_type": "error",
     "traceback": [
      "\u001b[1;31m---------------------------------------------------------------------------\u001b[0m",
      "\u001b[1;31mTypeError\u001b[0m                                 Traceback (most recent call last)",
      "Cell \u001b[1;32mIn[115], line 1\u001b[0m\n\u001b[1;32m----> 1\u001b[0m \u001b[38;5;28mprint\u001b[39m(name\u001b[38;5;241m-\u001b[39msur_name)\n",
      "\u001b[1;31mTypeError\u001b[0m: unsupported operand type(s) for -: 'str' and 'str'"
     ]
    }
   ],
   "source": [
    "print(name-sur_name)"
   ]
  },
  {
   "cell_type": "code",
   "execution_count": 117,
   "id": "78b2f9f3-6dce-44e4-87ad-277b4f644079",
   "metadata": {},
   "outputs": [
    {
     "name": "stdout",
     "output_type": "stream",
     "text": [
      "ADI\n"
     ]
    }
   ],
   "source": [
    "# .upper\n",
    "print(name.upper())"
   ]
  },
  {
   "cell_type": "code",
   "execution_count": 119,
   "id": "202333db-8cdd-427d-81eb-a452e09d369e",
   "metadata": {},
   "outputs": [],
   "source": [
    "# .lower"
   ]
  },
  {
   "cell_type": "code",
   "execution_count": 121,
   "id": "e252c725-f609-4f59-9e45-31f824726672",
   "metadata": {},
   "outputs": [
    {
     "name": "stdout",
     "output_type": "stream",
     "text": [
      "adi\n"
     ]
    }
   ],
   "source": [
    "print(name.lower())"
   ]
  },
  {
   "cell_type": "code",
   "execution_count": 123,
   "id": "37b70afb-6771-478c-ac4a-0571baffddd8",
   "metadata": {},
   "outputs": [],
   "source": [
    "n=25\n",
    "m=5"
   ]
  },
  {
   "cell_type": "code",
   "execution_count": 131,
   "id": "2e1d7c34-0745-4f76-bd53-1493083a1ab6",
   "metadata": {},
   "outputs": [
    {
     "name": "stdout",
     "output_type": "stream",
     "text": [
      "900\n"
     ]
    }
   ],
   "source": [
    "# shwo the square of addition of n and m\n",
    "print((n+m)**2)"
   ]
  },
  {
   "cell_type": "code",
   "execution_count": 133,
   "id": "581f42b8-9441-4a51-8840-f6dee0fca328",
   "metadata": {},
   "outputs": [
    {
     "name": "stdout",
     "output_type": "stream",
     "text": [
      "650\n"
     ]
    }
   ],
   "source": [
    "# show the addition of squares of n and m\n",
    "print((n)**2+ (m)**2)"
   ]
  },
  {
   "cell_type": "code",
   "execution_count": 135,
   "id": "c20a4686-a2d0-442f-a049-1abacac88b8c",
   "metadata": {},
   "outputs": [
    {
     "name": "stdout",
     "output_type": "stream",
     "text": [
      "8\n"
     ]
    }
   ],
   "source": [
    "# show the cube of half of 4\n",
    "print(2**3)"
   ]
  },
  {
   "cell_type": "code",
   "execution_count": 137,
   "id": "e9422d2e-0dbd-48f8-bec2-d3bf287fe861",
   "metadata": {},
   "outputs": [
    {
     "name": "stdout",
     "output_type": "stream",
     "text": [
      "20\n"
     ]
    }
   ],
   "source": [
    "# show the differnece of n and m\n",
    "print(n-m)"
   ]
  },
  {
   "cell_type": "code",
   "execution_count": 147,
   "id": "73693e07-4a66-4965-a8d1-90e354392af7",
   "metadata": {},
   "outputs": [
    {
     "name": "stdout",
     "output_type": "stream",
     "text": [
      "6.25\n"
     ]
    }
   ],
   "source": [
    "# show the 25% of n\n",
    "print(n*0.25)\n",
    "\n",
    "    "
   ]
  },
  {
   "cell_type": "code",
   "execution_count": 139,
   "id": "071a86a0-ba50-4436-80ef-48cba5794d78",
   "metadata": {},
   "outputs": [
    {
     "name": "stdout",
     "output_type": "stream",
     "text": [
      "250\n"
     ]
    }
   ],
   "source": [
    "# show the double of cube of m\n",
    "print(((m)**3)*2)"
   ]
  },
  {
   "cell_type": "code",
   "execution_count": 141,
   "id": "ca304b94-9043-40ae-921e-75c2644071e2",
   "metadata": {},
   "outputs": [],
   "source": [
    "s = 'data'"
   ]
  },
  {
   "cell_type": "code",
   "execution_count": 145,
   "id": "4ffe45be-194e-47a0-8339-ad5219ebc8d2",
   "metadata": {},
   "outputs": [
    {
     "name": "stdout",
     "output_type": "stream",
     "text": [
      "DATA\n"
     ]
    }
   ],
   "source": [
    "print(s.upper())"
   ]
  },
  {
   "cell_type": "code",
   "execution_count": null,
   "id": "a3ff9916-89b7-45ef-af0b-5be6437af5d0",
   "metadata": {},
   "outputs": [],
   "source": []
  },
  {
   "cell_type": "code",
   "execution_count": null,
   "id": "208384d3-b20f-43e1-999a-4f39bb71d9a9",
   "metadata": {},
   "outputs": [],
   "source": []
  }
 ],
 "metadata": {
  "kernelspec": {
   "display_name": "Python 3 (ipykernel)",
   "language": "python",
   "name": "python3"
  },
  "language_info": {
   "codemirror_mode": {
    "name": "ipython",
    "version": 3
   },
   "file_extension": ".py",
   "mimetype": "text/x-python",
   "name": "python",
   "nbconvert_exporter": "python",
   "pygments_lexer": "ipython3",
   "version": "3.12.4"
  }
 },
 "nbformat": 4,
 "nbformat_minor": 5
}
