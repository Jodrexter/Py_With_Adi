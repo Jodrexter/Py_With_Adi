{
 "cells": [
  {
   "cell_type": "markdown",
   "id": "c8e8ee0f-ca2a-456f-aa90-d4ee3fb329c7",
   "metadata": {},
   "source": [
    "# First Heading"
   ]
  },
  {
   "cell_type": "markdown",
   "id": "53843266-c1b7-466b-9446-b25ee0db20f9",
   "metadata": {},
   "source": [
    "## Second Heading"
   ]
  },
  {
   "cell_type": "markdown",
   "id": "89a1509c-b7cf-47c6-ba44-3400739c81dd",
   "metadata": {},
   "source": [
    "### Third Heading"
   ]
  },
  {
   "cell_type": "code",
   "execution_count": 8,
   "id": "f40d6a5b-6d61-4020-9bb9-660fe1e6d71e",
   "metadata": {},
   "outputs": [
    {
     "ename": "NameError",
     "evalue": "name 'hello' is not defined",
     "output_type": "error",
     "traceback": [
      "\u001b[1;31m---------------------------------------------------------------------------\u001b[0m",
      "\u001b[1;31mNameError\u001b[0m                                 Traceback (most recent call last)",
      "Cell \u001b[1;32mIn[8], line 1\u001b[0m\n\u001b[1;32m----> 1\u001b[0m hello\n",
      "\u001b[1;31mNameError\u001b[0m: name 'hello' is not defined"
     ]
    }
   ],
   "source": [
    "hello"
   ]
  },
  {
   "cell_type": "raw",
   "id": "dd3e455c-7eb2-40cc-bbfc-03cda56fc42a",
   "metadata": {},
   "source": [
    "hello"
   ]
  },
  {
   "cell_type": "code",
   "execution_count": 10,
   "id": "8636a8cc-d5d4-476f-be16-81bc8a104f3e",
   "metadata": {},
   "outputs": [
    {
     "name": "stdout",
     "output_type": "stream",
     "text": [
      "30\n"
     ]
    }
   ],
   "source": [
    "a = 10\n",
    "b = 20\n",
    "print(a+b) "
   ]
  },
  {
   "cell_type": "code",
   "execution_count": 12,
   "id": "b4644e6c-675d-465f-8dd1-d90baff9104e",
   "metadata": {},
   "outputs": [
    {
     "data": {
      "text/plain": [
       "' This is \\nmultiline comment '"
      ]
     },
     "execution_count": 12,
     "metadata": {},
     "output_type": "execute_result"
    }
   ],
   "source": [
    "''' This is \n",
    "multiline comment '''"
   ]
  },
  {
   "cell_type": "code",
   "execution_count": null,
   "id": "e8456d0e-8ad3-4fce-b959-78c918f5694a",
   "metadata": {},
   "outputs": [],
   "source": []
  }
 ],
 "metadata": {
  "kernelspec": {
   "display_name": "Python 3 (ipykernel)",
   "language": "python",
   "name": "python3"
  },
  "language_info": {
   "codemirror_mode": {
    "name": "ipython",
    "version": 3
   },
   "file_extension": ".py",
   "mimetype": "text/x-python",
   "name": "python",
   "nbconvert_exporter": "python",
   "pygments_lexer": "ipython3",
   "version": "3.12.4"
  }
 },
 "nbformat": 4,
 "nbformat_minor": 5
}
