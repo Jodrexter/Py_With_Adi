{
 "cells": [
  {
   "cell_type": "code",
   "execution_count": null,
   "id": "e9503a94-f371-43e7-b8e4-b011e5fd63da",
   "metadata": {},
   "outputs": [],
   "source": [
    "''' 1. Write a Python program to calculate the electricity bill based on units consumed:\n",
    "For the first 100 units: 5rs/unit\n",
    "For the next 100 units: 10rs/unit\n",
    "For the next 100 units: 15rs/unit\n",
    "Above 300 units: 20rs/unit\n",
    "Take units from user.\n",
    "\n",
    "2. Write a Python program that takes coordinates (x, y) from user and identifies the quadrant in which the point lies.\n",
    "\n",
    "\n",
    "3. Write a Python program to convert Celsius to Fahrenheit and check if the converted temperature is above or below freezing (32°F).take celsius temp from user.\n",
    "\n",
    "4. Write a Python program that takes a fruit name and quantity of fruit from user and returns its total price :\n",
    "Apple: 200rs/kg\n",
    "Banana: 80rs/kg\n",
    "Orange: 120rs/kg\n",
    "Any other fruit: 80rs/kg'''"
   ]
  },
  {
   "cell_type": "code",
   "execution_count": 75,
   "id": "50c895fd-b8d9-4c4f-ae7f-46c313c1df1a",
   "metadata": {},
   "outputs": [
    {
     "name": "stdin",
     "output_type": "stream",
     "text": [
      "enter units for electricity  99\n"
     ]
    },
    {
     "name": "stdout",
     "output_type": "stream",
     "text": [
      "495 rs\n"
     ]
    }
   ],
   "source": [
    "''' 1. Write a Python program to calculate the electricity bill based on units consumed:\n",
    "For the first 100 units: 5rs/unit\n",
    "For the next 100 units: 10rs/unit\n",
    "For the next 100 units: 15rs/unit\n",
    "Above 300 units: 20rs/unit\n",
    "Take units from user.'''\n",
    "\n",
    "unit = int(input(\"enter units for electricity \"));\n",
    "\n",
    "if unit <100:\n",
    "     print(unit*5,\"rs\");\n",
    "elif unit >100 and unit <200:\n",
    "      print(unit*10,\"rs\");\n",
    "elif unit >200 and unit <300:\n",
    "     print(unit*15,\"rs\");\n",
    "elif unit > 300:\n",
    "     print(unit*20,\"rs\");\n",
    "else:\n",
    "    print(\"Unit is above to much\");\n",
    "\n",
    "\n"
   ]
  },
  {
   "cell_type": "code",
   "execution_count": 31,
   "id": "d3e179d0-cc02-49fe-8b57-08ec212beb12",
   "metadata": {},
   "outputs": [
    {
     "name": "stdin",
     "output_type": "stream",
     "text": [
      "Enter value of x  9\n",
      "Enter value of y  -7\n"
     ]
    },
    {
     "name": "stdout",
     "output_type": "stream",
     "text": [
      "Qudarant 4\n"
     ]
    }
   ],
   "source": [
    "''' 2. Write a Python program that takes coordinates (x, y) from user \n",
    "and identifies the quadrant in which the point lies.'''\n",
    "x = int(input(\"Enter value of x \"));\n",
    "y = int(input(\"Enter value of y \"));\n",
    "\n",
    "if x > 0 and y > 0:\n",
    "    print(\"Qudarant 1\");\n",
    "elif x < 0 and y > 0:\n",
    "    print(\"Qudarant 2\");\n",
    "elif x < 0 and y < 0:\n",
    "    print(\"Qudarant 3\");\n",
    "elif x > 0 and y < 0:\n",
    "    print(\"Qudarant 4\");\n",
    "else:\n",
    "    print(\"Not\");\n",
    "    "
   ]
  },
  {
   "cell_type": "code",
   "execution_count": 63,
   "id": "4ef7e609-de2c-4e94-9d42-5cca2dc6c72a",
   "metadata": {},
   "outputs": [
    {
     "name": "stdin",
     "output_type": "stream",
     "text": [
      "ENTER TEMP  0\n"
     ]
    },
    {
     "name": "stdout",
     "output_type": "stream",
     "text": [
      "Not Freezing\n"
     ]
    }
   ],
   "source": [
    "''' 3. Write a Python program to convert Celsius to Fahrenheit and check if the converted temperature is \n",
    "above or below freezing (32°F).take celsius temp from user. '''\n",
    "temp = int(input(\"ENTER TEMP \"));\n",
    "Fahrenheit = temp*(9/5) + 32;\n",
    "if Fahrenheit > 32 :\n",
    "    print(\"above Freezing\");\n",
    "elif Fahrenheit < 32 :\n",
    "    print(\"below Freezing\");\n",
    "else:\n",
    "    print(\"Not Freezing\");\n"
   ]
  },
  {
   "cell_type": "code",
   "execution_count": 81,
   "id": "db4ada32-40af-48f9-b17b-322ab9432725",
   "metadata": {},
   "outputs": [
    {
     "name": "stdin",
     "output_type": "stream",
     "text": [
      "ENTER FRUIT NAME Apple\n",
      "ENTER QUANTITY  5\n"
     ]
    },
    {
     "name": "stdout",
     "output_type": "stream",
     "text": [
      "100\n"
     ]
    }
   ],
   "source": [
    "''' 4. Write a Python program that takes a fruit name and quantity of fruit from user and returns its total price :\n",
    "Apple: 200rs/kg\n",
    "Banana: 80rs/kg\n",
    "Orange: 120rs/kg\n",
    "Any other fruit: 80rs/kg'''\n",
    "\n",
    "fruit = input(\"ENTER FRUIT NAME\");\n",
    "quantity = int(input(\"ENTER QUANTITY \"));\n",
    "\n",
    "if fruit == 'Apple':\n",
    "    print(quantity*200);\n",
    "elif fruit == 'Banana':\n",
    "    print(quantity*80);\n",
    "elif fruit == 'Orange':\n",
    "    print(quantity*120);\n",
    "else:\n",
    "    \n",
    "    print(quantity*80);\n",
    "\n"
   ]
  },
  {
   "cell_type": "markdown",
   "id": "84eaefa1-fdd6-402d-8b60-84ee5149806d",
   "metadata": {},
   "source": [
    "#  loop"
   ]
  },
  {
   "cell_type": "code",
   "execution_count": 87,
   "id": "1581032b-a54e-41a2-8834-c115ce650f47",
   "metadata": {},
   "outputs": [],
   "source": [
    "## for loop\n",
    "\n",
    "\n",
    "\n"
   ]
  },
  {
   "cell_type": "code",
   "execution_count": 93,
   "id": "893319f6-62fc-4a23-a90a-a458df35c833",
   "metadata": {},
   "outputs": [
    {
     "name": "stdout",
     "output_type": "stream",
     "text": [
      "121\n",
      "144\n",
      "169\n",
      "196\n",
      "225\n"
     ]
    }
   ],
   "source": [
    "# print square of all elements of list k\n",
    "a = [11,12,13,14,15];\n",
    "for i in a:\n",
    "    print(i**2);"
   ]
  },
  {
   "cell_type": "code",
   "execution_count": 95,
   "id": "afd1d1b6-2a8e-41d6-b748-4cc9432b310c",
   "metadata": {},
   "outputs": [
    {
     "name": "stdout",
     "output_type": "stream",
     "text": [
      "22\n",
      "24\n",
      "26\n",
      "28\n",
      "30\n"
     ]
    }
   ],
   "source": [
    "# print double of all elements\n",
    "for i in a:\n",
    "    print(i*2);"
   ]
  },
  {
   "cell_type": "code",
   "execution_count": 97,
   "id": "c5529dc5-8e21-4bfc-8613-11a0d847117b",
   "metadata": {},
   "outputs": [
    {
     "name": "stdout",
     "output_type": "stream",
     "text": [
      "33\n",
      "36\n",
      "39\n",
      "42\n",
      "45\n"
     ]
    }
   ],
   "source": [
    "# print triple of all elements\n",
    "for i in a:\n",
    "    print(i*3);"
   ]
  },
  {
   "cell_type": "code",
   "execution_count": 99,
   "id": "fc9bd945-757c-420d-9eed-7f76ed928aa1",
   "metadata": {},
   "outputs": [
    {
     "name": "stdout",
     "output_type": "stream",
     "text": [
      "111\n",
      "112\n",
      "113\n",
      "114\n",
      "115\n"
     ]
    }
   ],
   "source": [
    "# add 100 to all elements\n",
    "for i in a:\n",
    "    print(i+100);"
   ]
  },
  {
   "cell_type": "code",
   "execution_count": 101,
   "id": "00f66499-e7ce-4ea7-8d7a-8af52d7ee94f",
   "metadata": {},
   "outputs": [
    {
     "name": "stdout",
     "output_type": "stream",
     "text": [
      "5.5\n",
      "6.0\n",
      "6.5\n",
      "7.0\n",
      "7.5\n"
     ]
    }
   ],
   "source": [
    "# print the half of all elements\n",
    "for i in a:\n",
    "    print(i/2);"
   ]
  },
  {
   "cell_type": "markdown",
   "id": "8d55fb9b-ed3a-4884-9291-7ba7ee17ef72",
   "metadata": {},
   "source": [
    "## range (limit)"
   ]
  },
  {
   "cell_type": "code",
   "execution_count": 106,
   "id": "bcf6fe2a-5707-4f66-9d7f-177388e8ae75",
   "metadata": {},
   "outputs": [
    {
     "name": "stdout",
     "output_type": "stream",
     "text": [
      "[10, 11, 12, 13, 14, 15, 16, 17, 18, 19, 20]\n"
     ]
    }
   ],
   "source": [
    "f = list(range(10,21))\n",
    "print(f)"
   ]
  },
  {
   "cell_type": "code",
   "execution_count": 108,
   "id": "edba48d8-5a05-4a0d-9f77-85415af26404",
   "metadata": {},
   "outputs": [
    {
     "name": "stdout",
     "output_type": "stream",
     "text": [
      "[10, 12, 14, 16, 18, 20]\n"
     ]
    }
   ],
   "source": [
    "d = list(range(10,21,2))\n",
    "print(d)"
   ]
  },
  {
   "cell_type": "code",
   "execution_count": 112,
   "id": "ef4bef9b-7fd6-46d0-b199-1e3bcaab8ec3",
   "metadata": {},
   "outputs": [
    {
     "name": "stdout",
     "output_type": "stream",
     "text": [
      "{10, 11, 12, 13, 14, 15, 16, 17, 18, 19}\n"
     ]
    }
   ],
   "source": [
    "m = set(range(10,20))\n",
    "print(m)"
   ]
  },
  {
   "cell_type": "code",
   "execution_count": 114,
   "id": "18b00168-030d-41ee-b8a5-59998e76625a",
   "metadata": {},
   "outputs": [
    {
     "name": "stdout",
     "output_type": "stream",
     "text": [
      "(10, 11, 12, 13, 14, 15, 16, 17, 18, 19)\n"
     ]
    }
   ],
   "source": [
    "n = tuple(range(10,20))\n",
    "print(n)"
   ]
  },
  {
   "cell_type": "code",
   "execution_count": 116,
   "id": "88343d8a-a2a4-4410-89d7-8f2ede78a774",
   "metadata": {},
   "outputs": [
    {
     "name": "stdout",
     "output_type": "stream",
     "text": [
      "[20, 21, 22, 23, 24, 25, 26, 27, 28, 29, 30, 31, 32, 33, 34, 35, 36, 37, 38, 39, 40]\n"
     ]
    }
   ],
   "source": [
    "# create a list of integers from 20 to 40\n",
    "b = list(range(20,41))\n",
    "print(b);"
   ]
  },
  {
   "cell_type": "code",
   "execution_count": 118,
   "id": "3cf3cc70-7fe0-4357-af60-4bffaf137f88",
   "metadata": {},
   "outputs": [
    {
     "name": "stdout",
     "output_type": "stream",
     "text": [
      "[12, 14, 16, 18, 20, 22]\n"
     ]
    }
   ],
   "source": [
    "# create a llist of even interger from 12 to 22\n",
    "c = list(range(12,23,2))\n",
    "print(c);"
   ]
  },
  {
   "cell_type": "code",
   "execution_count": 138,
   "id": "9cb2fe8a-838f-49fb-85f1-405a7d9f3c14",
   "metadata": {},
   "outputs": [
    {
     "name": "stdout",
     "output_type": "stream",
     "text": [
      "[11, 13, 15, 17, 19, 21, 23, 25, 27, 29, 31]\n"
     ]
    }
   ],
   "source": [
    "# create a list of odd interger from 11 to 31\n",
    "e = list(range(11,32,2))\n",
    "print(e);"
   ]
  },
  {
   "cell_type": "code",
   "execution_count": 130,
   "id": "6a2ec281-ac81-4206-8f44-494df1537e58",
   "metadata": {},
   "outputs": [
    {
     "name": "stdout",
     "output_type": "stream",
     "text": [
      "20 double is  40\n",
      "22 double is  44\n",
      "24 double is  48\n",
      "26 double is  52\n",
      "28 double is  56\n",
      "30 double is  60\n",
      "32 double is  64\n",
      "34 double is  68\n",
      "36 double is  72\n",
      "38 double is  76\n",
      "40 double is  80\n"
     ]
    }
   ],
   "source": [
    "# print the double of every even integer from 20 to 40\n",
    "for i in range(20,41,2):\n",
    "    print(i,\"double is \",i*2);"
   ]
  },
  {
   "cell_type": "code",
   "execution_count": 140,
   "id": "0d1abf41-8a6e-440c-819e-27974eaaac74",
   "metadata": {},
   "outputs": [
    {
     "name": "stdout",
     "output_type": "stream",
     "text": [
      "11 Half of 5.5\n",
      "13 Half of 6.5\n",
      "15 Half of 7.5\n",
      "17 Half of 8.5\n",
      "19 Half of 9.5\n"
     ]
    }
   ],
   "source": [
    "# print the half of all odd integers from 11 to 19\n",
    "for i in range(11,20,2):\n",
    "    print(i,\"Half of\",i/2);"
   ]
  },
  {
   "cell_type": "code",
   "execution_count": 160,
   "id": "b59d2ac0-9bed-4176-9cbe-d5f5735d4b2b",
   "metadata": {},
   "outputs": [
    {
     "name": "stdout",
     "output_type": "stream",
     "text": [
      "even 12\n",
      "even 14\n",
      "even 16\n",
      "even 18\n",
      "even 20\n"
     ]
    }
   ],
   "source": [
    "# print the even integers next to all odd integers from 11 to 19\n",
    "for i in range(11,20,2):\n",
    "    print(\"even\",i+1);"
   ]
  },
  {
   "cell_type": "code",
   "execution_count": 158,
   "id": "826f2e94-6ddb-4726-85da-3de426c5ae34",
   "metadata": {},
   "outputs": [
    {
     "name": "stdout",
     "output_type": "stream",
     "text": [
      "4.0\n",
      "4.1000000000000005\n",
      "4.2\n",
      "4.3\n",
      "4.4\n",
      "4.5\n",
      "4.6000000000000005\n",
      "4.7\n",
      "4.800000000000001\n",
      "4.9\n",
      "5.0\n"
     ]
    }
   ],
   "source": [
    "# print the 10% of all integers next to all odd integers from 11 to 19\n",
    "for i in range(40,51):\n",
    "    print(i*0.10);"
   ]
  },
  {
   "cell_type": "code",
   "execution_count": 166,
   "id": "e0405139-10d9-4cf0-9a43-78b7319c7018",
   "metadata": {},
   "outputs": [
    {
     "name": "stdout",
     "output_type": "stream",
     "text": [
      "4\n",
      "6\n",
      "7\n",
      "7\n"
     ]
    }
   ],
   "source": [
    "# print the length of all elements of list\n",
    "j = ['data','python','science','analyst'];\n",
    "for i in j:\n",
    "    print(len(i));"
   ]
  },
  {
   "cell_type": "code",
   "execution_count": 168,
   "id": "3608aa8f-4436-4848-8574-a620e829685d",
   "metadata": {},
   "outputs": [
    {
     "name": "stdout",
     "output_type": "stream",
     "text": [
      "d\n",
      "p\n",
      "s\n",
      "a\n"
     ]
    }
   ],
   "source": [
    "# print the first letter of elements\n",
    "for i in j:\n",
    "    print(i[0]);"
   ]
  },
  {
   "cell_type": "code",
   "execution_count": 172,
   "id": "da33ff6d-923a-4085-92ce-a56c3fb65beb",
   "metadata": {},
   "outputs": [
    {
     "name": "stdout",
     "output_type": "stream",
     "text": [
      "a\n",
      "n\n",
      "e\n",
      "t\n"
     ]
    }
   ],
   "source": [
    "# print the last letter of elements\n",
    "for i in j:\n",
    "    print(i[-1]);"
   ]
  },
  {
   "cell_type": "code",
   "execution_count": 176,
   "id": "e47de165-769f-4434-b906-e6a1ac2102d2",
   "metadata": {},
   "outputs": [
    {
     "name": "stdout",
     "output_type": "stream",
     "text": [
      "da\n",
      "py\n",
      "sc\n",
      "an\n"
     ]
    }
   ],
   "source": [
    "# print the first 2 letters of all elements\n",
    "for i in j:\n",
    "    print(i[0:2]);"
   ]
  },
  {
   "cell_type": "code",
   "execution_count": 184,
   "id": "9e641bb1-afb5-49fe-8901-11baace78437",
   "metadata": {},
   "outputs": [
    {
     "name": "stdin",
     "output_type": "stream",
     "text": [
      "ENTER YOUR NAME : adi\n"
     ]
    },
    {
     "name": "stdout",
     "output_type": "stream",
     "text": [
      "adi\n",
      "adi\n",
      "adi\n",
      "adi\n",
      "adi\n",
      "adi\n",
      "adi\n",
      "adi\n",
      "adi\n",
      "adi\n",
      "adi\n",
      "adi\n",
      "adi\n",
      "adi\n",
      "adi\n",
      "adi\n",
      "adi\n",
      "adi\n",
      "adi\n",
      "adi\n"
     ]
    }
   ],
   "source": [
    "# print your name 20 times\n",
    "name = input(\"ENTER YOUR NAME :\");\n",
    "for i in range(1,21):\n",
    "    print(name);"
   ]
  },
  {
   "cell_type": "code",
   "execution_count": 194,
   "id": "c921e241-9f9a-43e6-8013-2c6279aba948",
   "metadata": {},
   "outputs": [
    {
     "name": "stdout",
     "output_type": "stream",
     "text": [
      "integer is 1 Double of 2\n",
      "integer is 2 Double of 4\n",
      "integer is 3 Double of 6\n",
      "integer is 4 Double of 8\n",
      "integer is 5 Double of 10\n",
      "integer is 6 Double of 12\n",
      "integer is 7 Double of 14\n",
      "integer is 8 Double of 16\n",
      "integer is 9 Double of 18\n",
      "integer is 10 Double of 20\n",
      "integer is 11 Double of 22\n",
      "integer is 12 Double of 24\n",
      "integer is 13 Double of 26\n",
      "integer is 14 Double of 28\n",
      "integer is 15 Double of 30\n",
      "integer is 16 Double of 32\n",
      "integer is 17 Double of 34\n",
      "integer is 18 Double of 36\n",
      "integer is 19 Double of 38\n",
      "integer is 20 Double of 40\n"
     ]
    }
   ],
   "source": [
    "# print the intger and double of that integer from 1 to 20\n",
    "for i in range(1,21):\n",
    "    print(\"integer is\",i,\"Double of\",i*2);"
   ]
  },
  {
   "cell_type": "code",
   "execution_count": 234,
   "id": "00e6693d-3444-4a3d-9263-be522e3fcb4e",
   "metadata": {},
   "outputs": [
    {
     "name": "stdout",
     "output_type": "stream",
     "text": [
      "3 x   1  =  3\n",
      "3 x   2  =  6\n",
      "3 x   3  =  9\n",
      "3 x   4  =  12\n",
      "3 x   5  =  15\n",
      "3 x   6  =  18\n",
      "3 x   7  =  21\n",
      "3 x   8  =  24\n",
      "3 x   9  =  27\n",
      "3 x   10  =  30\n"
     ]
    }
   ],
   "source": [
    "# print the table of 3 in the form of 3 * 1 = 3\n",
    "for i in range(1,11):\n",
    "    print(\"3 x  \",i,\" = \",3*i);"
   ]
  },
  {
   "cell_type": "code",
   "execution_count": 281,
   "id": "efc19953-7e2f-4685-9022-75d1058e0b05",
   "metadata": {},
   "outputs": [
    {
     "name": "stdin",
     "output_type": "stream",
     "text": [
      "ENTER A NUMBER  3\n"
     ]
    },
    {
     "ename": "TypeError",
     "evalue": "'int' object is not iterable",
     "output_type": "error",
     "traceback": [
      "\u001b[1;31m---------------------------------------------------------------------------\u001b[0m",
      "\u001b[1;31mTypeError\u001b[0m                                 Traceback (most recent call last)",
      "Cell \u001b[1;32mIn[281], line 3\u001b[0m\n\u001b[0;32m      1\u001b[0m \u001b[38;5;66;03m# take a number from user and print its cube.\u001b[39;00m\n\u001b[0;32m      2\u001b[0m num \u001b[38;5;241m=\u001b[39m \u001b[38;5;28mint\u001b[39m(\u001b[38;5;28minput\u001b[39m(\u001b[38;5;124m\"\u001b[39m\u001b[38;5;124mENTER A NUMBER \u001b[39m\u001b[38;5;124m\"\u001b[39m));\n\u001b[1;32m----> 3\u001b[0m \u001b[38;5;28;01mfor\u001b[39;00m i \u001b[38;5;129;01min\u001b[39;00m num:\n\u001b[0;32m      4\u001b[0m     \u001b[38;5;28mprint\u001b[39m(num\u001b[38;5;241m*\u001b[39m\u001b[38;5;241m*\u001b[39m\u001b[38;5;241m3\u001b[39m)\n",
      "\u001b[1;31mTypeError\u001b[0m: 'int' object is not iterable"
     ]
    }
   ],
   "source": [
    "# take a number from user and print its cube.\n",
    "num = int(input(\"ENTER A NUMBER \"));\n",
    "for i in num:\n",
    "    print(num**3);"
   ]
  },
  {
   "cell_type": "code",
   "execution_count": 283,
   "id": "891410c6-0a73-46f9-aa62-428b80221a27",
   "metadata": {},
   "outputs": [
    {
     "name": "stdout",
     "output_type": "stream",
     "text": [
      "1.5\n",
      "3.0\n",
      "4.5\n",
      "6.0\n",
      "7.5\n",
      "9.0\n",
      "10.5\n",
      "12.0\n",
      "13.5\n",
      "15.0\n",
      "16.5\n",
      "18.0\n",
      "19.5\n",
      "21.0\n",
      "22.5\n",
      "24.0\n",
      "25.5\n",
      "27.0\n",
      "28.5\n",
      "30.0\n",
      "31.5\n",
      "33.0\n",
      "34.5\n",
      "36.0\n",
      "37.5\n",
      "39.0\n",
      "40.5\n",
      "42.0\n",
      "43.5\n",
      "45.0\n"
     ]
    }
   ],
   "source": [
    "# print the half of all multiples of 3 from 1 to 30\n",
    "for i in range(1,31):\n",
    "    print(i/2*3);"
   ]
  },
  {
   "cell_type": "code",
   "execution_count": 287,
   "id": "9dd2661c-8780-4f7d-bbad-5bfbefbab4be",
   "metadata": {},
   "outputs": [
    {
     "name": "stdout",
     "output_type": "stream",
     "text": [
      "14\n",
      "18\n",
      "22\n",
      "26\n",
      "30\n",
      "34\n",
      "38\n",
      "42\n",
      "46\n",
      "50\n",
      "54\n",
      "58\n",
      "62\n",
      "66\n",
      "70\n",
      "74\n",
      "78\n",
      "82\n",
      "86\n",
      "90\n",
      "94\n",
      "98\n",
      "102\n",
      "106\n",
      "110\n",
      "114\n",
      "118\n",
      "122\n",
      "126\n",
      "130\n",
      "134\n",
      "138\n",
      "142\n",
      "146\n",
      "150\n",
      "154\n",
      "158\n",
      "162\n",
      "166\n",
      "170\n"
     ]
    }
   ],
   "source": [
    "# add 10 to all multiples of 4 from 1 to 40\n",
    "for i in range(1,41):\n",
    "    print(i*4+10);"
   ]
  },
  {
   "cell_type": "code",
   "execution_count": 309,
   "id": "5346f8aa-2367-4ff5-b77b-c1e07bc3549f",
   "metadata": {},
   "outputs": [
    {
     "name": "stdout",
     "output_type": "stream",
     "text": [
      "36\n",
      "69\n",
      "102\n",
      "135\n",
      "168\n"
     ]
    }
   ],
   "source": [
    "l = [12,23,34,45,56];\n",
    "# print the triple of all elements of list\n",
    "for num in l:\n",
    "     print(num*3);"
   ]
  },
  {
   "cell_type": "code",
   "execution_count": 311,
   "id": "de2747e3-26a2-4ba2-9a6d-e70b93fc1052",
   "metadata": {},
   "outputs": [
    {
     "name": "stdout",
     "output_type": "stream",
     "text": [
      "4.0\n",
      "7.666666666666667\n",
      "11.333333333333334\n",
      "15.0\n",
      "18.666666666666668\n"
     ]
    }
   ],
   "source": [
    "for num in l:\n",
    "    print(num/3);"
   ]
  },
  {
   "cell_type": "code",
   "execution_count": 313,
   "id": "39a86ecf-87e4-4597-a6de-48d8b8992820",
   "metadata": {},
   "outputs": [
    {
     "name": "stdout",
     "output_type": "stream",
     "text": [
      "0\n",
      "1\n",
      "0\n",
      "1\n",
      "0\n"
     ]
    }
   ],
   "source": [
    "for num in l:\n",
    "    print(num % 2);"
   ]
  },
  {
   "cell_type": "code",
   "execution_count": 315,
   "id": "998c6dba-cfe3-4085-b630-eb6db78f8e2c",
   "metadata": {},
   "outputs": [
    {
     "name": "stdout",
     "output_type": "stream",
     "text": [
      "2.4000000000000004\n",
      "4.6000000000000005\n",
      "6.800000000000001\n",
      "9.0\n",
      "11.200000000000001\n"
     ]
    }
   ],
   "source": [
    "for num in l:\n",
    "    print(num*0.20);"
   ]
  },
  {
   "cell_type": "code",
   "execution_count": 357,
   "id": "259f34d4-ee0b-4f75-bb52-2dc2612178fa",
   "metadata": {},
   "outputs": [],
   "source": [
    "h =['karan','arjun','rakhi','satya']"
   ]
  },
  {
   "cell_type": "code",
   "execution_count": 359,
   "id": "d3b445a0-4323-4e1c-b92f-f507e83d1a36",
   "metadata": {},
   "outputs": [
    {
     "name": "stdout",
     "output_type": "stream",
     "text": [
      "na\n",
      "nu\n",
      "ih\n",
      "ay\n"
     ]
    }
   ],
   "source": [
    "for i in h:\n",
    "    print(i[-1:-3:-1]);"
   ]
  },
  {
   "cell_type": "code",
   "execution_count": 365,
   "id": "8a0c91ef-5843-47a5-95e9-9aa4281c1a0a",
   "metadata": {},
   "outputs": [
    {
     "name": "stdout",
     "output_type": "stream",
     "text": [
      "10\n",
      "10\n",
      "10\n",
      "10\n"
     ]
    }
   ],
   "source": [
    "for i in h:\n",
    "    print(len(i)*2);"
   ]
  },
  {
   "cell_type": "code",
   "execution_count": 413,
   "id": "6b54755f-edc5-45c4-a97a-f619194d2bad",
   "metadata": {},
   "outputs": [
    {
     "name": "stdout",
     "output_type": "stream",
     "text": [
      "narak\n",
      "nujra\n",
      "ihkar\n",
      "aytas\n"
     ]
    }
   ],
   "source": [
    "for i in h:\n",
    "    print(i[::-1]);"
   ]
  },
  {
   "cell_type": "code",
   "execution_count": null,
   "id": "e3e3f6ac-2ea6-402e-b574-63c6cd24544f",
   "metadata": {},
   "outputs": [],
   "source": []
  }
 ],
 "metadata": {
  "kernelspec": {
   "display_name": "Python 3 (ipykernel)",
   "language": "python",
   "name": "python3"
  },
  "language_info": {
   "codemirror_mode": {
    "name": "ipython",
    "version": 3
   },
   "file_extension": ".py",
   "mimetype": "text/x-python",
   "name": "python",
   "nbconvert_exporter": "python",
   "pygments_lexer": "ipython3",
   "version": "3.12.4"
  }
 },
 "nbformat": 4,
 "nbformat_minor": 5
}
