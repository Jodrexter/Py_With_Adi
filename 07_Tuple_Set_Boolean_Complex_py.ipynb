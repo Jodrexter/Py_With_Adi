{
 "cells": [
  {
   "cell_type": "code",
   "execution_count": null,
   "id": "21ac73bd-d8df-4af2-ada0-787b7ae9ad2b",
   "metadata": {},
   "outputs": [],
   "source": [
    "# Create a dictionary of 5 employees with their \n",
    " #Name, age , salary , gender\n",
    "\n",
    "#1. Show the name of all\n",
    "#2. Show the name of 3rd employee\n",
    "#3. Show the average salary of all\n",
    "#4. Show the total amount which the company shares with employees as salary\n",
    "#5. Add locations of all\n",
    "#6. Remove the name of 4th employee\n",
    "#7. Change the name of first employee to karan/kajal\n",
    "#8. Show the highest age \n",
    "#9. Show all the keys"
   ]
  },
  {
   "cell_type": "code",
   "execution_count": 1,
   "id": "c984c0aa-7e3a-4c39-b672-c4b25430b134",
   "metadata": {},
   "outputs": [],
   "source": [
    "dic1 = {'name':['Adi','Aish','Rom','Sid','Ram'],'Age':[12,23,34,54,32],'Salary':[34,32,12,45,65],'Gender':['Male','Female','Male','Male','Male']}"
   ]
  },
  {
   "cell_type": "code",
   "execution_count": 5,
   "id": "dd210102-120a-4af5-a0c4-ad19184a7c1b",
   "metadata": {},
   "outputs": [
    {
     "data": {
      "text/plain": [
       "{'name': ['Adi', 'Aish', 'Rom', 'Sid', 'Ram'],\n",
       " 'Age': [12, 23, 34, 54, 32],\n",
       " 'Salary': [34, 32, 12, 45, 65],\n",
       " 'Gender': ['Male', 'Female', 'Male', 'Male', 'Male']}"
      ]
     },
     "execution_count": 5,
     "metadata": {},
     "output_type": "execute_result"
    }
   ],
   "source": [
    "dic1"
   ]
  },
  {
   "cell_type": "code",
   "execution_count": 7,
   "id": "4e625d0d-e8ab-43e5-b87e-9c866db7b715",
   "metadata": {},
   "outputs": [
    {
     "data": {
      "text/plain": [
       "['Adi', 'Aish', 'Rom', 'Sid', 'Ram']"
      ]
     },
     "execution_count": 7,
     "metadata": {},
     "output_type": "execute_result"
    }
   ],
   "source": [
    "#1. Show the name of all\n",
    "dic1['name']"
   ]
  },
  {
   "cell_type": "code",
   "execution_count": 9,
   "id": "c7c639d0-59a5-4ccb-9b40-5ffff58e2767",
   "metadata": {},
   "outputs": [
    {
     "data": {
      "text/plain": [
       "'Rom'"
      ]
     },
     "execution_count": 9,
     "metadata": {},
     "output_type": "execute_result"
    }
   ],
   "source": [
    "#2. Show the name of 3rd employee\n",
    "dic1['name'][2]"
   ]
  },
  {
   "cell_type": "code",
   "execution_count": 11,
   "id": "04487987-75f2-478f-820a-9e984c894567",
   "metadata": {},
   "outputs": [
    {
     "data": {
      "text/plain": [
       "37.6"
      ]
     },
     "execution_count": 11,
     "metadata": {},
     "output_type": "execute_result"
    }
   ],
   "source": [
    "#3. Show the average salary of all\n",
    "sum (dic1['Salary'])/len(dic1['Salary'])"
   ]
  },
  {
   "cell_type": "code",
   "execution_count": 41,
   "id": "941f9a18-9fd0-4f68-89ae-0d3293378940",
   "metadata": {},
   "outputs": [
    {
     "data": {
      "text/plain": [
       "188"
      ]
     },
     "execution_count": 41,
     "metadata": {},
     "output_type": "execute_result"
    }
   ],
   "source": [
    "#4. Show the total amount which the company shares with employees as salary\n",
    "sum(dic1['Salary'])"
   ]
  },
  {
   "cell_type": "code",
   "execution_count": 19,
   "id": "6a0f5c1e-9298-4616-941d-f5da32a8728a",
   "metadata": {},
   "outputs": [],
   "source": [
    "#5. Add locations of all\n",
    "dic1['Location']=['Turbhe','Cbd','kharghar','panvel','csmt']"
   ]
  },
  {
   "cell_type": "code",
   "execution_count": 21,
   "id": "c42a3f8c-926d-479d-9596-8e8a5ebfdc9c",
   "metadata": {},
   "outputs": [
    {
     "data": {
      "text/plain": [
       "{'name': ['Adi', 'Aish', 'Rom', 'Sid', 'Ram'],\n",
       " 'Age': [12, 23, 34, 54, 32],\n",
       " 'Salary': [34, 32, 12, 45, 65],\n",
       " 'Gender': ['Male', 'Female', 'Male', 'Male', 'Male'],\n",
       " 'Location': ['Turbhe', 'Cbd', 'kharghar', 'panvel', 'csmt']}"
      ]
     },
     "execution_count": 21,
     "metadata": {},
     "output_type": "execute_result"
    }
   ],
   "source": [
    "dic1"
   ]
  },
  {
   "cell_type": "code",
   "execution_count": 23,
   "id": "7a15b519-ce1b-4be5-ae3d-eaa58e28d2e2",
   "metadata": {},
   "outputs": [],
   "source": [
    "#6. Remove the name of 4th employee\n",
    "del dic1['name'][3]"
   ]
  },
  {
   "cell_type": "code",
   "execution_count": 25,
   "id": "d0c9f330-9ec0-4a6a-b879-819384db56bd",
   "metadata": {},
   "outputs": [
    {
     "data": {
      "text/plain": [
       "{'name': ['Adi', 'Aish', 'Rom', 'Ram'],\n",
       " 'Age': [12, 23, 34, 54, 32],\n",
       " 'Salary': [34, 32, 12, 45, 65],\n",
       " 'Gender': ['Male', 'Female', 'Male', 'Male', 'Male'],\n",
       " 'Location': ['Turbhe', 'Cbd', 'kharghar', 'panvel', 'csmt']}"
      ]
     },
     "execution_count": 25,
     "metadata": {},
     "output_type": "execute_result"
    }
   ],
   "source": [
    "dic1"
   ]
  },
  {
   "cell_type": "code",
   "execution_count": 27,
   "id": "c397e5a6-7948-4c6f-bf81-30e4378e72a8",
   "metadata": {},
   "outputs": [],
   "source": [
    "#7. Change the name of first employee to karan/kajal\n",
    "dic1['name'][0]='Karna'"
   ]
  },
  {
   "cell_type": "code",
   "execution_count": 29,
   "id": "4b2c00f7-51ba-407a-b507-651783dee7d2",
   "metadata": {},
   "outputs": [
    {
     "data": {
      "text/plain": [
       "{'name': ['Karna', 'Aish', 'Rom', 'Ram'],\n",
       " 'Age': [12, 23, 34, 54, 32],\n",
       " 'Salary': [34, 32, 12, 45, 65],\n",
       " 'Gender': ['Male', 'Female', 'Male', 'Male', 'Male'],\n",
       " 'Location': ['Turbhe', 'Cbd', 'kharghar', 'panvel', 'csmt']}"
      ]
     },
     "execution_count": 29,
     "metadata": {},
     "output_type": "execute_result"
    }
   ],
   "source": [
    "dic1"
   ]
  },
  {
   "cell_type": "code",
   "execution_count": 33,
   "id": "b663afba-612d-49c1-adca-f57b9530cd9d",
   "metadata": {},
   "outputs": [
    {
     "data": {
      "text/plain": [
       "65"
      ]
     },
     "execution_count": 33,
     "metadata": {},
     "output_type": "execute_result"
    }
   ],
   "source": [
    "#8. Show the highest age \n",
    "max(dic1['Salary'])"
   ]
  },
  {
   "cell_type": "code",
   "execution_count": 35,
   "id": "cb49aeb2-bd1b-49cc-9e28-46d848c9dfd4",
   "metadata": {},
   "outputs": [
    {
     "data": {
      "text/plain": [
       "dict_keys(['name', 'Age', 'Salary', 'Gender', 'Location'])"
      ]
     },
     "execution_count": 35,
     "metadata": {},
     "output_type": "execute_result"
    }
   ],
   "source": [
    "#9. Show all the keys\n",
    "dic1.keys()"
   ]
  },
  {
   "cell_type": "markdown",
   "id": "d532242f-6d12-4de5-8e41-c4ccb6195d14",
   "metadata": {},
   "source": [
    "# Boolean >> True/False"
   ]
  },
  {
   "cell_type": "code",
   "execution_count": 1,
   "id": "49cb3527-7f77-40b9-9db7-323dc64a3c84",
   "metadata": {},
   "outputs": [],
   "source": [
    "a =True;"
   ]
  },
  {
   "cell_type": "code",
   "execution_count": 5,
   "id": "6143cf1d-5022-4d20-b985-dfb0a9c7e993",
   "metadata": {},
   "outputs": [
    {
     "data": {
      "text/plain": [
       "bool"
      ]
     },
     "execution_count": 5,
     "metadata": {},
     "output_type": "execute_result"
    }
   ],
   "source": [
    "type(a)"
   ]
  },
  {
   "cell_type": "markdown",
   "id": "fde31433-d260-4703-aacb-d9980f46a58f",
   "metadata": {},
   "source": [
    "# Tuple "
   ]
  },
  {
   "cell_type": "markdown",
   "id": "d48a8bac-0156-4c49-b060-e6b6b3133ecf",
   "metadata": {},
   "source": [
    "### tupele is immutable.(cannot addd or remove or update).\n",
    "### tuple can contains multiple elements.\n",
    "### slicing is applicable.\n",
    "### aggregation functions are applicable."
   ]
  },
  {
   "cell_type": "code",
   "execution_count": 10,
   "id": "25b87de1-8cd0-40fa-9173-417377ea7972",
   "metadata": {},
   "outputs": [],
   "source": [
    "c=(12,23,34)"
   ]
  },
  {
   "cell_type": "code",
   "execution_count": 12,
   "id": "7222f4d6-87d7-4758-ab67-0ede21d54ad1",
   "metadata": {},
   "outputs": [
    {
     "data": {
      "text/plain": [
       "tuple"
      ]
     },
     "execution_count": 12,
     "metadata": {},
     "output_type": "execute_result"
    }
   ],
   "source": [
    "type(c)"
   ]
  },
  {
   "cell_type": "code",
   "execution_count": 21,
   "id": "7e098854-d0bc-4552-a3e1-c388de171fa0",
   "metadata": {},
   "outputs": [],
   "source": [
    "# create a tuple of numbers from 1 to 5.\n",
    "d = (1,2,3,4,5);"
   ]
  },
  {
   "cell_type": "markdown",
   "id": "01519845-fe05-4c07-9b8c-c9b7e6850c39",
   "metadata": {},
   "source": [
    "# Set"
   ]
  },
  {
   "cell_type": "markdown",
   "id": "a8a1f60d-33f4-4654-91d2-d61a6c7bbfba",
   "metadata": {},
   "source": [
    "#### 1.set is represented by {}.\n",
    "#### 2.set can contain multiple elemenets.\n",
    "#### 3.set is mutable.\n",
    "#### 4.set is unorderd.\n",
    "#### 5.set takes only uniques elements.(no repeat value)"
   ]
  },
  {
   "cell_type": "code",
   "execution_count": 26,
   "id": "704c14d7-c832-4be5-a1ea-94835a0a76f7",
   "metadata": {},
   "outputs": [],
   "source": [
    "s = {12,23,34,45,12,23}"
   ]
  },
  {
   "cell_type": "code",
   "execution_count": 30,
   "id": "6039793c-6ce6-4f07-8892-edd7654a5e45",
   "metadata": {},
   "outputs": [
    {
     "name": "stdout",
     "output_type": "stream",
     "text": [
      "{34, 12, 45, 23}\n"
     ]
    }
   ],
   "source": [
    "print(s)"
   ]
  },
  {
   "cell_type": "markdown",
   "id": "a98db76c-ba20-4ad2-8fac-30219a563f93",
   "metadata": {},
   "source": [
    "## 1.union >> but common only 1 time all elements.\n"
   ]
  },
  {
   "cell_type": "code",
   "execution_count": 32,
   "id": "9d7f6993-8887-4e83-9d07-436c1f77a46d",
   "metadata": {},
   "outputs": [],
   "source": [
    "d = {1,2,3,4,5}\n",
    "s = {4,5,6,7,8}"
   ]
  },
  {
   "cell_type": "code",
   "execution_count": 34,
   "id": "dba510de-9367-4025-9089-64c4ef4b241f",
   "metadata": {},
   "outputs": [
    {
     "data": {
      "text/plain": [
       "{1, 2, 3, 4, 5, 6, 7, 8}"
      ]
     },
     "execution_count": 34,
     "metadata": {},
     "output_type": "execute_result"
    }
   ],
   "source": [
    "d.union(s)"
   ]
  },
  {
   "cell_type": "markdown",
   "id": "2830a201-01af-4f38-956c-9e60f8224714",
   "metadata": {},
   "source": [
    "## 2.intersection >>common only.\n"
   ]
  },
  {
   "cell_type": "code",
   "execution_count": 38,
   "id": "80b44566-70e9-4094-8827-4f6275ed2076",
   "metadata": {},
   "outputs": [
    {
     "data": {
      "text/plain": [
       "{4, 5}"
      ]
     },
     "execution_count": 38,
     "metadata": {},
     "output_type": "execute_result"
    }
   ],
   "source": [
    "d.intersection(s)"
   ]
  },
  {
   "cell_type": "markdown",
   "id": "71219034-65de-459c-8cad-4671721c5522",
   "metadata": {},
   "source": [
    "## 3.Difference >> only one set."
   ]
  },
  {
   "cell_type": "code",
   "execution_count": 42,
   "id": "6210bca8-fe7f-41c1-ae9f-b012e10143d8",
   "metadata": {},
   "outputs": [
    {
     "data": {
      "text/plain": [
       "{1, 2, 3}"
      ]
     },
     "execution_count": 42,
     "metadata": {},
     "output_type": "execute_result"
    }
   ],
   "source": [
    "d-s"
   ]
  },
  {
   "cell_type": "code",
   "execution_count": 45,
   "id": "426f778c-c6b5-4dcc-8a2d-b6659b1d27ce",
   "metadata": {},
   "outputs": [
    {
     "data": {
      "text/plain": [
       "{6, 7, 8}"
      ]
     },
     "execution_count": 45,
     "metadata": {},
     "output_type": "execute_result"
    }
   ],
   "source": [
    "s-d"
   ]
  },
  {
   "cell_type": "code",
   "execution_count": 55,
   "id": "2d4fc1c1-c10b-4998-bd15-8fd48d6c7d91",
   "metadata": {},
   "outputs": [],
   "source": [
    "f1 = {'arti','aditya','divya','chanda','ria','rishi'}\n",
    "f2 = {'deepak','raj','rishi','arti','prakash','jyoti'}"
   ]
  },
  {
   "cell_type": "code",
   "execution_count": 57,
   "id": "762c4593-5781-48b7-8227-f04799c0c553",
   "metadata": {},
   "outputs": [
    {
     "data": {
      "text/plain": [
       "{'aditya',\n",
       " 'arti',\n",
       " 'chanda',\n",
       " 'deepak',\n",
       " 'divya',\n",
       " 'jyoti',\n",
       " 'prakash',\n",
       " 'raj',\n",
       " 'ria',\n",
       " 'rishi'}"
      ]
     },
     "execution_count": 57,
     "metadata": {},
     "output_type": "execute_result"
    }
   ],
   "source": [
    "# show the all the friends of both.\n",
    "f1.union(f2)"
   ]
  },
  {
   "cell_type": "code",
   "execution_count": 59,
   "id": "5fddb826-26f8-483c-bef3-18795381bfce",
   "metadata": {},
   "outputs": [
    {
     "data": {
      "text/plain": [
       "{'arti', 'rishi'}"
      ]
     },
     "execution_count": 59,
     "metadata": {},
     "output_type": "execute_result"
    }
   ],
   "source": [
    "# show the common friends of both\n",
    "f1.intersection(f2)"
   ]
  },
  {
   "cell_type": "code",
   "execution_count": 65,
   "id": "900d463f-203c-4c97-bf15-c6d1c8b08ab6",
   "metadata": {},
   "outputs": [
    {
     "data": {
      "text/plain": [
       "{'arti', 'rishi'}"
      ]
     },
     "execution_count": 65,
     "metadata": {},
     "output_type": "execute_result"
    }
   ],
   "source": [
    "# show the friends which are friends of both.\n",
    "f1.intersection(f2)"
   ]
  },
  {
   "cell_type": "code",
   "execution_count": 61,
   "id": "b82795f1-9108-4f9b-9424-e5c24d7b104e",
   "metadata": {},
   "outputs": [
    {
     "data": {
      "text/plain": [
       "{'aditya', 'chanda', 'divya', 'ria'}"
      ]
     },
     "execution_count": 61,
     "metadata": {},
     "output_type": "execute_result"
    }
   ],
   "source": [
    "# show the friends of f1 which are not  f1  with f2.\n",
    "f1-f2"
   ]
  },
  {
   "cell_type": "code",
   "execution_count": 63,
   "id": "e8b0f793-1956-4455-96b0-0f45f6e86262",
   "metadata": {},
   "outputs": [
    {
     "data": {
      "text/plain": [
       "{'deepak', 'jyoti', 'prakash', 'raj'}"
      ]
     },
     "execution_count": 63,
     "metadata": {},
     "output_type": "execute_result"
    }
   ],
   "source": [
    "# show the friends of f2 which are not friends with f2.\n",
    "f2-f1"
   ]
  },
  {
   "cell_type": "code",
   "execution_count": 67,
   "id": "a10b21f6-bf69-4647-81d3-b5469d123c3e",
   "metadata": {},
   "outputs": [],
   "source": [
    "# add\n",
    "d = {12,23,34}"
   ]
  },
  {
   "cell_type": "code",
   "execution_count": 69,
   "id": "98d7b8f2-de0f-45f4-b3f5-f9d753ca902a",
   "metadata": {},
   "outputs": [],
   "source": [
    "# add 45 to set\n",
    "d.add(45)"
   ]
  },
  {
   "cell_type": "code",
   "execution_count": 73,
   "id": "a5281125-b5f8-4603-885f-d32dd8de0918",
   "metadata": {},
   "outputs": [
    {
     "name": "stdout",
     "output_type": "stream",
     "text": [
      "{34, 12, 45, 23}\n"
     ]
    }
   ],
   "source": [
    "print(d)"
   ]
  },
  {
   "cell_type": "code",
   "execution_count": 75,
   "id": "cbf543c3-d33b-40e4-86f9-bccabbeddb2a",
   "metadata": {},
   "outputs": [],
   "source": [
    "# add 50 to set\n",
    "d.add(50)"
   ]
  },
  {
   "cell_type": "code",
   "execution_count": 77,
   "id": "1e05b26b-b8a1-4ef8-b71d-65b2ba808d96",
   "metadata": {},
   "outputs": [],
   "source": [
    "# add 5 to set\n",
    "d.add(5)"
   ]
  },
  {
   "cell_type": "code",
   "execution_count": 81,
   "id": "4c11195e-1f73-45e9-bfa8-4b45655497a8",
   "metadata": {},
   "outputs": [],
   "source": [
    "# remove\n",
    "d = {12,23,34,45,56}\n",
    "# remove 23 from set\n",
    "d.remove(23)"
   ]
  },
  {
   "cell_type": "code",
   "execution_count": 83,
   "id": "1f69cc31-9891-4a0a-b6e8-c6cfd1a1cda3",
   "metadata": {},
   "outputs": [
    {
     "data": {
      "text/plain": [
       "{12, 34, 45, 56}"
      ]
     },
     "execution_count": 83,
     "metadata": {},
     "output_type": "execute_result"
    }
   ],
   "source": [
    "d"
   ]
  },
  {
   "cell_type": "code",
   "execution_count": 85,
   "id": "e7bc2123-d997-4c58-adc8-367b26ae018c",
   "metadata": {},
   "outputs": [],
   "source": [
    "# remove 45 from set\n",
    "d.remove(45)"
   ]
  },
  {
   "cell_type": "code",
   "execution_count": 87,
   "id": "86de3755-aade-4000-b20c-12de908ac1ab",
   "metadata": {},
   "outputs": [],
   "source": [
    "# remove 35 from set\n",
    "d.remove(34)"
   ]
  },
  {
   "cell_type": "code",
   "execution_count": 95,
   "id": "3158ea08-31b9-4a8c-b811-70559a393610",
   "metadata": {},
   "outputs": [
    {
     "name": "stdout",
     "output_type": "stream",
     "text": [
      "{1, 2, 3, 4, 5}\n"
     ]
    }
   ],
   "source": [
    "# update >> to add multiple elements.\n",
    "s = {1,2,3}\n",
    "# add 4 and 5 to set\n",
    "s.update([4,5])\n",
    "print(s)"
   ]
  },
  {
   "cell_type": "code",
   "execution_count": 97,
   "id": "c0eae103-7fca-4353-ba60-2a011822b23e",
   "metadata": {},
   "outputs": [],
   "source": [
    "# add 6,7,8 to set\n",
    "s.update([6,7,8])"
   ]
  },
  {
   "cell_type": "code",
   "execution_count": 101,
   "id": "0c99af93-6317-4c2e-a50d-59f0f5d6c320",
   "metadata": {},
   "outputs": [
    {
     "name": "stdout",
     "output_type": "stream",
     "text": [
      "{1, 2, 3, 4, 5, 6, 7, 8}\n"
     ]
    }
   ],
   "source": [
    "print(s)"
   ]
  },
  {
   "cell_type": "code",
   "execution_count": 103,
   "id": "78fcbf27-d8e0-43b3-81f1-1725223c33b9",
   "metadata": {},
   "outputs": [
    {
     "data": {
      "text/plain": [
       "{20, 30, 120}"
      ]
     },
     "execution_count": 103,
     "metadata": {},
     "output_type": "execute_result"
    }
   ],
   "source": [
    "# converging list to set\n",
    "k = [120,20,30]\n",
    "s = set(k)\n",
    "s"
   ]
  },
  {
   "cell_type": "code",
   "execution_count": 109,
   "id": "2f93ce62-2698-41b9-b0c5-0779b1db8490",
   "metadata": {},
   "outputs": [],
   "source": [
    "# converging set to list\n",
    "d ={1,2,3}\n",
    "s =list(d)"
   ]
  },
  {
   "cell_type": "code",
   "execution_count": 111,
   "id": "9a99a2cb-2608-4e41-9c28-bd1a502fdbc9",
   "metadata": {},
   "outputs": [
    {
     "data": {
      "text/plain": [
       "{1, 2, 3}"
      ]
     },
     "execution_count": 111,
     "metadata": {},
     "output_type": "execute_result"
    }
   ],
   "source": [
    "d"
   ]
  },
  {
   "cell_type": "code",
   "execution_count": 117,
   "id": "be615fad-094f-46f0-9568-9f775a314cf4",
   "metadata": {},
   "outputs": [],
   "source": [
    "# converting set to tuple.\n",
    "m = {1,2,3}\n",
    "n = tuple(m)"
   ]
  },
  {
   "cell_type": "code",
   "execution_count": 119,
   "id": "0b058fad-cbb6-489a-b954-843ecdbd7aa5",
   "metadata": {},
   "outputs": [
    {
     "data": {
      "text/plain": [
       "{1, 2, 3}"
      ]
     },
     "execution_count": 119,
     "metadata": {},
     "output_type": "execute_result"
    }
   ],
   "source": [
    "m"
   ]
  },
  {
   "cell_type": "code",
   "execution_count": 130,
   "id": "025f1d66-dd4f-4de9-bdce-d541f358ac50",
   "metadata": {},
   "outputs": [
    {
     "data": {
      "text/plain": [
       "{1, 2, 3}"
      ]
     },
     "execution_count": 130,
     "metadata": {},
     "output_type": "execute_result"
    }
   ],
   "source": [
    "l = [1,2,3]\n",
    "n = tuple(m)\n",
    "m"
   ]
  },
  {
   "cell_type": "markdown",
   "id": "b71556f8-f588-4073-8a2d-35885513e50b",
   "metadata": {},
   "source": [
    "# complex number >>i+j\n"
   ]
  },
  {
   "cell_type": "code",
   "execution_count": 123,
   "id": "b0ac7f8f-1bf4-4dae-bdaf-7fe662254817",
   "metadata": {},
   "outputs": [],
   "source": [
    "d = 4 + 5j"
   ]
  },
  {
   "cell_type": "code",
   "execution_count": 125,
   "id": "e20dab2a-fd52-4e0a-891b-c9f8e14ecf53",
   "metadata": {},
   "outputs": [
    {
     "data": {
      "text/plain": [
       "complex"
      ]
     },
     "execution_count": 125,
     "metadata": {},
     "output_type": "execute_result"
    }
   ],
   "source": [
    "type(d)"
   ]
  },
  {
   "cell_type": "markdown",
   "id": "f3345761-991e-4dd8-ac6c-fcce5ac0306d",
   "metadata": {},
   "source": [
    "## revision all questions from day 1 to till."
   ]
  },
  {
   "cell_type": "code",
   "execution_count": 2,
   "id": "d2ed27e5-c15d-4bb6-9b79-2fc6fac84524",
   "metadata": {},
   "outputs": [
    {
     "data": {
      "text/plain": [
       "float"
      ]
     },
     "execution_count": 2,
     "metadata": {},
     "output_type": "execute_result"
    }
   ],
   "source": [
    "# what is the datatype of 45.6\n",
    "type(46.6)"
   ]
  },
  {
   "cell_type": "code",
   "execution_count": 4,
   "id": "f02c3615-64f7-45a1-8cc7-93f3cbdada69",
   "metadata": {},
   "outputs": [
    {
     "data": {
      "text/plain": [
       "str"
      ]
     },
     "execution_count": 4,
     "metadata": {},
     "output_type": "execute_result"
    }
   ],
   "source": [
    "# what is the datatype of '45'\n",
    "type('45')"
   ]
  },
  {
   "cell_type": "code",
   "execution_count": 6,
   "id": "4ac343c8-d925-474d-8f20-1108d79340eb",
   "metadata": {},
   "outputs": [
    {
     "name": "stdin",
     "output_type": "stream",
     "text": [
      "enter number 3\n"
     ]
    },
    {
     "name": "stdout",
     "output_type": "stream",
     "text": [
      "333\n"
     ]
    }
   ],
   "source": [
    "# take a number from user and print its cube\n",
    "num1 = input(\"enter number\")\n",
    "print(num1*3)"
   ]
  },
  {
   "cell_type": "code",
   "execution_count": 10,
   "id": "dcdbee0c-036d-454c-a12b-a95f47a7a90d",
   "metadata": {},
   "outputs": [
    {
     "name": "stdin",
     "output_type": "stream",
     "text": [
      "Enter 1st no 20\n",
      "Enter 2nd no 20\n"
     ]
    },
    {
     "name": "stdout",
     "output_type": "stream",
     "text": [
      "the sum of 3 and 20 is = 320\n"
     ]
    }
   ],
   "source": [
    "# take 2 number from user and print the addition in this format >> the sum of __ and __ is __\n",
    "num2 = input(\"Enter 1st no\")\n",
    "num3 = input(\"Enter 2nd no\")\n",
    "print(\"the sum of\",num1,\"and\",num2,\"is =\",num1+num2)"
   ]
  },
  {
   "cell_type": "code",
   "execution_count": 12,
   "id": "569abe58-7718-4685-a4fd-b25728412225",
   "metadata": {},
   "outputs": [],
   "source": [
    "# take a name from user and print its reverse\n",
    "# c='my name is harsh'\n",
    "# extract 'harsh'\n",
    "# h=[10,20,30,40,50,60]\n",
    "# what is the index number of 40\n",
    "# add 35 at 3rd index\n",
    "# remove the 2nd element\n",
    "# show the total sum of all\n",
    "# extract [40,30,20]\n",
    "# a={'maths':45,'science':60,'english':79,'hindi':80}\n",
    "# show the marks of english\n",
    "# change the marks of science to 50\n",
    "# show the total marks\n",
    "# g={12,23,34,45}\n",
    "# add 30 to set\n",
    "# remove 45 from set\n",
    "# g=[12,23,34,12,23]\n",
    "# print the unique elements only in list"
   ]
  },
  {
   "cell_type": "code",
   "execution_count": 18,
   "id": "00c4b8ed-c1ea-4da3-8e07-fb929ea979d7",
   "metadata": {},
   "outputs": [
    {
     "name": "stdin",
     "output_type": "stream",
     "text": [
      "enter name raj\n"
     ]
    },
    {
     "data": {
      "text/plain": [
       "'jar'"
      ]
     },
     "execution_count": 18,
     "metadata": {},
     "output_type": "execute_result"
    }
   ],
   "source": [
    "# take a name from user and print its reverse\n",
    "a = input(\"enter name\")\n",
    "a [::-1]"
   ]
  },
  {
   "cell_type": "code",
   "execution_count": 20,
   "id": "159129b9-1052-406e-8393-cd3d6cbf12b9",
   "metadata": {},
   "outputs": [],
   "source": [
    "# c='my name is harsh'\n",
    "c='my name is harsh'"
   ]
  },
  {
   "cell_type": "code",
   "execution_count": 22,
   "id": "40c2ace0-3b65-4c65-95a8-a1a6e449e588",
   "metadata": {},
   "outputs": [
    {
     "data": {
      "text/plain": [
       "'harsh'"
      ]
     },
     "execution_count": 22,
     "metadata": {},
     "output_type": "execute_result"
    }
   ],
   "source": [
    "# extract 'harsh'\n",
    "c[11:]"
   ]
  },
  {
   "cell_type": "code",
   "execution_count": 24,
   "id": "2ae858de-0f4e-47c1-a29a-5b02c3e237ef",
   "metadata": {},
   "outputs": [],
   "source": [
    "# h=[10,20,30,40,50,60]\n",
    "h=[10,20,30,40,50,60]"
   ]
  },
  {
   "cell_type": "code",
   "execution_count": 28,
   "id": "4fa8509d-fc0e-4745-b419-bacf8738aa7d",
   "metadata": {},
   "outputs": [
    {
     "data": {
      "text/plain": [
       "3"
      ]
     },
     "execution_count": 28,
     "metadata": {},
     "output_type": "execute_result"
    }
   ],
   "source": [
    "# what is the index number of 40\n",
    "h.index(40)"
   ]
  },
  {
   "cell_type": "code",
   "execution_count": 30,
   "id": "8e8dc4c1-0b3a-4e9a-b47f-74cc049fce12",
   "metadata": {},
   "outputs": [],
   "source": [
    "# add 35 at 3rd index\n",
    "h.insert(3,35)"
   ]
  },
  {
   "cell_type": "code",
   "execution_count": 32,
   "id": "a0080bc0-81a9-4c37-8951-9fedd17a5919",
   "metadata": {},
   "outputs": [
    {
     "data": {
      "text/plain": [
       "[10, 20, 30, 35, 40, 50, 60]"
      ]
     },
     "execution_count": 32,
     "metadata": {},
     "output_type": "execute_result"
    }
   ],
   "source": [
    "h"
   ]
  },
  {
   "cell_type": "code",
   "execution_count": 34,
   "id": "ccecf983-fa3a-420f-9b61-659f0c30a0c8",
   "metadata": {},
   "outputs": [
    {
     "ename": "ValueError",
     "evalue": "list.remove(x): x not in list",
     "output_type": "error",
     "traceback": [
      "\u001b[1;31m---------------------------------------------------------------------------\u001b[0m",
      "\u001b[1;31mValueError\u001b[0m                                Traceback (most recent call last)",
      "Cell \u001b[1;32mIn[34], line 2\u001b[0m\n\u001b[0;32m      1\u001b[0m \u001b[38;5;66;03m# remove the 2nd element\u001b[39;00m\n\u001b[1;32m----> 2\u001b[0m h\u001b[38;5;241m.\u001b[39mremove(\u001b[38;5;241m2\u001b[39m)\n",
      "\u001b[1;31mValueError\u001b[0m: list.remove(x): x not in list"
     ]
    }
   ],
   "source": [
    "# remove the 2nd element\n",
    "h.remove(2)"
   ]
  },
  {
   "cell_type": "code",
   "execution_count": 36,
   "id": "3b5cb10b-a18c-49e8-b51a-15f9249da2c3",
   "metadata": {},
   "outputs": [],
   "source": [
    "del h[1]"
   ]
  },
  {
   "cell_type": "code",
   "execution_count": 38,
   "id": "6fcac92b-abfd-4bae-990e-66bc2e347f78",
   "metadata": {},
   "outputs": [
    {
     "data": {
      "text/plain": [
       "[10, 30, 35, 40, 50, 60]"
      ]
     },
     "execution_count": 38,
     "metadata": {},
     "output_type": "execute_result"
    }
   ],
   "source": [
    "h"
   ]
  },
  {
   "cell_type": "code",
   "execution_count": 40,
   "id": "06145777-6aa2-4a38-a736-a5fc9916634a",
   "metadata": {},
   "outputs": [
    {
     "data": {
      "text/plain": [
       "225"
      ]
     },
     "execution_count": 40,
     "metadata": {},
     "output_type": "execute_result"
    }
   ],
   "source": [
    "# show the total sum of all\n",
    "sum(h)"
   ]
  },
  {
   "cell_type": "code",
   "execution_count": 42,
   "id": "aa686a92-9bb6-4aeb-9673-f9dbe41b157d",
   "metadata": {},
   "outputs": [
    {
     "data": {
      "text/plain": [
       "[40, 30]"
      ]
     },
     "execution_count": 42,
     "metadata": {},
     "output_type": "execute_result"
    }
   ],
   "source": [
    "# extract [40,30,20]\n",
    "h[-3:-6:-2]"
   ]
  },
  {
   "cell_type": "code",
   "execution_count": 44,
   "id": "2af1687a-2ac8-4d66-82c7-af825c032968",
   "metadata": {},
   "outputs": [],
   "source": [
    "# a={'maths':45,'science':60,'english':79,'hindi':80}\n",
    "a={'maths':45,'science':60,'english':79,'hindi':80}"
   ]
  },
  {
   "cell_type": "code",
   "execution_count": 46,
   "id": "a332918e-3e69-4889-8517-42946bd101a9",
   "metadata": {},
   "outputs": [
    {
     "data": {
      "text/plain": [
       "79"
      ]
     },
     "execution_count": 46,
     "metadata": {},
     "output_type": "execute_result"
    }
   ],
   "source": [
    "# show the marks of english\n",
    "a['english']"
   ]
  },
  {
   "cell_type": "code",
   "execution_count": 48,
   "id": "767c443b-2db8-4f43-bb5a-be5931e562d0",
   "metadata": {},
   "outputs": [],
   "source": [
    "# change the marks of science to 50\n",
    "a['science']=50"
   ]
  },
  {
   "cell_type": "code",
   "execution_count": 50,
   "id": "74344612-2242-4f71-b810-5d87f8b0cdf7",
   "metadata": {},
   "outputs": [
    {
     "data": {
      "text/plain": [
       "{'maths': 45, 'science': 50, 'english': 79, 'hindi': 80}"
      ]
     },
     "execution_count": 50,
     "metadata": {},
     "output_type": "execute_result"
    }
   ],
   "source": [
    "a"
   ]
  },
  {
   "cell_type": "code",
   "execution_count": 58,
   "id": "4464422b-523e-4879-9a9f-bc8bacdfd212",
   "metadata": {},
   "outputs": [
    {
     "data": {
      "text/plain": [
       "254"
      ]
     },
     "execution_count": 58,
     "metadata": {},
     "output_type": "execute_result"
    }
   ],
   "source": [
    "# show the total of all.\n",
    "sum(a.values())"
   ]
  },
  {
   "cell_type": "code",
   "execution_count": 60,
   "id": "b3d84a26-15f3-441e-9852-3cb9dbcdea82",
   "metadata": {},
   "outputs": [],
   "source": [
    "# g={12,23,34,45}\n",
    "g={12,23,34,45}"
   ]
  },
  {
   "cell_type": "code",
   "execution_count": 62,
   "id": "d1b491f4-003a-4f56-a338-b948d6a14a3e",
   "metadata": {},
   "outputs": [],
   "source": [
    "# add 30 to set\n",
    "g.add(30)"
   ]
  },
  {
   "cell_type": "code",
   "execution_count": 64,
   "id": "a269c873-7dd6-4eeb-a0b9-6fcb17de1b42",
   "metadata": {},
   "outputs": [
    {
     "data": {
      "text/plain": [
       "{12, 23, 30, 34, 45}"
      ]
     },
     "execution_count": 64,
     "metadata": {},
     "output_type": "execute_result"
    }
   ],
   "source": [
    "g\n"
   ]
  },
  {
   "cell_type": "code",
   "execution_count": 72,
   "id": "e11ae9e4-ca2a-4be0-b660-3be6996c5b6f",
   "metadata": {},
   "outputs": [
    {
     "ename": "KeyError",
     "evalue": "45",
     "output_type": "error",
     "traceback": [
      "\u001b[1;31m---------------------------------------------------------------------------\u001b[0m",
      "\u001b[1;31mKeyError\u001b[0m                                  Traceback (most recent call last)",
      "Cell \u001b[1;32mIn[72], line 2\u001b[0m\n\u001b[0;32m      1\u001b[0m \u001b[38;5;66;03m# remove 45 from set\u001b[39;00m\n\u001b[1;32m----> 2\u001b[0m g\u001b[38;5;241m.\u001b[39mremove(\u001b[38;5;241m45\u001b[39m)\n",
      "\u001b[1;31mKeyError\u001b[0m: 45"
     ]
    }
   ],
   "source": [
    "# remove 45 from set\n",
    "g.remove(45)"
   ]
  },
  {
   "cell_type": "code",
   "execution_count": 74,
   "id": "32cda35b-64c2-45cb-9b27-28055e107c61",
   "metadata": {},
   "outputs": [
    {
     "data": {
      "text/plain": [
       "{12, 23, 30, 34}"
      ]
     },
     "execution_count": 74,
     "metadata": {},
     "output_type": "execute_result"
    }
   ],
   "source": [
    "g"
   ]
  },
  {
   "cell_type": "code",
   "execution_count": 76,
   "id": "a662866c-6ddc-4405-9045-6756122c7f3f",
   "metadata": {},
   "outputs": [],
   "source": [
    "# g=[12,23,34,12,23]\n",
    "g=[12,23,34,12,23]"
   ]
  },
  {
   "cell_type": "code",
   "execution_count": 84,
   "id": "27aee41d-1382-4f55-81aa-53b7a8fea2f3",
   "metadata": {},
   "outputs": [
    {
     "name": "stdout",
     "output_type": "stream",
     "text": [
      "[34, 12, 23]\n"
     ]
    }
   ],
   "source": [
    "# print the unique elements only in list\n",
    "g = [12, 23, 34, 12, 23]\n",
    "print(list(set(g)))"
   ]
  },
  {
   "cell_type": "code",
   "execution_count": 88,
   "id": "4d0a39b8-e644-480f-945b-c7f33547e566",
   "metadata": {},
   "outputs": [
    {
     "name": "stdout",
     "output_type": "stream",
     "text": [
      "{34, 12, 23}\n"
     ]
    }
   ],
   "source": [
    "x =set(g)\n",
    "print(x)"
   ]
  },
  {
   "cell_type": "code",
   "execution_count": null,
   "id": "e2a14fee-9643-422a-95a6-1f0dbf05a435",
   "metadata": {},
   "outputs": [],
   "source": []
  }
 ],
 "metadata": {
  "kernelspec": {
   "display_name": "Python 3 (ipykernel)",
   "language": "python",
   "name": "python3"
  },
  "language_info": {
   "codemirror_mode": {
    "name": "ipython",
    "version": 3
   },
   "file_extension": ".py",
   "mimetype": "text/x-python",
   "name": "python",
   "nbconvert_exporter": "python",
   "pygments_lexer": "ipython3",
   "version": "3.12.4"
  }
 },
 "nbformat": 4,
 "nbformat_minor": 5
}
