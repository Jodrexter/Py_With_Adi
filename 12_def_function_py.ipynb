{
 "cells": [
  {
   "cell_type": "markdown",
   "id": "224a74eb-f79f-4daf-b638-1a59a4ae15b8",
   "metadata": {},
   "source": [
    "# def function"
   ]
  },
  {
   "cell_type": "code",
   "execution_count": 2,
   "id": "65bd0982-68a7-4f7b-8f22-a34913e332b9",
   "metadata": {},
   "outputs": [],
   "source": [
    "def add2num(a,b):\n",
    "    return a+b"
   ]
  },
  {
   "cell_type": "code",
   "execution_count": 4,
   "id": "e9b365bb-bc9d-4ec8-96b6-7e0462f5ea23",
   "metadata": {},
   "outputs": [
    {
     "data": {
      "text/plain": [
       "132"
      ]
     },
     "execution_count": 4,
     "metadata": {},
     "output_type": "execute_result"
    }
   ],
   "source": [
    "add2num(100,32)"
   ]
  },
  {
   "cell_type": "code",
   "execution_count": 10,
   "id": "e5c3ee1d-49c2-4e5a-acb1-4cc7a92ecc7f",
   "metadata": {},
   "outputs": [
    {
     "data": {
      "text/plain": [
       "100"
      ]
     },
     "execution_count": 10,
     "metadata": {},
     "output_type": "execute_result"
    }
   ],
   "source": [
    "# create a function for giving square a number.\n",
    "def square(c):\n",
    "    return c**2\n",
    "square(10)"
   ]
  },
  {
   "cell_type": "code",
   "execution_count": 40,
   "id": "9d2ad6dd-70f0-4b2e-933c-df52685557f2",
   "metadata": {},
   "outputs": [
    {
     "data": {
      "text/plain": [
       "54"
      ]
     },
     "execution_count": 40,
     "metadata": {},
     "output_type": "execute_result"
    }
   ],
   "source": [
    "# create a function for giving the product of 3 numbers\n",
    "def product(d,t,y):\n",
    "    return d*t*y\n",
    "product(3,6,3)"
   ]
  },
  {
   "cell_type": "code",
   "execution_count": 38,
   "id": "e9404c76-eb2a-452a-b787-1fb26d4517ae",
   "metadata": {},
   "outputs": [
    {
     "data": {
      "text/plain": [
       "20.0"
      ]
     },
     "execution_count": 38,
     "metadata": {},
     "output_type": "execute_result"
    }
   ],
   "source": [
    "# create a function for giving 20% of a number\n",
    "def ooo(e):\n",
    "    return e*0.20\n",
    "ooo(100)"
   ]
  },
  {
   "cell_type": "code",
   "execution_count": 22,
   "id": "9fa7a810-cb70-4fa7-be0b-0a19b4b78500",
   "metadata": {},
   "outputs": [
    {
     "name": "stdout",
     "output_type": "stream",
     "text": [
      "ad\n"
     ]
    }
   ],
   "source": [
    "# create a function for giving the first 2 letters of a word in op\n",
    "def aaa(f):\n",
    "    print(f[:2]);\n",
    "aaa('adarsh')"
   ]
  },
  {
   "cell_type": "code",
   "execution_count": 24,
   "id": "0759209c-06f9-4349-a5b2-8ec4e8f26c7b",
   "metadata": {},
   "outputs": [
    {
     "name": "stdout",
     "output_type": "stream",
     "text": [
      "doj\n"
     ]
    }
   ],
   "source": [
    "# create a function for giving the reverse of a word\n",
    "def reverse(g):\n",
    "    print(g[::-1]);\n",
    "reverse('jod')"
   ]
  },
  {
   "cell_type": "code",
   "execution_count": 34,
   "id": "b0fbde3d-accc-4b57-a550-9b96df4f1a28",
   "metadata": {},
   "outputs": [
    {
     "name": "stdout",
     "output_type": "stream",
     "text": [
      "6\n"
     ]
    }
   ],
   "source": [
    "# create a function for giving the length of a word\n",
    "def leng(h):\n",
    "    print(len(h))\n",
    "leng('adarsh')"
   ]
  },
  {
   "cell_type": "code",
   "execution_count": 36,
   "id": "ae7727c6-c393-4b4f-99a2-52824ed7ab77",
   "metadata": {},
   "outputs": [
    {
     "name": "stdout",
     "output_type": "stream",
     "text": [
      "56\n"
     ]
    }
   ],
   "source": [
    "# create a function for giving the highest number from list\n",
    "\n",
    "def hnum(x):\n",
    "    print(max(x))\n",
    "hnum([12,23,34,45,56])"
   ]
  },
  {
   "cell_type": "code",
   "execution_count": 42,
   "id": "6bc38a52-5561-4212-ba16-3139c970c396",
   "metadata": {},
   "outputs": [],
   "source": [
    "def lowest(h):\n",
    "    print(min(h))"
   ]
  },
  {
   "cell_type": "code",
   "execution_count": 44,
   "id": "448497e5-e359-40af-9009-a53dbaff7c22",
   "metadata": {},
   "outputs": [
    {
     "name": "stdout",
     "output_type": "stream",
     "text": [
      "12\n"
     ]
    }
   ],
   "source": [
    "lowest([12,23,34,45,56])"
   ]
  },
  {
   "cell_type": "code",
   "execution_count": 50,
   "id": "bba944d0-9dab-4bdb-a2a1-66db7ef06cd7",
   "metadata": {},
   "outputs": [
    {
     "name": "stdout",
     "output_type": "stream",
     "text": [
      "34.0\n"
     ]
    }
   ],
   "source": [
    "def avgg(k):\n",
    "    print(sum(k)/len(k))\n",
    "avgg([12,23,34,45,56])"
   ]
  },
  {
   "cell_type": "code",
   "execution_count": 54,
   "id": "466182ad-801f-4cbe-a42f-90c860b9cfd9",
   "metadata": {},
   "outputs": [
    {
     "name": "stdout",
     "output_type": "stream",
     "text": [
      "[56, 45, 34, 23, 12]\n"
     ]
    }
   ],
   "source": [
    "# create a function for giving the reverse of list\n",
    "def rece(l):\n",
    "    print(l[::-1])\n",
    "rece([12,23,34,45,56])"
   ]
  },
  {
   "cell_type": "code",
   "execution_count": 56,
   "id": "f6f0ee06-7d78-45d8-8f17-98c5f2467d8f",
   "metadata": {},
   "outputs": [
    {
     "name": "stdout",
     "output_type": "stream",
     "text": [
      "ODD\n"
     ]
    }
   ],
   "source": [
    "# create a function for classifying a number odd or even\n",
    "def oddeve(x):\n",
    "    if x%2==0:\n",
    "        print(\"even\");\n",
    "    else:\n",
    "        print(\"ODD\");\n",
    "oddeve(3)"
   ]
  },
  {
   "cell_type": "code",
   "execution_count": 58,
   "id": "2e5171ea-5a52-4dd6-9541-12ba684be12a",
   "metadata": {},
   "outputs": [
    {
     "name": "stdout",
     "output_type": "stream",
     "text": [
      "ELIGIABLE\n"
     ]
    }
   ],
   "source": [
    "# create a function for checking voting eligiliblty\n",
    "def vote(x):\n",
    "    if x > 18:\n",
    "        print(\"ELIGIABLE\");\n",
    "    else:\n",
    "        print(\"YOUR KID\");\n",
    "vote(20)"
   ]
  },
  {
   "cell_type": "code",
   "execution_count": 60,
   "id": "0ba36ac4-d41a-48e1-9460-cfbdb1e60521",
   "metadata": {},
   "outputs": [
    {
     "name": "stdout",
     "output_type": "stream",
     "text": [
      "leap\n"
     ]
    }
   ],
   "source": [
    "def leaf(x):\n",
    "    if x / 4 :\n",
    "        print(\"leap\");\n",
    "    else:\n",
    "        print(\"NOt\");\n",
    "leaf(2020)"
   ]
  },
  {
   "cell_type": "code",
   "execution_count": 66,
   "id": "295bc89f-a661-4ff1-abf7-68aa57f3e610",
   "metadata": {},
   "outputs": [
    {
     "name": "stdout",
     "output_type": "stream",
     "text": [
      "pal\n"
     ]
    }
   ],
   "source": [
    "def pal(x):\n",
    "    if x == x[::-1]:\n",
    "        print(\"pal\");\n",
    "    else:\n",
    "        print(\"not\");\n",
    "pal('ada');"
   ]
  },
  {
   "cell_type": "code",
   "execution_count": 79,
   "id": "8469597c-f09e-4a00-85bc-b40278dfced7",
   "metadata": {},
   "outputs": [
    {
     "name": "stdout",
     "output_type": "stream",
     "text": [
      "30\n"
     ]
    }
   ],
   "source": [
    "def larg(x,y):\n",
    "    if x > y:\n",
    "        print(x);\n",
    "    else:\n",
    "        print(y);\n",
    "larg(10,30)"
   ]
  },
  {
   "cell_type": "code",
   "execution_count": 83,
   "id": "b9f2f81b-49bb-47c6-824f-5fa28277c288",
   "metadata": {},
   "outputs": [
    {
     "name": "stdout",
     "output_type": "stream",
     "text": [
      "-ve\n"
     ]
    }
   ],
   "source": [
    "def pos(x):\n",
    "    if x % 2 == 0:\n",
    "        print(\"+ve\");\n",
    "    else:\n",
    "        print(\"-ve\");\n",
    "pos(31)"
   ]
  },
  {
   "cell_type": "code",
   "execution_count": 85,
   "id": "df16bb20-ef6d-4fab-8661-ecfeef2695b7",
   "metadata": {},
   "outputs": [
    {
     "name": "stdout",
     "output_type": "stream",
     "text": [
      "24\n",
      "64\n",
      "42\n",
      "42\n"
     ]
    }
   ],
   "source": [
    "def num(x):\n",
    "    for i in x:\n",
    "        print(i*2)\n",
    "num([12,32,21,21])"
   ]
  },
  {
   "cell_type": "code",
   "execution_count": 89,
   "id": "5a3cf6b9-b3cf-4929-8842-dc2cf7b0b2ab",
   "metadata": {},
   "outputs": [
    {
     "name": "stdout",
     "output_type": "stream",
     "text": [
      "144\n",
      "1024\n",
      "441\n",
      "441\n"
     ]
    }
   ],
   "source": [
    "# create a function for giving sq of all nums of list\n",
    "def sq(x):\n",
    "    for i in x:\n",
    "        print(i**2)\n",
    "sq([12,32,21,21])"
   ]
  },
  {
   "cell_type": "code",
   "execution_count": 91,
   "id": "0ada83e1-3dbf-4531-bb12-c4c229726407",
   "metadata": {},
   "outputs": [
    {
     "name": "stdout",
     "output_type": "stream",
     "text": [
      "112\n",
      "132\n",
      "121\n",
      "121\n"
     ]
    }
   ],
   "source": [
    "# create a function for 1000 to all nums of list\n",
    "def ad(x):\n",
    "    for i in x:\n",
    "        print(i+100)\n",
    "ad([12,32,21,21])"
   ]
  },
  {
   "cell_type": "code",
   "execution_count": 93,
   "id": "de982e4d-31cf-4380-be59-7e2e6148d7f9",
   "metadata": {},
   "outputs": [
    {
     "name": "stdout",
     "output_type": "stream",
     "text": [
      "3\n",
      "3\n",
      "6\n"
     ]
    }
   ],
   "source": [
    "# create a function for giving length of all stirng of list\n",
    "def str(x):\n",
    "    for i in x:\n",
    "        print(len(i));\n",
    "str(['adi','jod','reewre'])"
   ]
  },
  {
   "cell_type": "code",
   "execution_count": 95,
   "id": "c4a35039-6f5d-4bfc-bc84-2d6bdc0800cf",
   "metadata": {},
   "outputs": [
    {
     "name": "stdout",
     "output_type": "stream",
     "text": [
      "ida\n",
      "doj\n",
      "erweer\n"
     ]
    }
   ],
   "source": [
    "# create a function for giving reverse all string\n",
    "def re(x):\n",
    "    for i in x:\n",
    "        print(i[::-1]);\n",
    "re(['adi','jod','reewre'])"
   ]
  },
  {
   "cell_type": "code",
   "execution_count": 101,
   "id": "7a94c4b3-c9c9-405e-97ff-39a443b03f18",
   "metadata": {},
   "outputs": [
    {
     "name": "stdout",
     "output_type": "stream",
     "text": [
      "i\n",
      "d\n",
      "e\n"
     ]
    }
   ],
   "source": [
    "# create a function for giving last letter of word from list\n",
    "def ls(x):\n",
    "    for i in x:\n",
    "        print(i[-1:-2:-1]);\n",
    "ls(['adi','jod','reewre'])"
   ]
  },
  {
   "cell_type": "code",
   "execution_count": 148,
   "id": "602322ab-4add-46f9-9f17-24ad896791f8",
   "metadata": {},
   "outputs": [
    {
     "name": "stdout",
     "output_type": "stream",
     "text": [
      "-3\n",
      "-3\n"
     ]
    }
   ],
   "source": [
    "# create a function for giving negative index of element\n",
    "def ng(x, y):\n",
    "    if y in x: \n",
    "        return -(len(x) -x.index(y))\n",
    "    else:\n",
    "        return None  \n",
    "\n",
    "print(ng([12, 23, 34, 45], 23))\n",
    "\n",
    "##### or ###\n",
    "def ng(x,y):\n",
    "    print(x.index(y)-len(x))\n",
    "ng([12, 23, 34, 45], 23)"
   ]
  },
  {
   "cell_type": "code",
   "execution_count": 160,
   "id": "f2863a76-a005-466c-8a59-7ad96e2ca32f",
   "metadata": {},
   "outputs": [
    {
     "name": "stdout",
     "output_type": "stream",
     "text": [
      "34\n",
      "36\n",
      "34\n"
     ]
    }
   ],
   "source": [
    "# create a function for giving even numbers from list\n",
    "def evnum(x):\n",
    "    for i in x:\n",
    "        if i % 2 == 0:\n",
    "            print(i);\n",
    "evnum([34,21,23,36,34])"
   ]
  },
  {
   "cell_type": "code",
   "execution_count": 170,
   "id": "65cffc07-3bc2-428a-af6d-246139d483bf",
   "metadata": {},
   "outputs": [
    {
     "name": "stdout",
     "output_type": "stream",
     "text": [
      "21\n",
      "23\n"
     ]
    }
   ],
   "source": [
    "# create a function for giving odd numbers from list\n",
    "def odnum(x):\n",
    "    for i in x:\n",
    "        if i % 2 != 0:\n",
    "            print(i);\n",
    "\n",
    "odnum([34,21,23,36,34])"
   ]
  },
  {
   "cell_type": "code",
   "execution_count": 176,
   "id": "194dd5bd-c3a3-4b01-a6ed-6b6758f515b0",
   "metadata": {},
   "outputs": [
    {
     "name": "stdout",
     "output_type": "stream",
     "text": [
      "mom\n",
      "dad\n"
     ]
    }
   ],
   "source": [
    "# create a function for giving palidndrome words from list.\n",
    "def pal(x):\n",
    "    for i in x:\n",
    "        if i == i[::-1]:\n",
    "            print(i);\n",
    "pal(['mom','dad','son','daughter'])"
   ]
  },
  {
   "cell_type": "code",
   "execution_count": 182,
   "id": "64055c82-1ec2-42f5-868c-52067e9ac234",
   "metadata": {},
   "outputs": [
    {
     "name": "stdout",
     "output_type": "stream",
     "text": [
      "daughter\n"
     ]
    }
   ],
   "source": [
    "# create a function for giving words having even length from list.\n",
    "def le(x):\n",
    "    for i in x:\n",
    "        if len(i) % 2 == 0:\n",
    "            print(i);\n",
    "le(['mom','dad','son','daughter'])"
   ]
  },
  {
   "cell_type": "code",
   "execution_count": 184,
   "id": "81c1d4f3-c423-4f5f-8bf8-9b1a57cab6cd",
   "metadata": {},
   "outputs": [
    {
     "name": "stdout",
     "output_type": "stream",
     "text": [
      "1\n",
      "2\n",
      "4\n",
      "5\n",
      "10\n",
      "20\n"
     ]
    }
   ],
   "source": [
    "# create a function for giving factors of a number\n",
    "def fac(x):\n",
    "    for i in range(1,x+1):\n",
    "        if x % i == 0:\n",
    "            print(i);\n",
    "fac(20)"
   ]
  },
  {
   "cell_type": "code",
   "execution_count": 196,
   "id": "4538825c-6d6d-4aa8-862a-77d923eaf826",
   "metadata": {},
   "outputs": [
    {
     "name": "stdout",
     "output_type": "stream",
     "text": [
      "2\n",
      "4\n",
      "10\n",
      "20\n"
     ]
    }
   ],
   "source": [
    "# create a function for giving even factors of a number\n",
    "def evfac(x):\n",
    "    for i in range(1,x+1):\n",
    "        if x % i == 0 and i % 2 == 0:\n",
    "            print(i);\n",
    "evfac(20)"
   ]
  },
  {
   "cell_type": "code",
   "execution_count": 210,
   "id": "d8ece781-5c1b-4d51-9463-f2fafe8cd99c",
   "metadata": {},
   "outputs": [
    {
     "name": "stdout",
     "output_type": "stream",
     "text": [
      "10\n",
      "20\n",
      "30\n",
      "40\n",
      "50\n",
      "60\n",
      "70\n",
      "80\n",
      "90\n",
      "100\n"
     ]
    }
   ],
   "source": [
    "# create a function for giving table of number\n",
    "def table(x):\n",
    "    for i in range(1,11):\n",
    "        print(x*i);\n",
    "table(10)"
   ]
  },
  {
   "cell_type": "code",
   "execution_count": null,
   "id": "a30f6128-8f3e-463f-8e2c-397c230957e7",
   "metadata": {},
   "outputs": [],
   "source": []
  }
 ],
 "metadata": {
  "kernelspec": {
   "display_name": "Python 3 (ipykernel)",
   "language": "python",
   "name": "python3"
  },
  "language_info": {
   "codemirror_mode": {
    "name": "ipython",
    "version": 3
   },
   "file_extension": ".py",
   "mimetype": "text/x-python",
   "name": "python",
   "nbconvert_exporter": "python",
   "pygments_lexer": "ipython3",
   "version": "3.12.4"
  }
 },
 "nbformat": 4,
 "nbformat_minor": 5
}
