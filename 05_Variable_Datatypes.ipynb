{
 "cells": [
  {
   "cell_type": "code",
   "execution_count": 7,
   "id": "3d22fa13-16e3-497a-b853-31a386d91364",
   "metadata": {},
   "outputs": [
    {
     "data": {
      "text/plain": [
       "'\\nDay 6 - Variables and Data Types\\nWhat is a variable?\\nVariable is like a container that holds data. Very similar to how our containers in kitchen holds sugar, salt etc Creating a variable is like creating a placeholder in memory and assigning it some value. In Python its as easy as writing:\\n\\na = 1\\nb = True\\nc = \"Harry\"\\nd = None\\nThese are four variables of different data types.\\n\\nWhat is a Data Type?\\nData type specifies the type of value a variable holds. This is required in programming to do various operations without causing an error.\\nIn python, we can print the type of any operator using type function:\\n\\na = 1\\nprint(type(a))\\nb = \"1\"\\nprint(type(b))\\nBy default, python provides the following built-in data types:\\n\\n1. Numeric data: int, float, complex\\nint: 3, -8, 0\\nfloat: 7.349, -9.0, 0.0000001\\ncomplex: 6 + 2i\\n2. Text data: str\\nstr: \"Hello World!!!\", \"Python Programming\"\\n\\n3. Boolean data:\\nBoolean data consists of values True or False.\\n\\n4. Sequenced data: list, tuple\\nlist: A list is an ordered collection of data with elements separated by a comma and enclosed within square brackets. Lists are mutable and can be modified after creation.\\n\\nExample:\\n\\nlist1 = [8, 2.3, [-4, 5], [\"apple\", \"banana\"]]\\nprint(list1)\\nOutput:\\n\\n[8, 2.3, [-4, 5], [\\'apple\\', \\'banana\\']]\\nTuple: A tuple is an ordered collection of data with elements separated by a comma and enclosed within parentheses. Tuples are immutable and can not be modified after creation.\\n\\nExample:\\n\\ntuple1 = ((\"parrot\", \"sparrow\"), (\"Lion\", \"Tiger\"))\\nprint(tuple1)\\nOutput:\\n\\n((\\'parrot\\', \\'sparrow\\'), (\\'Lion\\', \\'Tiger\\'))\\n5. Mapped data: dict\\ndict: A dictionary is an unordered collection of data containing a key:value pair. The key:value pairs are enclosed within curly brackets.\\n\\nExample:\\n\\ndict1 = {\"name\":\"Sakshi\", \"age\":20, \"canVote\":True}\\nprint(dict1)\\nOutput:\\n\\n# {\\'name\\': \\'Sakshi\\', \\'age\\': 20, \\'canVote\\': True}\\n\\n'"
      ]
     },
     "execution_count": 7,
     "metadata": {},
     "output_type": "execute_result"
    }
   ],
   "source": [
    "'''\n",
    "Day 6 - Variables and Data Types\n",
    "What is a variable?\n",
    "Variable is like a container that holds data. Very similar to how our containers in kitchen holds sugar, \n",
    "salt etc Creating a variable is like creating a placeholder in memory and assigning it some value. In Python its as easy as writing:\n",
    "\n",
    "a = 1\n",
    "b = True\n",
    "c = \"Harry\"\n",
    "d = None\n",
    "These are four variables of different data types.\n",
    "\n",
    "What is a Data Type?\n",
    "Data type specifies the type of value a variable holds. This is required in programming to do various operations without causing an error.\n",
    "In python, we can print the type of any operator using type function:\n",
    "\n",
    "a = 1\n",
    "print(type(a))\n",
    "b = \"1\"\n",
    "print(type(b))\n",
    "By default, python provides the following built-in data types:\n",
    "\n",
    "1. Numeric data: int, float, complex\n",
    "int: 3, -8, 0\n",
    "float: 7.349, -9.0, 0.0000001\n",
    "complex: 6 + 2i\n",
    "2. Text data: str\n",
    "str: \"Hello World!!!\", \"Python Programming\"\n",
    "\n",
    "3. Boolean data:\n",
    "Boolean data consists of values True or False.\n",
    "\n",
    "4. Sequenced data: list, tuple\n",
    "list: A list is an ordered collection of data with elements separated by a comma and enclosed within square brackets. \n",
    "Lists are mutable and can be modified after creation.\n",
    "\n",
    "Example:\n",
    "\n",
    "list1 = [8, 2.3, [-4, 5], [\"apple\", \"banana\"]]\n",
    "print(list1)\n",
    "Output:\n",
    "\n",
    "[8, 2.3, [-4, 5], ['apple', 'banana']]\n",
    "Tuple: A tuple is an ordered collection of data with elements separated by a comma and enclosed within parentheses. \n",
    "Tuples are immutable and can not be modified after creation.\n",
    "\n",
    "Example:\n",
    "\n",
    "tuple1 = ((\"parrot\", \"sparrow\"), (\"Lion\", \"Tiger\"))\n",
    "print(tuple1)\n",
    "Output:\n",
    "\n",
    "(('parrot', 'sparrow'), ('Lion', 'Tiger'))\n",
    "5. Mapped data: dict\n",
    "dict: A dictionary is an unordered collection of data containing a key:value pair. \n",
    "The key:value pairs are enclosed within curly brackets.\n",
    "\n",
    "Example:\n",
    "\n",
    "dict1 = {\"name\":\"Sakshi\", \"age\":20, \"canVote\":True}\n",
    "print(dict1)\n",
    "Output:\n",
    "\n",
    "# {'name': 'Sakshi', 'age': 20, 'canVote': True}\n",
    "\n",
    "'''"
   ]
  },
  {
   "cell_type": "code",
   "execution_count": 9,
   "id": "b63a4f89-3919-4207-a901-8ad3ca61573b",
   "metadata": {},
   "outputs": [
    {
     "data": {
      "text/plain": [
       "str"
      ]
     },
     "execution_count": 9,
     "metadata": {},
     "output_type": "execute_result"
    }
   ],
   "source": [
    "# Datatypes and varaibles\n",
    "\n",
    "a = 'sss'\n",
    "type(a)\n",
    "\n",
    "\n"
   ]
  },
  {
   "cell_type": "code",
   "execution_count": 5,
   "id": "a309e0d2-dd79-4a95-9458-4ff3eb377054",
   "metadata": {},
   "outputs": [
    {
     "name": "stdout",
     "output_type": "stream",
     "text": [
      "(17+0j)\n"
     ]
    }
   ],
   "source": [
    "# complex\n",
    "b = complex( 8 + 9)\n",
    "print(b)"
   ]
  },
  {
   "cell_type": "code",
   "execution_count": null,
   "id": "91dd173a-a6aa-487d-884d-28cc649b7425",
   "metadata": {},
   "outputs": [],
   "source": []
  }
 ],
 "metadata": {
  "kernelspec": {
   "display_name": "Python 3 (ipykernel)",
   "language": "python",
   "name": "python3"
  },
  "language_info": {
   "codemirror_mode": {
    "name": "ipython",
    "version": 3
   },
   "file_extension": ".py",
   "mimetype": "text/x-python",
   "name": "python",
   "nbconvert_exporter": "python",
   "pygments_lexer": "ipython3",
   "version": "3.12.4"
  }
 },
 "nbformat": 4,
 "nbformat_minor": 5
}
