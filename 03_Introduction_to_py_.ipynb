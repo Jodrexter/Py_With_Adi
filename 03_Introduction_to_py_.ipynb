{
 "cells": [
  {
   "cell_type": "code",
   "execution_count": 1,
   "id": "751eb617-7e00-47cc-9f81-4ed232dfec7e",
   "metadata": {},
   "outputs": [],
   "source": [
    "a = 'adarsh'"
   ]
  },
  {
   "cell_type": "code",
   "execution_count": 3,
   "id": "9dc0ebc3-1357-4241-8844-bb7527af2865",
   "metadata": {},
   "outputs": [
    {
     "name": "stdout",
     "output_type": "stream",
     "text": [
      "my name is adarsh\n"
     ]
    }
   ],
   "source": [
    "print('my name is '+ a )"
   ]
  },
  {
   "cell_type": "code",
   "execution_count": 5,
   "id": "3062fe6d-fe65-4d66-8e90-1617ec3623fd",
   "metadata": {},
   "outputs": [],
   "source": [
    "b = 22\n"
   ]
  },
  {
   "cell_type": "code",
   "execution_count": 7,
   "id": "9df0c28e-c017-4cb1-b78a-511f76d34d99",
   "metadata": {},
   "outputs": [
    {
     "ename": "SyntaxError",
     "evalue": "incomplete input (2620922480.py, line 1)",
     "output_type": "error",
     "traceback": [
      "\u001b[1;36m  Cell \u001b[1;32mIn[7], line 1\u001b[1;36m\u001b[0m\n\u001b[1;33m    print('my name is ' + a + 'i am ' + b + 'years old'\u001b[0m\n\u001b[1;37m                                                       ^\u001b[0m\n\u001b[1;31mSyntaxError\u001b[0m\u001b[1;31m:\u001b[0m incomplete input\n"
     ]
    }
   ],
   "source": [
    "print('my name is ' + a + 'i am ' + b + 'years old'"
   ]
  },
  {
   "cell_type": "code",
   "execution_count": 9,
   "id": "a68ea579-ee2e-4e2b-ae29-f74348ab1293",
   "metadata": {},
   "outputs": [
    {
     "ename": "SyntaxError",
     "evalue": "incomplete input (2698129469.py, line 1)",
     "output_type": "error",
     "traceback": [
      "\u001b[1;36m  Cell \u001b[1;32mIn[9], line 1\u001b[1;36m\u001b[0m\n\u001b[1;33m    print('my name is ' +a, 'i am' + b ,'years old'\u001b[0m\n\u001b[1;37m                                                   ^\u001b[0m\n\u001b[1;31mSyntaxError\u001b[0m\u001b[1;31m:\u001b[0m incomplete input\n"
     ]
    }
   ],
   "source": [
    "print('my name is ' +a, 'i am' + b ,'years old'"
   ]
  },
  {
   "cell_type": "code",
   "execution_count": 1,
   "id": "94cea601-e347-4097-9025-866da9c0dafd",
   "metadata": {},
   "outputs": [
    {
     "name": "stdin",
     "output_type": "stream",
     "text": [
      "enter you name adi\n"
     ]
    }
   ],
   "source": [
    "name = input('enter you name')"
   ]
  },
  {
   "cell_type": "code",
   "execution_count": 3,
   "id": "69e10190-c819-48c8-8c4d-38f0ea2b6460",
   "metadata": {},
   "outputs": [
    {
     "name": "stdout",
     "output_type": "stream",
     "text": [
      " my name is adi\n"
     ]
    }
   ],
   "source": [
    "print(' my name is '+name)"
   ]
  },
  {
   "cell_type": "code",
   "execution_count": 5,
   "id": "1049f9a0-56b8-4176-87ef-3e09d963dac1",
   "metadata": {},
   "outputs": [
    {
     "name": "stdin",
     "output_type": "stream",
     "text": [
      "enter your name JOD\n"
     ]
    }
   ],
   "source": [
    "Name = input(\"enter your name\")"
   ]
  },
  {
   "cell_type": "code",
   "execution_count": 7,
   "id": "86724842-4865-4e33-9b6c-fe8d1f60e8fb",
   "metadata": {},
   "outputs": [
    {
     "ename": "TypeError",
     "evalue": "bad operand type for unary +: 'str'",
     "output_type": "error",
     "traceback": [
      "\u001b[1;31m---------------------------------------------------------------------------\u001b[0m",
      "\u001b[1;31mTypeError\u001b[0m                                 Traceback (most recent call last)",
      "Cell \u001b[1;32mIn[7], line 1\u001b[0m\n\u001b[1;32m----> 1\u001b[0m \u001b[38;5;28mprint\u001b[39m(\u001b[38;5;241m+\u001b[39m Name \u001b[38;5;241m+\u001b[39m \u001b[38;5;124m'\u001b[39m\u001b[38;5;124mhave a nice day\u001b[39m\u001b[38;5;124m'\u001b[39m)\n",
      "\u001b[1;31mTypeError\u001b[0m: bad operand type for unary +: 'str'"
     ]
    }
   ],
   "source": [
    "print(+ Name + 'have a nice day')"
   ]
  },
  {
   "cell_type": "code",
   "execution_count": 12,
   "id": "7a49fee6-d72c-4f86-b9f9-ddecd0e00a0b",
   "metadata": {},
   "outputs": [
    {
     "name": "stdout",
     "output_type": "stream",
     "text": [
      "have a nice day JOD\n"
     ]
    }
   ],
   "source": [
    "print('have a nice day ' + Name)"
   ]
  },
  {
   "cell_type": "code",
   "execution_count": 14,
   "id": "aff05d0b-6416-4e11-9a24-2abc6d0f2acb",
   "metadata": {},
   "outputs": [
    {
     "name": "stdin",
     "output_type": "stream",
     "text": [
      "enter your name1 Adi\n"
     ]
    }
   ],
   "source": [
    "name_1 = input(\"enter your name1\")"
   ]
  },
  {
   "cell_type": "code",
   "execution_count": 16,
   "id": "b151da52-aee5-4842-bab4-acb8eed6b6c1",
   "metadata": {},
   "outputs": [
    {
     "name": "stdin",
     "output_type": "stream",
     "text": [
      "enter your name2 jod\n"
     ]
    }
   ],
   "source": [
    "name2 = input(\"enter your name2\")"
   ]
  },
  {
   "cell_type": "code",
   "execution_count": 30,
   "id": "4e083aac-514c-40bb-92f3-4d70ef2e99a3",
   "metadata": {},
   "outputs": [
    {
     "name": "stdout",
     "output_type": "stream",
     "text": [
      "Adi and jod are my friends \n"
     ]
    }
   ],
   "source": [
    "print(name_1 + \" and \" + name2 + \" are my friends \")"
   ]
  },
  {
   "cell_type": "code",
   "execution_count": 32,
   "id": "4fbd7bf7-de82-4c57-afcf-81ba49078fda",
   "metadata": {},
   "outputs": [
    {
     "ename": "SyntaxError",
     "evalue": "invalid syntax (2408679591.py, line 1)",
     "output_type": "error",
     "traceback": [
      "\u001b[1;36m  Cell \u001b[1;32mIn[32], line 1\u001b[1;36m\u001b[0m\n\u001b[1;33m    print(upper.+ name_1)\u001b[0m\n\u001b[1;37m                ^\u001b[0m\n\u001b[1;31mSyntaxError\u001b[0m\u001b[1;31m:\u001b[0m invalid syntax\n"
     ]
    }
   ],
   "source": [
    "print(upper.+ name_1)"
   ]
  },
  {
   "cell_type": "code",
   "execution_count": 34,
   "id": "48fd5817-14ba-4ebd-956d-b1d8c629646e",
   "metadata": {},
   "outputs": [
    {
     "name": "stdin",
     "output_type": "stream",
     "text": [
      "enter a word jodddddd\n"
     ]
    }
   ],
   "source": [
    "a = input(\"enter a word\")"
   ]
  },
  {
   "cell_type": "code",
   "execution_count": 36,
   "id": "2f97dd5b-e0a2-4979-91e6-0850ba2f01b8",
   "metadata": {},
   "outputs": [
    {
     "name": "stdout",
     "output_type": "stream",
     "text": [
      "JODDDDDD\n"
     ]
    }
   ],
   "source": [
    "print(a.upper())"
   ]
  },
  {
   "cell_type": "code",
   "execution_count": 38,
   "id": "1c723b9e-4760-4be8-b1f8-92e5ef486806",
   "metadata": {},
   "outputs": [
    {
     "name": "stdin",
     "output_type": "stream",
     "text": [
      "enter your surname sal\n"
     ]
    }
   ],
   "source": [
    "sr = input('enter your surname')"
   ]
  },
  {
   "cell_type": "code",
   "execution_count": 40,
   "id": "4b397bc3-b902-4e6c-ada2-228e3c1ad301",
   "metadata": {},
   "outputs": [
    {
     "name": "stdout",
     "output_type": "stream",
     "text": [
      "Adi sal\n"
     ]
    }
   ],
   "source": [
    "print( name_1 + ' ' + sr)"
   ]
  },
  {
   "cell_type": "code",
   "execution_count": 44,
   "id": "bff5fba4-dec7-4ae0-b1a1-da0212c18988",
   "metadata": {},
   "outputs": [
    {
     "name": "stdin",
     "output_type": "stream",
     "text": [
      "enter your num 4\n"
     ]
    }
   ],
   "source": [
    "a = int(input('enter your num'))"
   ]
  },
  {
   "cell_type": "code",
   "execution_count": 46,
   "id": "2a9e6abc-9da4-4460-9416-a87cdec33b89",
   "metadata": {},
   "outputs": [
    {
     "name": "stdout",
     "output_type": "stream",
     "text": [
      "4\n"
     ]
    }
   ],
   "source": [
    "print(a)"
   ]
  },
  {
   "cell_type": "code",
   "execution_count": 48,
   "id": "559f2414-6598-45f4-aed9-dee1ff2c2bee",
   "metadata": {},
   "outputs": [
    {
     "name": "stdin",
     "output_type": "stream",
     "text": [
      "enter any number 45\n"
     ]
    }
   ],
   "source": [
    "# take a number from user and prints its double\n",
    "num1 = int(input(\"enter any number\"))"
   ]
  },
  {
   "cell_type": "code",
   "execution_count": 50,
   "id": "903bd784-289d-4a25-9ef8-aaf56aa8d14a",
   "metadata": {},
   "outputs": [
    {
     "name": "stdout",
     "output_type": "stream",
     "text": [
      "90\n"
     ]
    }
   ],
   "source": [
    "print(num1*2)"
   ]
  },
  {
   "cell_type": "code",
   "execution_count": 54,
   "id": "5a09d040-2f53-402e-9c2c-d3283a287f97",
   "metadata": {},
   "outputs": [
    {
     "name": "stdin",
     "output_type": "stream",
     "text": [
      "enter any number 20\n"
     ]
    },
    {
     "name": "stdout",
     "output_type": "stream",
     "text": [
      "60\n"
     ]
    }
   ],
   "source": [
    "# take a number from user and print its triple\n",
    "num2 = int(input(\"enter any number\"))\n",
    "print(num2*3)"
   ]
  },
  {
   "cell_type": "code",
   "execution_count": 56,
   "id": "55cd1254-b4d8-419b-92e5-212a072bdc98",
   "metadata": {},
   "outputs": [
    {
     "name": "stdin",
     "output_type": "stream",
     "text": [
      "enter any number 25\n",
      "enter any number2 25\n",
      "enter any number3 25\n"
     ]
    },
    {
     "name": "stdout",
     "output_type": "stream",
     "text": [
      "75\n"
     ]
    }
   ],
   "source": [
    "# take three numbers from user ad print the addition of them\n",
    "num3 = int(input(\"enter any number\"))\n",
    "num4 = int(input(\"enter any number2\"))\n",
    "num5 = int(input(\"enter any number3\"))\n",
    "print(num3+num4+num5)"
   ]
  },
  {
   "cell_type": "code",
   "execution_count": 58,
   "id": "3ec426f5-2432-415c-9a5d-065d76416701",
   "metadata": {},
   "outputs": [
    {
     "name": "stdin",
     "output_type": "stream",
     "text": [
      "enter any number 3\n"
     ]
    },
    {
     "name": "stdout",
     "output_type": "stream",
     "text": [
      "27\n"
     ]
    }
   ],
   "source": [
    "# take a number from user and print its cube\n",
    "num6 = int(input(\"enter any number\"))\n",
    "print(num6**3)"
   ]
  },
  {
   "cell_type": "code",
   "execution_count": 60,
   "id": "bc63078f-e6cf-4d5f-8a95-9545a3e4c457",
   "metadata": {},
   "outputs": [
    {
     "name": "stdin",
     "output_type": "stream",
     "text": [
      "enter any number 10\n"
     ]
    },
    {
     "name": "stdout",
     "output_type": "stream",
     "text": [
      "20\n"
     ]
    }
   ],
   "source": [
    "# take two nu from user and print its product\n",
    "num7 = int(input(\"enter any number\"))\n",
    "print(num7*2)"
   ]
  },
  {
   "cell_type": "code",
   "execution_count": 66,
   "id": "d15595f7-568c-4c06-b57d-7e03a2952be9",
   "metadata": {},
   "outputs": [
    {
     "name": "stdin",
     "output_type": "stream",
     "text": [
      "enter your cgpa : 45.7\n"
     ]
    },
    {
     "name": "stdout",
     "output_type": "stream",
     "text": [
      "your cgpa 45.7\n"
     ]
    }
   ],
   "source": [
    "# float\n",
    "h = float(input(\"enter your cgpa :\"))\n",
    "print(\"your cgpa\",h)"
   ]
  },
  {
   "cell_type": "code",
   "execution_count": 76,
   "id": "91e7840a-7c74-4e7f-9df1-aa981e34ae7b",
   "metadata": {},
   "outputs": [
    {
     "name": "stdin",
     "output_type": "stream",
     "text": [
      "enter no bet 0 and 1 0.1\n"
     ]
    },
    {
     "ename": "ValueError",
     "evalue": "invalid literal for int() with base 10: '0.1'",
     "output_type": "error",
     "traceback": [
      "\u001b[1;31m---------------------------------------------------------------------------\u001b[0m",
      "\u001b[1;31mValueError\u001b[0m                                Traceback (most recent call last)",
      "Cell \u001b[1;32mIn[76], line 2\u001b[0m\n\u001b[0;32m      1\u001b[0m \u001b[38;5;66;03m# take any number between 0 and 1 from user and add 3 to it\u001b[39;00m\n\u001b[1;32m----> 2\u001b[0m num8 \u001b[38;5;241m=\u001b[39m \u001b[38;5;28mfloat\u001b[39m(\u001b[38;5;28mint\u001b[39m(\u001b[38;5;28minput\u001b[39m(\u001b[38;5;124m'\u001b[39m\u001b[38;5;124menter no bet 0 and 1\u001b[39m\u001b[38;5;124m'\u001b[39m)))\n\u001b[0;32m      3\u001b[0m \u001b[38;5;28mprint\u001b[39m(num8\u001b[38;5;241m+\u001b[39m\u001b[38;5;241m3\u001b[39m)\n",
      "\u001b[1;31mValueError\u001b[0m: invalid literal for int() with base 10: '0.1'"
     ]
    }
   ],
   "source": [
    "# take any number between 0 and 1 from user and add 3 to it\n",
    "num8 = float(int(input('enter no bet 0 and 1')))\n",
    "print(num8+3)"
   ]
  },
  {
   "cell_type": "code",
   "execution_count": 72,
   "id": "f1c18669-afc2-48a5-9d72-37ee5c2f73a6",
   "metadata": {},
   "outputs": [],
   "source": [
    "# take any from user between 1 and 2 and print the double of it\n"
   ]
  },
  {
   "cell_type": "code",
   "execution_count": 80,
   "id": "984a7326-e748-43db-923e-42b38d78005f",
   "metadata": {},
   "outputs": [
    {
     "name": "stdin",
     "output_type": "stream",
     "text": [
      "enter radius 6\n"
     ]
    },
    {
     "name": "stdout",
     "output_type": "stream",
     "text": [
      "area of circle 113.03999999999999\n"
     ]
    }
   ],
   "source": [
    "# take radius from user and print the area of circle\n",
    "r = int(input('enter radius'))\n",
    "print('area of circle',3.14*r*r)"
   ]
  },
  {
   "cell_type": "code",
   "execution_count": 82,
   "id": "885a7b35-134e-4d6c-bca8-5db6a2ce4e7b",
   "metadata": {},
   "outputs": [
    {
     "name": "stdin",
     "output_type": "stream",
     "text": [
      "enter one side of square 4\n"
     ]
    },
    {
     "name": "stdout",
     "output_type": "stream",
     "text": [
      "perimeter 16\n"
     ]
    }
   ],
   "source": [
    "# take one side of square and print its perimeter\n",
    "s = int(input('enter one side of square'))\n",
    "print('perimeter',s*4)\n"
   ]
  },
  {
   "cell_type": "code",
   "execution_count": 126,
   "id": "66d18d5c-16b6-4dc4-b80d-7e36c112a356",
   "metadata": {},
   "outputs": [
    {
     "name": "stdin",
     "output_type": "stream",
     "text": [
      "value 4\n"
     ]
    },
    {
     "name": "stdout",
     "output_type": "stream",
     "text": [
      "0.05 $\n"
     ]
    }
   ],
   "source": [
    "# take rupee value from user and print its doller value (1$ = 80 rs)\n",
    "x = int(input('value'))\n",
    "print(x/80,'$')"
   ]
  },
  {
   "cell_type": "code",
   "execution_count": 92,
   "id": "f9867cf1-3f9e-47e2-bb8b-23489fb30dfc",
   "metadata": {},
   "outputs": [
    {
     "name": "stdin",
     "output_type": "stream",
     "text": [
      "enter num 100\n"
     ]
    },
    {
     "name": "stdout",
     "output_type": "stream",
     "text": [
      "35.0\n"
     ]
    }
   ],
   "source": [
    "# take a number from user and print its 35%\n",
    "g = int(input('enter num'))\n",
    "print(g*0.35)"
   ]
  },
  {
   "cell_type": "code",
   "execution_count": 94,
   "id": "6c92b828-33c1-4798-b522-936ee3efb09f",
   "metadata": {},
   "outputs": [
    {
     "name": "stdin",
     "output_type": "stream",
     "text": [
      "enter weight 1\n"
     ]
    },
    {
     "name": "stdout",
     "output_type": "stream",
     "text": [
      "1000\n"
     ]
    }
   ],
   "source": [
    "# take weight of user in kg and give ists gram value\n",
    "h = int(input('enter weight'))\n",
    "print(h*1000)"
   ]
  },
  {
   "cell_type": "code",
   "execution_count": 100,
   "id": "d3a76159-780f-41b9-8cf7-a67d3124255a",
   "metadata": {},
   "outputs": [
    {
     "name": "stdout",
     "output_type": "stream",
     "text": [
      "8\n"
     ]
    }
   ],
   "source": [
    "# take afternoon time in 24hrs fromat from user and give the 12 hr fromat in op (input 20 output 8)\n",
    "i = 20\n",
    "print(20 % 12)"
   ]
  },
  {
   "cell_type": "code",
   "execution_count": 102,
   "id": "a5c3d99e-8b17-4eb7-a677-249938284e96",
   "metadata": {},
   "outputs": [
    {
     "ename": "SyntaxError",
     "evalue": "incomplete input (3049104586.py, line 2)",
     "output_type": "error",
     "traceback": [
      "\u001b[1;36m  Cell \u001b[1;32mIn[102], line 2\u001b[1;36m\u001b[0m\n\u001b[1;33m    j = int(input('enter travelled distance'\u001b[0m\n\u001b[1;37m                                            ^\u001b[0m\n\u001b[1;31mSyntaxError\u001b[0m\u001b[1;31m:\u001b[0m incomplete input\n"
     ]
    }
   ],
   "source": [
    "# take distancce travelled from user and give the ticket amount in op (1k = 20rs)\n",
    "j = int(input('enter travelled distance')"
   ]
  },
  {
   "cell_type": "code",
   "execution_count": 110,
   "id": "3f5bbdd8-1ef0-499a-853f-00cd6c8c111f",
   "metadata": {},
   "outputs": [
    {
     "name": "stdout",
     "output_type": "stream",
     "text": [
      "5.0 discoounter price\n"
     ]
    }
   ],
   "source": [
    "# take shopping price from user and give them 20% discont and print the discounter price (input>100,op>80)\n",
    "k = 100\n",
    "print(k/20,'discoounter price')"
   ]
  },
  {
   "cell_type": "code",
   "execution_count": 128,
   "id": "1bae1174-181b-48d5-9500-d4fcf24326a4",
   "metadata": {},
   "outputs": [
    {
     "name": "stdin",
     "output_type": "stream",
     "text": [
      "enter value 1\n"
     ]
    },
    {
     "name": "stdout",
     "output_type": "stream",
     "text": [
      "0.0125 $\n"
     ]
    }
   ],
   "source": [
    "k = int(input('enter value'))\n",
    "print(k/80,'$')"
   ]
  },
  {
   "cell_type": "code",
   "execution_count": 132,
   "id": "a8848a1f-d355-4e3c-8d79-d15be581c267",
   "metadata": {},
   "outputs": [
    {
     "name": "stdin",
     "output_type": "stream",
     "text": [
      "enter younger brother age 20\n"
     ]
    },
    {
     "name": "stdout",
     "output_type": "stream",
     "text": [
      "23\n"
     ]
    }
   ],
   "source": [
    "''' \n",
    "younger brother is  3 year younger than the elder brother take youger brothers age from user and print elder brothers age'''\n",
    "\n",
    "l = int(input('enter younger brother age'))\n",
    "print(l+3)"
   ]
  },
  {
   "cell_type": "code",
   "execution_count": 150,
   "id": "b626195f-4277-4723-9f23-8cb49a571160",
   "metadata": {},
   "outputs": [
    {
     "name": "stdin",
     "output_type": "stream",
     "text": [
      "no of steps 4\n"
     ]
    },
    {
     "name": "stdout",
     "output_type": "stream",
     "text": [
      "no of flowers 11\n"
     ]
    }
   ],
   "source": [
    "'''\n",
    "a person have 3 flowers intitally , the flower increase by 2 as he take a step, \n",
    "take number of steps taken by user and print the total number of flowers that  person have at \n",
    "last \n",
    "(input>4,output>11)\n",
    "(input2>5,output2>13)'''\n",
    "m = int(input('no of steps'))\n",
    "print('no of flowers',3+m*2)\n"
   ]
  },
  {
   "cell_type": "code",
   "execution_count": 158,
   "id": "a0a681eb-e7c7-460e-b273-d0f593fb28fc",
   "metadata": {},
   "outputs": [
    {
     "name": "stdin",
     "output_type": "stream",
     "text": [
      "no of steps : 2\n"
     ]
    },
    {
     "name": "stdout",
     "output_type": "stream",
     "text": [
      "no of flowers last step : 12\n"
     ]
    }
   ],
   "source": [
    "''' a person have 3 flowers intially the flowe get double as he takes a step, take number \n",
    "of stips taken by user and print the total number of flowers that person havee \n",
    "at last '''\n",
    "n = int(input('no of steps :'))\n",
    "print('no of flowers last step :',3*(2**n))"
   ]
  },
  {
   "cell_type": "code",
   "execution_count": 176,
   "id": "061eb3c4-2e32-4aab-bd26-06848337e174",
   "metadata": {},
   "outputs": [
    {
     "name": "stdin",
     "output_type": "stream",
     "text": [
      "shirt no 1\n",
      "pant no 1\n"
     ]
    },
    {
     "name": "stdout",
     "output_type": "stream",
     "text": [
      "770.0\n"
     ]
    }
   ],
   "source": [
    "''' \n",
    "take number of shirts and pants purchasd by user and give them 30% discount on \n",
    "total amount (1 shirt = 300 rs and 1 pant = 800rs)'''\n",
    "o = int(input('shirt no'))\n",
    "p = int(input('pant no'))\n",
    "print(((o*300)+(p*800))*0.7)"
   ]
  },
  {
   "cell_type": "code",
   "execution_count": 164,
   "id": "5e52a79d-59bc-498c-baaa-2bcabd6e6426",
   "metadata": {},
   "outputs": [
    {
     "name": "stdin",
     "output_type": "stream",
     "text": [
      "Enter the number of shirts purchased:  1\n",
      "Enter the number of pants purchased:  1\n"
     ]
    },
    {
     "name": "stdout",
     "output_type": "stream",
     "text": [
      "The total amount after a 30% discount is: ₹ 770.0\n"
     ]
    }
   ],
   "source": [
    "# Get the number of shirts and pants purchased from the user\n",
    "num_shirts = int(input(\"Enter the number of shirts purchased: \"))\n",
    "num_pants = int(input(\"Enter the number of pants purchased: \"))\n",
    "\n",
    "# Prices of shirts and pants\n",
    "shirt_price = 300\n",
    "pant_price = 800\n",
    "\n",
    "# Calculate the total amount before discount\n",
    "total_amount = (num_shirts * shirt_price) + (num_pants * pant_price)\n",
    "\n",
    "# Calculate the discount\n",
    "discount = 0.30 * total_amount\n",
    "\n",
    "# Calculate the final amount after discount\n",
    "final_amount = total_amount - discount\n",
    "\n",
    "# Print the final amount\n",
    "print(\"The total amount after a 30% discount is: ₹\", final_amount)\n"
   ]
  },
  {
   "cell_type": "code",
   "execution_count": null,
   "id": "edb84a7b-152e-406d-9445-804d7ab6166d",
   "metadata": {},
   "outputs": [],
   "source": []
  }
 ],
 "metadata": {
  "kernelspec": {
   "display_name": "Python 3 (ipykernel)",
   "language": "python",
   "name": "python3"
  },
  "language_info": {
   "codemirror_mode": {
    "name": "ipython",
    "version": 3
   },
   "file_extension": ".py",
   "mimetype": "text/x-python",
   "name": "python",
   "nbconvert_exporter": "python",
   "pygments_lexer": "ipython3",
   "version": "3.12.4"
  }
 },
 "nbformat": 4,
 "nbformat_minor": 5
}
