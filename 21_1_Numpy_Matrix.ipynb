{
 "cells": [
  {
   "cell_type": "markdown",
   "id": "9489a6ce-7d86-4019-b4b6-e13d4c741310",
   "metadata": {},
   "source": [
    "# Numpy >> Is an library in py which is used for maths\n",
    "## numpy is faster than lists\n",
    "## numpy is used for working with arrays.\n",
    "## numpy is short for numerical python"
   ]
  },
  {
   "cell_type": "code",
   "execution_count": 4,
   "id": "c500e859-ddf5-48f9-bbfa-fc355f9fe43c",
   "metadata": {},
   "outputs": [],
   "source": [
    "import numpy as np\n"
   ]
  },
  {
   "cell_type": "code",
   "execution_count": 6,
   "id": "f25b84a8-ef94-4be2-8cea-cc458d1aba7b",
   "metadata": {},
   "outputs": [
    {
     "name": "stdout",
     "output_type": "stream",
     "text": [
      "[1 2 3 4 5]\n"
     ]
    }
   ],
   "source": [
    "arr = np.array([1,2,3,4,5])\n",
    "print(arr)"
   ]
  },
  {
   "cell_type": "code",
   "execution_count": 10,
   "id": "3aaf83fe-00db-4d58-a5ce-39b06e9650a5",
   "metadata": {},
   "outputs": [
    {
     "name": "stdout",
     "output_type": "stream",
     "text": [
      "<class 'numpy.ndarray'>\n"
     ]
    }
   ],
   "source": [
    "print(type(arr)) # checking datatype"
   ]
  },
  {
   "cell_type": "code",
   "execution_count": 14,
   "id": "2e294674-22cc-4870-9923-00e61379d04a",
   "metadata": {},
   "outputs": [
    {
     "name": "stdout",
     "output_type": "stream",
     "text": [
      "[ 1  2 10  3  4  5]\n",
      "<class 'numpy.ndarray'>\n"
     ]
    }
   ],
   "source": [
    "arr = np.array((1,2,10,3,4,5))  # converting tuple into array.\n",
    "print(arr)\n",
    "print(type(arr))"
   ]
  },
  {
   "cell_type": "markdown",
   "id": "c56e18bc-5851-40e9-9b99-1bf5f5219c17",
   "metadata": {},
   "source": [
    "# createing n dimesion array"
   ]
  },
  {
   "cell_type": "code",
   "execution_count": 20,
   "id": "c13b5006-4c5b-4a3c-aa76-afa0cf75256d",
   "metadata": {},
   "outputs": [
    {
     "name": "stdout",
     "output_type": "stream",
     "text": [
      "[[1 2 3]\n",
      " [4 5 6]]\n",
      "dimension 2\n"
     ]
    }
   ],
   "source": [
    "arr2 = np.array([[1,2,3],[4,5,6]])\n",
    "print(arr2)\n",
    "print('dimension',arr2.ndim) # ndim us used to check dimesnion."
   ]
  },
  {
   "cell_type": "code",
   "execution_count": 24,
   "id": "e03cd1cf-e455-405a-8a96-1d03f708719a",
   "metadata": {},
   "outputs": [
    {
     "name": "stdout",
     "output_type": "stream",
     "text": [
      "[[[1 2 3]\n",
      "  [4 5 6]]\n",
      "\n",
      " [[1 2 3]\n",
      "  [4 5 6]]]\n",
      "dimension is  3\n"
     ]
    }
   ],
   "source": [
    "arr3 = np.array([[[1,2,3],[4,5,6]],[[1,2,3],[4,5,6]]])\n",
    "print(arr3)\n",
    "print('dimension is ',arr3.ndim)"
   ]
  },
  {
   "cell_type": "code",
   "execution_count": 29,
   "id": "cd11c7e0-0f86-4738-b633-e3df0bd1bf57",
   "metadata": {},
   "outputs": [
    {
     "name": "stdout",
     "output_type": "stream",
     "text": [
      "42 0\n"
     ]
    }
   ],
   "source": [
    "a = np.array(42)\n",
    "print(a,a.ndim)"
   ]
  },
  {
   "cell_type": "code",
   "execution_count": 31,
   "id": "894162b3-a382-4e27-8409-e282c2793bea",
   "metadata": {},
   "outputs": [
    {
     "name": "stdout",
     "output_type": "stream",
     "text": [
      "[1 2 3 4 5] 1\n"
     ]
    }
   ],
   "source": [
    "b = np.array([1,2,3,4,5])\n",
    "print(b,b.ndim)"
   ]
  },
  {
   "cell_type": "code",
   "execution_count": 33,
   "id": "75e20abf-30cb-4a8d-bf23-16b71ed2575f",
   "metadata": {},
   "outputs": [
    {
     "name": "stdout",
     "output_type": "stream",
     "text": [
      "[[1 2 3]\n",
      " [4 5 6]] 2\n"
     ]
    }
   ],
   "source": [
    "c = np.array([[1,2,3],[4,5,6]])\n",
    "print(c,c.ndim)"
   ]
  },
  {
   "cell_type": "code",
   "execution_count": 37,
   "id": "530e714a-9181-4d25-82d5-6f575a108120",
   "metadata": {},
   "outputs": [
    {
     "name": "stdout",
     "output_type": "stream",
     "text": [
      "[[[1 2 3]\n",
      "  [4 5 6]]\n",
      "\n",
      " [[1 2 3]\n",
      "  [4 5 6]]] 3\n"
     ]
    }
   ],
   "source": [
    "d = np.array([[[1,2,3],[4,5,6]],[[1,2,3],[4,5,6]]])\n",
    "print(d,d.ndim)"
   ]
  },
  {
   "cell_type": "markdown",
   "id": "2f050c07-3150-4349-a4aa-c6bdf42ec2dc",
   "metadata": {},
   "source": [
    "## ndmin >> is used to convert into 'x' amount of  dimension\n"
   ]
  },
  {
   "cell_type": "code",
   "execution_count": 46,
   "id": "ebbca195-c8d0-4ffd-aa80-feea92b7555c",
   "metadata": {},
   "outputs": [
    {
     "name": "stdout",
     "output_type": "stream",
     "text": [
      "[[[[[1 2 3 4]]]]]\n"
     ]
    }
   ],
   "source": [
    "e = np.array([1,2,3,4],ndmin=5)\n",
    "print(e)"
   ]
  },
  {
   "cell_type": "code",
   "execution_count": 56,
   "id": "ab996a6b-2f1f-4f5d-bdb7-c4b04090021d",
   "metadata": {},
   "outputs": [
    {
     "name": "stdout",
     "output_type": "stream",
     "text": [
      "[[[[[[1 2 3 4]]]]]] 6\n"
     ]
    }
   ],
   "source": [
    "# convert [1,2,3,4] into 6 dimesnison array\n",
    "f = np.array([1,2,3,4],ndmin=6)\n",
    "print(f,f.ndim)"
   ]
  },
  {
   "cell_type": "code",
   "execution_count": 58,
   "id": "275f1a19-cde7-469d-98a9-81e372c994de",
   "metadata": {},
   "outputs": [
    {
     "name": "stdout",
     "output_type": "stream",
     "text": [
      "[[[[[[[[[1 2 3 4]]]]]]]]] 9\n"
     ]
    }
   ],
   "source": [
    "# convert [[1,2,3,4,]] into 9 dimesnion array\n",
    "h = np.array([1,2,3,4],ndmin=9)\n",
    "print(h,h.ndim)"
   ]
  },
  {
   "cell_type": "code",
   "execution_count": 64,
   "id": "463b4dee-b6a9-4a33-9556-052e99d6fee3",
   "metadata": {},
   "outputs": [
    {
     "name": "stdout",
     "output_type": "stream",
     "text": [
      "[[[[12 34 45]]]] 4\n"
     ]
    }
   ],
   "source": [
    "# check the dimesinon of [[[[12,34,45]]]\n",
    "g = np.array([[[[12,34,45]]]])\n",
    "print(g,g.ndim)"
   ]
  },
  {
   "cell_type": "code",
   "execution_count": 67,
   "id": "ae145c7a-738b-472e-97de-453b847bd10b",
   "metadata": {},
   "outputs": [],
   "source": [
    "# Acces array element indexing"
   ]
  },
  {
   "cell_type": "code",
   "execution_count": 75,
   "id": "45a66fd8-16a5-4983-a3bd-46d50e177af1",
   "metadata": {},
   "outputs": [
    {
     "name": "stdout",
     "output_type": "stream",
     "text": [
      "[[ 1  2  3  4  5]\n",
      " [ 6  7  8  9 10]]\n"
     ]
    }
   ],
   "source": [
    "j = np.array([[1,2,3,4,5],[6,7,8,9,10]])\n",
    "print(j)\n"
   ]
  },
  {
   "cell_type": "code",
   "execution_count": 77,
   "id": "b5ba0514-0c41-4ca5-961e-a855f8a2387d",
   "metadata": {},
   "outputs": [
    {
     "name": "stdout",
     "output_type": "stream",
     "text": [
      "2\n"
     ]
    }
   ],
   "source": [
    "# print (j[0,1]]\n",
    "print(j[0,1])"
   ]
  },
  {
   "cell_type": "code",
   "execution_count": 81,
   "id": "0945332e-68b4-4f9e-823a-0d5d26922ea0",
   "metadata": {},
   "outputs": [
    {
     "name": "stdout",
     "output_type": "stream",
     "text": [
      "4\n"
     ]
    }
   ],
   "source": [
    "# extract 4 form array\n",
    "print(j[0,3])"
   ]
  },
  {
   "cell_type": "code",
   "execution_count": 83,
   "id": "f7adb580-ad20-4c0a-b8f3-ec23651651bf",
   "metadata": {},
   "outputs": [
    {
     "name": "stdout",
     "output_type": "stream",
     "text": [
      "8\n"
     ]
    }
   ],
   "source": [
    "# extract 8 from array\n",
    "print(j[1,2])"
   ]
  },
  {
   "cell_type": "code",
   "execution_count": 85,
   "id": "4ff356e5-b7ba-42ce-927b-c3eb697b5f79",
   "metadata": {},
   "outputs": [
    {
     "name": "stdout",
     "output_type": "stream",
     "text": [
      "10\n"
     ]
    }
   ],
   "source": [
    "# which element is in j[1,4]\n",
    "print(j[1,4])"
   ]
  },
  {
   "cell_type": "code",
   "execution_count": 89,
   "id": "422df3b1-c8b7-4df3-beb4-4ac70af6a082",
   "metadata": {},
   "outputs": [
    {
     "name": "stdout",
     "output_type": "stream",
     "text": [
      "7\n"
     ]
    }
   ],
   "source": [
    "# extract 7 from array\n",
    "print(j[1,1])"
   ]
  },
  {
   "cell_type": "code",
   "execution_count": 97,
   "id": "0a54a717-eddb-4d91-ae59-d27fc1f6ad08",
   "metadata": {},
   "outputs": [],
   "source": [
    "l = np.array([[[1,2,3],[4,5,6]],[[7,8,9],[10,11,12]]])\n"
   ]
  },
  {
   "cell_type": "code",
   "execution_count": 101,
   "id": "726a2d84-871a-4fa5-8b35-9e0e6d425abc",
   "metadata": {},
   "outputs": [
    {
     "name": "stdout",
     "output_type": "stream",
     "text": [
      "7\n"
     ]
    }
   ],
   "source": [
    "# extract 7 from array\n",
    "print(l[1,0,0])"
   ]
  },
  {
   "cell_type": "code",
   "execution_count": 103,
   "id": "67e7d9fa-d60c-4a2a-85b6-0fba1b7e8e0f",
   "metadata": {},
   "outputs": [
    {
     "name": "stdout",
     "output_type": "stream",
     "text": [
      "5\n"
     ]
    }
   ],
   "source": [
    "# extract 5 from array\n",
    "print(l[0,1,1])"
   ]
  },
  {
   "cell_type": "code",
   "execution_count": 107,
   "id": "f34f14cc-b8ed-4c5c-9e20-2d5cfec6cebf",
   "metadata": {},
   "outputs": [
    {
     "name": "stdout",
     "output_type": "stream",
     "text": [
      "11\n"
     ]
    }
   ],
   "source": [
    "# extract 11 from array\n",
    "print(l[1,1,1])"
   ]
  },
  {
   "cell_type": "code",
   "execution_count": 111,
   "id": "c5e890bf-e10b-457a-8af2-a4854c3de607",
   "metadata": {},
   "outputs": [
    {
     "name": "stdout",
     "output_type": "stream",
     "text": [
      "12\n"
     ]
    }
   ],
   "source": [
    "# which element is on l[1,1,2]\n",
    "print(l[1,1,2])"
   ]
  },
  {
   "cell_type": "code",
   "execution_count": 113,
   "id": "d796fff8-2c9b-4e5c-92bb-1764927bbf55",
   "metadata": {},
   "outputs": [],
   "source": [
    "k = np.array([[[[[1,2,3],[4,5,6]]]]])"
   ]
  },
  {
   "cell_type": "code",
   "execution_count": 115,
   "id": "e7c78285-5c6e-4977-b703-03f18b02f1e1",
   "metadata": {},
   "outputs": [
    {
     "name": "stdout",
     "output_type": "stream",
     "text": [
      "5\n"
     ]
    }
   ],
   "source": [
    "# extrct 5\n",
    "print(k[0,0,0,1,1])"
   ]
  },
  {
   "cell_type": "code",
   "execution_count": 117,
   "id": "dec609a0-4197-4908-b6ff-754cebb7ea3e",
   "metadata": {},
   "outputs": [
    {
     "name": "stdout",
     "output_type": "stream",
     "text": [
      "3\n"
     ]
    }
   ],
   "source": [
    "# extrct 3\n",
    "print(k[0,0,0,0,2])"
   ]
  },
  {
   "cell_type": "markdown",
   "id": "48914bd4-e2d7-4371-b9e9-19ba5c674077",
   "metadata": {},
   "source": [
    "# Zeros"
   ]
  },
  {
   "cell_type": "code",
   "execution_count": 120,
   "id": "0389ccfe-42f5-4f93-8368-095e75ced1ba",
   "metadata": {},
   "outputs": [
    {
     "data": {
      "text/plain": [
       "array([[0., 0., 0., 0.],\n",
       "       [0., 0., 0., 0.],\n",
       "       [0., 0., 0., 0.],\n",
       "       [0., 0., 0., 0.],\n",
       "       [0., 0., 0., 0.]])"
      ]
     },
     "execution_count": 120,
     "metadata": {},
     "output_type": "execute_result"
    }
   ],
   "source": [
    "m = np.zeros([5,4])\n",
    "m"
   ]
  },
  {
   "cell_type": "code",
   "execution_count": 124,
   "id": "af913070-f416-4185-a29e-35d954f96136",
   "metadata": {},
   "outputs": [
    {
     "data": {
      "text/plain": [
       "array([[0., 0., 0., 0., 0., 0., 0.],\n",
       "       [0., 0., 0., 0., 0., 0., 0.],\n",
       "       [0., 0., 0., 0., 0., 0., 0.],\n",
       "       [0., 0., 0., 0., 0., 0., 0.],\n",
       "       [0., 0., 0., 0., 0., 0., 0.]])"
      ]
     },
     "execution_count": 124,
     "metadata": {},
     "output_type": "execute_result"
    }
   ],
   "source": [
    "# create a matrix with zeros having 7 columns and 5 rows\n",
    "n = np.zeros([5,7])\n",
    "n"
   ]
  },
  {
   "cell_type": "code",
   "execution_count": 126,
   "id": "a710be71-23dc-49c8-ba4c-a6ed9a9d3b87",
   "metadata": {},
   "outputs": [
    {
     "data": {
      "text/plain": [
       "array([[1, 1, 1, 1, 1],\n",
       "       [1, 1, 1, 1, 1],\n",
       "       [1, 1, 1, 1, 1],\n",
       "       [1, 1, 1, 1, 1]])"
      ]
     },
     "execution_count": 126,
     "metadata": {},
     "output_type": "execute_result"
    }
   ],
   "source": [
    "m = np.ones([4,5],dtype = 'int')\n",
    "m"
   ]
  },
  {
   "cell_type": "code",
   "execution_count": 138,
   "id": "498c7cb4-cbbc-43ac-9bcc-43ad66542c84",
   "metadata": {},
   "outputs": [
    {
     "data": {
      "text/plain": [
       "array([[1, 1, 1, 1, 1, 1],\n",
       "       [1, 1, 1, 1, 1, 1],\n",
       "       [1, 1, 1, 1, 1, 1],\n",
       "       [1, 1, 1, 1, 1, 1],\n",
       "       [1, 1, 1, 1, 1, 1],\n",
       "       [1, 1, 1, 1, 1, 1]])"
      ]
     },
     "execution_count": 138,
     "metadata": {},
     "output_type": "execute_result"
    }
   ],
   "source": [
    "\n",
    "o = np.ones([6,6],dtype = 'int')\n",
    "o"
   ]
  },
  {
   "cell_type": "markdown",
   "id": "22f7f17b-0be3-46bc-a216-371bd23baec6",
   "metadata": {},
   "source": [
    "# arrange()\n"
   ]
  },
  {
   "cell_type": "code",
   "execution_count": 144,
   "id": "f4e45a31-ef12-4ec3-b340-8eb9a7311ed5",
   "metadata": {},
   "outputs": [
    {
     "data": {
      "text/plain": [
       "array([10, 11, 12, 13, 14, 15, 16, 17, 18, 19, 20])"
      ]
     },
     "execution_count": 144,
     "metadata": {},
     "output_type": "execute_result"
    }
   ],
   "source": [
    "arr1 = np.arange(10,21)\n",
    "arr1"
   ]
  },
  {
   "cell_type": "code",
   "execution_count": 148,
   "id": "e16fb0c4-b0e5-4e84-95c7-3667802e7ace",
   "metadata": {},
   "outputs": [
    {
     "data": {
      "text/plain": [
       "array([ 0,  2,  4,  6,  8, 10, 12, 14, 16, 18, 20])"
      ]
     },
     "execution_count": 148,
     "metadata": {},
     "output_type": "execute_result"
    }
   ],
   "source": [
    "arr1 = np.arange(0,21,2)\n",
    "arr1"
   ]
  },
  {
   "cell_type": "markdown",
   "id": "384e9daa-a99d-4b90-a959-8e8cf2141630",
   "metadata": {},
   "source": [
    "# genrate random numbers\n",
    "# 1.random"
   ]
  },
  {
   "cell_type": "code",
   "execution_count": 157,
   "id": "947f052b-73fa-4468-b82a-f2a942dc89bd",
   "metadata": {},
   "outputs": [
    {
     "name": "stdout",
     "output_type": "stream",
     "text": [
      "21\n"
     ]
    }
   ],
   "source": [
    "from numpy import random\n",
    "x = random.randint(100)\n",
    "print(x)"
   ]
  },
  {
   "cell_type": "markdown",
   "id": "45bec446-64af-4361-9c9f-47279886352b",
   "metadata": {},
   "source": [
    "# 2.rand >> for float"
   ]
  },
  {
   "cell_type": "code",
   "execution_count": 167,
   "id": "f5e1f6ba-1cdd-4437-bf20-9000de5a6664",
   "metadata": {},
   "outputs": [
    {
     "name": "stdout",
     "output_type": "stream",
     "text": [
      "0.1213844743718775\n"
     ]
    }
   ],
   "source": [
    "x = random.rand()\n",
    "print(x)"
   ]
  },
  {
   "cell_type": "code",
   "execution_count": 171,
   "id": "6ba93b0c-9f25-41c7-8e08-4ea32a5ff329",
   "metadata": {},
   "outputs": [
    {
     "name": "stdout",
     "output_type": "stream",
     "text": [
      "[58 56 30 16 10]\n"
     ]
    }
   ],
   "source": [
    "# generate a 1-d array containing 5 random\n",
    "x = random.randint(100,size=(5))\n",
    "print(x)"
   ]
  },
  {
   "cell_type": "code",
   "execution_count": 179,
   "id": "4b37ba5b-abab-42f7-a094-15d966dd05d3",
   "metadata": {},
   "outputs": [
    {
     "name": "stdout",
     "output_type": "stream",
     "text": [
      "[16 19 11 27 13]\n"
     ]
    }
   ],
   "source": [
    "# give 5 random numbers between 10 to 40 \n",
    "x = random.randint(10,40,size=(5))\n",
    "print(x)"
   ]
  },
  {
   "cell_type": "code",
   "execution_count": 187,
   "id": "9dd39aa1-3e94-461c-8d40-ee156f33460d",
   "metadata": {},
   "outputs": [
    {
     "name": "stdout",
     "output_type": "stream",
     "text": [
      "[237 173 271 103  46 214  22 238   1]\n"
     ]
    }
   ],
   "source": [
    "# give an array of 9 numbers randomly between 0 to 300.\n",
    "x = random.randint(300,size=(9))\n",
    "print(x)"
   ]
  },
  {
   "cell_type": "code",
   "execution_count": 189,
   "id": "333c5f5c-d362-48bf-993a-f8b419c2a8a0",
   "metadata": {},
   "outputs": [
    {
     "name": "stdout",
     "output_type": "stream",
     "text": [
      "[55 43 54 43 53 53 43 53 51 43]\n"
     ]
    }
   ],
   "source": [
    "# give an array of 10 numbers randomly between 40 and 60\n",
    "x = random.randint(40,60,size=(10))\n",
    "print(x)"
   ]
  },
  {
   "cell_type": "code",
   "execution_count": 191,
   "id": "2d6a7bd8-d799-4a31-93f4-7bffdeb31045",
   "metadata": {},
   "outputs": [
    {
     "name": "stdout",
     "output_type": "stream",
     "text": [
      "[[32  5 87 83 54]\n",
      " [23 69  2 21 48]\n",
      " [69 99 15 39 70]]\n"
     ]
    }
   ],
   "source": [
    "''' generate a 2-d array with 3 rows,each row containing 5\n",
    "random integers from 0 to 100 '''\n",
    "x = random.randint(100,size=(3,5))\n",
    "print(x)"
   ]
  },
  {
   "cell_type": "code",
   "execution_count": 193,
   "id": "8a6e27a6-6475-448f-bda4-fb4243fbb0af",
   "metadata": {},
   "outputs": [
    {
     "name": "stdout",
     "output_type": "stream",
     "text": [
      "[[35 33 37 23 38 27 23]\n",
      " [21 21 28 39 38 33 28]\n",
      " [22 28 20 37 35 25 28]\n",
      " [35 33 35 35 28 34 25]\n",
      " [39 29 21 32 38 27 29]]\n"
     ]
    }
   ],
   "source": [
    "''' create a 2 d array with 7 columns and 5 rows having \n",
    "random numbers betn 20 and 40'''\n",
    "x = random.randint(20,40,size=(5,7))\n",
    "print(x)"
   ]
  },
  {
   "cell_type": "markdown",
   "id": "b2567cb3-38b5-464d-83a8-5a4f668516bb",
   "metadata": {},
   "source": [
    "# shuffle"
   ]
  },
  {
   "cell_type": "code",
   "execution_count": 202,
   "id": "c20d35f8-808c-438e-8045-7ad2948c2e30",
   "metadata": {},
   "outputs": [
    {
     "name": "stdout",
     "output_type": "stream",
     "text": [
      "[4 1 2 5 3]\n"
     ]
    }
   ],
   "source": [
    "arr  = np.array([1,2,3,4,5])\n",
    "random.shuffle(arr)\n",
    "print(arr)"
   ]
  },
  {
   "cell_type": "markdown",
   "id": "b84af3b7-0bc2-49d6-9bd4-8bcd6c5d7939",
   "metadata": {},
   "source": [
    "# identity() >> identity matrix is square matrix (rows=columns)\n",
    "## 1 at diagonal position and rest 0"
   ]
  },
  {
   "cell_type": "code",
   "execution_count": 207,
   "id": "28e99d2e-da9f-456f-85af-a631869583f0",
   "metadata": {},
   "outputs": [
    {
     "data": {
      "text/plain": [
       "array([[1, 0, 0, 0, 0, 0],\n",
       "       [0, 1, 0, 0, 0, 0],\n",
       "       [0, 0, 1, 0, 0, 0],\n",
       "       [0, 0, 0, 1, 0, 0],\n",
       "       [0, 0, 0, 0, 1, 0],\n",
       "       [0, 0, 0, 0, 0, 1]])"
      ]
     },
     "execution_count": 207,
     "metadata": {},
     "output_type": "execute_result"
    }
   ],
   "source": [
    "# create a identity matrix of 6x6\n",
    "a = np.identity(6,dtype = 'int')\n",
    "a"
   ]
  },
  {
   "cell_type": "markdown",
   "id": "4323a9df-c6ff-42cf-a07f-4f07b094870f",
   "metadata": {},
   "source": [
    "# matrix addition"
   ]
  },
  {
   "cell_type": "code",
   "execution_count": 210,
   "id": "e79722d2-4225-49b9-b529-857cc39e1f44",
   "metadata": {},
   "outputs": [
    {
     "name": "stdout",
     "output_type": "stream",
     "text": [
      "[[ 7  9]\n",
      " [11 13]]\n"
     ]
    }
   ],
   "source": [
    "a1 = np.array([[5,6],[7,8]])\n",
    "a2 = np.array([[2,3],[4,5]])\n",
    "a3 = np.add(a1,a2)\n",
    "print(a3)"
   ]
  },
  {
   "cell_type": "code",
   "execution_count": 212,
   "id": "3f0baf3f-bb0d-48e0-84f4-a40dfdfaa1a9",
   "metadata": {},
   "outputs": [
    {
     "name": "stdout",
     "output_type": "stream",
     "text": [
      "[[20 37 34]\n",
      " [29 25 36]\n",
      " [36 19 38]]\n"
     ]
    }
   ],
   "source": [
    "''' create 2 arrays of 3x3 with random\n",
    "intergers within range 10 to 40 and 60 to 80 and\n",
    "add them '''\n",
    "# array 1\n",
    "a4 =  random.randint(10,40,size=(3,3))\n",
    "print(a4)"
   ]
  },
  {
   "cell_type": "code",
   "execution_count": 214,
   "id": "c0a0fecb-2cd2-46aa-8eee-4a48d0400af8",
   "metadata": {},
   "outputs": [
    {
     "name": "stdout",
     "output_type": "stream",
     "text": [
      "[[77 72 63]\n",
      " [73 73 64]\n",
      " [60 73 79]]\n"
     ]
    }
   ],
   "source": [
    "# array 2\n",
    "a5 = random.randint(60,80,size=(3,3))\n",
    "print(a5)"
   ]
  },
  {
   "cell_type": "code",
   "execution_count": 216,
   "id": "dae0a8f1-24c5-4d23-80b8-c4f6bcb32b7f",
   "metadata": {},
   "outputs": [
    {
     "name": "stdout",
     "output_type": "stream",
     "text": [
      "[[ 97 109  97]\n",
      " [102  98 100]\n",
      " [ 96  92 117]]\n"
     ]
    }
   ],
   "source": [
    "# additon\n",
    "a6 = np.add(a4,a5)\n",
    "print(a6)"
   ]
  },
  {
   "cell_type": "code",
   "execution_count": 218,
   "id": "62cfb457-9a58-48d1-96d7-273cb1d04442",
   "metadata": {},
   "outputs": [
    {
     "name": "stdout",
     "output_type": "stream",
     "text": [
      "[[54 81 88 88]\n",
      " [23 46 33 13]\n",
      " [73 70 82 23]\n",
      " [49 25 91 27]]\n"
     ]
    }
   ],
   "source": [
    "''' add two arrays both of 4x4 within range 10 and 100 '''\n",
    "# array 1\n",
    "a7 =  random.randint(10,100,size=(4,4))\n",
    "print(a7)"
   ]
  },
  {
   "cell_type": "code",
   "execution_count": 220,
   "id": "6ccfbfd0-c700-486f-baf7-4eab6026185a",
   "metadata": {},
   "outputs": [
    {
     "name": "stdout",
     "output_type": "stream",
     "text": [
      "[[13 20 68 31]\n",
      " [10 29 17 98]\n",
      " [61 99 30 36]\n",
      " [87 18 13 14]]\n"
     ]
    }
   ],
   "source": [
    "# array 2\n",
    "a8 =  random.randint(10,100,size=(4,4))\n",
    "print(a8)"
   ]
  },
  {
   "cell_type": "code",
   "execution_count": 222,
   "id": "cdf0df09-cf33-4507-a60a-7fe7301fcb35",
   "metadata": {},
   "outputs": [
    {
     "name": "stdout",
     "output_type": "stream",
     "text": [
      "[[ 67 101 156 119]\n",
      " [ 33  75  50 111]\n",
      " [134 169 112  59]\n",
      " [136  43 104  41]]\n"
     ]
    }
   ],
   "source": [
    "# addition\n",
    "a9 = np.add(a7,a8)\n",
    "print(a9)"
   ]
  },
  {
   "cell_type": "markdown",
   "id": "6761bd2b-385c-4b2a-bf00-dfe132965191",
   "metadata": {},
   "source": [
    "# multiplication"
   ]
  },
  {
   "cell_type": "code",
   "execution_count": 228,
   "id": "c04749f5-618c-48af-8d0f-6b2e39bd99ea",
   "metadata": {},
   "outputs": [
    {
     "data": {
      "text/plain": [
       "array([[ 702, 1620, 5984, 2728],\n",
       "       [ 230, 1334,  561, 1274],\n",
       "       [4453, 6930, 2460,  828],\n",
       "       [4263,  450, 1183,  378]])"
      ]
     },
     "execution_count": 228,
     "metadata": {},
     "output_type": "execute_result"
    }
   ],
   "source": [
    "aa = np.multiply(a7,a8)\n",
    "aa"
   ]
  },
  {
   "cell_type": "code",
   "execution_count": 264,
   "id": "6e39bf24-d8bc-4ee2-a7c6-8108443d7266",
   "metadata": {},
   "outputs": [
    {
     "name": "stdout",
     "output_type": "stream",
     "text": [
      "[[17 19 18]\n",
      " [19 19  8]]\n"
     ]
    }
   ],
   "source": [
    "''' multiply 2 arrays, 1 st array with 2 rows and 3 columns and 6 elements with random values less than 20 and 2 nd \n",
    "array with 3 columns and 2 rows and 6 element with random values less than 50'''\n",
    "aa1 = random.randint(0,20,size=(2,3))\n",
    "print(aa1)\n"
   ]
  },
  {
   "cell_type": "code",
   "execution_count": 262,
   "id": "f9ab3800-ad97-4e88-99e7-a06b1c8ff3e0",
   "metadata": {},
   "outputs": [
    {
     "name": "stdout",
     "output_type": "stream",
     "text": [
      "[[ 5 25 13]\n",
      " [39  0 19]]\n"
     ]
    }
   ],
   "source": [
    "aa2 = random.randint(0,50,size=(2,3))\n",
    "print(aa2)"
   ]
  },
  {
   "cell_type": "code",
   "execution_count": 266,
   "id": "0a1f441f-7baf-40fc-a171-484c777eb142",
   "metadata": {},
   "outputs": [
    {
     "name": "stdout",
     "output_type": "stream",
     "text": [
      "[[ 85 475 234]\n",
      " [741   0 152]]\n"
     ]
    }
   ],
   "source": [
    "aa3 = np.multiply(aa1,aa2)\n",
    "print(aa3)"
   ]
  }
 ],
 "metadata": {
  "kernelspec": {
   "display_name": "Python 3 (ipykernel)",
   "language": "python",
   "name": "python3"
  },
  "language_info": {
   "codemirror_mode": {
    "name": "ipython",
    "version": 3
   },
   "file_extension": ".py",
   "mimetype": "text/x-python",
   "name": "python",
   "nbconvert_exporter": "python",
   "pygments_lexer": "ipython3",
   "version": "3.12.4"
  }
 },
 "nbformat": 4,
 "nbformat_minor": 5
}
